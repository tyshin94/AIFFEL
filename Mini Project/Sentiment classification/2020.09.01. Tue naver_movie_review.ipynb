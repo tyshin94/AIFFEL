{
 "cells": [
  {
   "cell_type": "markdown",
   "metadata": {},
   "source": [
    "## 9-11. 프로젝트: 네이버 영화리뷰 감성분석 도전하기"
   ]
  },
  {
   "cell_type": "markdown",
   "metadata": {},
   "source": [
    "## Library import"
   ]
  },
  {
   "cell_type": "code",
   "execution_count": 1,
   "metadata": {},
   "outputs": [
    {
     "data": {
      "text/html": [
       "<div>\n",
       "<style scoped>\n",
       "    .dataframe tbody tr th:only-of-type {\n",
       "        vertical-align: middle;\n",
       "    }\n",
       "\n",
       "    .dataframe tbody tr th {\n",
       "        vertical-align: top;\n",
       "    }\n",
       "\n",
       "    .dataframe thead th {\n",
       "        text-align: right;\n",
       "    }\n",
       "</style>\n",
       "<table border=\"1\" class=\"dataframe\">\n",
       "  <thead>\n",
       "    <tr style=\"text-align: right;\">\n",
       "      <th></th>\n",
       "      <th>id</th>\n",
       "      <th>document</th>\n",
       "      <th>label</th>\n",
       "    </tr>\n",
       "  </thead>\n",
       "  <tbody>\n",
       "    <tr>\n",
       "      <th>0</th>\n",
       "      <td>9976970</td>\n",
       "      <td>아 더빙.. 진짜 짜증나네요 목소리</td>\n",
       "      <td>0</td>\n",
       "    </tr>\n",
       "    <tr>\n",
       "      <th>1</th>\n",
       "      <td>3819312</td>\n",
       "      <td>흠...포스터보고 초딩영화줄....오버연기조차 가볍지 않구나</td>\n",
       "      <td>1</td>\n",
       "    </tr>\n",
       "    <tr>\n",
       "      <th>2</th>\n",
       "      <td>10265843</td>\n",
       "      <td>너무재밓었다그래서보는것을추천한다</td>\n",
       "      <td>0</td>\n",
       "    </tr>\n",
       "    <tr>\n",
       "      <th>3</th>\n",
       "      <td>9045019</td>\n",
       "      <td>교도소 이야기구먼 ..솔직히 재미는 없다..평점 조정</td>\n",
       "      <td>0</td>\n",
       "    </tr>\n",
       "    <tr>\n",
       "      <th>4</th>\n",
       "      <td>6483659</td>\n",
       "      <td>사이몬페그의 익살스런 연기가 돋보였던 영화!스파이더맨에서 늙어보이기만 했던 커스틴 ...</td>\n",
       "      <td>1</td>\n",
       "    </tr>\n",
       "  </tbody>\n",
       "</table>\n",
       "</div>"
      ],
      "text/plain": [
       "         id                                           document  label\n",
       "0   9976970                                아 더빙.. 진짜 짜증나네요 목소리      0\n",
       "1   3819312                  흠...포스터보고 초딩영화줄....오버연기조차 가볍지 않구나      1\n",
       "2  10265843                                  너무재밓었다그래서보는것을추천한다      0\n",
       "3   9045019                      교도소 이야기구먼 ..솔직히 재미는 없다..평점 조정      0\n",
       "4   6483659  사이몬페그의 익살스런 연기가 돋보였던 영화!스파이더맨에서 늙어보이기만 했던 커스틴 ...      1"
      ]
     },
     "execution_count": 1,
     "metadata": {},
     "output_type": "execute_result"
    }
   ],
   "source": [
    "import pandas as pd\n",
    "import tensorflow as tf\n",
    "import urllib.request\n",
    "%matplotlib inline\n",
    "import matplotlib.pyplot as plt\n",
    "import re\n",
    "from konlpy.tag import Okt\n",
    "from tensorflow import keras\n",
    "from tensorflow.keras.preprocessing.text import Tokenizer\n",
    "import numpy as np\n",
    "from tensorflow.keras.preprocessing.sequence import pad_sequences\n",
    "from collections import Counter\n",
    "\n",
    "# 데이터를 읽어봅시다. \n",
    "train_data = pd.read_table('~/aiffel/sentiment_classification/ratings_train.txt')\n",
    "test_data = pd.read_table('~/aiffel/sentiment_classification/ratings_test.txt')\n",
    "\n",
    "train_data.head()"
   ]
  },
  {
   "cell_type": "code",
   "execution_count": 2,
   "metadata": {},
   "outputs": [
    {
     "name": "stdout",
     "output_type": "stream",
     "text": [
      "(150000, 3)\n",
      "(50000, 3)\n"
     ]
    }
   ],
   "source": [
    "print(train_data.shape)\n",
    "print(test_data.shape)"
   ]
  },
  {
   "cell_type": "markdown",
   "metadata": {},
   "source": [
    "## Data loader \n",
    "- 데이터의 중복 제거\n",
    "- NaN 결측치 제거\n",
    "- 한국어 토크나이저로 토큰화\n",
    "- 불용어(Stopwords) 제거\n",
    "- 사전 **word_to_index** 구성\n",
    "- 텍스트 스트링을 사전 인덱스 스트링으로 변환\n",
    "- X_train, y_train, X_test, y_test, word_to_index 리턴"
   ]
  },
  {
   "cell_type": "code",
   "execution_count": 3,
   "metadata": {},
   "outputs": [],
   "source": [
    "from konlpy.tag import Mecab\n",
    "tokenizer = Mecab()\n",
    "stopwords = ['의','가','이','은','들','는','좀','잘','걍','과','도','를','으로','자','에','와','한','하다']\n",
    "\n",
    "def load_data(train_data, test_data, num_words=10000):\n",
    "    train_data.drop_duplicates(subset=['document'], inplace=True)\n",
    "    train_data = train_data.dropna(how = 'any') \n",
    "    test_data.drop_duplicates(subset=['document'], inplace=True)\n",
    "    test_data = test_data.dropna(how = 'any') \n",
    "\n",
    "    X_train = []\n",
    "    for sentence in train_data['document']:\n",
    "        temp_X = tokenizer.morphs(sentence) # 토큰화\n",
    "        temp_X = [word for word in temp_X if not word in stopwords] # 불용어 제거\n",
    "        X_train.append(temp_X)\n",
    "\n",
    "    X_test = []\n",
    "    for sentence in test_data['document']:\n",
    "        temp_X = tokenizer.morphs(sentence) # 토큰화\n",
    "        temp_X = [word for word in temp_X if not word in stopwords] # 불용어 제거\n",
    "        X_test.append(temp_X)\n",
    "\n",
    "    words = np.concatenate(X_train).tolist()\n",
    "    counter = Counter(words)\n",
    "    counter = counter.most_common(10000-4)\n",
    "    vocab = ['<PAD>', '<BOS>', '<UNK>', '<UNUSED>'] + [key for key, _ in counter]\n",
    "    word_to_index = {word:index for index, word in enumerate(vocab)}\n",
    "\n",
    "    def wordlist_to_indexlist(wordlist):\n",
    "        return [word_to_index[word] if word in word_to_index else word_to_index['<UNK>'] for word in wordlist]\n",
    "\n",
    "    X_train = list(map(wordlist_to_indexlist, X_train))\n",
    "    X_test = list(map(wordlist_to_indexlist, X_test))\n",
    "\n",
    "    return X_train, np.array(list(train_data['label'])), X_test, np.array(list(test_data['label'])), word_to_index\n",
    "    \n",
    "X_train, y_train, X_test, y_test, word_to_index = load_data(train_data, test_data)"
   ]
  },
  {
   "cell_type": "markdown",
   "metadata": {},
   "source": [
    "## index_to_word 생성\n",
    "- **word_to_index**를 활용하여 새로운 **index_to_word** 생성\n",
    "- 그 외에 인덱스를 입려하면 단어로 리턴해주는 함수, 단어를 입력하면 인덱스로 리턴해주는 함수 정의"
   ]
  },
  {
   "cell_type": "code",
   "execution_count": 4,
   "metadata": {},
   "outputs": [],
   "source": [
    "index_to_word = {index:word for word, index in word_to_index.items()}"
   ]
  },
  {
   "cell_type": "code",
   "execution_count": 5,
   "metadata": {},
   "outputs": [],
   "source": [
    "# 문장 1개를 활용할 딕셔너리와 함께 주면, 단어 인덱스 리스트 벡터로 변환해 주는 함수입니다. \n",
    "# 단, 모든 문장은 <BOS>로 시작하는 것으로 합니다. \n",
    "def get_encoded_sentence(sentence, word_to_index):\n",
    "    return [word_to_index['<BOS>']]+[word_to_index[word] if word in word_to_index else word_to_index['<UNK>'] for word in sentence.split()]\n",
    "\n",
    "# 여러 개의 문장 리스트를 한꺼번에 단어 인덱스 리스트 벡터로 encode해 주는 함수입니다. \n",
    "def get_encoded_sentences(sentences, word_to_index):\n",
    "    return [get_encoded_sentence(sentence, word_to_index) for sentence in sentences]\n",
    "\n",
    "# 숫자 벡터로 encode된 문장을 원래대로 decode하는 함수입니다. \n",
    "def get_decoded_sentence(encoded_sentence, index_to_word):\n",
    "    return ' '.join(index_to_word[index] if index in index_to_word else '<UNK>' for index in encoded_sentence[1:])  #[1:]를 통해 <BOS>를 제외\n",
    "\n",
    "# 여러개의 숫자 벡터로 encode된 문장을 한꺼번에 원래대로 decode하는 함수입니다. \n",
    "def get_decoded_sentences(encoded_sentences, index_to_word):\n",
    "    return [get_decoded_sentence(encoded_sentence, index_to_word) for encoded_sentence in encoded_sentences]"
   ]
  },
  {
   "cell_type": "markdown",
   "metadata": {},
   "source": [
    "## 모델구성을 위한 데이터 분석 및 가공\n",
    "- 데이터셋 내 문장 길이 분포\n",
    "- 적절한 최대 문장 길이 지정\n",
    "- keras.preprocessing.sequence.pad_sequences 을 활용한 패딩 추가"
   ]
  },
  {
   "cell_type": "code",
   "execution_count": 6,
   "metadata": {},
   "outputs": [
    {
     "name": "stdout",
     "output_type": "stream",
     "text": [
      "문장길이 평균 :  15.969376315021577\n",
      "문장길이 최대 :  116\n",
      "문장길이 표준편차 :  12.843535456326455\n",
      "pad_sequences maxlen :  41\n",
      "전체 문장의 0.9342988343341575%가 maxlen 설정값 이내에 포함됩니다. \n"
     ]
    }
   ],
   "source": [
    "total_data_text = list(X_train) + list(X_test)\n",
    "# 텍스트데이터 문장길이의 리스트를 생성한 후\n",
    "num_tokens = [len(tokens) for tokens in total_data_text]\n",
    "num_tokens = np.array(num_tokens)\n",
    "# 문장길이의 평균값, 최대값, 표준편차를 계산해 본다. \n",
    "print('문장길이 평균 : ', np.mean(num_tokens))\n",
    "print('문장길이 최대 : ', np.max(num_tokens))\n",
    "print('문장길이 표준편차 : ', np.std(num_tokens))\n",
    "\n",
    "# 예를들어, 최대 길이를 (평균 + 2*표준편차)로 한다면,  \n",
    "max_tokens = np.mean(num_tokens) + 2 * np.std(num_tokens)\n",
    "maxlen = int(max_tokens)\n",
    "print('pad_sequences maxlen : ', maxlen)\n",
    "print('전체 문장의 {}%가 maxlen 설정값 이내에 포함됩니다. '.format(np.sum(num_tokens < max_tokens) / len(num_tokens)))"
   ]
  },
  {
   "cell_type": "code",
   "execution_count": 7,
   "metadata": {},
   "outputs": [
    {
     "name": "stdout",
     "output_type": "stream",
     "text": [
      "(146182, 41)\n"
     ]
    }
   ],
   "source": [
    "X_train = keras.preprocessing.sequence.pad_sequences(X_train,\n",
    "                                                        value=word_to_index[\"<PAD>\"],\n",
    "                                                        padding='post', # 혹은 'pre'\n",
    "                                                        maxlen=maxlen)\n",
    "\n",
    "X_test = keras.preprocessing.sequence.pad_sequences(X_test,\n",
    "                                                       value=word_to_index[\"<PAD>\"],\n",
    "                                                       padding='post', # 혹은 'pre'\n",
    "                                                       maxlen=maxlen)\n",
    "\n",
    "print(X_train.shape)"
   ]
  },
  {
   "cell_type": "code",
   "execution_count": 8,
   "metadata": {},
   "outputs": [
    {
     "data": {
      "text/plain": [
       "(49157, 41)"
      ]
     },
     "execution_count": 8,
     "metadata": {},
     "output_type": "execute_result"
    }
   ],
   "source": [
    "X_test.shape"
   ]
  },
  {
   "cell_type": "markdown",
   "metadata": {},
   "source": [
    "##  validation set 구성 및 모델선정"
   ]
  },
  {
   "cell_type": "markdown",
   "metadata": {},
   "source": [
    "**validation set 구성**"
   ]
  },
  {
   "cell_type": "code",
   "execution_count": 9,
   "metadata": {},
   "outputs": [
    {
     "data": {
      "text/plain": [
       "146182"
      ]
     },
     "execution_count": 9,
     "metadata": {},
     "output_type": "execute_result"
    }
   ],
   "source": [
    "len(X_train)"
   ]
  },
  {
   "cell_type": "code",
   "execution_count": 10,
   "metadata": {},
   "outputs": [
    {
     "name": "stdout",
     "output_type": "stream",
     "text": [
      "(126182, 41)\n",
      "(126182,)\n",
      "(20000, 41)\n",
      "(20000,)\n"
     ]
    }
   ],
   "source": [
    "# validation set 20000건 분리\n",
    "x_val = X_train[:20000]   \n",
    "y_val = y_train[:20000]\n",
    "\n",
    "# validation set을 제외한 나머지\n",
    "partial_X_train = X_train[20000:]  \n",
    "partial_y_train = y_train[20000:]\n",
    "\n",
    "print(partial_X_train.shape)\n",
    "print(partial_y_train.shape)\n",
    "print(x_val.shape)\n",
    "print(y_val.shape)"
   ]
  },
  {
   "cell_type": "markdown",
   "metadata": {},
   "source": [
    "**Model 선정**\n",
    "- 같은 파라미터로 3가지 모델을 학습\n",
    "    1. 1-D CNN\n",
    "    2. LSTM\n",
    "    3. GlobalMaxPooling1D\n",
    "- 이후에 가장 성능이 좋은 모델 선택 후 파라미터 튜닝을 수행"
   ]
  },
  {
   "cell_type": "code",
   "execution_count": 11,
   "metadata": {},
   "outputs": [],
   "source": [
    "# 세가지 모델을 평가할 때, 파라미터는 고정으로 사용\n",
    "vocab_size = len(index_to_word)\n",
    "word_vector_dim = 300"
   ]
  },
  {
   "cell_type": "markdown",
   "metadata": {},
   "source": [
    "**1-D CNN**"
   ]
  },
  {
   "cell_type": "code",
   "execution_count": 12,
   "metadata": {},
   "outputs": [
    {
     "name": "stdout",
     "output_type": "stream",
     "text": [
      "Model: \"CNN\"\n",
      "_________________________________________________________________\n",
      "Layer (type)                 Output Shape              Param #   \n",
      "=================================================================\n",
      "embedding (Embedding)        (None, None, 300)         3000000   \n",
      "_________________________________________________________________\n",
      "conv1d (Conv1D)              (None, None, 256)         537856    \n",
      "_________________________________________________________________\n",
      "max_pooling1d (MaxPooling1D) (None, None, 256)         0         \n",
      "_________________________________________________________________\n",
      "conv1d_1 (Conv1D)            (None, None, 64)          114752    \n",
      "_________________________________________________________________\n",
      "global_max_pooling1d (Global (None, 64)                0         \n",
      "_________________________________________________________________\n",
      "dense (Dense)                (None, 8)                 520       \n",
      "_________________________________________________________________\n",
      "dense_1 (Dense)              (None, 1)                 9         \n",
      "=================================================================\n",
      "Total params: 3,653,137\n",
      "Trainable params: 3,653,137\n",
      "Non-trainable params: 0\n",
      "_________________________________________________________________\n"
     ]
    }
   ],
   "source": [
    "# CNN\n",
    "\n",
    "CNN_model = keras.Sequential(name=\"CNN\")\n",
    "CNN_model.add(keras.layers.Embedding(vocab_size, word_vector_dim, input_shape=(None,)))\n",
    "CNN_model.add(keras.layers.Conv1D(256, 7, activation='relu'))\n",
    "CNN_model.add(keras.layers.MaxPooling1D(5))\n",
    "CNN_model.add(keras.layers.Conv1D(64, 7, activation='relu'))\n",
    "CNN_model.add(keras.layers.GlobalMaxPooling1D())\n",
    "CNN_model.add(keras.layers.Dense(8, activation='relu'))\n",
    "CNN_model.add(keras.layers.Dense(1, activation='sigmoid'))\n",
    "CNN_model.summary()"
   ]
  },
  {
   "cell_type": "markdown",
   "metadata": {},
   "source": [
    "**LSTM**"
   ]
  },
  {
   "cell_type": "code",
   "execution_count": 13,
   "metadata": {},
   "outputs": [
    {
     "name": "stdout",
     "output_type": "stream",
     "text": [
      "Model: \"LSTM\"\n",
      "_________________________________________________________________\n",
      "Layer (type)                 Output Shape              Param #   \n",
      "=================================================================\n",
      "embedding_1 (Embedding)      (None, None, 300)         3000000   \n",
      "_________________________________________________________________\n",
      "lstm (LSTM)                  (None, 8)                 9888      \n",
      "_________________________________________________________________\n",
      "dense_2 (Dense)              (None, 8)                 72        \n",
      "_________________________________________________________________\n",
      "dense_3 (Dense)              (None, 1)                 9         \n",
      "=================================================================\n",
      "Total params: 3,009,969\n",
      "Trainable params: 3,009,969\n",
      "Non-trainable params: 0\n",
      "_________________________________________________________________\n"
     ]
    }
   ],
   "source": [
    "# LSTM\n",
    "\n",
    "LSTM_model = keras.Sequential(name=\"LSTM\")\n",
    "LSTM_model.add(keras.layers.Embedding(vocab_size, word_vector_dim, input_shape=(None,)))\n",
    "LSTM_model.add(keras.layers.LSTM(8, dropout=0.7))\n",
    "LSTM_model.add(keras.layers.Dense(8, activation='relu'))\n",
    "LSTM_model.add(keras.layers.Dense(1, activation='sigmoid'))\n",
    "\n",
    "LSTM_model.summary()"
   ]
  },
  {
   "cell_type": "markdown",
   "metadata": {},
   "source": [
    "**GlobalMaxPooling1D**"
   ]
  },
  {
   "cell_type": "code",
   "execution_count": 14,
   "metadata": {},
   "outputs": [
    {
     "name": "stdout",
     "output_type": "stream",
     "text": [
      "Model: \"GMP\"\n",
      "_________________________________________________________________\n",
      "Layer (type)                 Output Shape              Param #   \n",
      "=================================================================\n",
      "embedding_2 (Embedding)      (None, None, 300)         3000000   \n",
      "_________________________________________________________________\n",
      "global_max_pooling1d_1 (Glob (None, 300)               0         \n",
      "_________________________________________________________________\n",
      "dense_4 (Dense)              (None, 8)                 2408      \n",
      "_________________________________________________________________\n",
      "dense_5 (Dense)              (None, 1)                 9         \n",
      "=================================================================\n",
      "Total params: 3,002,417\n",
      "Trainable params: 3,002,417\n",
      "Non-trainable params: 0\n",
      "_________________________________________________________________\n"
     ]
    }
   ],
   "source": [
    "# GlobalMaxPooling1D\n",
    "\n",
    "GMP_model = keras.Sequential(name=\"GMP\")\n",
    "GMP_model.add(keras.layers.Embedding(vocab_size, word_vector_dim, input_shape=(None,)))\n",
    "GMP_model.add(keras.layers.GlobalMaxPooling1D())\n",
    "GMP_model.add(keras.layers.Dense(8, activation='relu'))\n",
    "GMP_model.add(keras.layers.Dense(1, activation='sigmoid'))\n",
    "\n",
    "GMP_model.summary()\n"
   ]
  },
  {
   "cell_type": "markdown",
   "metadata": {},
   "source": [
    "**3가지 모델을 같은 조건에서 학습 후 결과 확인**"
   ]
  },
  {
   "cell_type": "code",
   "execution_count": 15,
   "metadata": {},
   "outputs": [
    {
     "data": {
      "text/plain": [
       "['CNN', 'LSTM', 'GMP']"
      ]
     },
     "execution_count": 15,
     "metadata": {},
     "output_type": "execute_result"
    }
   ],
   "source": [
    "model_lst = [CNN_model.name, LSTM_model.name, GMP_model.name]\n",
    "model_lst"
   ]
  },
  {
   "cell_type": "code",
   "execution_count": 16,
   "metadata": {
    "scrolled": true
   },
   "outputs": [
    {
     "name": "stdout",
     "output_type": "stream",
     "text": [
      "----------------------------------------\n",
      "Start fitting CNN ...\n",
      "Epoch 1/20\n",
      "247/247 [==============================] - 16s 64ms/step - loss: 0.4036 - accuracy: 0.8061 - val_loss: 0.3319 - val_accuracy: 0.8539\n",
      "Epoch 2/20\n",
      "247/247 [==============================] - 10s 40ms/step - loss: 0.2773 - accuracy: 0.8850 - val_loss: 0.3198 - val_accuracy: 0.8619\n",
      "Epoch 3/20\n",
      "247/247 [==============================] - 10s 41ms/step - loss: 0.1862 - accuracy: 0.9271 - val_loss: 0.3631 - val_accuracy: 0.8523\n",
      "Epoch 4/20\n",
      "247/247 [==============================] - 10s 40ms/step - loss: 0.0999 - accuracy: 0.9648 - val_loss: 0.4649 - val_accuracy: 0.8510\n",
      "Epoch 5/20\n",
      "247/247 [==============================] - 9s 38ms/step - loss: 0.0567 - accuracy: 0.9803 - val_loss: 0.6056 - val_accuracy: 0.8453\n",
      "Epoch 6/20\n",
      "247/247 [==============================] - 9s 38ms/step - loss: 0.0379 - accuracy: 0.9867 - val_loss: 0.7201 - val_accuracy: 0.8442\n",
      "Epoch 7/20\n",
      "247/247 [==============================] - 9s 37ms/step - loss: 0.0358 - accuracy: 0.9872 - val_loss: 0.7347 - val_accuracy: 0.8416\n",
      "Epoch 8/20\n",
      "247/247 [==============================] - 9s 37ms/step - loss: 0.0345 - accuracy: 0.9872 - val_loss: 0.8236 - val_accuracy: 0.8496\n",
      "Epoch 9/20\n",
      "247/247 [==============================] - 9s 38ms/step - loss: 0.0255 - accuracy: 0.9906 - val_loss: 0.9001 - val_accuracy: 0.8444\n",
      "Epoch 10/20\n",
      "247/247 [==============================] - 9s 38ms/step - loss: 0.0221 - accuracy: 0.9920 - val_loss: 0.8962 - val_accuracy: 0.8461\n",
      "Epoch 11/20\n",
      "247/247 [==============================] - 10s 39ms/step - loss: 0.0196 - accuracy: 0.9925 - val_loss: 0.9886 - val_accuracy: 0.8413\n",
      "Epoch 12/20\n",
      "247/247 [==============================] - 10s 39ms/step - loss: 0.0178 - accuracy: 0.9930 - val_loss: 1.0180 - val_accuracy: 0.8446\n",
      "Epoch 13/20\n",
      "247/247 [==============================] - 10s 39ms/step - loss: 0.0150 - accuracy: 0.9940 - val_loss: 1.0246 - val_accuracy: 0.8406\n",
      "Epoch 14/20\n",
      "247/247 [==============================] - 9s 38ms/step - loss: 0.0161 - accuracy: 0.9938 - val_loss: 1.0169 - val_accuracy: 0.8417\n",
      "Epoch 15/20\n",
      "247/247 [==============================] - 9s 38ms/step - loss: 0.0168 - accuracy: 0.9936 - val_loss: 1.0556 - val_accuracy: 0.8411\n",
      "Epoch 16/20\n",
      "247/247 [==============================] - 9s 38ms/step - loss: 0.0137 - accuracy: 0.9945 - val_loss: 1.1306 - val_accuracy: 0.8432\n",
      "Epoch 17/20\n",
      "247/247 [==============================] - 9s 38ms/step - loss: 0.0133 - accuracy: 0.9947 - val_loss: 1.1347 - val_accuracy: 0.8436\n",
      "Epoch 18/20\n",
      "247/247 [==============================] - 9s 38ms/step - loss: 0.0132 - accuracy: 0.9949 - val_loss: 1.0962 - val_accuracy: 0.8431\n",
      "Epoch 19/20\n",
      "247/247 [==============================] - 9s 38ms/step - loss: 0.0114 - accuracy: 0.9957 - val_loss: 1.1200 - val_accuracy: 0.8440\n",
      "Epoch 20/20\n",
      "247/247 [==============================] - 9s 38ms/step - loss: 0.0106 - accuracy: 0.9957 - val_loss: 1.1869 - val_accuracy: 0.8410\n",
      "Start evaluating CNN ...\n",
      "1537/1537 - 4s - loss: 1.2446 - accuracy: 0.8366\n",
      "----------------------------------------\n",
      "Start fitting LSTM ...\n",
      "Epoch 1/20\n",
      "247/247 [==============================] - 8s 31ms/step - loss: 0.6046 - accuracy: 0.6638 - val_loss: 0.5243 - val_accuracy: 0.7757\n",
      "Epoch 2/20\n",
      "247/247 [==============================] - 7s 30ms/step - loss: 0.4730 - accuracy: 0.8062 - val_loss: 0.4131 - val_accuracy: 0.8280\n",
      "Epoch 3/20\n",
      "247/247 [==============================] - 7s 30ms/step - loss: 0.3951 - accuracy: 0.8371 - val_loss: 0.3871 - val_accuracy: 0.8440\n",
      "Epoch 4/20\n",
      "247/247 [==============================] - 7s 30ms/step - loss: 0.3565 - accuracy: 0.8558 - val_loss: 0.3612 - val_accuracy: 0.8482\n",
      "Epoch 5/20\n",
      "247/247 [==============================] - 7s 30ms/step - loss: 0.3274 - accuracy: 0.8673 - val_loss: 0.3457 - val_accuracy: 0.8529\n",
      "Epoch 6/20\n",
      "247/247 [==============================] - 7s 30ms/step - loss: 0.3057 - accuracy: 0.8755 - val_loss: 0.3419 - val_accuracy: 0.8540\n",
      "Epoch 7/20\n",
      "247/247 [==============================] - 7s 30ms/step - loss: 0.2904 - accuracy: 0.8826 - val_loss: 0.3425 - val_accuracy: 0.8533\n",
      "Epoch 8/20\n",
      "247/247 [==============================] - 7s 29ms/step - loss: 0.2747 - accuracy: 0.8876 - val_loss: 0.3400 - val_accuracy: 0.8550\n",
      "Epoch 9/20\n",
      "247/247 [==============================] - 7s 29ms/step - loss: 0.2620 - accuracy: 0.8926 - val_loss: 0.3450 - val_accuracy: 0.8568\n",
      "Epoch 10/20\n",
      "247/247 [==============================] - 7s 29ms/step - loss: 0.2501 - accuracy: 0.8971 - val_loss: 0.3510 - val_accuracy: 0.8545\n",
      "Epoch 11/20\n",
      "247/247 [==============================] - 7s 30ms/step - loss: 0.2414 - accuracy: 0.9013 - val_loss: 0.3676 - val_accuracy: 0.8545\n",
      "Epoch 12/20\n",
      "247/247 [==============================] - 7s 30ms/step - loss: 0.2310 - accuracy: 0.9046 - val_loss: 0.3682 - val_accuracy: 0.8536\n",
      "Epoch 13/20\n",
      "247/247 [==============================] - 7s 30ms/step - loss: 0.2223 - accuracy: 0.9094 - val_loss: 0.3743 - val_accuracy: 0.8541\n",
      "Epoch 14/20\n",
      "247/247 [==============================] - 7s 30ms/step - loss: 0.2157 - accuracy: 0.9117 - val_loss: 0.3872 - val_accuracy: 0.8529\n",
      "Epoch 15/20\n",
      "247/247 [==============================] - 7s 30ms/step - loss: 0.2086 - accuracy: 0.9149 - val_loss: 0.3961 - val_accuracy: 0.8501\n",
      "Epoch 16/20\n",
      "247/247 [==============================] - 7s 29ms/step - loss: 0.2026 - accuracy: 0.9179 - val_loss: 0.4003 - val_accuracy: 0.8514\n",
      "Epoch 17/20\n",
      "247/247 [==============================] - 7s 29ms/step - loss: 0.1975 - accuracy: 0.9202 - val_loss: 0.4146 - val_accuracy: 0.8518\n",
      "Epoch 18/20\n",
      "247/247 [==============================] - 7s 29ms/step - loss: 0.1922 - accuracy: 0.9227 - val_loss: 0.4144 - val_accuracy: 0.8519\n",
      "Epoch 19/20\n",
      "247/247 [==============================] - 7s 29ms/step - loss: 0.1861 - accuracy: 0.9253 - val_loss: 0.4301 - val_accuracy: 0.8511\n",
      "Epoch 20/20\n",
      "247/247 [==============================] - 7s 29ms/step - loss: 0.1827 - accuracy: 0.9261 - val_loss: 0.4168 - val_accuracy: 0.8516\n",
      "Start evaluating LSTM ...\n",
      "1537/1537 - 2s - loss: 0.4139 - accuracy: 0.8502\n",
      "----------------------------------------\n",
      "Start fitting GMP ...\n",
      "Epoch 1/20\n",
      "247/247 [==============================] - 7s 28ms/step - loss: 0.4576 - accuracy: 0.8092 - val_loss: 0.3423 - val_accuracy: 0.8503\n",
      "Epoch 2/20\n",
      "247/247 [==============================] - 7s 27ms/step - loss: 0.3075 - accuracy: 0.8708 - val_loss: 0.3305 - val_accuracy: 0.8563\n",
      "Epoch 3/20\n",
      "247/247 [==============================] - 7s 27ms/step - loss: 0.2599 - accuracy: 0.8944 - val_loss: 0.3384 - val_accuracy: 0.8566\n",
      "Epoch 4/20\n",
      "247/247 [==============================] - 7s 27ms/step - loss: 0.2167 - accuracy: 0.9161 - val_loss: 0.3524 - val_accuracy: 0.8565\n",
      "Epoch 5/20\n",
      "247/247 [==============================] - 7s 27ms/step - loss: 0.1722 - accuracy: 0.9377 - val_loss: 0.3791 - val_accuracy: 0.8526\n",
      "Epoch 6/20\n",
      "247/247 [==============================] - 7s 27ms/step - loss: 0.1266 - accuracy: 0.9586 - val_loss: 0.4155 - val_accuracy: 0.8515\n",
      "Epoch 7/20\n",
      "247/247 [==============================] - 7s 27ms/step - loss: 0.0866 - accuracy: 0.9751 - val_loss: 0.4595 - val_accuracy: 0.8482\n",
      "Epoch 8/20\n",
      "247/247 [==============================] - 7s 27ms/step - loss: 0.0562 - accuracy: 0.9858 - val_loss: 0.5025 - val_accuracy: 0.8482\n",
      "Epoch 9/20\n",
      "247/247 [==============================] - 7s 27ms/step - loss: 0.0368 - accuracy: 0.9913 - val_loss: 0.5482 - val_accuracy: 0.8460\n",
      "Epoch 10/20\n",
      "247/247 [==============================] - 7s 27ms/step - loss: 0.0253 - accuracy: 0.9938 - val_loss: 0.5865 - val_accuracy: 0.8442\n",
      "Epoch 11/20\n",
      "247/247 [==============================] - 7s 27ms/step - loss: 0.0184 - accuracy: 0.9952 - val_loss: 0.6189 - val_accuracy: 0.8427\n",
      "Epoch 12/20\n",
      "247/247 [==============================] - 7s 27ms/step - loss: 0.0143 - accuracy: 0.9960 - val_loss: 0.6513 - val_accuracy: 0.8438\n",
      "Epoch 13/20\n",
      "247/247 [==============================] - 7s 27ms/step - loss: 0.0119 - accuracy: 0.9962 - val_loss: 0.6829 - val_accuracy: 0.8414\n",
      "Epoch 14/20\n",
      "247/247 [==============================] - 7s 27ms/step - loss: 0.0103 - accuracy: 0.9964 - val_loss: 0.7014 - val_accuracy: 0.8431\n",
      "Epoch 15/20\n",
      "247/247 [==============================] - 7s 27ms/step - loss: 0.0093 - accuracy: 0.9966 - val_loss: 0.7263 - val_accuracy: 0.8429\n"
     ]
    },
    {
     "name": "stdout",
     "output_type": "stream",
     "text": [
      "Epoch 16/20\n",
      "247/247 [==============================] - 7s 27ms/step - loss: 0.0086 - accuracy: 0.9964 - val_loss: 0.7486 - val_accuracy: 0.8424\n",
      "Epoch 17/20\n",
      "247/247 [==============================] - 7s 27ms/step - loss: 0.0077 - accuracy: 0.9967 - val_loss: 0.7700 - val_accuracy: 0.8425\n",
      "Epoch 18/20\n",
      "247/247 [==============================] - 7s 27ms/step - loss: 0.0073 - accuracy: 0.9968 - val_loss: 0.7909 - val_accuracy: 0.8424\n",
      "Epoch 19/20\n",
      "247/247 [==============================] - 7s 27ms/step - loss: 0.0069 - accuracy: 0.9969 - val_loss: 0.8027 - val_accuracy: 0.8440\n",
      "Epoch 20/20\n",
      "247/247 [==============================] - 7s 27ms/step - loss: 0.0068 - accuracy: 0.9969 - val_loss: 0.8206 - val_accuracy: 0.8402\n",
      "Start evaluating GMP ...\n",
      "1537/1537 - 2s - loss: 0.8352 - accuracy: 0.8380\n"
     ]
    }
   ],
   "source": [
    "model_result = {}\n",
    "\n",
    "for model_name in model_lst:\n",
    "    \n",
    "    if model_name == \"CNN\":\n",
    "        model = CNN_model\n",
    "    elif model_name == \"LSTM\":\n",
    "        model = LSTM_model\n",
    "    else :\n",
    "        model = GMP_model\n",
    "    \n",
    "    print('-'*40)\n",
    "    print(\"Start fitting {} ...\".format(model_name))\n",
    "    model.compile(optimizer='Adam',\n",
    "                  loss='binary_crossentropy',\n",
    "                  metrics=['accuracy'])\n",
    "\n",
    "    epochs=20\n",
    "\n",
    "    history = model.fit(partial_X_train,\n",
    "                        partial_y_train,\n",
    "                        epochs=epochs,\n",
    "                        batch_size=512,\n",
    "                        validation_data=(x_val, y_val),\n",
    "                        verbose=1)\n",
    "    \n",
    "    \n",
    "    print(\"Start evaluating {} ...\".format(model_name))\n",
    "    results = model.evaluate(X_test,  y_test, verbose=2)\n",
    "    model_result[model_name] = results"
   ]
  },
  {
   "cell_type": "code",
   "execution_count": 17,
   "metadata": {},
   "outputs": [
    {
     "name": "stdout",
     "output_type": "stream",
     "text": [
      "LSTM \t 0.8501942753791809\n",
      "GMP \t 0.8379681706428528\n",
      "CNN \t 0.8366255164146423\n"
     ]
    }
   ],
   "source": [
    "for name, [_, acc] in sorted(model_result.items(), key=lambda x : x[1][1], reverse=True) :\n",
    "    print(name,'\\t',acc)"
   ]
  },
  {
   "cell_type": "markdown",
   "metadata": {},
   "source": [
    "## 모델 훈련\n",
    "- 위 모델 중 **LTSM**의 성능이 가장 좋았음\n",
    "- 모델 훈련하기 전에 성능을 올릴 수 있는 최적의 하이퍼파라미터 값을 찾아봄"
   ]
  },
  {
   "cell_type": "markdown",
   "metadata": {},
   "source": [
    "**최적의 모델 만들기**\n",
    "- LSTM모델 앞에 CNN을 추가도 해보았고, LSTM을 추가도 해보았다.\n",
    "    - CNN의 경우는 추가를 하면 성능이 더 나빴다.\n",
    "    - LSTM층을 하나 더 추가할 경우 결과는 크게 달라지지 않았지만 학습 곡선이 다르게 나타나는 것을 알 수 있었다.\n",
    "- 간단하게 LSTM 레이어 하나만을 사용해서 하이퍼파라미터를 튜닝해보도록 하였다.\n",
    "    - word_vector_dim 을 늘려가면서 성능이 점점 더 좋아지는 것을 알 수 있었다.\n",
    "        - 1000\n",
    "    - LSTM 레이어의 벡터 차원수를 기존에 8에서 128까지 늘렸다.\n",
    "    - input dimension이 1000개에 반해 128개의 차원은 여전히 부족하지 않을까?\n",
    "    - Overfitting이 자주 발생하여서 LSTM의 인자로 Dropout도 추가하였다.\n"
   ]
  },
  {
   "cell_type": "code",
   "execution_count": 18,
   "metadata": {},
   "outputs": [
    {
     "name": "stdout",
     "output_type": "stream",
     "text": [
      "Model: \"sequential\"\n",
      "_________________________________________________________________\n",
      "Layer (type)                 Output Shape              Param #   \n",
      "=================================================================\n",
      "embedding_3 (Embedding)      (None, None, 1000)        10000000  \n",
      "_________________________________________________________________\n",
      "lstm_1 (LSTM)                (None, 128)               578048    \n",
      "_________________________________________________________________\n",
      "dense_6 (Dense)              (None, 8)                 1032      \n",
      "_________________________________________________________________\n",
      "dense_7 (Dense)              (None, 1)                 9         \n",
      "=================================================================\n",
      "Total params: 10,579,089\n",
      "Trainable params: 10,579,089\n",
      "Non-trainable params: 0\n",
      "_________________________________________________________________\n"
     ]
    }
   ],
   "source": [
    "word_vector_dim = 1000  # 워드 벡터의 차원수\n",
    "\n",
    "'''\n",
    "# LSTM 기존 모델\n",
    " \n",
    "word_vector_dim = 300 \n",
    "\n",
    "LSTM_model = keras.Sequential(name=\"LSTM\")\n",
    "LSTM_model.add(keras.layers.Embedding(vocab_size, word_vector_dim, input_shape=(None,)))\n",
    "LSTM_model.add(keras.layers.LSTM(8, dropout=0.7))\n",
    "LSTM_model.add(keras.layers.Dense(8, activation='relu'))\n",
    "LSTM_model.add(keras.layers.Dense(1, activation='sigmoid'))\n",
    "'''\n",
    "\n",
    "model = keras.Sequential()\n",
    "model.add(keras.layers.Embedding(vocab_size, word_vector_dim, input_shape=(None,)))\n",
    "# CNN을 추가했을 때\n",
    "# model.add(keras.layers.Conv1D(8, 7, activation='relu'))\n",
    "# model.add(keras.layers.MaxPooling1D())\n",
    "# LSTM 레이어를 두개로 학습했을 때\n",
    "# model.add(keras.layers.LSTM(256, dropout=0.7, return_sequences=True))\n",
    "model.add(keras.layers.LSTM(128, dropout=0.7))\n",
    "model.add(keras.layers.Dense(8, activation='relu'))\n",
    "model.add(keras.layers.Dense(1, activation='sigmoid'))  # 최종 출력은 긍정/부정을 이진분류\n",
    "\n",
    "model.summary()"
   ]
  },
  {
   "cell_type": "markdown",
   "metadata": {},
   "source": [
    "- 이전에 20번 epoch을 돌리는 동안 **validation loss**값이 오르는 것을 확인 **(Overfitting 발생)** \n",
    "\n",
    "- 그 결과, **callback의 EarlyStopping**을 사용하였고 최적의 모델을 저장하기 위해서 **ModelCheckpoint**를 사용하였다"
   ]
  },
  {
   "cell_type": "code",
   "execution_count": 19,
   "metadata": {},
   "outputs": [],
   "source": [
    "import tensorflow as tf\n",
    "\n",
    "early_stopping = tf.keras.callbacks.EarlyStopping(monitor='val_loss', mode='min', verbose=1, patience=3)\n",
    "model_check = tf.keras.callbacks.ModelCheckpoint('model.h5', monitor='val_accuracy', mode='max', verbose=1, save_best_only=True)"
   ]
  },
  {
   "cell_type": "markdown",
   "metadata": {},
   "source": [
    "**Model compile**\n",
    "- optimizer에서 사용하는 Adam에도 learning rate를 조절\n",
    "- 이전에 세가지 모델을 학습시켜보았을 때 여러번 학습이 진행되기 전에 Overfitting이 발생하였기 때문에 학습률을 낮춤\n",
    "- 추가적으로 배치사이즈도 더 작게 설정"
   ]
  },
  {
   "cell_type": "code",
   "execution_count": 20,
   "metadata": {},
   "outputs": [
    {
     "name": "stdout",
     "output_type": "stream",
     "text": [
      "Epoch 1/20\n",
      "986/986 [==============================] - ETA: 0s - loss: 0.4486 - accuracy: 0.7686\n",
      "Epoch 00001: val_accuracy improved from -inf to 0.85000, saving model to model.h5\n",
      "986/986 [==============================] - 75s 76ms/step - loss: 0.4486 - accuracy: 0.7686 - val_loss: 0.3425 - val_accuracy: 0.8500\n",
      "Epoch 2/20\n",
      "986/986 [==============================] - ETA: 0s - loss: 0.3265 - accuracy: 0.8591\n",
      "Epoch 00002: val_accuracy improved from 0.85000 to 0.85920, saving model to model.h5\n",
      "986/986 [==============================] - 75s 76ms/step - loss: 0.3265 - accuracy: 0.8591 - val_loss: 0.3273 - val_accuracy: 0.8592\n",
      "Epoch 3/20\n",
      "986/986 [==============================] - ETA: 0s - loss: 0.2896 - accuracy: 0.8760\n",
      "Epoch 00003: val_accuracy improved from 0.85920 to 0.86510, saving model to model.h5\n",
      "986/986 [==============================] - 74s 75ms/step - loss: 0.2896 - accuracy: 0.8760 - val_loss: 0.3168 - val_accuracy: 0.8651\n",
      "Epoch 4/20\n",
      "986/986 [==============================] - ETA: 0s - loss: 0.2640 - accuracy: 0.8890\n",
      "Epoch 00004: val_accuracy improved from 0.86510 to 0.86725, saving model to model.h5\n",
      "986/986 [==============================] - 75s 76ms/step - loss: 0.2640 - accuracy: 0.8890 - val_loss: 0.3193 - val_accuracy: 0.8673\n",
      "Epoch 5/20\n",
      "986/986 [==============================] - ETA: 0s - loss: 0.2433 - accuracy: 0.8987\n",
      "Epoch 00005: val_accuracy did not improve from 0.86725\n",
      "986/986 [==============================] - 74s 75ms/step - loss: 0.2433 - accuracy: 0.8987 - val_loss: 0.3296 - val_accuracy: 0.8660\n",
      "Epoch 6/20\n",
      "986/986 [==============================] - ETA: 0s - loss: 0.2252 - accuracy: 0.9070\n",
      "Epoch 00006: val_accuracy did not improve from 0.86725\n",
      "986/986 [==============================] - 74s 75ms/step - loss: 0.2252 - accuracy: 0.9070 - val_loss: 0.3389 - val_accuracy: 0.8638\n",
      "Epoch 00006: early stopping\n"
     ]
    }
   ],
   "source": [
    "model.compile(optimizer=tf.keras.optimizers.Adam(learning_rate=0.0005),\n",
    "              loss='binary_crossentropy',\n",
    "              metrics=['accuracy'])\n",
    "              \n",
    "epochs=20\n",
    "history = model.fit(partial_X_train,\n",
    "                    partial_y_train,\n",
    "                    epochs=epochs,\n",
    "                    batch_size=128,\n",
    "                    validation_data=(x_val, y_val),\n",
    "                    verbose=1,\n",
    "                   callbacks=[early_stopping, model_check])"
   ]
  },
  {
   "cell_type": "code",
   "execution_count": 21,
   "metadata": {},
   "outputs": [
    {
     "name": "stdout",
     "output_type": "stream",
     "text": [
      "1537/1537 - 4s - loss: 0.3462 - accuracy: 0.8601\n",
      "[0.34623509645462036, 0.8601012825965881]\n"
     ]
    }
   ],
   "source": [
    "results = model.evaluate(X_test,  y_test, verbose=2)\n",
    "\n",
    "print(results)"
   ]
  },
  {
   "cell_type": "markdown",
   "metadata": {},
   "source": [
    "## Loss, Accuracy 그래프 시각화"
   ]
  },
  {
   "cell_type": "code",
   "execution_count": 22,
   "metadata": {},
   "outputs": [
    {
     "name": "stdout",
     "output_type": "stream",
     "text": [
      "dict_keys(['loss', 'accuracy', 'val_loss', 'val_accuracy'])\n"
     ]
    }
   ],
   "source": [
    "history_dict = history.history\n",
    "print(history_dict.keys()) # epoch에 따른 그래프를 그려볼 수 있는 항목들"
   ]
  },
  {
   "cell_type": "code",
   "execution_count": 23,
   "metadata": {},
   "outputs": [
    {
     "data": {
      "image/png": "[encoded data removed]",
      "text/plain": [
       "<Figure size 432x288 with 1 Axes>"
      ]
     },
     "metadata": {
      "needs_background": "light"
     },
     "output_type": "display_data"
    }
   ],
   "source": [
    "\n",
    "acc = history_dict['accuracy']\n",
    "val_acc = history_dict['val_accuracy']\n",
    "loss = history_dict['loss']\n",
    "val_loss = history_dict['val_loss']\n",
    "\n",
    "epochs = range(1, len(acc) + 1)\n",
    "\n",
    "# 빨간 실선으로 표시\n",
    "plt.plot(epochs, loss, 'r', label='Training loss')\n",
    "# 파란 실선으로 표시\n",
    "plt.plot(epochs, val_loss, 'b', label='Validation loss')\n",
    "plt.title('Training and validation loss')\n",
    "plt.xlabel('Epochs')\n",
    "plt.ylabel('Loss')\n",
    "plt.grid()\n",
    "plt.legend()\n",
    "\n",
    "plt.show()"
   ]
  },
  {
   "cell_type": "markdown",
   "metadata": {},
   "source": [
    "## 학습된 Embedding 레이어 분석"
   ]
  },
  {
   "cell_type": "code",
   "execution_count": 24,
   "metadata": {},
   "outputs": [
    {
     "name": "stdout",
     "output_type": "stream",
     "text": [
      "(10000, 1000)\n"
     ]
    }
   ],
   "source": [
    "embedding_layer = model.layers[0]\n",
    "weights = embedding_layer.get_weights()[0]\n",
    "print(weights.shape)    # shape: (vocab_size, embedding_dim)"
   ]
  },
  {
   "cell_type": "code",
   "execution_count": 25,
   "metadata": {},
   "outputs": [],
   "source": [
    "import os\n",
    "\n",
    "# 학습한 Embedding 파라미터를 파일에 써서 저장\n",
    "word2vec_file_path = os.getenv('HOME')+'/aiffel/sentiment_classification/word2vec.txt'\n",
    "f = open(word2vec_file_path, 'w')\n",
    "f.write('{} {}\\n'.format(vocab_size-4, word_vector_dim)) # 몇개의 벡터를 얼마 사이즈로 기재할지 타이틀작성\n",
    "\n",
    "# 단어 개수(에서 특수문자 4개는 제외하고)만큼의 워드 벡터를 파일에 기록\n",
    "vectors = model.get_weights()[0]\n",
    "for i in range(4,vocab_size):\n",
    "    f.write('{} {}\\n'.format(index_to_word[i], ' '.join(map(str, list(vectors[i, :])))))\n",
    "f.close() "
   ]
  },
  {
   "cell_type": "markdown",
   "metadata": {},
   "source": [
    "- gensim을 사용해서 학습시킨 word2vector를 사용해서 대박이라는 단어와 연관성이 있는 단어들을 뽑아 봄\n",
    "- 영화 리뷰라고 생각해보았을 때, 긍정적인 평가들이 나오는 것을 확인"
   ]
  },
  {
   "cell_type": "code",
   "execution_count": 26,
   "metadata": {},
   "outputs": [],
   "source": [
    "from gensim.models.keyedvectors import Word2VecKeyedVectors\n",
    "\n",
    "word_vectors = Word2VecKeyedVectors.load_word2vec_format(word2vec_file_path, binary=False)\n",
    "vector = word_vectors['대박']\n",
    "# vector"
   ]
  },
  {
   "cell_type": "code",
   "execution_count": 27,
   "metadata": {},
   "outputs": [
    {
     "data": {
      "text/plain": [
       "[('괜춘', 0.5811702013015747),\n",
       " ('올려야', 0.5804870128631592),\n",
       " ('뗄', 0.5663620233535767),\n",
       " ('담백', 0.5601297616958618),\n",
       " ('감독판', 0.5591539144515991),\n",
       " ('독도', 0.5563544631004333),\n",
       " ('놀라웠', 0.551439642906189),\n",
       " ('구할', 0.5499293804168701),\n",
       " ('각지', 0.5498082041740417),\n",
       " ('미남', 0.5493574142456055)]"
      ]
     },
     "execution_count": 27,
     "metadata": {},
     "output_type": "execute_result"
    }
   ],
   "source": [
    "word_vectors.similar_by_word(\"대박\")"
   ]
  },
  {
   "cell_type": "markdown",
   "metadata": {},
   "source": [
    "## 한국어 Word2Vec 임베딩 활용하여 성능 개선\n",
    "- 한국어 Word2Vec은 다음 경로에서 구할 수 있습니다.\n",
    "- https://github.com/Kyubyong/wordvectors"
   ]
  },
  {
   "cell_type": "code",
   "execution_count": 28,
   "metadata": {},
   "outputs": [
    {
     "data": {
      "text/plain": [
       "['word2vec.txt', 'ratings_test.txt', 'ko.tsv', 'ko.bin', 'ratings_train.txt']"
      ]
     },
     "execution_count": 28,
     "metadata": {},
     "output_type": "execute_result"
    }
   ],
   "source": [
    "os.listdir('/home/aiffel0042/aiffel/sentiment_classification')"
   ]
  },
  {
   "cell_type": "code",
   "execution_count": 29,
   "metadata": {},
   "outputs": [
    {
     "data": {
      "text/plain": [
       "'/home/aiffel0042/aiffel/sentiment_classification/ko.tsv'"
      ]
     },
     "execution_count": 29,
     "metadata": {},
     "output_type": "execute_result"
    }
   ],
   "source": [
    "os.getenv('HOME')+'/aiffel/sentiment_classification/ko.tsv'"
   ]
  },
  {
   "cell_type": "code",
   "execution_count": 30,
   "metadata": {},
   "outputs": [],
   "source": [
    "word2vec_file_path = os.getenv('HOME')+'/aiffel/sentiment_classification/ko.bin'"
   ]
  },
  {
   "cell_type": "markdown",
   "metadata": {},
   "source": [
    "**기존의 코드**    \n",
    "- from gensim.models.keyedvectors import Word2VecKeyedVectors     \n",
    "- word2vec = Word2VecKeyedVectors.load_word2vec_format(word2vec_file_path, binary=False)"
   ]
  },
  {
   "cell_type": "markdown",
   "metadata": {},
   "source": [
    "**bin** 파일로 저장되어 있는 **word2vec** 불러오기 위해 아래와 같이 사용"
   ]
  },
  {
   "cell_type": "code",
   "execution_count": 31,
   "metadata": {},
   "outputs": [],
   "source": [
    "from gensim.models import Word2Vec\n",
    "\n",
    "word2vec = Word2Vec.load(word2vec_file_path)"
   ]
  },
  {
   "cell_type": "code",
   "execution_count": 32,
   "metadata": {},
   "outputs": [
    {
     "name": "stderr",
     "output_type": "stream",
     "text": [
      "/home/aiffel0042/anaconda3/envs/aiffel/lib/python3.7/site-packages/ipykernel_launcher.py:1: DeprecationWarning: Call to deprecated `__getitem__` (Method will be removed in 4.0.0, use self.wv.__getitem__() instead).\n",
      "  \"\"\"Entry point for launching an IPython kernel.\n"
     ]
    },
    {
     "data": {
      "text/plain": [
       "array([ 0.12250227, -0.26166117,  0.1601894 ,  0.24988233, -0.19694664,\n",
       "        0.20742898,  0.23358916, -0.08032743,  0.07419734,  0.28976992,\n",
       "        0.05920417, -0.24217431,  0.42650384,  0.37083197,  0.01488842,\n",
       "       -0.15399031,  0.21594983,  0.16782928,  0.04716487, -0.3933347 ,\n",
       "        0.06105555, -0.13588727, -0.0257909 , -0.06074918,  0.04168789,\n",
       "        0.34588724,  0.24693313, -0.05122459,  0.16371667,  0.05747311,\n",
       "       -0.12627307, -0.16464052, -0.29741055,  0.17121391, -0.24180788,\n",
       "       -0.28056645, -0.06616814,  0.15681611,  0.20206362, -0.1660444 ,\n",
       "        0.00203782, -0.2563252 , -0.24074501, -0.63730514,  0.35244125,\n",
       "        0.05436644, -0.14913762, -0.06556495, -0.05610788,  0.11254067,\n",
       "       -0.09251513, -0.28059378,  0.07197419,  0.11595767,  0.15117767,\n",
       "       -0.00541334, -0.128903  ,  0.04034068, -0.22690742,  0.00775241,\n",
       "        0.16708778,  0.10937496, -0.17221814,  0.04758313,  0.321897  ,\n",
       "        0.0646909 ,  0.292136  , -0.07984147,  0.09785581,  0.181296  ,\n",
       "        0.17631158,  0.01031382, -0.43260768,  0.01173338,  0.03490037,\n",
       "       -0.0076601 , -0.06428192, -0.2924691 ,  0.24474835,  0.07950445,\n",
       "       -0.09601387, -0.34834263, -0.17978796,  0.23437631, -0.15391289,\n",
       "        0.01297345, -0.04877474, -0.22579618, -0.06827989, -0.266499  ,\n",
       "       -0.18218975, -0.45568773, -0.19330987,  0.09304521,  0.08007847,\n",
       "       -0.08579313, -0.01735996, -0.20058121, -0.11037695, -0.04257905,\n",
       "       -0.01491661,  0.24702635, -0.06080532,  0.07469252,  0.02070692,\n",
       "        0.20998064, -0.12500262, -0.16058917,  0.13576448, -0.01957137,\n",
       "       -0.03530353,  0.02538178,  0.02707971,  0.02211284,  0.4662458 ,\n",
       "       -0.13323712, -0.31756285, -0.26687905, -0.2932379 ,  0.16787444,\n",
       "       -0.00277177,  0.11576287, -0.0071318 ,  0.04130382, -0.0535576 ,\n",
       "        0.5331611 ,  0.15177174,  0.308193  ,  0.12067769, -0.11636538,\n",
       "       -0.16276449, -0.1450912 , -0.07153927,  0.00982432,  0.16283946,\n",
       "        0.16073047, -0.30461156,  0.06590325,  0.18986021,  0.22578666,\n",
       "       -0.10132927,  0.1319676 , -0.28178945,  0.03667555, -0.02295887,\n",
       "       -0.15407115, -0.3441792 , -0.1218596 , -0.3528504 , -0.14319238,\n",
       "       -0.3211591 ,  0.14814556, -0.10278759,  0.23421551,  0.08331902,\n",
       "        0.00759588,  0.39796677, -0.13322656, -0.33425966, -0.2488725 ,\n",
       "        0.22625662, -0.01530029, -0.1754215 ,  0.06301978, -0.09565204,\n",
       "        0.22803056, -0.09959741, -0.08168349,  0.02098079,  0.09322228,\n",
       "       -0.00068385, -0.18893392,  0.2519263 ,  0.05090755,  0.2681667 ,\n",
       "        0.34096426, -0.18010454,  0.16246942,  0.01820518, -0.0705201 ,\n",
       "        0.08623672, -0.01494653, -0.21275468, -0.0316746 ,  0.26614192,\n",
       "        0.02781401,  0.1385179 ,  0.38353992, -0.08111849,  0.10542663,\n",
       "       -0.19549905,  0.01497585,  0.05798322,  0.02531051, -0.04150281,\n",
       "       -0.12611519, -0.05583593, -0.07526224, -0.08963452,  0.0068798 ],\n",
       "      dtype=float32)"
      ]
     },
     "execution_count": 32,
     "metadata": {},
     "output_type": "execute_result"
    }
   ],
   "source": [
    "vector = word2vec['대박']\n",
    "vector"
   ]
  },
  {
   "cell_type": "markdown",
   "metadata": {},
   "source": [
    "위에서 불러온 **word2vec** 사용하여 **embedding_matrix** 생성"
   ]
  },
  {
   "cell_type": "code",
   "execution_count": 33,
   "metadata": {},
   "outputs": [
    {
     "name": "stderr",
     "output_type": "stream",
     "text": [
      "/home/aiffel0042/anaconda3/envs/aiffel/lib/python3.7/site-packages/ipykernel_launcher.py:8: DeprecationWarning: Call to deprecated `__contains__` (Method will be removed in 4.0.0, use self.wv.__contains__() instead).\n",
      "  \n",
      "/home/aiffel0042/anaconda3/envs/aiffel/lib/python3.7/site-packages/ipykernel_launcher.py:9: DeprecationWarning: Call to deprecated `__getitem__` (Method will be removed in 4.0.0, use self.wv.__getitem__() instead).\n",
      "  if __name__ == '__main__':\n"
     ]
    }
   ],
   "source": [
    "vocab_size = 10000\n",
    "word_vector_dim = 200\n",
    "\n",
    "embedding_matrix = np.random.rand(vocab_size, word_vector_dim)\n",
    "\n",
    "# embedding_matrix에 Word2Vec 워드벡터를 단어 하나씩마다 차례차례 카피한다.\n",
    "for i in range(4,vocab_size):\n",
    "    if index_to_word[i] in word2vec:\n",
    "        embedding_matrix[i] = word2vec[index_to_word[i]]"
   ]
  },
  {
   "cell_type": "markdown",
   "metadata": {},
   "source": [
    "- 위에서 만든 임베딩을 여기서 학습하는데 활용\n",
    "- 모델은 위에서 사용한것과 동일하게 LSTM을 사용하였고 LSTM 레이어의 차원도 128로 설정\n",
    "- 여기서 Embedding 레이어에 embedding_matrix로 초기화를 해주었기 때문에 **word_vector_dim**과 같은 경우는 **기존에 초기화 되어있는 임베딩의 차원인 200**으로 줌"
   ]
  },
  {
   "cell_type": "code",
   "execution_count": 36,
   "metadata": {},
   "outputs": [
    {
     "name": "stdout",
     "output_type": "stream",
     "text": [
      "Model: \"sequential_1\"\n",
      "_________________________________________________________________\n",
      "Layer (type)                 Output Shape              Param #   \n",
      "=================================================================\n",
      "embedding_4 (Embedding)      (None, 41, 200)           2000000   \n",
      "_________________________________________________________________\n",
      "lstm_2 (LSTM)                (None, 256)               467968    \n",
      "_________________________________________________________________\n",
      "dense_8 (Dense)              (None, 8)                 2056      \n",
      "_________________________________________________________________\n",
      "dense_9 (Dense)              (None, 1)                 9         \n",
      "=================================================================\n",
      "Total params: 2,470,033\n",
      "Trainable params: 2,470,033\n",
      "Non-trainable params: 0\n",
      "_________________________________________________________________\n"
     ]
    }
   ],
   "source": [
    "from keras.initializers import Constant\n",
    "\n",
    "vocab_size = 10000\n",
    "word_vector_dim = 200\n",
    "\n",
    "# 모델 구성\n",
    "model = keras.Sequential()\n",
    "model.add(keras.layers.Embedding(vocab_size, \n",
    "                                 word_vector_dim, \n",
    "                                 embeddings_initializer=Constant(embedding_matrix), \n",
    "                                 input_length=maxlen, \n",
    "                                 trainable=True))   # trainable을 True로 주면 Fine-tuning\n",
    "\n",
    "model.add(keras.layers.LSTM(256))\n",
    "model.add(keras.layers.Dense(8, activation='relu'))\n",
    "model.add(keras.layers.Dense(1, activation='sigmoid'))\n",
    "\n",
    "model.summary()\n"
   ]
  },
  {
   "cell_type": "code",
   "execution_count": 37,
   "metadata": {},
   "outputs": [
    {
     "name": "stdout",
     "output_type": "stream",
     "text": [
      "Epoch 1/20\n",
      "985/986 [============================>.] - ETA: 0s - loss: 0.4871 - accuracy: 0.7378\n",
      "Epoch 00001: val_accuracy did not improve from 0.86725\n",
      "986/986 [==============================] - 19s 19ms/step - loss: 0.4870 - accuracy: 0.7379 - val_loss: 0.3536 - val_accuracy: 0.8467\n",
      "Epoch 2/20\n",
      "984/986 [============================>.] - ETA: 0s - loss: 0.3192 - accuracy: 0.8627\n",
      "Epoch 00002: val_accuracy did not improve from 0.86725\n",
      "986/986 [==============================] - 18s 19ms/step - loss: 0.3192 - accuracy: 0.8627 - val_loss: 0.3179 - val_accuracy: 0.8635\n",
      "Epoch 3/20\n",
      "985/986 [============================>.] - ETA: 0s - loss: 0.2749 - accuracy: 0.8846\n",
      "Epoch 00003: val_accuracy did not improve from 0.86725\n",
      "986/986 [==============================] - 19s 19ms/step - loss: 0.2749 - accuracy: 0.8846 - val_loss: 0.3142 - val_accuracy: 0.8663\n",
      "Epoch 4/20\n",
      "985/986 [============================>.] - ETA: 0s - loss: 0.2410 - accuracy: 0.9010\n",
      "Epoch 00004: val_accuracy improved from 0.86725 to 0.86855, saving model to model.h5\n",
      "986/986 [==============================] - 21s 21ms/step - loss: 0.2410 - accuracy: 0.9010 - val_loss: 0.3113 - val_accuracy: 0.8686\n",
      "Epoch 5/20\n",
      "986/986 [==============================] - ETA: 0s - loss: 0.2097 - accuracy: 0.9153\n",
      "Epoch 00005: val_accuracy did not improve from 0.86855\n",
      "986/986 [==============================] - 18s 19ms/step - loss: 0.2097 - accuracy: 0.9153 - val_loss: 0.3255 - val_accuracy: 0.8652\n",
      "Epoch 6/20\n",
      "985/986 [============================>.] - ETA: 0s - loss: 0.1749 - accuracy: 0.9317\n",
      "Epoch 00006: val_accuracy did not improve from 0.86855\n",
      "986/986 [==============================] - 18s 19ms/step - loss: 0.1749 - accuracy: 0.9317 - val_loss: 0.3654 - val_accuracy: 0.8655\n",
      "Epoch 7/20\n",
      "986/986 [==============================] - ETA: 0s - loss: 0.1445 - accuracy: 0.9451\n",
      "Epoch 00007: val_accuracy did not improve from 0.86855\n",
      "986/986 [==============================] - 19s 19ms/step - loss: 0.1445 - accuracy: 0.9451 - val_loss: 0.3825 - val_accuracy: 0.8642\n",
      "Epoch 00007: early stopping\n"
     ]
    }
   ],
   "source": [
    "# 학습의 진행\n",
    "model.compile(optimizer=tf.keras.optimizers.Adam(learning_rate=0.0005),\n",
    "              loss='binary_crossentropy',\n",
    "              metrics=['accuracy'])\n",
    "              \n",
    "epochs=20\n",
    "\n",
    "history = model.fit(partial_X_train,\n",
    "                    partial_y_train,\n",
    "                    epochs=epochs,\n",
    "                    batch_size=128,\n",
    "                    validation_data=(x_val, y_val),\n",
    "                    verbose=1,\n",
    "                   callbacks=[early_stopping, model_check])"
   ]
  },
  {
   "cell_type": "code",
   "execution_count": 38,
   "metadata": {},
   "outputs": [
    {
     "name": "stdout",
     "output_type": "stream",
     "text": [
      "1537/1537 - 3s - loss: 0.3878 - accuracy: 0.8625\n",
      "[0.38776037096977234, 0.8625018000602722]\n"
     ]
    }
   ],
   "source": [
    "# 테스트셋을 통한 모델 평가\n",
    "results = model.evaluate(X_test,  y_test, verbose=2)\n",
    "\n",
    "print(results)"
   ]
  },
  {
   "cell_type": "markdown",
   "metadata": {},
   "source": [
    "- **validation accurary**가 **0.002** 증가"
   ]
  },
  {
   "cell_type": "code",
   "execution_count": 39,
   "metadata": {},
   "outputs": [
    {
     "name": "stdout",
     "output_type": "stream",
     "text": [
      "dict_keys(['loss', 'accuracy', 'val_loss', 'val_accuracy'])\n"
     ]
    },
    {
     "data": {
      "image/png": "[encoded data removed]",
      "text/plain": [
       "<Figure size 432x288 with 1 Axes>"
      ]
     },
     "metadata": {
      "needs_background": "light"
     },
     "output_type": "display_data"
    }
   ],
   "source": [
    "history_dict = history.history\n",
    "print(history_dict.keys())\n",
    "\n",
    "# 시각화를 시도한다.\n",
    "acc = history_dict['accuracy']\n",
    "val_acc = history_dict['val_accuracy']\n",
    "loss = history_dict['loss']\n",
    "val_loss = history_dict['val_loss']\n",
    "\n",
    "epochs = range(1, len(acc) + 1)\n",
    "\n",
    "# 빨간 실선으로 표시\n",
    "plt.plot(epochs, loss, 'r', label='Training loss')\n",
    "# 파란 실선으로 표시\n",
    "plt.plot(epochs, val_loss, 'b', label='Validation loss')\n",
    "plt.title('Training and validation loss')\n",
    "plt.xlabel('Epochs')\n",
    "plt.ylabel('Loss')\n",
    "plt.grid()\n",
    "plt.legend()\n",
    "\n",
    "plt.show()"
   ]
  },
  {
   "cell_type": "markdown",
   "metadata": {},
   "source": [
    "## 정리\n",
    "- 세 가지 모델을 사용\n",
    "    1. **1D CNN** : 0.8413\n",
    "    2. **LSTM** : 0.8424\n",
    "    3. **GlobalMaxPooling1D** : 0.8402   \n",
    "<br/>    \n",
    "- 그 중에서 제일 좋은 **LSTM**으로 선택 -> 모델 구조 찾기\n",
    "    - 하이퍼 파라미터를 튜닝하기 전, 모델 구조에 대해 파악\n",
    "        1. CNN 1D -> LSTM\n",
    "        2. LSTM -> LSTM\n",
    "        3. LSTM 단일 레이어    \n",
    "    - 하지만 CNN을 추가한 경우 생각보다 점수가 낮게 나오고 LSTM 레이어를 두개를 사용해도 성능은 나아지지 않음    \n",
    "<br/>      \n",
    "- 하이퍼 파라미터 설정\n",
    "    - word_vector_dim = 1000\n",
    "    - LSTM 레이어의 차원 수 = 128, dropout = 0.7 적용\n",
    "    - Adam optimizer의 learning rate = 0.0005\n",
    "    - batch_size = 128  \n",
    "<br/>    \n",
    "- Callback 함수 사용\n",
    "    - EearlyStopping\n",
    "    - Checkpoint    \n",
    "<br/>    \n",
    "     \n",
    "**정확도** 0.84 -> 0.86\n",
    "- 약 2퍼센트 향상"
   ]
  }
 ],
 "metadata": {
  "kernelspec": {
   "display_name": "Python 3",
   "language": "python",
   "name": "python3"
  },
  "language_info": {
   "codemirror_mode": {
    "name": "ipython",
    "version": 3
   },
   "file_extension": ".py",
   "mimetype": "text/x-python",
   "name": "python",
   "nbconvert_exporter": "python",
   "pygments_lexer": "ipython3",
   "version": "3.7.6"
  }
 },
 "nbformat": 4,
 "nbformat_minor": 4
}
