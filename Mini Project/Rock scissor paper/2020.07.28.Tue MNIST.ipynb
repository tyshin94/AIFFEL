{
 "cells": [
  {
   "cell_type": "markdown",
   "metadata": {},
   "source": [
    "## 1. 인공지능과 가위바위보 하기"
   ]
  },
  {
   "cell_type": "markdown",
   "metadata": {},
   "source": [
    "**1-1. 인공지능과 가위바위보 하기**"
   ]
  },
  {
   "cell_type": "markdown",
   "metadata": {},
   "source": [
    "**1) 간단한 이미지 분류기**"
   ]
  },
  {
   "cell_type": "markdown",
   "metadata": {},
   "source": [
    "- 숫자는 0~9까지 총 10개의 클래스(class)만 인식*   \n",
    "- 가위바위보는 총 3개의 클래스(class) 인식*   \n",
    "- 클래스(class)가 몇개 안되는 경우, 인공지능은 간단하게 이미지를 분류 가능*"
   ]
  },
  {
   "cell_type": "markdown",
   "metadata": {},
   "source": [
    "**2)숫자 손글씨 인식기 만들기(Sequential Model을 이용하는 방법)**"
   ]
  },
  {
   "cell_type": "markdown",
   "metadata": {},
   "source": [
    "- 숫자 손글씨 분류기는 손으로 쓴 숫자 이미지를 입력\n",
    "- 그 이미지가 어떤 숫자인지 출력 가능"
   ]
  },
  {
   "cell_type": "markdown",
   "metadata": {},
   "source": [
    "**3)어떻게 만들지?**"
   ]
  },
  {
   "cell_type": "markdown",
   "metadata": {},
   "source": [
    "- 일반적으로 딥러닝 기술 프로세스\n",
    "- 데이터 준비 -> 딥러닝 네트워크 설계 -> 학습 -> 테스트(평가)"
   ]
  },
  {
   "cell_type": "markdown",
   "metadata": {},
   "source": [
    "----"
   ]
  },
  {
   "cell_type": "markdown",
   "metadata": {},
   "source": [
    "**1-2. 데이터를 준비하자!**"
   ]
  },
  {
   "cell_type": "markdown",
   "metadata": {},
   "source": [
    "__1) MINIST 숫자 손글씨 Dataset 불러들이기__"
   ]
  },
  {
   "cell_type": "code",
   "execution_count": 4,
   "metadata": {},
   "outputs": [],
   "source": [
    "import tensorflow as tf"
   ]
  },
  {
   "cell_type": "code",
   "execution_count": 5,
   "metadata": {},
   "outputs": [],
   "source": [
    "from tensorflow import keras"
   ]
  },
  {
   "cell_type": "code",
   "execution_count": 6,
   "metadata": {},
   "outputs": [],
   "source": [
    "import numpy as np"
   ]
  },
  {
   "cell_type": "code",
   "execution_count": 7,
   "metadata": {},
   "outputs": [],
   "source": [
    "import matplotlib.pyplot as plt \n",
    "#파이썬에서 제공하는 시각화(Visualization) 패키지인 Matplotlib은 차트(chart), \n",
    "#플롯(plot) 등 다양한 형태로 데이터를 시각화할 수 있는 강력한 기능을 제공합니다."
   ]
  },
  {
   "cell_type": "code",
   "execution_count": 8,
   "metadata": {},
   "outputs": [
    {
     "name": "stdout",
     "output_type": "stream",
     "text": [
      "2.2.0\n"
     ]
    }
   ],
   "source": [
    "print(tf.__version__) # Tensorflow의 버전을 출력"
   ]
  },
  {
   "cell_type": "code",
   "execution_count": 9,
   "metadata": {},
   "outputs": [],
   "source": [
    "mnist = keras.datasets.mnist"
   ]
  },
  {
   "cell_type": "markdown",
   "metadata": {},
   "source": [
    "__2) 학습용 데이터와 시험용 데이터__"
   ]
  },
  {
   "cell_type": "code",
   "execution_count": 10,
   "metadata": {},
   "outputs": [],
   "source": [
    "(x_train,y_train),(x_test,y_test) = mnist.load_data() # mnist.load() 함수를 통해 학습용 데이터와 시험용 데이터를 나누어서 받아드림."
   ]
  },
  {
   "cell_type": "code",
   "execution_count": 11,
   "metadata": {},
   "outputs": [
    {
     "name": "stdout",
     "output_type": "stream",
     "text": [
      "60000\n"
     ]
    }
   ],
   "source": [
    "print(len(x_train))  #x_train 배열의 크기 출력"
   ]
  },
  {
   "cell_type": "code",
   "execution_count": 12,
   "metadata": {},
   "outputs": [
    {
     "data": {
      "image/png": "[encoded data removed]",
      "text/plain": [
       "<Figure size 432x288 with 1 Axes>"
      ]
     },
     "metadata": {
      "needs_background": "light"
     },
     "output_type": "display_data"
    }
   ],
   "source": [
    "plt.imshow(x_train[1],cmap=plt.cm.binary)  #  xtrain[1]에 담긴 이미지는 xtrain 행렬의 1번째가 아니라 2번째 이미지라는 점입니다.\n",
    "plt.show()"
   ]
  },
  {
   "cell_type": "code",
   "execution_count": 13,
   "metadata": {},
   "outputs": [
    {
     "name": "stdout",
     "output_type": "stream",
     "text": [
      "0\n"
     ]
    }
   ],
   "source": [
    "print(y_train[1]) #Y항목(위 코드의 ytrain, ytest)에는 X항목에 들어있는 이미지에 대응하는 실제 숫자 값이 담겨 있는 것을 확인."
   ]
  },
  {
   "cell_type": "code",
   "execution_count": 14,
   "metadata": {},
   "outputs": [],
   "source": [
    "index=10000  # index에 0에서 59999 사이 숫자를 지정"
   ]
  },
  {
   "cell_type": "code",
   "execution_count": 15,
   "metadata": {},
   "outputs": [
    {
     "data": {
      "image/png": "[encoded data removed]",
      "text/plain": [
       "<Figure size 432x288 with 1 Axes>"
      ]
     },
     "metadata": {
      "needs_background": "light"
     },
     "output_type": "display_data"
    }
   ],
   "source": [
    "plt.imshow(x_train[index],cmap=plt.cm.binary)\n",
    "plt.show()"
   ]
  },
  {
   "cell_type": "code",
   "execution_count": 16,
   "metadata": {},
   "outputs": [
    {
     "name": "stdout",
     "output_type": "stream",
     "text": [
      "10001 번째 이미지의 숫자는 바로 3 입니다.\n"
     ]
    }
   ],
   "source": [
    "print((index+1),'번째 이미지의 숫자는 바로', y_train[index],'입니다.')"
   ]
  },
  {
   "cell_type": "code",
   "execution_count": 17,
   "metadata": {},
   "outputs": [
    {
     "name": "stdout",
     "output_type": "stream",
     "text": [
      "(60000, 28, 28)\n"
     ]
    }
   ],
   "source": [
    "print(x_train.shape)     #학습용 데이터는 28x28크기의 숫자 이미지가 60,000장 있음."
   ]
  },
  {
   "cell_type": "code",
   "execution_count": 18,
   "metadata": {},
   "outputs": [
    {
     "name": "stdout",
     "output_type": "stream",
     "text": [
      "(10000, 28, 28)\n"
     ]
    }
   ],
   "source": [
    "print(x_test.shape)      #시험용 데이터는 28x28크기의 숫자 이미지가 10,000장 있음."
   ]
  },
  {
   "cell_type": "markdown",
   "metadata": {},
   "source": [
    "__3) 데이터 전처리 하기__"
   ]
  },
  {
   "cell_type": "code",
   "execution_count": 19,
   "metadata": {},
   "outputs": [
    {
     "name": "stdout",
     "output_type": "stream",
     "text": [
      "최소값: 0 최대값 255\n"
     ]
    }
   ],
   "source": [
    "print('최소값:',np.min(x_train),'최대값',np.max(x_train))    #숫자 손글씨 이미지의 실제 픽셀 값은 0~255 사이의 값을 가짐."
   ]
  },
  {
   "cell_type": "code",
   "execution_count": 20,
   "metadata": {},
   "outputs": [
    {
     "name": "stdout",
     "output_type": "stream",
     "text": [
      "최소값: 0.0 최대값: 1.0\n"
     ]
    }
   ],
   "source": [
    "x_train_norm, x_test_norm = x_train / 255.0, x_test / 255.0\n",
    "print('최소값:',np.min(x_train_norm), '최대값:',np.max(x_train_norm))\n",
    "\n",
    "#인공지능 모델 훈련시킬 땐, 일반적으로 0~1 사이의 갑으로 정규화 시키는 것이 좋음.\n",
    "#MNIST 데이터는 각 픽셀의 값이 0~255 사이 범위에 있으므로 데이터들을 255로 나누어줌.\n",
    "#최소값이 0, 최대값이 1에 근접하도록 나오는지 확인!"
   ]
  },
  {
   "cell_type": "markdown",
   "metadata": {},
   "source": [
    "---"
   ]
  },
  {
   "cell_type": "markdown",
   "metadata": {},
   "source": [
    "**1-3. 딥러닝 네트워크 설계하기**"
   ]
  },
  {
   "cell_type": "markdown",
   "metadata": {},
   "source": [
    "**1) Sequenential Model을 사용해 보자**"
   ]
  },
  {
   "cell_type": "markdown",
   "metadata": {},
   "source": [
    "- tf.keras의 Sequential API를 이용하여 LeNet이라는 딥러닝 네트워크를 설계한 예입니다.   \n",
    "- 모델을 만드는 과정!!  "
   ]
  },
  {
   "cell_type": "code",
   "execution_count": 21,
   "metadata": {},
   "outputs": [
    {
     "name": "stdout",
     "output_type": "stream",
     "text": [
      "Model에 추가된 Layer 개수:  7\n"
     ]
    }
   ],
   "source": [
    "model=keras.models.Sequential()\n",
    "model.add(keras.layers.Conv2D(16, (3,3), activation='relu', input_shape=(28,28,1)))\n",
    "# Conv2D 레이어의 첫 번째 인자는 사용하는 이미지 특징의 수\n",
    "# 16 의미: 얼마나 다양한 이미지의 특징을 살펴볼 것인가?              // input_shape: 입력 이미지의 형태\n",
    "# (입력 이미지가 다양할수록 더 많은 특징을 고려)\n",
    "\n",
    "model.add(keras.layers.MaxPool2D(2,2))\n",
    "model.add(keras.layers.Conv2D(32, (3,3), activation='relu'))\n",
    "# Conv2D 레이어의 첫 번째 인자는 사용하는 이미지 특징의 수\n",
    "# 32 의미: 얼마나 다양한 이미지의 특징을 살펴볼 것인가?              \n",
    "# (입력 이미지가 다양할수록 더 많은 특징을 고려)\n",
    "\n",
    "model.add(keras.layers.MaxPooling2D((2,2)))\n",
    "model.add(keras.layers.Flatten())\n",
    "model.add(keras.layers.Dense(32, activation='relu'))\n",
    "# Dense 레이어의 첫 번째 인자는 분류기에 사용되는 뉴런의 숫자\n",
    "# 분류기 알고리즘을 얼마나 복잡하게 할 것인가?\n",
    "# (복잡한 문제일수록 이 수를 늘려보자.)\n",
    "# 숫자인 경우 10개, 알파벳을 구분한다면 대문자 26, 소문자 26, 총 52개\n",
    "\n",
    "model.add(keras.layers.Dense(10, activation='softmax'))\n",
    "# Dense 레이어의 뉴런 숫자는 결과적으로 분류해 내야 하는 클래스 수로 지장\n",
    "# (최종 분류기의 class 수)\n",
    "# 여기서는 0~0까지 총 10개의 class를 구분하므로 10\n",
    "\n",
    "\n",
    "print('Model에 추가된 Layer 개수: ', len(model.layers))"
   ]
  },
  {
   "cell_type": "code",
   "execution_count": 22,
   "metadata": {},
   "outputs": [
    {
     "name": "stdout",
     "output_type": "stream",
     "text": [
      "Model: \"sequential_1\"\n",
      "_________________________________________________________________\n",
      "Layer (type)                 Output Shape              Param #   \n",
      "=================================================================\n",
      "conv2d_2 (Conv2D)            (None, 26, 26, 16)        160       \n",
      "_________________________________________________________________\n",
      "max_pooling2d_2 (MaxPooling2 (None, 13, 13, 16)        0         \n",
      "_________________________________________________________________\n",
      "conv2d_3 (Conv2D)            (None, 11, 11, 32)        4640      \n",
      "_________________________________________________________________\n",
      "max_pooling2d_3 (MaxPooling2 (None, 5, 5, 32)          0         \n",
      "_________________________________________________________________\n",
      "flatten_1 (Flatten)          (None, 800)               0         \n",
      "_________________________________________________________________\n",
      "dense_2 (Dense)              (None, 32)                25632     \n",
      "_________________________________________________________________\n",
      "dense_3 (Dense)              (None, 10)                330       \n",
      "=================================================================\n",
      "Total params: 30,762\n",
      "Trainable params: 30,762\n",
      "Non-trainable params: 0\n",
      "_________________________________________________________________\n"
     ]
    }
   ],
   "source": [
    "model.summary() # 만든 딥러닝 네트워크 모델을 확인 => moel.summary() 메소드"
   ]
  },
  {
   "cell_type": "markdown",
   "metadata": {},
   "source": [
    "---"
   ]
  },
  {
   "cell_type": "markdown",
   "metadata": {},
   "source": [
    "**1-4. 딥러닝 네트워크 학습시키기**"
   ]
  },
  {
   "cell_type": "markdown",
   "metadata": {},
   "source": [
    "- 네트워크 입력(데이터 개수, 이미지 크기x, 이미지 크기y, 채널 수)\n",
    "- input_shape=(28,28,1)\n",
    "- print(x_train.shape)하면 => (60000, 28, 28)로 채널 수에 대한 정보 없음.\n",
    "- 따라서 (60000, 28, 28, 1)로 만들어 줘야함! // 1: 흑백, 3: 칼라"
   ]
  },
  {
   "cell_type": "code",
   "execution_count": 23,
   "metadata": {},
   "outputs": [
    {
     "name": "stdout",
     "output_type": "stream",
     "text": [
      "Before Reshape - x_train_norm shape: (60000, 28, 28)\n",
      "Before Reshape - x_test_norm shape: (10000, 28, 28)\n",
      "After Reshape - x_train_reshaped shape: (60000, 28, 28, 1)\n",
      "After Reshape - x_test_reshaped shape: (10000, 28, 28, 1)\n"
     ]
    }
   ],
   "source": [
    "print(\"Before Reshape - x_train_norm shape: {}\".format(x_train_norm.shape))\n",
    "print(\"Before Reshape - x_test_norm shape: {}\".format(x_test_norm.shape))\n",
    "\n",
    "x_train_reshaped=x_train_norm.reshape( -1, 28, 28, 1)  # 데이터 개수에 -1을 쓰면 reshape시 자동계산됩니다. \n",
    "x_test_reshaped=x_test_norm.reshape( -1, 28, 28, 1)\n",
    "\n",
    "print(\"After Reshape - x_train_reshaped shape: {}\".format(x_train_reshaped.shape))\n",
    "print(\"After Reshape - x_test_reshaped shape: {}\".format(x_test_reshaped.shape))"
   ]
  },
  {
   "cell_type": "code",
   "execution_count": 24,
   "metadata": {},
   "outputs": [
    {
     "name": "stdout",
     "output_type": "stream",
     "text": [
      "Epoch 1/10\n",
      "1875/1875 [==============================] - 5s 3ms/step - loss: 0.2110 - accuracy: 0.9358\n",
      "Epoch 2/10\n",
      "1875/1875 [==============================] - 5s 3ms/step - loss: 0.0680 - accuracy: 0.9791\n",
      "Epoch 3/10\n",
      "1875/1875 [==============================] - 5s 3ms/step - loss: 0.0489 - accuracy: 0.9852\n",
      "Epoch 4/10\n",
      "1875/1875 [==============================] - 5s 3ms/step - loss: 0.0397 - accuracy: 0.9872\n",
      "Epoch 5/10\n",
      "1875/1875 [==============================] - 5s 3ms/step - loss: 0.0318 - accuracy: 0.9896\n",
      "Epoch 6/10\n",
      "1875/1875 [==============================] - 5s 3ms/step - loss: 0.0270 - accuracy: 0.9914\n",
      "Epoch 7/10\n",
      "1875/1875 [==============================] - 5s 3ms/step - loss: 0.0226 - accuracy: 0.9927\n",
      "Epoch 8/10\n",
      "1875/1875 [==============================] - 5s 3ms/step - loss: 0.0182 - accuracy: 0.9938\n",
      "Epoch 9/10\n",
      "1875/1875 [==============================] - 5s 3ms/step - loss: 0.0167 - accuracy: 0.9947\n",
      "Epoch 10/10\n",
      "1875/1875 [==============================] - 6s 3ms/step - loss: 0.0129 - accuracy: 0.9959\n"
     ]
    },
    {
     "data": {
      "text/plain": [
       "<tensorflow.python.keras.callbacks.History at 0x7fa6cc7654d0>"
      ]
     },
     "execution_count": 24,
     "metadata": {},
     "output_type": "execute_result"
    }
   ],
   "source": [
    "model.compile(optimizer='adam',\n",
    "             loss='sparse_categorical_crossentropy',\n",
    "             metrics=['accuracy'])\n",
    "\n",
    "model.fit(x_train_reshaped, y_train, epochs=10)\n",
    "\n",
    "# x_train 학습 데이터로 딥러닝 네트워크 학습\n",
    "# epochs=10은 전체 60000개의 데이터를 10번 반복사용해서 학습"
   ]
  },
  {
   "cell_type": "markdown",
   "metadata": {},
   "source": [
    "- x_train 학습 데이터로 딥러닝 네트워크 학습\n",
    "- epochs=10은 전체 60000개의 데이터를 10번 반복사용해서 학습\n",
    "- 학습이 진행됨에 따라 epoch 별로 정확도(accuracy)가 올라가는지 확인 가능\n",
    "- 인식 정확도가 0.9459에서 0.9952까지 오름"
   ]
  },
  {
   "cell_type": "markdown",
   "metadata": {},
   "source": [
    "---"
   ]
  },
  {
   "cell_type": "markdown",
   "metadata": {},
   "source": [
    "**1-5. 테스트 데이터로 성능을 확인해 보자**"
   ]
  },
  {
   "cell_type": "markdown",
   "metadata": {},
   "source": [
    "**1) 테스트 데이터로 성능을 확인해 보자**"
   ]
  },
  {
   "cell_type": "markdown",
   "metadata": {},
   "source": [
    "- 위의 인식 정확도는 학습용 데이터(x_train)을 가지고 구한 것\n",
    "- 즉, 연습문제를 잘 푸는 인공지능을 만든 것임.\n",
    "- 우리가 만든 딥러닝 네트워크는 실제로도 잘 볼 수 있을 지 시험용 데이터(x_test)로 확인"
   ]
  },
  {
   "cell_type": "code",
   "execution_count": 25,
   "metadata": {},
   "outputs": [
    {
     "name": "stdout",
     "output_type": "stream",
     "text": [
      "313/313 - 0s - loss: 0.0387 - accuracy: 0.9890\n",
      "test_loss: 0.03870084881782532 \n",
      "test_accuracy: 0.9890000224113464\n"
     ]
    }
   ],
   "source": [
    "test_loss, test_accuracy = model.evaluate(x_test_reshaped,y_test, verbose=2)\n",
    "print(\"test_loss: {} \".format(test_loss))\n",
    "print(\"test_accuracy: {}\".format(test_accuracy))"
   ]
  },
  {
   "cell_type": "markdown",
   "metadata": {},
   "source": [
    "- 결과가 0.9965(테스트)에서 0.9903로 떨어짐\n",
    "- 위 MNIST 데이터셋 참고문헌을 보면 학습용과 시험용 데이터의 손글씨 주인이 다른 것을 확인 가능\n",
    "- 한 번도 본적이 없는 필체의 손글씨가 섞여 있을 가능성이 높음\n",
    "- 즉, 인식률이 떨어지는 것은 당연."
   ]
  },
  {
   "cell_type": "markdown",
   "metadata": {},
   "source": [
    "**2) 어떤 데이터를 잘못 추론했을까? 눈으로 확인해 보자**"
   ]
  },
  {
   "cell_type": "markdown",
   "metadata": {},
   "source": [
    "- model.evalute() 대신 model.predict()을 사용하면 \n",
    "- model이 입력값을 보고 실체로 추론한 확률분포 값을 출력\n",
    "- 우리가 만든 10개 중 어느 것일지에 대한 확률값을 출력하는 함수임.\n",
    "- 이 함수의 출력값(확률값이 가장 높은 숫자)이 model이 추론한 숫자."
   ]
  },
  {
   "cell_type": "code",
   "execution_count": 26,
   "metadata": {},
   "outputs": [
    {
     "name": "stdout",
     "output_type": "stream",
     "text": [
      "model.predict() 결과 :  [1.0216810e-09 9.2564359e-11 1.1735485e-08 1.1895921e-08 3.6100222e-12\n",
      " 4.0933368e-12 4.2479232e-15 1.0000000e+00 5.5680243e-09 1.4456789e-09]\n",
      "model이 추론한 가장 가능성이 높은 결과 :  7\n",
      "실제 데이터의 라벨 :  7\n"
     ]
    }
   ],
   "source": [
    "predicted_result = model.predict(x_test_reshaped)  # model이 추론한 확률값. \n",
    "predicted_labels = np.argmax(predicted_result, axis=1)\n",
    "\n",
    "idx=0  #1번째 x_test를 살펴보자. \n",
    "print('model.predict() 결과 : ', predicted_result[idx])\n",
    "print('model이 추론한 가장 가능성이 높은 결과 : ', predicted_labels[idx])\n",
    "print('실제 데이터의 라벨 : ', y_test[idx])"
   ]
  },
  {
   "cell_type": "markdown",
   "metadata": {},
   "source": [
    "- model.predict()의 결과가 벡터의 형태로 나옴.\n",
    "- 이 벡터는 model이 추론한 결과가 각 0,1, ... ,9일 확률을 의미.\n",
    "- model이 추론한 결과 7이 확률이 1.00 근접.\n",
    "- model은 입력한 이미지가 숫자 7을 확신하고 있음."
   ]
  },
  {
   "cell_type": "code",
   "execution_count": 27,
   "metadata": {},
   "outputs": [
    {
     "data": {
      "image/png": "[encoded data removed]",
      "text/plain": [
       "<Figure size 432x288 with 1 Axes>"
      ]
     },
     "metadata": {
      "needs_background": "light"
     },
     "output_type": "display_data"
    }
   ],
   "source": [
    "plt.imshow(x_test[idx],cmap=plt.cm.binary)\n",
    "plt.show()"
   ]
  },
  {
   "cell_type": "markdown",
   "metadata": {},
   "source": [
    "- model이 추론해 낸 숫자와 실제 라벨의 값이 다른 경우, 직접 확인 가능"
   ]
  },
  {
   "cell_type": "code",
   "execution_count": 28,
   "metadata": {},
   "outputs": [
    {
     "name": "stdout",
     "output_type": "stream",
     "text": [
      "예측확률분포: [1.5582980e-06 2.7578419e-01 2.4403180e-01 6.1650346e-03 1.1696022e-05\n",
      " 3.7529862e-08 3.4620719e-08 4.7374722e-01 2.4920702e-04 9.2468445e-06]\n",
      "라벨: 2, 예측결과: 7\n"
     ]
    },
    {
     "data": {
      "image/png": "[encoded data removed]",
      "text/plain": [
       "<Figure size 432x288 with 1 Axes>"
      ]
     },
     "metadata": {
      "needs_background": "light"
     },
     "output_type": "display_data"
    },
    {
     "name": "stdout",
     "output_type": "stream",
     "text": [
      "예측확률분포: [1.9993813e-06 8.1067575e-10 7.4079338e-07 9.5539108e-02 4.9599253e-12\n",
      " 4.1758147e-05 1.9211932e-08 8.8657373e-11 9.0441626e-01 1.0587342e-07]\n",
      "라벨: 3, 예측결과: 8\n"
     ]
    },
    {
     "data": {
      "image/png": "[encoded data removed]",
      "text/plain": [
       "<Figure size 432x288 with 1 Axes>"
      ]
     },
     "metadata": {
      "needs_background": "light"
     },
     "output_type": "display_data"
    },
    {
     "name": "stdout",
     "output_type": "stream",
     "text": [
      "예측확률분포: [1.9030566e-09 1.0684220e-06 1.2746279e-10 2.2491242e-06 4.9238223e-01\n",
      " 1.5249192e-06 5.0062514e-09 7.2095667e-05 2.7073853e-05 5.0751382e-01]\n",
      "라벨: 4, 예측결과: 9\n"
     ]
    },
    {
     "data": {
      "image/png": "[encoded data removed]",
      "text/plain": [
       "<Figure size 432x288 with 1 Axes>"
      ]
     },
     "metadata": {
      "needs_background": "light"
     },
     "output_type": "display_data"
    },
    {
     "name": "stdout",
     "output_type": "stream",
     "text": [
      "예측확률분포: [2.51786165e-08 5.07774644e-07 6.17743012e-08 4.10601884e-01\n",
      " 1.15392817e-04 3.85945559e-01 1.12968706e-07 1.77083268e-06\n",
      " 1.27846032e-01 7.54885897e-02]\n",
      "라벨: 9, 예측결과: 3\n"
     ]
    },
    {
     "data": {
      "image/png": "[encoded data removed]",
      "text/plain": [
       "<Figure size 432x288 with 1 Axes>"
      ]
     },
     "metadata": {
      "needs_background": "light"
     },
     "output_type": "display_data"
    },
    {
     "name": "stdout",
     "output_type": "stream",
     "text": [
      "예측확률분포: [7.2657144e-06 4.3725860e-05 9.6108863e-08 5.7245567e-12 5.5648041e-01\n",
      " 3.2672912e-07 4.4346774e-01 3.8678110e-08 2.3467437e-07 4.6261930e-10]\n",
      "라벨: 6, 예측결과: 4\n"
     ]
    },
    {
     "data": {
      "image/png": "[encoded data removed]",
      "text/plain": [
       "<Figure size 432x288 with 1 Axes>"
      ]
     },
     "metadata": {
      "needs_background": "light"
     },
     "output_type": "display_data"
    }
   ],
   "source": [
    "import random\n",
    "wrong_predict_list=[]\n",
    "for i, _ in enumerate(predicted_labels):\n",
    "    # i번째 test_labels과 y_test이 다른 경우만 모아 봅시다. \n",
    "    if predicted_labels[i] != y_test[i]:\n",
    "        wrong_predict_list.append(i)\n",
    "\n",
    "# wrong_predict_list 에서 랜덤하게 5개만 뽑아봅시다.\n",
    "samples = random.choices(population=wrong_predict_list, k=5)\n",
    "\n",
    "for n in samples:\n",
    "    print(\"예측확률분포: \" + str(predicted_result[n]))\n",
    "    print(\"라벨: \" + str(y_test[n]) + \", 예측결과: \" + str(predicted_labels[n]))\n",
    "    plt.imshow(x_test[n], cmap=plt.cm.binary)\n",
    "    plt.show()"
   ]
  },
  {
   "cell_type": "markdown",
   "metadata": {},
   "source": [
    "- 틀린 경우를 보면 model도 추론 결과에 대한 확신이 매우 낮고 혼란스러움.\n",
    "- model의 추론 결과를 시각화하여 살펴보는 것은 향후 model 성능 개선에 도움이 됨\n",
    "- 아이디어를 얻을 수 있는 방법 중 하나"
   ]
  },
  {
   "cell_type": "markdown",
   "metadata": {},
   "source": [
    "---"
   ]
  },
  {
   "cell_type": "markdown",
   "metadata": {},
   "source": [
    "**1-6. 더 좋은 네트워크 만들어 보기**"
   ]
  },
  {
   "cell_type": "markdown",
   "metadata": {},
   "source": [
    "- 하이퍼파라미터들을 바꾸어 인식률을 높일 수 있음.\n",
    "- Conv2D 레이어에서 입력 이미지의 특징 수를 늘리거나 줄임.\n",
    "- Dense 레이어에서 뉴런수를 바꾸어 보거나, 학습 반복 획수(epoch)를 변경."
   ]
  },
  {
   "cell_type": "code",
   "execution_count": 29,
   "metadata": {},
   "outputs": [
    {
     "name": "stdout",
     "output_type": "stream",
     "text": [
      "Model: \"sequential_2\"\n",
      "_________________________________________________________________\n",
      "Layer (type)                 Output Shape              Param #   \n",
      "=================================================================\n",
      "conv2d_4 (Conv2D)            (None, 26, 26, 16)        160       \n",
      "_________________________________________________________________\n",
      "max_pooling2d_4 (MaxPooling2 (None, 13, 13, 16)        0         \n",
      "_________________________________________________________________\n",
      "conv2d_5 (Conv2D)            (None, 11, 11, 32)        4640      \n",
      "_________________________________________________________________\n",
      "max_pooling2d_5 (MaxPooling2 (None, 5, 5, 32)          0         \n",
      "_________________________________________________________________\n",
      "flatten_2 (Flatten)          (None, 800)               0         \n",
      "_________________________________________________________________\n",
      "dense_4 (Dense)              (None, 32)                25632     \n",
      "_________________________________________________________________\n",
      "dense_5 (Dense)              (None, 10)                330       \n",
      "=================================================================\n",
      "Total params: 30,762\n",
      "Trainable params: 30,762\n",
      "Non-trainable params: 0\n",
      "_________________________________________________________________\n",
      "Epoch 1/10\n",
      "1875/1875 [==============================] - 6s 3ms/step - loss: 0.2128 - accuracy: 0.9359\n",
      "Epoch 2/10\n",
      "1875/1875 [==============================] - 6s 3ms/step - loss: 0.0713 - accuracy: 0.9778\n",
      "Epoch 3/10\n",
      "1875/1875 [==============================] - 5s 3ms/step - loss: 0.0519 - accuracy: 0.9843\n",
      "Epoch 4/10\n",
      "1875/1875 [==============================] - 5s 3ms/step - loss: 0.0393 - accuracy: 0.9879\n",
      "Epoch 5/10\n",
      "1875/1875 [==============================] - 5s 3ms/step - loss: 0.0325 - accuracy: 0.9897\n",
      "Epoch 6/10\n",
      "1875/1875 [==============================] - 5s 3ms/step - loss: 0.0265 - accuracy: 0.9915\n",
      "Epoch 7/10\n",
      "1875/1875 [==============================] - 5s 3ms/step - loss: 0.0219 - accuracy: 0.9928\n",
      "Epoch 8/10\n",
      "1875/1875 [==============================] - 5s 3ms/step - loss: 0.0187 - accuracy: 0.9938\n",
      "Epoch 9/10\n",
      "1875/1875 [==============================] - 5s 3ms/step - loss: 0.0161 - accuracy: 0.9945\n",
      "Epoch 10/10\n",
      "1875/1875 [==============================] - 5s 3ms/step - loss: 0.0141 - accuracy: 0.9956\n",
      "313/313 - 0s - loss: 0.0387 - accuracy: 0.9887\n",
      "test_loss: 0.0386507585644722 \n",
      "test_accuracy: 0.9886999726295471\n"
     ]
    }
   ],
   "source": [
    "#바꿔 볼 수 있는 하이퍼파라미터들\n",
    "n_channel_1=16\n",
    "n_channel_2=32\n",
    "n_dense=32\n",
    "n_train_epoch=10\n",
    "\n",
    "model=keras.models.Sequential()\n",
    "model.add(keras.layers.Conv2D(n_channel_1, (3,3), activation='relu', input_shape=(28,28,1)))\n",
    "model.add(keras.layers.MaxPool2D(2,2))\n",
    "model.add(keras.layers.Conv2D(n_channel_2, (3,3), activation='relu'))\n",
    "model.add(keras.layers.MaxPooling2D((2,2)))\n",
    "model.add(keras.layers.Flatten())\n",
    "model.add(keras.layers.Dense(n_dense, activation='relu'))\n",
    "model.add(keras.layers.Dense(10, activation='softmax'))\n",
    "\n",
    "model.summary()\n",
    "model.compile(optimizer='adam',\n",
    "             loss='sparse_categorical_crossentropy',\n",
    "             metrics=['accuracy'])\n",
    "\n",
    "# 모델 훈련\n",
    "model.fit(x_train_reshaped, y_train, epochs=n_train_epoch)\n",
    "\n",
    "# 모델 시험\n",
    "test_loss, test_accuracy = model.evaluate(x_test_reshaped, y_test, verbose=2)\n",
    "print(\"test_loss: {} \".format(test_loss))\n",
    "print(\"test_accuracy: {}\".format(test_accuracy))"
   ]
  },
  {
   "cell_type": "code",
   "execution_count": 30,
   "metadata": {},
   "outputs": [
    {
     "name": "stdout",
     "output_type": "stream",
     "text": [
      "Model: \"sequential_3\"\n",
      "_________________________________________________________________\n",
      "Layer (type)                 Output Shape              Param #   \n",
      "=================================================================\n",
      "conv2d_6 (Conv2D)            (None, 26, 26, 32)        320       \n",
      "_________________________________________________________________\n",
      "max_pooling2d_6 (MaxPooling2 (None, 13, 13, 32)        0         \n",
      "_________________________________________________________________\n",
      "conv2d_7 (Conv2D)            (None, 11, 11, 64)        18496     \n",
      "_________________________________________________________________\n",
      "max_pooling2d_7 (MaxPooling2 (None, 5, 5, 64)          0         \n",
      "_________________________________________________________________\n",
      "flatten_3 (Flatten)          (None, 1600)              0         \n",
      "_________________________________________________________________\n",
      "dense_6 (Dense)              (None, 64)                102464    \n",
      "_________________________________________________________________\n",
      "dense_7 (Dense)              (None, 10)                650       \n",
      "=================================================================\n",
      "Total params: 121,930\n",
      "Trainable params: 121,930\n",
      "Non-trainable params: 0\n",
      "_________________________________________________________________\n",
      "Epoch 1/20\n",
      "1875/1875 [==============================] - 9s 5ms/step - loss: 0.1392 - accuracy: 0.9577\n",
      "Epoch 2/20\n",
      "1875/1875 [==============================] - 9s 5ms/step - loss: 0.0502 - accuracy: 0.9847\n",
      "Epoch 3/20\n",
      "1875/1875 [==============================] - 9s 5ms/step - loss: 0.0348 - accuracy: 0.9889\n",
      "Epoch 4/20\n",
      "1875/1875 [==============================] - 9s 5ms/step - loss: 0.0259 - accuracy: 0.9916\n",
      "Epoch 5/20\n",
      "1875/1875 [==============================] - 9s 5ms/step - loss: 0.0192 - accuracy: 0.9938\n",
      "Epoch 6/20\n",
      "1875/1875 [==============================] - 9s 5ms/step - loss: 0.0150 - accuracy: 0.9950\n",
      "Epoch 7/20\n",
      "1875/1875 [==============================] - 9s 5ms/step - loss: 0.0120 - accuracy: 0.9960\n",
      "Epoch 8/20\n",
      "1875/1875 [==============================] - 9s 5ms/step - loss: 0.0096 - accuracy: 0.9966\n",
      "Epoch 9/20\n",
      "1875/1875 [==============================] - 9s 5ms/step - loss: 0.0071 - accuracy: 0.9976\n",
      "Epoch 10/20\n",
      "1875/1875 [==============================] - 9s 5ms/step - loss: 0.0082 - accuracy: 0.9972\n",
      "Epoch 11/20\n",
      "1875/1875 [==============================] - 9s 5ms/step - loss: 0.0075 - accuracy: 0.9973\n",
      "Epoch 12/20\n",
      "1875/1875 [==============================] - 9s 5ms/step - loss: 0.0049 - accuracy: 0.9983\n",
      "Epoch 13/20\n",
      "1875/1875 [==============================] - 9s 5ms/step - loss: 0.0060 - accuracy: 0.9980\n",
      "Epoch 14/20\n",
      "1875/1875 [==============================] - 9s 5ms/step - loss: 0.0046 - accuracy: 0.9985\n",
      "Epoch 15/20\n",
      "1875/1875 [==============================] - 9s 5ms/step - loss: 0.0042 - accuracy: 0.9984\n",
      "Epoch 16/20\n",
      "1875/1875 [==============================] - 9s 5ms/step - loss: 0.0049 - accuracy: 0.9984\n",
      "Epoch 17/20\n",
      "1875/1875 [==============================] - 9s 5ms/step - loss: 0.0041 - accuracy: 0.9986\n",
      "Epoch 18/20\n",
      "1875/1875 [==============================] - 9s 5ms/step - loss: 0.0036 - accuracy: 0.9987\n",
      "Epoch 19/20\n",
      "1875/1875 [==============================] - 9s 5ms/step - loss: 0.0037 - accuracy: 0.9988\n",
      "Epoch 20/20\n",
      "1875/1875 [==============================] - 9s 5ms/step - loss: 0.0033 - accuracy: 0.9989\n",
      "313/313 - 0s - loss: 0.0602 - accuracy: 0.9888\n",
      "test_loss: 0.06015651300549507 \n",
      "test_accuracy: 0.9887999892234802\n"
     ]
    }
   ],
   "source": [
    "#바꿔 볼 수 있는 하이퍼파라미터들 (실습 / 수치 바꿔보기)\n",
    "n_channel_1=32     # 16 -> 32\n",
    "n_channel_2=64     # 32 -> 64\n",
    "n_dense=64         # 32 -> 64\n",
    "n_train_epoch=20   # 10 -> 20\n",
    "\n",
    "model=keras.models.Sequential()\n",
    "model.add(keras.layers.Conv2D(n_channel_1, (3,3), activation='relu', input_shape=(28,28,1)))\n",
    "model.add(keras.layers.MaxPool2D(2,2))\n",
    "model.add(keras.layers.Conv2D(n_channel_2, (3,3), activation='relu'))\n",
    "model.add(keras.layers.MaxPooling2D((2,2)))\n",
    "model.add(keras.layers.Flatten())\n",
    "model.add(keras.layers.Dense(n_dense, activation='relu'))\n",
    "model.add(keras.layers.Dense(10, activation='softmax'))\n",
    "\n",
    "model.summary()\n",
    "model.compile(optimizer='adam',\n",
    "             loss='sparse_categorical_crossentropy',\n",
    "             metrics=['accuracy'])\n",
    "\n",
    "# 모델 훈련\n",
    "model.fit(x_train_reshaped, y_train, epochs=n_train_epoch)\n",
    "\n",
    "# 모델 시험\n",
    "test_loss, test_accuracy = model.evaluate(x_test_reshaped, y_test, verbose=2)\n",
    "print(\"test_loss: {} \".format(test_loss))\n",
    "print(\"test_accuracy: {}\".format(test_accuracy))"
   ]
  },
  {
   "cell_type": "markdown",
   "metadata": {},
   "source": [
    "- loss: 라벨에서 예측값을 빼고 어떠한 연산값이 나온 것\n",
    "- loss가 적을 수록 예측과 비슷하다\n",
    "- loss를 줄이는 것이 목표."
   ]
  },
  {
   "cell_type": "markdown",
   "metadata": {},
   "source": [
    "---"
   ]
  },
  {
   "cell_type": "markdown",
   "metadata": {},
   "source": [
    "**1-7. 프로젝트: 가위바위보 분류기 만들기**"
   ]
  },
  {
   "cell_type": "markdown",
   "metadata": {},
   "source": [
    "**1) 데이터 준비, 만들기**"
   ]
  },
  {
   "cell_type": "markdown",
   "metadata": {},
   "source": [
    "***리눅스 터미널** \n",
    "\n",
    "- mkdir -p ~/aiffel/rock_scissor_paper/scissor\n",
    "- mkdir -p ~/aiffel/rock_scissor_paper/rock\n",
    "- mkdir -p ~/aiffel/rock_scissor_paper/paper\n",
    "- ls -l ~/aiffel/rock_scissor_paper\n",
    "\n",
    "\n",
    "- mkdir -p : mkdir를 사용하여 하위 디렉토리를 생성할때   \n",
    "    차례대로 만들지 않고 중간 디렉토리 없이 바로 그 다음   \n",
    "    하위 디렉토리를 만들게되면 \"디렉토리를 생성할 수 없습니다.\"   \n",
    "    라는 메시지가 나오는데, -p 옵션을 주어 생성하게 되면   \n",
    "    자동으로 중간 단계의 디렉토리를 생성하면서 그 하위 디렉토리를 \n",
    "    생성하게 됩니다.  \n",
    "\n"
   ]
  },
  {
   "cell_type": "code",
   "execution_count": 31,
   "metadata": {},
   "outputs": [
    {
     "data": {
      "text/plain": [
       "(28, 28, 3)"
      ]
     },
     "execution_count": 31,
     "metadata": {},
     "output_type": "execute_result"
    }
   ],
   "source": [
    "from PIL import Image\n",
    "\n",
    "pil_image = Image.open('aiffel/rock_scissor_paper/paper/80.jpg')\n",
    "\n",
    "img = np.array(pil_image)\n",
    "img.shape\n",
    "\n",
    "# paper 디렉터리에 있는 파일 '80.jpg'의 크기를 알아봄."
   ]
  },
  {
   "cell_type": "markdown",
   "metadata": {},
   "source": [
    "**2) 데이터 불러오기 + Resize 하기**"
   ]
  },
  {
   "cell_type": "markdown",
   "metadata": {},
   "source": [
    "- 224x224 => 28x28 로 이미지 크기 바꾸기\n",
    "- PIL 라이브러리 사용 예정"
   ]
  },
  {
   "cell_type": "code",
   "execution_count": 32,
   "metadata": {},
   "outputs": [
    {
     "name": "stdout",
     "output_type": "stream",
     "text": [
      "Requirement already satisfied: pillow in ./anaconda3/lib/python3.7/site-packages (7.0.0)\n",
      "PIL 라이브러리 import 완료!\n"
     ]
    }
   ],
   "source": [
    "# PIL 라이브러리가 설치되어 있지 않다면 설치\n",
    "!pip install pillow   \n",
    "\n",
    "from PIL import Image\n",
    "import os, glob\n",
    "\n",
    "print(\"PIL 라이브러리 import 완료!\")"
   ]
  },
  {
   "cell_type": "code",
   "execution_count": 33,
   "metadata": {},
   "outputs": [
    {
     "name": "stdout",
     "output_type": "stream",
     "text": [
      "이미지 디렉토리 경로:  /home/aiffel0042/aiffel/rock_scissor_paper/scissor\n",
      "가위 이미지 resize 완료!\n"
     ]
    }
   ],
   "source": [
    "import os\n",
    "# 가위 이미지가 저장된 디렉토리 아래의 모든 jpg 파일을 읽어들여서\n",
    "\n",
    "image_dir_path = os.getenv(\"HOME\") + \"/aiffel/rock_scissor_paper/scissor\"\n",
    "print(\"이미지 디렉토리 경로: \", image_dir_path)\n",
    "\n",
    "images=glob.glob(image_dir_path + \"/*.jpg\")  \n",
    "\n",
    "# 파일마다 모두 28x28 사이즈로 바꾸어 저장합니다.\n",
    "target_size=(28,28)\n",
    "for img in images:\n",
    "    old_img=Image.open(img)\n",
    "    new_img=old_img.resize(target_size,Image.ANTIALIAS)\n",
    "    new_img.save(img,\"JPEG\")\n",
    "\n",
    "print(\"가위 이미지 resize 완료!\")"
   ]
  },
  {
   "cell_type": "code",
   "execution_count": 34,
   "metadata": {},
   "outputs": [
    {
     "name": "stdout",
     "output_type": "stream",
     "text": [
      "이미지 디렉토리 경로:  /home/aiffel0042/aiffel/rock_scissor_paper/rock\n",
      "바위 이미지 resize 완료!\n"
     ]
    }
   ],
   "source": [
    "import os\n",
    "# 바위 이미지가 저장된 디렉토리 아래의 모든 jpg 파일을 읽어들여서\n",
    "\n",
    "image_dir_path = os.getenv(\"HOME\") + \"/aiffel/rock_scissor_paper/rock\"\n",
    "print(\"이미지 디렉토리 경로: \", image_dir_path)\n",
    "\n",
    "images=glob.glob(image_dir_path + \"/*.jpg\")  \n",
    "\n",
    "# 파일마다 모두 28x28 사이즈로 바꾸어 저장합니다.\n",
    "target_size=(28,28)\n",
    "for img in images:\n",
    "    old_img=Image.open(img)\n",
    "    new_img=old_img.resize(target_size,Image.ANTIALIAS)\n",
    "    new_img.save(img,\"JPEG\")\n",
    "\n",
    "print(\"바위 이미지 resize 완료!\")"
   ]
  },
  {
   "cell_type": "code",
   "execution_count": 35,
   "metadata": {},
   "outputs": [
    {
     "name": "stdout",
     "output_type": "stream",
     "text": [
      "이미지 디렉토리 경로:  /home/aiffel0042/aiffel/rock_scissor_paper/paper\n",
      "보 이미지 resize 완료!\n"
     ]
    }
   ],
   "source": [
    "import os\n",
    "# 보 이미지가 저장된 디렉토리 아래의 모든 jpg 파일을 읽어들여서\n",
    "\n",
    "image_dir_path = os.getenv(\"HOME\") + \"/aiffel/rock_scissor_paper/paper\"\n",
    "print(\"이미지 디렉토리 경로: \", image_dir_path)\n",
    "\n",
    "images=glob.glob(image_dir_path + \"/*.jpg\")  \n",
    "\n",
    "# 파일마다 모두 28x28 사이즈로 바꾸어 저장합니다.\n",
    "target_size=(28,28)\n",
    "for img in images:\n",
    "    old_img=Image.open(img)\n",
    "    new_img=old_img.resize(target_size,Image.ANTIALIAS)\n",
    "    new_img.save(img,\"JPEG\")\n",
    "\n",
    "print(\"보 이미지 resize 완료!\")"
   ]
  },
  {
   "cell_type": "code",
   "execution_count": 36,
   "metadata": {},
   "outputs": [],
   "source": [
    "import glob"
   ]
  },
  {
   "cell_type": "markdown",
   "metadata": {},
   "source": [
    "- load_data(): 입력으로 이미지가 있는 폴더 위치를 받음.\n",
    "- 여기서 rock_scissor_papper 폴더 위치를 적어줌.\n",
    "- 숫자 손글씨는 0~9까지 클라스가 있었으니 \n",
    "- 가위바뷔보는 3개의 클래스 => 가위:0, 바위:1, 보:2 로 라벨링"
   ]
  },
  {
   "cell_type": "code",
   "execution_count": 37,
   "metadata": {
    "scrolled": true
   },
   "outputs": [
    {
     "name": "stdout",
     "output_type": "stream",
     "text": [
      "학습데이터(x_train)의 이미지 개수는 1789 입니다.\n",
      "x_train shape: (1789, 28, 28, 3)\n",
      "y_train shape: (1789,)\n"
     ]
    }
   ],
   "source": [
    "def load_data(img_path):\n",
    "    # 가위 : 0, 바위 : 1, 보 : 2\n",
    "    number_of_data=1789   # 가위바위보 이미지 개수 총합에 주의하세요.\n",
    "    img_size=28\n",
    "    color=3\n",
    "    #이미지 데이터와 라벨(가위 : 0, 바위 : 1, 보 : 2) 데이터를 담을 행렬(matrix) 영역을 생성합니다.\n",
    "    imgs=np.zeros(number_of_data*img_size*img_size*color,dtype=np.int32).reshape(number_of_data,img_size,img_size,color)\n",
    "    labels=np.zeros(number_of_data,dtype=np.int32)\n",
    "\n",
    "    idx=0\n",
    "    for file in glob.iglob(img_path+'/scissor/*.jpg'):\n",
    "        img = np.array(Image.open(file),dtype=np.int32)\n",
    "        imgs[idx,:,:,:]=img    # 데이터 영역에 이미지 행렬을 복사\n",
    "        labels[idx]=0   # 가위 : 0\n",
    "        idx=idx+1\n",
    "\n",
    "    for file in glob.iglob(img_path+'/rock/*.jpg'):\n",
    "        img = np.array(Image.open(file),dtype=np.int32)\n",
    "        imgs[idx,:,:,:]=img    # 데이터 영역에 이미지 행렬을 복사\n",
    "        labels[idx]=1   # 바위 : 1\n",
    "        idx=idx+1       \n",
    "    \n",
    "    for file in glob.iglob(img_path+'/paper/*.jpg'):\n",
    "        img = np.array(Image.open(file),dtype=np.int32)\n",
    "        imgs[idx,:,:,:]=img    # 데이터 영역에 이미지 행렬을 복사\n",
    "        labels[idx]=2   # 보 : 2\n",
    "        idx=idx+1\n",
    "        \n",
    "    print(\"학습데이터(x_train)의 이미지 개수는\",idx,\"입니다.\")\n",
    "    return imgs, labels\n",
    "\n",
    "image_dir_path = os.getenv(\"HOME\") + \"/aiffel/rock_scissor_paper\"\n",
    "(x_train, y_train)=load_data(image_dir_path)\n",
    "x_train_norm = x_train/255.0   # 입력은 0~1 사이의 값으로 정규화\n",
    "\n",
    "print(\"x_train shape: {}\".format(x_train.shape))\n",
    "print(\"y_train shape: {}\".format(y_train.shape))"
   ]
  },
  {
   "cell_type": "code",
   "execution_count": 38,
   "metadata": {},
   "outputs": [
    {
     "name": "stdout",
     "output_type": "stream",
     "text": [
      "라벨:  0\n"
     ]
    },
    {
     "data": {
      "image/png": "[encoded data removed]",
      "text/plain": [
       "<Figure size 432x288 with 1 Axes>"
      ]
     },
     "metadata": {
      "needs_background": "light"
     },
     "output_type": "display_data"
    }
   ],
   "source": [
    "import matplotlib.pyplot as plt\n",
    "plt.imshow(x_train[0])\n",
    "print('라벨: ', y_train[0])"
   ]
  },
  {
   "cell_type": "markdown",
   "metadata": {},
   "source": [
    "**3) 딥러닝 네트워크 설계하기**"
   ]
  },
  {
   "cell_type": "markdown",
   "metadata": {},
   "source": [
    "- 실전 연습"
   ]
  },
  {
   "cell_type": "code",
   "execution_count": 39,
   "metadata": {},
   "outputs": [
    {
     "name": "stdout",
     "output_type": "stream",
     "text": [
      "Model: \"sequential_4\"\n",
      "_________________________________________________________________\n",
      "Layer (type)                 Output Shape              Param #   \n",
      "=================================================================\n",
      "conv2d_8 (Conv2D)            (None, 26, 26, 32)        896       \n",
      "_________________________________________________________________\n",
      "max_pooling2d_8 (MaxPooling2 (None, 13, 13, 32)        0         \n",
      "_________________________________________________________________\n",
      "conv2d_9 (Conv2D)            (None, 11, 11, 64)        18496     \n",
      "_________________________________________________________________\n",
      "max_pooling2d_9 (MaxPooling2 (None, 5, 5, 64)          0         \n",
      "_________________________________________________________________\n",
      "dropout_1 (Dropout)          (None, 5, 5, 64)          0         \n",
      "_________________________________________________________________\n",
      "flatten_4 (Flatten)          (None, 1600)              0         \n",
      "_________________________________________________________________\n",
      "dense_8 (Dense)              (None, 64)                102464    \n",
      "_________________________________________________________________\n",
      "dense_9 (Dense)              (None, 20)                1300      \n",
      "=================================================================\n",
      "Total params: 123,156\n",
      "Trainable params: 123,156\n",
      "Non-trainable params: 0\n",
      "_________________________________________________________________\n"
     ]
    }
   ],
   "source": [
    "import tensorflow as tf\n",
    "from tensorflow import keras\n",
    "import numpy as np\n",
    "\n",
    "model=keras.models.Sequential()\n",
    "model.add(keras.layers.Conv2D(32, (3,3), activation='relu', input_shape=(28,28,3)))\n",
    "\n",
    "model.add(keras.layers.MaxPool2D(2,2))\n",
    "model.add(keras.layers.Conv2D(64, (3,3), activation='relu'))\n",
    "\n",
    "model.add(keras.layers.MaxPooling2D((2,2)))\n",
    "model.add(keras.layers.Dropout(0.5))                      # 몇개의 뉴련을 인위적으로 줄여주고 과도한 학습을 막아줌!\n",
    "model.add(keras.layers.Flatten())\n",
    "model.add(keras.layers.Dense(64, activation='relu'))\n",
    "\n",
    "model.add(keras.layers.Dense(20, activation='softmax'))\n",
    "\n",
    "\n",
    "model.summary()"
   ]
  },
  {
   "cell_type": "markdown",
   "metadata": {},
   "source": [
    "**4) 딥러닝 네트워크 학습시키기**"
   ]
  },
  {
   "cell_type": "code",
   "execution_count": 40,
   "metadata": {},
   "outputs": [
    {
     "name": "stdout",
     "output_type": "stream",
     "text": [
      "Epoch 1/10\n",
      "56/56 [==============================] - 0s 5ms/step - loss: 5.5704 - accuracy: 0.3605\n",
      "Epoch 2/10\n",
      "56/56 [==============================] - 0s 4ms/step - loss: 1.1209 - accuracy: 0.4287\n",
      "Epoch 3/10\n",
      "56/56 [==============================] - 0s 4ms/step - loss: 0.9821 - accuracy: 0.5467\n",
      "Epoch 4/10\n",
      "56/56 [==============================] - 0s 5ms/step - loss: 0.9451 - accuracy: 0.5830\n",
      "Epoch 5/10\n",
      "56/56 [==============================] - 0s 4ms/step - loss: 0.8657 - accuracy: 0.6048\n",
      "Epoch 6/10\n",
      "56/56 [==============================] - 0s 5ms/step - loss: 0.8364 - accuracy: 0.6378\n",
      "Epoch 7/10\n",
      "56/56 [==============================] - 0s 4ms/step - loss: 0.8518 - accuracy: 0.6288\n",
      "Epoch 8/10\n",
      "56/56 [==============================] - 0s 4ms/step - loss: 0.8303 - accuracy: 0.6417\n",
      "Epoch 9/10\n",
      "56/56 [==============================] - 0s 4ms/step - loss: 0.7317 - accuracy: 0.6914\n",
      "Epoch 10/10\n",
      "56/56 [==============================] - 0s 4ms/step - loss: 0.8057 - accuracy: 0.6451\n"
     ]
    },
    {
     "data": {
      "text/plain": [
       "<tensorflow.python.keras.callbacks.History at 0x7fa6a45e0610>"
      ]
     },
     "execution_count": 40,
     "metadata": {},
     "output_type": "execute_result"
    }
   ],
   "source": [
    "# Hint! model.compile()과 model.fit()을 사용\n",
    "\n",
    "model.compile(optimizer='adam',\n",
    "             loss='sparse_categorical_crossentropy',\n",
    "             metrics=['accuracy'])\n",
    "\n",
    "model.fit(x_train, y_train, epochs=10)"
   ]
  },
  {
   "cell_type": "markdown",
   "metadata": {},
   "source": [
    "**5) 얼마나 잘 만들었는지 확인하기(테스트)**"
   ]
  },
  {
   "cell_type": "markdown",
   "metadata": {},
   "source": [
    "**<데이터 합치기 코드>**"
   ]
  },
  {
   "cell_type": "code",
   "execution_count": 41,
   "metadata": {},
   "outputs": [],
   "source": [
    "import os\n",
    "from glob import glob\n",
    "import shutil\n",
    "from tqdm.notebook import tqdm"
   ]
  },
  {
   "cell_type": "code",
   "execution_count": 42,
   "metadata": {},
   "outputs": [
    {
     "data": {
      "text/plain": [
       "['paper', 'scissor', 'rock']"
      ]
     },
     "execution_count": 42,
     "metadata": {},
     "output_type": "execute_result"
    }
   ],
   "source": [
    "os.listdir('aiffel/rock_scissor_paper/')"
   ]
  },
  {
   "cell_type": "markdown",
   "metadata": {},
   "source": [
    "**저장시킬 경로**"
   ]
  },
  {
   "cell_type": "code",
   "execution_count": 43,
   "metadata": {},
   "outputs": [],
   "source": [
    "target_sci_path = 'aiffel/rock_scissor_paper/scissor/'\n",
    "target_rock_path = 'aiffel/rock_scissor_paper/rock/'\n",
    "target_papaer_path = 'aiffel/rock_scissor_paper/paper/'"
   ]
  },
  {
   "cell_type": "code",
   "execution_count": 44,
   "metadata": {},
   "outputs": [
    {
     "data": {
      "text/plain": [
       "552"
      ]
     },
     "execution_count": 44,
     "metadata": {},
     "output_type": "execute_result"
    }
   ],
   "source": [
    "start_idx = len(glob('aiffel/rock_scissor_paper/scissor/*.jpg'))\n",
    "start_idx"
   ]
  },
  {
   "cell_type": "markdown",
   "metadata": {},
   "source": [
    "**옮겨야 할 파일들의 경로**"
   ]
  },
  {
   "cell_type": "code",
   "execution_count": 45,
   "metadata": {},
   "outputs": [],
   "source": [
    "Lee_papers = glob('aiffel/rock_scissor_paper_Lee/paper/*.jpg')\n",
    "Lee_scissors = glob('aiffel/rock_scissor_paper_Lee/scissor/*.jpg')\n",
    "Lee_rock = glob('aiffel/rock_scissor_paper_Lee/rock/*.jpg')\n",
    "Jung_papers = glob('aiffel/rock_scissor_paper_Jung/paper/*jpg')\n",
    "Jung_scissors = glob('aiffel/rock_scissor_paper_Jung/scissor/*jpg')\n",
    "Jung_rock = glob('aiffel/rock_scissor_paper_Jung/rock/*jpg')\n",
    "Kim_papers = glob('aiffel/rock_scissor_paper_Kim/paper/*.jpg')\n",
    "Kim_scissors = glob('aiffel/rock_scissor_paper_Kim/scissor/*.jpg')\n",
    "Kim_rock =glob('aiffel/rock_scissor_paper_Kim/rock/*.jpg')"
   ]
  },
  {
   "cell_type": "markdown",
   "metadata": {},
   "source": [
    "**Lee data**"
   ]
  },
  {
   "cell_type": "code",
   "execution_count": 46,
   "metadata": {},
   "outputs": [
    {
     "data": {
      "application/vnd.jupyter.widget-view+json": {
       "model_id": "1eac79509f82481dab1d925df22e0396",
       "version_major": 2,
       "version_minor": 0
      },
      "text/plain": [
       "HBox(children=(FloatProgress(value=1.0, bar_style='info', max=1.0), HTML(value='')))"
      ]
     },
     "metadata": {},
     "output_type": "display_data"
    },
    {
     "name": "stdout",
     "output_type": "stream",
     "text": [
      "\n"
     ]
    }
   ],
   "source": [
    "start_idx = len(glob('aiffel/rock_scissor_paper/paper/*.jpg'))\n",
    "for i in tqdm(range(len(Lee_papers))) :                         # tqdm 은 진행도를 확인하기 위해서 사용\n",
    "    file_name = str(i+start_idx) + \".jpg\"\n",
    "    shutil.move(Lee_papers[i], target_papaer_path+file_name)    # shutil.move 를 사용해서 target_path의 경로로 파일을 rename하면서 이동시킨다"
   ]
  },
  {
   "cell_type": "code",
   "execution_count": 47,
   "metadata": {},
   "outputs": [
    {
     "data": {
      "application/vnd.jupyter.widget-view+json": {
       "model_id": "9ce5e91a7203436cb9b114fdf61b8f29",
       "version_major": 2,
       "version_minor": 0
      },
      "text/plain": [
       "HBox(children=(FloatProgress(value=1.0, bar_style='info', max=1.0), HTML(value='')))"
      ]
     },
     "metadata": {},
     "output_type": "display_data"
    },
    {
     "name": "stdout",
     "output_type": "stream",
     "text": [
      "\n"
     ]
    }
   ],
   "source": [
    "start_idx = len(glob('aiffel/rock_scissor_paper/scissor/*.jpg'))\n",
    "for i in tqdm(range(len(Lee_scissors))) :\n",
    "    file_name = str(i+start_idx) + \".jpg\"\n",
    "    shutil.move(Lee_scissors[i], target_sci_path+file_name)"
   ]
  },
  {
   "cell_type": "code",
   "execution_count": 48,
   "metadata": {},
   "outputs": [
    {
     "data": {
      "application/vnd.jupyter.widget-view+json": {
       "model_id": "5f39ad00017d4963a78f4f57ef1b00da",
       "version_major": 2,
       "version_minor": 0
      },
      "text/plain": [
       "HBox(children=(FloatProgress(value=1.0, bar_style='info', max=1.0), HTML(value='')))"
      ]
     },
     "metadata": {},
     "output_type": "display_data"
    },
    {
     "name": "stdout",
     "output_type": "stream",
     "text": [
      "\n"
     ]
    }
   ],
   "source": [
    "start_idx = len(glob('aiffel/rock_scissor_paper/rock/*.jpg'))\n",
    "for i in tqdm(range(len(Lee_rock))) :\n",
    "    file_name = str(i+start_idx) + \".jpg\"\n",
    "    shutil.move(Lee_rock[i], target_rock_path+file_name)"
   ]
  },
  {
   "cell_type": "markdown",
   "metadata": {},
   "source": [
    "**Kim data**"
   ]
  },
  {
   "cell_type": "code",
   "execution_count": 49,
   "metadata": {},
   "outputs": [
    {
     "data": {
      "application/vnd.jupyter.widget-view+json": {
       "model_id": "a3e9aef2983d45648e52fc1721b0bd18",
       "version_major": 2,
       "version_minor": 0
      },
      "text/plain": [
       "HBox(children=(FloatProgress(value=1.0, bar_style='info', max=1.0), HTML(value='')))"
      ]
     },
     "metadata": {},
     "output_type": "display_data"
    },
    {
     "name": "stdout",
     "output_type": "stream",
     "text": [
      "\n"
     ]
    }
   ],
   "source": [
    "start_idx = len(glob('aiffel/rock_scissor_paper/paper/*.jpg'))\n",
    "for i in tqdm(range(len(Kim_papers))) :\n",
    "    file_name = str(i+start_idx) + \".jpg\"\n",
    "    shutil.move(Kim_papers[i], target_papaer_path+file_name)"
   ]
  },
  {
   "cell_type": "code",
   "execution_count": 50,
   "metadata": {},
   "outputs": [
    {
     "data": {
      "application/vnd.jupyter.widget-view+json": {
       "model_id": "4ba472d42b1241e6a0f99dd370780f18",
       "version_major": 2,
       "version_minor": 0
      },
      "text/plain": [
       "HBox(children=(FloatProgress(value=1.0, bar_style='info', max=1.0), HTML(value='')))"
      ]
     },
     "metadata": {},
     "output_type": "display_data"
    },
    {
     "name": "stdout",
     "output_type": "stream",
     "text": [
      "\n"
     ]
    }
   ],
   "source": [
    "start_idx = len(glob('aiffel/rock_scissor_paper/scissor/*.jpg'))\n",
    "for i in tqdm(range(len(Kim_scissors))) :\n",
    "    file_name = str(i+start_idx) + \".jpg\"\n",
    "    shutil.move(Kim_scissors[i], target_sci_path+file_name)"
   ]
  },
  {
   "cell_type": "code",
   "execution_count": 51,
   "metadata": {},
   "outputs": [
    {
     "data": {
      "application/vnd.jupyter.widget-view+json": {
       "model_id": "6183d5b230e24d74baebfc67c4d166c8",
       "version_major": 2,
       "version_minor": 0
      },
      "text/plain": [
       "HBox(children=(FloatProgress(value=1.0, bar_style='info', max=1.0), HTML(value='')))"
      ]
     },
     "metadata": {},
     "output_type": "display_data"
    },
    {
     "name": "stdout",
     "output_type": "stream",
     "text": [
      "\n"
     ]
    }
   ],
   "source": [
    "start_idx = len(glob('aiffel/rock_scissor_paper/rock/*.jpg'))\n",
    "for i in tqdm(range(len(Kim_rock))) :\n",
    "    file_name = str(i+start_idx) + \".jpg\"\n",
    "    shutil.move(Kim_rock[i], target_rock_path+file_name)"
   ]
  },
  {
   "cell_type": "markdown",
   "metadata": {},
   "source": [
    "**Jung data**"
   ]
  },
  {
   "cell_type": "code",
   "execution_count": 52,
   "metadata": {},
   "outputs": [
    {
     "data": {
      "application/vnd.jupyter.widget-view+json": {
       "model_id": "439df278ba654ffca127313e3a16d276",
       "version_major": 2,
       "version_minor": 0
      },
      "text/plain": [
       "HBox(children=(FloatProgress(value=1.0, bar_style='info', max=1.0), HTML(value='')))"
      ]
     },
     "metadata": {},
     "output_type": "display_data"
    },
    {
     "name": "stdout",
     "output_type": "stream",
     "text": [
      "\n"
     ]
    }
   ],
   "source": [
    "start_idx = len(glob('aiffel/rock_scissor_paper/paper/*.jpg'))\n",
    "for i in tqdm(range(len(Jung_papers))) :\n",
    "    file_name = str(i+start_idx) + \".jpg\"\n",
    "    shutil.move(Jung_papers[i], target_papaer_path+file_name)"
   ]
  },
  {
   "cell_type": "code",
   "execution_count": 53,
   "metadata": {},
   "outputs": [
    {
     "data": {
      "application/vnd.jupyter.widget-view+json": {
       "model_id": "37e7217b15dc41e1ab88396fb8a433ae",
       "version_major": 2,
       "version_minor": 0
      },
      "text/plain": [
       "HBox(children=(FloatProgress(value=1.0, bar_style='info', max=1.0), HTML(value='')))"
      ]
     },
     "metadata": {},
     "output_type": "display_data"
    },
    {
     "name": "stdout",
     "output_type": "stream",
     "text": [
      "\n"
     ]
    }
   ],
   "source": [
    "start_idx = len(glob('aiffel/rock_scissor_paper/scissor/*.jpg'))\n",
    "for i in tqdm(range(len(Jung_scissors))) :\n",
    "    file_name = str(i+start_idx) + \".jpg\"\n",
    "    shutil.move(Jung_scissors[i], target_sci_path+file_name)"
   ]
  },
  {
   "cell_type": "code",
   "execution_count": 54,
   "metadata": {
    "scrolled": false
   },
   "outputs": [
    {
     "data": {
      "application/vnd.jupyter.widget-view+json": {
       "model_id": "acde55e82d5745a1a5bae619b3d2b1c6",
       "version_major": 2,
       "version_minor": 0
      },
      "text/plain": [
       "HBox(children=(FloatProgress(value=1.0, bar_style='info', max=1.0), HTML(value='')))"
      ]
     },
     "metadata": {},
     "output_type": "display_data"
    },
    {
     "name": "stdout",
     "output_type": "stream",
     "text": [
      "\n"
     ]
    }
   ],
   "source": [
    "start_idx = len(glob('aiffel/rock_scissor_paper/rock/*.jpg'))\n",
    "for i in tqdm(range(len(Jung_rock))) :\n",
    "    file_name = str(i+start_idx) + \".jpg\"\n",
    "    shutil.move(Jung_rock[i], target_rock_path+file_name)"
   ]
  },
  {
   "cell_type": "markdown",
   "metadata": {},
   "source": [
    "**파일을 이동시킨 후 각 경로의 파일 개수 확인**"
   ]
  },
  {
   "cell_type": "code",
   "execution_count": 55,
   "metadata": {},
   "outputs": [
    {
     "name": "stdout",
     "output_type": "stream",
     "text": [
      "638 552 599 1789\n"
     ]
    }
   ],
   "source": [
    "paper_len = len(glob('aiffel/rock_scissor_paper/paper/*.jpg'))\n",
    "sci_len = len(glob('aiffel/rock_scissor_paper/scissor/*.jpg'))\n",
    "rock_len = len(glob('aiffel/rock_scissor_paper/rock/*.jpg'))\n",
    "\n",
    "print(paper_len, sci_len, rock_len, paper_len+sci_len+rock_len)"
   ]
  },
  {
   "cell_type": "markdown",
   "metadata": {},
   "source": [
    "**x, y train data를 80%, test data를 20% 분할**"
   ]
  },
  {
   "cell_type": "code",
   "execution_count": 56,
   "metadata": {},
   "outputs": [
    {
     "name": "stdout",
     "output_type": "stream",
     "text": [
      "1431 train + 358 test\n"
     ]
    }
   ],
   "source": [
    "from sklearn.model_selection import train_test_split\n",
    "\n",
    "\n",
    "train_set, x_test = train_test_split(x_train, test_size=0.2, random_state=42)\n",
    "print(len(train_set), \"train +\", len(x_test), \"test\")"
   ]
  },
  {
   "cell_type": "code",
   "execution_count": 57,
   "metadata": {},
   "outputs": [
    {
     "name": "stdout",
     "output_type": "stream",
     "text": [
      "1431 train + 358 test\n"
     ]
    }
   ],
   "source": [
    "from sklearn.model_selection import train_test_split\n",
    "\n",
    "\n",
    "train_set1, y_test = train_test_split(y_train, test_size=0.2, random_state=42)\n",
    "print(len(train_set1), \"train +\", len(y_test), \"test\")\n"
   ]
  },
  {
   "cell_type": "markdown",
   "metadata": {},
   "source": [
    "# 학습시킨 모델을 테스트 진행"
   ]
  },
  {
   "cell_type": "markdown",
   "metadata": {},
   "source": [
    "**<Deep learning Model 설계>**"
   ]
  },
  {
   "cell_type": "code",
   "execution_count": 58,
   "metadata": {},
   "outputs": [
    {
     "name": "stdout",
     "output_type": "stream",
     "text": [
      "Model: \"sequential_5\"\n",
      "_________________________________________________________________\n",
      "Layer (type)                 Output Shape              Param #   \n",
      "=================================================================\n",
      "conv2d_10 (Conv2D)           (None, 26, 26, 32)        896       \n",
      "_________________________________________________________________\n",
      "max_pooling2d_10 (MaxPooling (None, 13, 13, 32)        0         \n",
      "_________________________________________________________________\n",
      "conv2d_11 (Conv2D)           (None, 11, 11, 64)        18496     \n",
      "_________________________________________________________________\n",
      "max_pooling2d_11 (MaxPooling (None, 5, 5, 64)          0         \n",
      "_________________________________________________________________\n",
      "dropout_2 (Dropout)          (None, 5, 5, 64)          0         \n",
      "_________________________________________________________________\n",
      "flatten_5 (Flatten)          (None, 1600)              0         \n",
      "_________________________________________________________________\n",
      "dense_10 (Dense)             (None, 64)                102464    \n",
      "_________________________________________________________________\n",
      "dense_11 (Dense)             (None, 20)                1300      \n",
      "=================================================================\n",
      "Total params: 123,156\n",
      "Trainable params: 123,156\n",
      "Non-trainable params: 0\n",
      "_________________________________________________________________\n"
     ]
    }
   ],
   "source": [
    "import tensorflow as tf\n",
    "from tensorflow import keras\n",
    "import numpy as np\n",
    "\n",
    "model=keras.models.Sequential()\n",
    "model.add(keras.layers.Conv2D(32, (3,3), activation='relu', input_shape=(28,28,3)))\n",
    "\n",
    "model.add(keras.layers.MaxPool2D(2,2))\n",
    "model.add(keras.layers.Conv2D(64, (3,3), activation='relu'))\n",
    "\n",
    "model.add(keras.layers.MaxPooling2D((2,2)))\n",
    "model.add(keras.layers.Dropout(0.5))                      # 몇개의 뉴련을 인위적으로 줄여주고 과도한 학습을 막아줌!\n",
    "model.add(keras.layers.Flatten())\n",
    "model.add(keras.layers.Dense(64, activation='relu'))\n",
    "\n",
    "model.add(keras.layers.Dense(20, activation='softmax'))\n",
    "\n",
    "\n",
    "model.summary()"
   ]
  },
  {
   "cell_type": "markdown",
   "metadata": {},
   "source": [
    "**<Deep learning Model 학습>**"
   ]
  },
  {
   "cell_type": "code",
   "execution_count": 59,
   "metadata": {
    "scrolled": true
   },
   "outputs": [
    {
     "name": "stdout",
     "output_type": "stream",
     "text": [
      "Epoch 1/20\n",
      "12/12 [==============================] - 0s 4ms/step - loss: 26.1549 - accuracy: 0.2598\n",
      "Epoch 2/20\n",
      "12/12 [==============================] - 0s 4ms/step - loss: 3.1808 - accuracy: 0.3855\n",
      "Epoch 3/20\n",
      "12/12 [==============================] - 0s 4ms/step - loss: 1.4237 - accuracy: 0.4274\n",
      "Epoch 4/20\n",
      "12/12 [==============================] - 0s 4ms/step - loss: 1.3412 - accuracy: 0.4246\n",
      "Epoch 5/20\n",
      "12/12 [==============================] - 0s 4ms/step - loss: 1.1356 - accuracy: 0.4832\n",
      "Epoch 6/20\n",
      "12/12 [==============================] - 0s 4ms/step - loss: 0.9880 - accuracy: 0.5419\n",
      "Epoch 7/20\n",
      "12/12 [==============================] - 0s 4ms/step - loss: 1.0520 - accuracy: 0.5363\n",
      "Epoch 8/20\n",
      "12/12 [==============================] - 0s 4ms/step - loss: 0.9158 - accuracy: 0.5726\n",
      "Epoch 9/20\n",
      "12/12 [==============================] - 0s 4ms/step - loss: 0.9445 - accuracy: 0.5642\n",
      "Epoch 10/20\n",
      "12/12 [==============================] - 0s 4ms/step - loss: 0.9321 - accuracy: 0.5559\n",
      "Epoch 11/20\n",
      "12/12 [==============================] - 0s 4ms/step - loss: 0.9001 - accuracy: 0.5950\n",
      "Epoch 12/20\n",
      "12/12 [==============================] - 0s 4ms/step - loss: 0.8945 - accuracy: 0.5922\n",
      "Epoch 13/20\n",
      "12/12 [==============================] - 0s 4ms/step - loss: 0.8353 - accuracy: 0.6006\n",
      "Epoch 14/20\n",
      "12/12 [==============================] - 0s 4ms/step - loss: 0.8832 - accuracy: 0.6061\n",
      "Epoch 15/20\n",
      "12/12 [==============================] - 0s 4ms/step - loss: 0.8326 - accuracy: 0.6425\n",
      "Epoch 16/20\n",
      "12/12 [==============================] - 0s 4ms/step - loss: 0.8086 - accuracy: 0.6760\n",
      "Epoch 17/20\n",
      "12/12 [==============================] - 0s 4ms/step - loss: 0.8470 - accuracy: 0.6564\n",
      "Epoch 18/20\n",
      "12/12 [==============================] - 0s 4ms/step - loss: 0.7221 - accuracy: 0.6816\n",
      "Epoch 19/20\n",
      "12/12 [==============================] - 0s 4ms/step - loss: 0.8301 - accuracy: 0.6536\n",
      "Epoch 20/20\n",
      "12/12 [==============================] - 0s 4ms/step - loss: 0.7664 - accuracy: 0.6704\n"
     ]
    },
    {
     "data": {
      "text/plain": [
       "<tensorflow.python.keras.callbacks.History at 0x7fa7047dcdd0>"
      ]
     },
     "execution_count": 59,
     "metadata": {},
     "output_type": "execute_result"
    }
   ],
   "source": [
    "model.compile(optimizer='adam',\n",
    "             loss='sparse_categorical_crossentropy',\n",
    "             metrics=['accuracy'])\n",
    "\n",
    "model.fit(x_test, y_test, epochs=20)"
   ]
  },
  {
   "cell_type": "markdown",
   "metadata": {},
   "source": [
    "**<Deep learning Model 평가>**"
   ]
  },
  {
   "cell_type": "code",
   "execution_count": 60,
   "metadata": {},
   "outputs": [
    {
     "name": "stdout",
     "output_type": "stream",
     "text": [
      "12/12 [==============================] - 0s 2ms/step - loss: 0.5537 - accuracy: 0.7849\n",
      "## evaluation loss and_metrics ##\n",
      "[0.5537038445472717, 0.7849162220954895]\n"
     ]
    }
   ],
   "source": [
    "loss_and_metrics = model.evaluate(x_test, y_test, batch_size=32)\n",
    "print('## evaluation loss and_metrics ##')\n",
    "print(loss_and_metrics)"
   ]
  },
  {
   "cell_type": "code",
   "execution_count": 62,
   "metadata": {},
   "outputs": [
    {
     "name": "stdout",
     "output_type": "stream",
     "text": [
      "Epoch 1/1000\n",
      "36/36 [==============================] - 0s 2ms/step - loss: 0.7917 - accuracy: 0.6564\n",
      "Epoch 2/1000\n",
      "36/36 [==============================] - 0s 2ms/step - loss: 0.7972 - accuracy: 0.6564\n",
      "Epoch 3/1000\n",
      "36/36 [==============================] - 0s 2ms/step - loss: 0.8269 - accuracy: 0.6480\n",
      "Epoch 4/1000\n",
      "36/36 [==============================] - 0s 2ms/step - loss: 0.9528 - accuracy: 0.5978\n",
      "Epoch 5/1000\n",
      "36/36 [==============================] - 0s 2ms/step - loss: 0.7687 - accuracy: 0.6369\n",
      "Epoch 6/1000\n",
      "36/36 [==============================] - 0s 2ms/step - loss: 0.7436 - accuracy: 0.6564\n",
      "Epoch 7/1000\n",
      "36/36 [==============================] - 0s 2ms/step - loss: 0.7064 - accuracy: 0.7263\n",
      "Epoch 8/1000\n",
      "36/36 [==============================] - 0s 2ms/step - loss: 0.8409 - accuracy: 0.6173\n",
      "Epoch 9/1000\n",
      "36/36 [==============================] - 0s 2ms/step - loss: 0.6518 - accuracy: 0.7626\n",
      "Epoch 10/1000\n",
      "36/36 [==============================] - 0s 2ms/step - loss: 0.6717 - accuracy: 0.7095\n",
      "Epoch 11/1000\n",
      "36/36 [==============================] - 0s 2ms/step - loss: 0.6530 - accuracy: 0.7179\n",
      "Epoch 12/1000\n",
      "36/36 [==============================] - 0s 2ms/step - loss: 0.6270 - accuracy: 0.7207\n",
      "Epoch 13/1000\n",
      "36/36 [==============================] - 0s 2ms/step - loss: 0.5625 - accuracy: 0.7682\n",
      "Epoch 14/1000\n",
      "36/36 [==============================] - 0s 2ms/step - loss: 0.4956 - accuracy: 0.7933\n",
      "Epoch 15/1000\n",
      "36/36 [==============================] - 0s 2ms/step - loss: 0.4634 - accuracy: 0.8184\n",
      "Epoch 16/1000\n",
      "36/36 [==============================] - 0s 2ms/step - loss: 0.5178 - accuracy: 0.7989\n",
      "Epoch 17/1000\n",
      "36/36 [==============================] - 0s 2ms/step - loss: 0.6541 - accuracy: 0.7402\n",
      "Epoch 18/1000\n",
      "36/36 [==============================] - 0s 2ms/step - loss: 0.5487 - accuracy: 0.8045\n",
      "Epoch 19/1000\n",
      "36/36 [==============================] - 0s 2ms/step - loss: 0.5221 - accuracy: 0.7626\n",
      "Epoch 20/1000\n",
      "36/36 [==============================] - 0s 2ms/step - loss: 0.4611 - accuracy: 0.8408\n",
      "Epoch 21/1000\n",
      "36/36 [==============================] - 0s 2ms/step - loss: 0.4557 - accuracy: 0.8240\n",
      "Epoch 22/1000\n",
      "36/36 [==============================] - 0s 2ms/step - loss: 0.3909 - accuracy: 0.8547\n",
      "Epoch 23/1000\n",
      "36/36 [==============================] - 0s 2ms/step - loss: 0.4268 - accuracy: 0.8101\n",
      "Epoch 24/1000\n",
      "36/36 [==============================] - 0s 2ms/step - loss: 0.4035 - accuracy: 0.8408\n",
      "Epoch 25/1000\n",
      "36/36 [==============================] - 0s 2ms/step - loss: 0.5259 - accuracy: 0.8045\n",
      "Epoch 26/1000\n",
      "36/36 [==============================] - 0s 2ms/step - loss: 0.3677 - accuracy: 0.8715\n",
      "Epoch 27/1000\n",
      "36/36 [==============================] - 0s 2ms/step - loss: 0.3902 - accuracy: 0.8464\n",
      "Epoch 28/1000\n",
      "36/36 [==============================] - 0s 2ms/step - loss: 0.3812 - accuracy: 0.8575\n",
      "Epoch 29/1000\n",
      "36/36 [==============================] - 0s 2ms/step - loss: 0.3510 - accuracy: 0.8799\n",
      "Epoch 30/1000\n",
      "36/36 [==============================] - 0s 2ms/step - loss: 0.3902 - accuracy: 0.8296\n",
      "Epoch 31/1000\n",
      "36/36 [==============================] - 0s 2ms/step - loss: 0.2914 - accuracy: 0.8994\n",
      "Epoch 32/1000\n",
      "36/36 [==============================] - 0s 2ms/step - loss: 0.2479 - accuracy: 0.9078\n",
      "Epoch 33/1000\n",
      "36/36 [==============================] - 0s 2ms/step - loss: 0.2708 - accuracy: 0.8966\n",
      "Epoch 34/1000\n",
      "36/36 [==============================] - 0s 2ms/step - loss: 0.2283 - accuracy: 0.8994\n",
      "Epoch 35/1000\n",
      "36/36 [==============================] - 0s 2ms/step - loss: 0.2271 - accuracy: 0.9050\n",
      "Epoch 36/1000\n",
      "36/36 [==============================] - 0s 2ms/step - loss: 0.2144 - accuracy: 0.9162\n",
      "Epoch 37/1000\n",
      "36/36 [==============================] - 0s 2ms/step - loss: 0.2265 - accuracy: 0.9106\n",
      "Epoch 38/1000\n",
      "36/36 [==============================] - 0s 2ms/step - loss: 0.1925 - accuracy: 0.9302\n",
      "Epoch 39/1000\n",
      "36/36 [==============================] - 0s 2ms/step - loss: 0.2064 - accuracy: 0.9274\n",
      "Epoch 40/1000\n",
      "36/36 [==============================] - 0s 2ms/step - loss: 0.2424 - accuracy: 0.9190\n",
      "Epoch 41/1000\n",
      "36/36 [==============================] - 0s 2ms/step - loss: 0.3470 - accuracy: 0.8687\n",
      "Epoch 42/1000\n",
      "36/36 [==============================] - 0s 2ms/step - loss: 0.2513 - accuracy: 0.9050\n",
      "Epoch 43/1000\n",
      "36/36 [==============================] - 0s 2ms/step - loss: 0.1767 - accuracy: 0.9302\n",
      "Epoch 44/1000\n",
      "36/36 [==============================] - 0s 2ms/step - loss: 0.3438 - accuracy: 0.9106\n",
      "Epoch 45/1000\n",
      "36/36 [==============================] - 0s 2ms/step - loss: 0.2084 - accuracy: 0.9106\n",
      "Epoch 46/1000\n",
      "36/36 [==============================] - 0s 2ms/step - loss: 0.2199 - accuracy: 0.9218\n",
      "Epoch 47/1000\n",
      "36/36 [==============================] - 0s 2ms/step - loss: 0.2072 - accuracy: 0.9302\n",
      "Epoch 48/1000\n",
      "36/36 [==============================] - 0s 2ms/step - loss: 0.1737 - accuracy: 0.9358\n",
      "Epoch 49/1000\n",
      "36/36 [==============================] - 0s 2ms/step - loss: 0.1761 - accuracy: 0.9274\n",
      "Epoch 50/1000\n",
      "36/36 [==============================] - 0s 2ms/step - loss: 0.1516 - accuracy: 0.9525\n",
      "Epoch 51/1000\n",
      "36/36 [==============================] - 0s 2ms/step - loss: 0.1126 - accuracy: 0.9497\n",
      "Epoch 52/1000\n",
      "36/36 [==============================] - 0s 2ms/step - loss: 0.1452 - accuracy: 0.9525\n",
      "Epoch 53/1000\n",
      "36/36 [==============================] - 0s 2ms/step - loss: 0.1550 - accuracy: 0.9469\n",
      "Epoch 54/1000\n",
      "36/36 [==============================] - 0s 2ms/step - loss: 0.1885 - accuracy: 0.9469\n",
      "Epoch 55/1000\n",
      "36/36 [==============================] - 0s 2ms/step - loss: 0.1039 - accuracy: 0.9581\n",
      "Epoch 56/1000\n",
      "36/36 [==============================] - 0s 2ms/step - loss: 0.1928 - accuracy: 0.9441\n",
      "Epoch 57/1000\n",
      "36/36 [==============================] - 0s 2ms/step - loss: 0.1367 - accuracy: 0.9469\n",
      "Epoch 58/1000\n",
      "36/36 [==============================] - 0s 2ms/step - loss: 0.1456 - accuracy: 0.9385\n",
      "Epoch 59/1000\n",
      "36/36 [==============================] - 0s 2ms/step - loss: 0.0993 - accuracy: 0.9609\n",
      "Epoch 60/1000\n",
      "36/36 [==============================] - 0s 2ms/step - loss: 0.1880 - accuracy: 0.9330\n",
      "Epoch 61/1000\n",
      "36/36 [==============================] - 0s 2ms/step - loss: 0.1471 - accuracy: 0.9469\n",
      "Epoch 62/1000\n",
      "36/36 [==============================] - 0s 2ms/step - loss: 0.1298 - accuracy: 0.9441\n",
      "Epoch 63/1000\n",
      "36/36 [==============================] - 0s 2ms/step - loss: 0.0885 - accuracy: 0.9721\n",
      "Epoch 64/1000\n",
      "36/36 [==============================] - 0s 2ms/step - loss: 0.0797 - accuracy: 0.9721\n",
      "Epoch 65/1000\n",
      "36/36 [==============================] - 0s 2ms/step - loss: 0.1208 - accuracy: 0.9581\n",
      "Epoch 66/1000\n",
      "36/36 [==============================] - 0s 2ms/step - loss: 0.1140 - accuracy: 0.9553\n",
      "Epoch 67/1000\n",
      "36/36 [==============================] - 0s 2ms/step - loss: 0.0381 - accuracy: 0.9832\n",
      "Epoch 68/1000\n",
      "36/36 [==============================] - 0s 3ms/step - loss: 0.0616 - accuracy: 0.9804\n",
      "Epoch 69/1000\n",
      "36/36 [==============================] - 0s 3ms/step - loss: 0.1189 - accuracy: 0.9581\n",
      "Epoch 70/1000\n",
      "36/36 [==============================] - 0s 2ms/step - loss: 0.0935 - accuracy: 0.9693\n",
      "Epoch 71/1000\n",
      "36/36 [==============================] - 0s 3ms/step - loss: 0.1605 - accuracy: 0.9497\n",
      "Epoch 72/1000\n",
      "36/36 [==============================] - 0s 3ms/step - loss: 0.1039 - accuracy: 0.9581\n",
      "Epoch 73/1000\n",
      "36/36 [==============================] - 0s 3ms/step - loss: 0.1322 - accuracy: 0.9609\n",
      "Epoch 74/1000\n",
      "36/36 [==============================] - 0s 3ms/step - loss: 0.1123 - accuracy: 0.9581\n",
      "Epoch 75/1000\n",
      "36/36 [==============================] - 0s 3ms/step - loss: 0.2551 - accuracy: 0.9134\n",
      "Epoch 76/1000\n",
      "36/36 [==============================] - 0s 2ms/step - loss: 0.2499 - accuracy: 0.9078\n",
      "Epoch 77/1000\n",
      "36/36 [==============================] - 0s 2ms/step - loss: 0.1617 - accuracy: 0.9302\n",
      "Epoch 78/1000\n",
      "36/36 [==============================] - 0s 2ms/step - loss: 0.1226 - accuracy: 0.9609\n",
      "Epoch 79/1000\n",
      "36/36 [==============================] - 0s 2ms/step - loss: 0.0562 - accuracy: 0.9860\n",
      "Epoch 80/1000\n",
      "36/36 [==============================] - 0s 2ms/step - loss: 0.0776 - accuracy: 0.9777\n",
      "Epoch 81/1000\n",
      "36/36 [==============================] - 0s 2ms/step - loss: 0.1151 - accuracy: 0.9441\n",
      "Epoch 82/1000\n",
      "36/36 [==============================] - 0s 2ms/step - loss: 0.1192 - accuracy: 0.9553\n",
      "Epoch 83/1000\n",
      "36/36 [==============================] - 0s 2ms/step - loss: 0.0467 - accuracy: 0.9860\n",
      "Epoch 84/1000\n",
      "36/36 [==============================] - 0s 2ms/step - loss: 0.0645 - accuracy: 0.9777\n",
      "Epoch 85/1000\n",
      "36/36 [==============================] - 0s 2ms/step - loss: 0.1071 - accuracy: 0.9637\n",
      "Epoch 86/1000\n",
      "36/36 [==============================] - 0s 2ms/step - loss: 0.1305 - accuracy: 0.9609\n",
      "Epoch 87/1000\n",
      "36/36 [==============================] - 0s 2ms/step - loss: 0.1028 - accuracy: 0.9609\n",
      "Epoch 88/1000\n",
      "36/36 [==============================] - 0s 2ms/step - loss: 0.1610 - accuracy: 0.9609\n",
      "Epoch 89/1000\n",
      "36/36 [==============================] - 0s 2ms/step - loss: 0.1297 - accuracy: 0.9553\n",
      "Epoch 90/1000\n",
      "36/36 [==============================] - 0s 2ms/step - loss: 0.0692 - accuracy: 0.9721\n",
      "Epoch 91/1000\n",
      "36/36 [==============================] - 0s 2ms/step - loss: 0.0792 - accuracy: 0.9749\n",
      "Epoch 92/1000\n",
      "36/36 [==============================] - 0s 2ms/step - loss: 0.0595 - accuracy: 0.9860\n",
      "Epoch 93/1000\n",
      "36/36 [==============================] - 0s 2ms/step - loss: 0.0500 - accuracy: 0.9832\n",
      "Epoch 94/1000\n",
      "36/36 [==============================] - 0s 2ms/step - loss: 0.0737 - accuracy: 0.9665\n",
      "Epoch 95/1000\n",
      "36/36 [==============================] - 0s 2ms/step - loss: 0.0917 - accuracy: 0.9581\n",
      "Epoch 96/1000\n",
      "36/36 [==============================] - 0s 2ms/step - loss: 0.0516 - accuracy: 0.9777\n",
      "Epoch 97/1000\n",
      "36/36 [==============================] - 0s 2ms/step - loss: 0.0687 - accuracy: 0.9888\n",
      "Epoch 98/1000\n",
      "36/36 [==============================] - 0s 2ms/step - loss: 0.1228 - accuracy: 0.9553\n",
      "Epoch 99/1000\n",
      "36/36 [==============================] - 0s 2ms/step - loss: 0.0886 - accuracy: 0.9693\n",
      "Epoch 100/1000\n",
      "36/36 [==============================] - 0s 2ms/step - loss: 0.0722 - accuracy: 0.9749\n",
      "Epoch 101/1000\n",
      "36/36 [==============================] - 0s 2ms/step - loss: 0.0945 - accuracy: 0.9609\n",
      "Epoch 102/1000\n",
      "36/36 [==============================] - 0s 2ms/step - loss: 0.1269 - accuracy: 0.9497\n",
      "Epoch 103/1000\n",
      "36/36 [==============================] - 0s 2ms/step - loss: 0.1164 - accuracy: 0.9581\n",
      "Epoch 104/1000\n",
      "36/36 [==============================] - 0s 2ms/step - loss: 0.0637 - accuracy: 0.9693\n",
      "Epoch 105/1000\n",
      "36/36 [==============================] - 0s 3ms/step - loss: 0.0557 - accuracy: 0.9777\n",
      "Epoch 106/1000\n",
      "36/36 [==============================] - 0s 3ms/step - loss: 0.0678 - accuracy: 0.9749\n",
      "Epoch 107/1000\n",
      "36/36 [==============================] - 0s 3ms/step - loss: 0.0281 - accuracy: 0.9916\n",
      "Epoch 108/1000\n",
      "36/36 [==============================] - 0s 3ms/step - loss: 0.0603 - accuracy: 0.9860\n",
      "Epoch 109/1000\n",
      "36/36 [==============================] - 0s 2ms/step - loss: 0.1066 - accuracy: 0.9665\n",
      "Epoch 110/1000\n",
      "36/36 [==============================] - 0s 3ms/step - loss: 0.0268 - accuracy: 0.9944\n",
      "Epoch 111/1000\n",
      "36/36 [==============================] - 0s 2ms/step - loss: 0.0716 - accuracy: 0.9665\n",
      "Epoch 112/1000\n",
      "36/36 [==============================] - 0s 3ms/step - loss: 0.0913 - accuracy: 0.9777\n",
      "Epoch 113/1000\n",
      "36/36 [==============================] - 0s 3ms/step - loss: 0.0585 - accuracy: 0.9832\n",
      "Epoch 114/1000\n",
      "36/36 [==============================] - 0s 3ms/step - loss: 0.0762 - accuracy: 0.9721\n",
      "Epoch 115/1000\n",
      "36/36 [==============================] - 0s 3ms/step - loss: 0.0389 - accuracy: 0.9888\n",
      "Epoch 116/1000\n",
      "36/36 [==============================] - 0s 2ms/step - loss: 0.0556 - accuracy: 0.9749\n",
      "Epoch 117/1000\n",
      "36/36 [==============================] - 0s 3ms/step - loss: 0.1083 - accuracy: 0.9609\n",
      "Epoch 118/1000\n",
      "36/36 [==============================] - 0s 3ms/step - loss: 0.0748 - accuracy: 0.9721\n",
      "Epoch 119/1000\n",
      "36/36 [==============================] - 0s 2ms/step - loss: 0.0738 - accuracy: 0.9777\n",
      "Epoch 120/1000\n",
      "36/36 [==============================] - 0s 3ms/step - loss: 0.0698 - accuracy: 0.9693\n",
      "Epoch 121/1000\n",
      "36/36 [==============================] - 0s 3ms/step - loss: 0.1647 - accuracy: 0.9553\n",
      "Epoch 122/1000\n",
      "36/36 [==============================] - 0s 2ms/step - loss: 0.0726 - accuracy: 0.9665\n",
      "Epoch 123/1000\n",
      "36/36 [==============================] - 0s 2ms/step - loss: 0.2154 - accuracy: 0.9302\n",
      "Epoch 124/1000\n",
      "36/36 [==============================] - 0s 3ms/step - loss: 0.1379 - accuracy: 0.9525\n",
      "Epoch 125/1000\n",
      "36/36 [==============================] - 0s 2ms/step - loss: 0.0942 - accuracy: 0.9693\n",
      "Epoch 126/1000\n",
      "36/36 [==============================] - 0s 2ms/step - loss: 0.0916 - accuracy: 0.9749\n",
      "Epoch 127/1000\n",
      "36/36 [==============================] - 0s 2ms/step - loss: 0.1165 - accuracy: 0.9637\n",
      "Epoch 128/1000\n",
      "36/36 [==============================] - 0s 2ms/step - loss: 0.1405 - accuracy: 0.9497\n",
      "Epoch 129/1000\n",
      "36/36 [==============================] - 0s 2ms/step - loss: 0.1625 - accuracy: 0.9413\n",
      "Epoch 130/1000\n",
      "36/36 [==============================] - 0s 2ms/step - loss: 0.0794 - accuracy: 0.9693\n",
      "Epoch 131/1000\n",
      "36/36 [==============================] - 0s 2ms/step - loss: 0.0457 - accuracy: 0.9832\n",
      "Epoch 132/1000\n",
      "36/36 [==============================] - 0s 2ms/step - loss: 0.1060 - accuracy: 0.9581\n",
      "Epoch 133/1000\n",
      "36/36 [==============================] - 0s 2ms/step - loss: 0.1072 - accuracy: 0.9637\n",
      "Epoch 134/1000\n",
      "36/36 [==============================] - 0s 2ms/step - loss: 0.0294 - accuracy: 0.9972\n",
      "Epoch 135/1000\n",
      "36/36 [==============================] - 0s 2ms/step - loss: 0.0718 - accuracy: 0.9832\n",
      "Epoch 136/1000\n",
      "36/36 [==============================] - 0s 2ms/step - loss: 0.0282 - accuracy: 0.9888\n",
      "Epoch 137/1000\n",
      "36/36 [==============================] - 0s 2ms/step - loss: 0.0802 - accuracy: 0.9777\n",
      "Epoch 138/1000\n",
      "36/36 [==============================] - 0s 2ms/step - loss: 0.0462 - accuracy: 0.9832\n",
      "Epoch 139/1000\n",
      "36/36 [==============================] - 0s 2ms/step - loss: 0.0369 - accuracy: 0.9888\n",
      "Epoch 140/1000\n",
      "36/36 [==============================] - 0s 2ms/step - loss: 0.0509 - accuracy: 0.9804\n",
      "Epoch 141/1000\n",
      "36/36 [==============================] - 0s 2ms/step - loss: 0.0647 - accuracy: 0.9804\n",
      "Epoch 142/1000\n",
      "36/36 [==============================] - 0s 2ms/step - loss: 0.0433 - accuracy: 0.9832\n",
      "Epoch 143/1000\n",
      "36/36 [==============================] - 0s 2ms/step - loss: 0.0089 - accuracy: 1.0000\n",
      "Epoch 144/1000\n",
      "36/36 [==============================] - 0s 2ms/step - loss: 0.0245 - accuracy: 0.9944\n",
      "Epoch 145/1000\n",
      "36/36 [==============================] - 0s 2ms/step - loss: 0.0176 - accuracy: 0.9972\n",
      "Epoch 146/1000\n",
      "36/36 [==============================] - 0s 2ms/step - loss: 0.0062 - accuracy: 1.0000\n",
      "Epoch 147/1000\n",
      "36/36 [==============================] - 0s 2ms/step - loss: 0.0228 - accuracy: 0.9916\n",
      "Epoch 148/1000\n",
      "36/36 [==============================] - 0s 2ms/step - loss: 0.0385 - accuracy: 0.9804\n",
      "Epoch 149/1000\n",
      "36/36 [==============================] - 0s 2ms/step - loss: 0.0459 - accuracy: 0.9804\n",
      "Epoch 150/1000\n",
      "36/36 [==============================] - 0s 2ms/step - loss: 0.0187 - accuracy: 0.9944\n",
      "Epoch 151/1000\n",
      "36/36 [==============================] - 0s 2ms/step - loss: 0.0281 - accuracy: 0.9888\n",
      "Epoch 152/1000\n",
      "36/36 [==============================] - 0s 2ms/step - loss: 0.0285 - accuracy: 0.9860\n",
      "Epoch 153/1000\n",
      "36/36 [==============================] - 0s 2ms/step - loss: 0.0686 - accuracy: 0.9860\n",
      "Epoch 154/1000\n",
      "36/36 [==============================] - 0s 2ms/step - loss: 0.0759 - accuracy: 0.9693\n",
      "Epoch 155/1000\n",
      "36/36 [==============================] - 0s 2ms/step - loss: 0.0846 - accuracy: 0.9721\n",
      "Epoch 156/1000\n",
      "36/36 [==============================] - 0s 2ms/step - loss: 0.0743 - accuracy: 0.9721\n",
      "Epoch 157/1000\n",
      "36/36 [==============================] - 0s 2ms/step - loss: 0.0827 - accuracy: 0.9721\n",
      "Epoch 158/1000\n",
      "36/36 [==============================] - 0s 2ms/step - loss: 0.0901 - accuracy: 0.9721\n",
      "Epoch 159/1000\n",
      "36/36 [==============================] - 0s 2ms/step - loss: 0.0516 - accuracy: 0.9860\n",
      "Epoch 160/1000\n",
      "36/36 [==============================] - 0s 2ms/step - loss: 0.0887 - accuracy: 0.9832\n",
      "Epoch 161/1000\n",
      "36/36 [==============================] - 0s 2ms/step - loss: 0.1195 - accuracy: 0.9609\n",
      "Epoch 162/1000\n",
      "36/36 [==============================] - 0s 2ms/step - loss: 0.1250 - accuracy: 0.9637\n",
      "Epoch 163/1000\n",
      "36/36 [==============================] - 0s 2ms/step - loss: 0.0642 - accuracy: 0.9832\n",
      "Epoch 164/1000\n",
      "36/36 [==============================] - 0s 2ms/step - loss: 0.0811 - accuracy: 0.9665\n",
      "Epoch 165/1000\n",
      "36/36 [==============================] - 0s 2ms/step - loss: 0.0863 - accuracy: 0.9749\n",
      "Epoch 166/1000\n",
      "36/36 [==============================] - 0s 2ms/step - loss: 0.2225 - accuracy: 0.9413\n",
      "Epoch 167/1000\n",
      "36/36 [==============================] - 0s 2ms/step - loss: 0.0198 - accuracy: 0.9944\n",
      "Epoch 168/1000\n",
      "36/36 [==============================] - 0s 2ms/step - loss: 0.0772 - accuracy: 0.9637\n",
      "Epoch 169/1000\n",
      "36/36 [==============================] - 0s 2ms/step - loss: 0.1083 - accuracy: 0.9609\n",
      "Epoch 170/1000\n",
      "36/36 [==============================] - 0s 2ms/step - loss: 0.0997 - accuracy: 0.9721\n",
      "Epoch 171/1000\n",
      "36/36 [==============================] - 0s 2ms/step - loss: 0.0996 - accuracy: 0.9804\n",
      "Epoch 172/1000\n",
      "36/36 [==============================] - 0s 2ms/step - loss: 0.0234 - accuracy: 0.9944\n",
      "Epoch 173/1000\n",
      "36/36 [==============================] - 0s 2ms/step - loss: 0.0305 - accuracy: 0.9916\n",
      "Epoch 174/1000\n",
      "36/36 [==============================] - 0s 2ms/step - loss: 0.0679 - accuracy: 0.9693\n",
      "Epoch 175/1000\n",
      "36/36 [==============================] - 0s 2ms/step - loss: 0.0239 - accuracy: 0.9916\n",
      "Epoch 176/1000\n",
      "36/36 [==============================] - 0s 2ms/step - loss: 0.0267 - accuracy: 0.9916\n",
      "Epoch 177/1000\n",
      "36/36 [==============================] - 0s 2ms/step - loss: 0.0863 - accuracy: 0.9777\n",
      "Epoch 178/1000\n",
      "36/36 [==============================] - 0s 2ms/step - loss: 0.0325 - accuracy: 0.9860\n",
      "Epoch 179/1000\n",
      "36/36 [==============================] - 0s 2ms/step - loss: 0.0183 - accuracy: 0.9972\n",
      "Epoch 180/1000\n",
      "36/36 [==============================] - 0s 2ms/step - loss: 0.0781 - accuracy: 0.9832\n",
      "Epoch 181/1000\n",
      "36/36 [==============================] - 0s 2ms/step - loss: 0.0779 - accuracy: 0.9777\n",
      "Epoch 182/1000\n",
      "36/36 [==============================] - 0s 2ms/step - loss: 0.1307 - accuracy: 0.9609\n",
      "Epoch 183/1000\n",
      "36/36 [==============================] - 0s 2ms/step - loss: 0.2473 - accuracy: 0.9581\n",
      "Epoch 184/1000\n",
      "36/36 [==============================] - 0s 2ms/step - loss: 0.1276 - accuracy: 0.9637\n",
      "Epoch 185/1000\n",
      "36/36 [==============================] - 0s 2ms/step - loss: 0.0789 - accuracy: 0.9693\n",
      "Epoch 186/1000\n",
      "36/36 [==============================] - 0s 2ms/step - loss: 0.1001 - accuracy: 0.9693\n",
      "Epoch 187/1000\n",
      "36/36 [==============================] - 0s 2ms/step - loss: 0.0708 - accuracy: 0.9832\n",
      "Epoch 188/1000\n",
      "36/36 [==============================] - 0s 2ms/step - loss: 0.0384 - accuracy: 0.9916\n",
      "Epoch 189/1000\n",
      "36/36 [==============================] - 0s 2ms/step - loss: 0.0738 - accuracy: 0.9721\n",
      "Epoch 190/1000\n",
      "36/36 [==============================] - 0s 2ms/step - loss: 0.0266 - accuracy: 0.9916\n",
      "Epoch 191/1000\n",
      "36/36 [==============================] - 0s 2ms/step - loss: 0.0235 - accuracy: 0.9916\n",
      "Epoch 192/1000\n",
      "36/36 [==============================] - 0s 2ms/step - loss: 0.0712 - accuracy: 0.9777\n",
      "Epoch 193/1000\n",
      "36/36 [==============================] - 0s 2ms/step - loss: 0.0371 - accuracy: 0.9888\n",
      "Epoch 194/1000\n",
      "36/36 [==============================] - 0s 2ms/step - loss: 0.0219 - accuracy: 0.9916\n",
      "Epoch 195/1000\n",
      "36/36 [==============================] - 0s 3ms/step - loss: 0.0278 - accuracy: 0.9860\n",
      "Epoch 196/1000\n",
      "36/36 [==============================] - 0s 2ms/step - loss: 0.0352 - accuracy: 0.9888\n",
      "Epoch 197/1000\n",
      "36/36 [==============================] - 0s 2ms/step - loss: 0.0114 - accuracy: 0.9944\n",
      "Epoch 198/1000\n",
      "36/36 [==============================] - 0s 2ms/step - loss: 0.0122 - accuracy: 0.9944\n",
      "Epoch 199/1000\n",
      "36/36 [==============================] - 0s 2ms/step - loss: 0.0282 - accuracy: 0.9888\n",
      "Epoch 200/1000\n",
      "36/36 [==============================] - 0s 2ms/step - loss: 0.0242 - accuracy: 0.9916\n",
      "Epoch 201/1000\n",
      "36/36 [==============================] - 0s 2ms/step - loss: 0.0555 - accuracy: 0.9860\n",
      "Epoch 202/1000\n",
      "36/36 [==============================] - 0s 2ms/step - loss: 0.0484 - accuracy: 0.9804\n",
      "Epoch 203/1000\n",
      "36/36 [==============================] - 0s 2ms/step - loss: 0.0064 - accuracy: 1.0000\n",
      "Epoch 204/1000\n",
      "36/36 [==============================] - 0s 2ms/step - loss: 0.0044 - accuracy: 1.0000\n",
      "Epoch 205/1000\n",
      "36/36 [==============================] - 0s 2ms/step - loss: 0.0732 - accuracy: 0.9832\n",
      "Epoch 206/1000\n",
      "36/36 [==============================] - 0s 2ms/step - loss: 0.0171 - accuracy: 0.9916\n",
      "Epoch 207/1000\n",
      "36/36 [==============================] - 0s 2ms/step - loss: 0.0760 - accuracy: 0.9777\n",
      "Epoch 208/1000\n",
      "36/36 [==============================] - 0s 2ms/step - loss: 0.0999 - accuracy: 0.9777\n",
      "Epoch 209/1000\n",
      "36/36 [==============================] - 0s 2ms/step - loss: 0.2700 - accuracy: 0.9385\n",
      "Epoch 210/1000\n",
      "36/36 [==============================] - 0s 2ms/step - loss: 0.2057 - accuracy: 0.9441\n",
      "Epoch 211/1000\n",
      "36/36 [==============================] - 0s 2ms/step - loss: 0.0731 - accuracy: 0.9721\n",
      "Epoch 212/1000\n",
      "36/36 [==============================] - 0s 2ms/step - loss: 0.0628 - accuracy: 0.9777\n",
      "Epoch 213/1000\n",
      "36/36 [==============================] - 0s 2ms/step - loss: 0.0272 - accuracy: 0.9916\n",
      "Epoch 214/1000\n",
      "36/36 [==============================] - 0s 2ms/step - loss: 0.0215 - accuracy: 0.9944\n",
      "Epoch 215/1000\n",
      "36/36 [==============================] - 0s 2ms/step - loss: 0.0591 - accuracy: 0.9777\n",
      "Epoch 216/1000\n",
      "36/36 [==============================] - 0s 2ms/step - loss: 0.0420 - accuracy: 0.9804\n",
      "Epoch 217/1000\n",
      "36/36 [==============================] - 0s 2ms/step - loss: 0.0090 - accuracy: 1.0000\n",
      "Epoch 218/1000\n",
      "36/36 [==============================] - 0s 2ms/step - loss: 0.0337 - accuracy: 0.9860\n",
      "Epoch 219/1000\n",
      "36/36 [==============================] - 0s 2ms/step - loss: 0.0068 - accuracy: 0.9972\n",
      "Epoch 220/1000\n",
      "36/36 [==============================] - 0s 2ms/step - loss: 0.0135 - accuracy: 0.9944\n",
      "Epoch 221/1000\n",
      "36/36 [==============================] - 0s 2ms/step - loss: 0.0243 - accuracy: 0.9860\n",
      "Epoch 222/1000\n",
      "36/36 [==============================] - 0s 2ms/step - loss: 0.0101 - accuracy: 1.0000\n",
      "Epoch 223/1000\n",
      "36/36 [==============================] - 0s 2ms/step - loss: 0.0188 - accuracy: 0.9944\n",
      "Epoch 224/1000\n",
      "36/36 [==============================] - 0s 2ms/step - loss: 0.0094 - accuracy: 0.9944\n",
      "Epoch 225/1000\n",
      "36/36 [==============================] - 0s 2ms/step - loss: 0.0409 - accuracy: 0.9832\n",
      "Epoch 226/1000\n",
      "36/36 [==============================] - 0s 2ms/step - loss: 0.0183 - accuracy: 0.9916\n",
      "Epoch 227/1000\n",
      "36/36 [==============================] - 0s 2ms/step - loss: 0.0564 - accuracy: 0.9804\n",
      "Epoch 228/1000\n",
      "36/36 [==============================] - 0s 2ms/step - loss: 0.0250 - accuracy: 0.9916\n",
      "Epoch 229/1000\n",
      "36/36 [==============================] - 0s 2ms/step - loss: 0.0445 - accuracy: 0.9860\n",
      "Epoch 230/1000\n",
      "36/36 [==============================] - 0s 2ms/step - loss: 0.0386 - accuracy: 0.9916\n",
      "Epoch 231/1000\n",
      "36/36 [==============================] - 0s 2ms/step - loss: 0.0435 - accuracy: 0.9916\n",
      "Epoch 232/1000\n",
      "36/36 [==============================] - 0s 2ms/step - loss: 0.0068 - accuracy: 0.9972\n",
      "Epoch 233/1000\n",
      "36/36 [==============================] - 0s 2ms/step - loss: 0.0101 - accuracy: 0.9972\n",
      "Epoch 234/1000\n",
      "36/36 [==============================] - 0s 2ms/step - loss: 0.0294 - accuracy: 0.9860\n",
      "Epoch 235/1000\n",
      "36/36 [==============================] - 0s 2ms/step - loss: 0.0118 - accuracy: 0.9972\n",
      "Epoch 236/1000\n",
      "36/36 [==============================] - 0s 2ms/step - loss: 0.0064 - accuracy: 1.0000\n",
      "Epoch 237/1000\n",
      "36/36 [==============================] - 0s 3ms/step - loss: 0.0133 - accuracy: 0.9972\n",
      "Epoch 238/1000\n",
      "36/36 [==============================] - 0s 2ms/step - loss: 0.0765 - accuracy: 0.9832\n",
      "Epoch 239/1000\n",
      "36/36 [==============================] - 0s 2ms/step - loss: 0.0452 - accuracy: 0.9832\n",
      "Epoch 240/1000\n",
      "36/36 [==============================] - 0s 2ms/step - loss: 0.1172 - accuracy: 0.9832\n",
      "Epoch 241/1000\n",
      "36/36 [==============================] - 0s 2ms/step - loss: 0.0554 - accuracy: 0.9832\n",
      "Epoch 242/1000\n",
      "36/36 [==============================] - 0s 2ms/step - loss: 0.0256 - accuracy: 0.9888\n",
      "Epoch 243/1000\n",
      "36/36 [==============================] - 0s 2ms/step - loss: 0.0169 - accuracy: 0.9916\n",
      "Epoch 244/1000\n",
      "36/36 [==============================] - 0s 2ms/step - loss: 0.0462 - accuracy: 0.9832\n",
      "Epoch 245/1000\n",
      "36/36 [==============================] - 0s 2ms/step - loss: 0.0150 - accuracy: 0.9944\n",
      "Epoch 246/1000\n",
      "36/36 [==============================] - 0s 2ms/step - loss: 0.0029 - accuracy: 1.0000\n",
      "Epoch 247/1000\n",
      "36/36 [==============================] - 0s 2ms/step - loss: 0.0206 - accuracy: 0.9916\n",
      "Epoch 248/1000\n",
      "36/36 [==============================] - 0s 2ms/step - loss: 0.0160 - accuracy: 0.9916\n",
      "Epoch 249/1000\n",
      "36/36 [==============================] - 0s 2ms/step - loss: 0.0112 - accuracy: 0.9944\n",
      "Epoch 250/1000\n",
      "36/36 [==============================] - 0s 2ms/step - loss: 0.0020 - accuracy: 1.0000\n",
      "Epoch 251/1000\n",
      "36/36 [==============================] - 0s 2ms/step - loss: 0.0164 - accuracy: 0.9944\n",
      "Epoch 252/1000\n",
      "36/36 [==============================] - 0s 2ms/step - loss: 0.0132 - accuracy: 0.9972\n",
      "Epoch 253/1000\n",
      "36/36 [==============================] - 0s 2ms/step - loss: 0.0435 - accuracy: 0.9804\n",
      "Epoch 254/1000\n",
      "36/36 [==============================] - 0s 2ms/step - loss: 0.0358 - accuracy: 0.9860\n",
      "Epoch 255/1000\n",
      "36/36 [==============================] - 0s 2ms/step - loss: 0.0205 - accuracy: 0.9944\n",
      "Epoch 256/1000\n",
      "36/36 [==============================] - 0s 2ms/step - loss: 0.0253 - accuracy: 0.9944\n",
      "Epoch 257/1000\n",
      "36/36 [==============================] - 0s 2ms/step - loss: 0.0111 - accuracy: 0.9944\n",
      "Epoch 258/1000\n",
      "36/36 [==============================] - 0s 2ms/step - loss: 0.0580 - accuracy: 0.9860\n",
      "Epoch 259/1000\n",
      "36/36 [==============================] - 0s 2ms/step - loss: 0.0341 - accuracy: 0.9888\n",
      "Epoch 260/1000\n",
      "36/36 [==============================] - 0s 2ms/step - loss: 0.0427 - accuracy: 0.9804\n",
      "Epoch 261/1000\n",
      "36/36 [==============================] - 0s 2ms/step - loss: 0.0549 - accuracy: 0.9860\n",
      "Epoch 262/1000\n",
      "36/36 [==============================] - 0s 2ms/step - loss: 0.0355 - accuracy: 0.9888\n",
      "Epoch 263/1000\n",
      "36/36 [==============================] - 0s 2ms/step - loss: 0.1156 - accuracy: 0.9637\n",
      "Epoch 264/1000\n",
      "36/36 [==============================] - 0s 2ms/step - loss: 0.0334 - accuracy: 0.9860\n",
      "Epoch 265/1000\n",
      "36/36 [==============================] - 0s 2ms/step - loss: 0.0288 - accuracy: 0.9916\n",
      "Epoch 266/1000\n",
      "36/36 [==============================] - 0s 2ms/step - loss: 0.1059 - accuracy: 0.9749\n",
      "Epoch 267/1000\n",
      "36/36 [==============================] - 0s 2ms/step - loss: 0.1088 - accuracy: 0.9637\n",
      "Epoch 268/1000\n",
      "36/36 [==============================] - 0s 2ms/step - loss: 0.0591 - accuracy: 0.9860\n",
      "Epoch 269/1000\n",
      "36/36 [==============================] - 0s 2ms/step - loss: 0.0507 - accuracy: 0.9832\n",
      "Epoch 270/1000\n",
      "36/36 [==============================] - 0s 2ms/step - loss: 0.0925 - accuracy: 0.9777\n",
      "Epoch 271/1000\n",
      "36/36 [==============================] - 0s 2ms/step - loss: 0.1052 - accuracy: 0.9693\n",
      "Epoch 272/1000\n",
      "36/36 [==============================] - 0s 2ms/step - loss: 0.0461 - accuracy: 0.9832\n",
      "Epoch 273/1000\n",
      "36/36 [==============================] - 0s 2ms/step - loss: 0.0492 - accuracy: 0.9888\n",
      "Epoch 274/1000\n",
      "36/36 [==============================] - 0s 2ms/step - loss: 0.0295 - accuracy: 0.9944\n",
      "Epoch 275/1000\n",
      "36/36 [==============================] - 0s 2ms/step - loss: 0.0249 - accuracy: 0.9916\n",
      "Epoch 276/1000\n",
      "36/36 [==============================] - 0s 2ms/step - loss: 0.0076 - accuracy: 1.0000\n",
      "Epoch 277/1000\n",
      "36/36 [==============================] - 0s 2ms/step - loss: 0.0562 - accuracy: 0.9860\n",
      "Epoch 278/1000\n",
      "36/36 [==============================] - 0s 2ms/step - loss: 0.0187 - accuracy: 0.9944\n",
      "Epoch 279/1000\n",
      "36/36 [==============================] - 0s 2ms/step - loss: 0.0360 - accuracy: 0.9888\n",
      "Epoch 280/1000\n",
      "36/36 [==============================] - 0s 2ms/step - loss: 0.0448 - accuracy: 0.9860\n",
      "Epoch 281/1000\n",
      "36/36 [==============================] - 0s 2ms/step - loss: 0.0182 - accuracy: 0.9916\n",
      "Epoch 282/1000\n",
      "36/36 [==============================] - 0s 2ms/step - loss: 0.0199 - accuracy: 0.9944\n",
      "Epoch 283/1000\n",
      "36/36 [==============================] - 0s 2ms/step - loss: 0.0123 - accuracy: 0.9944\n",
      "Epoch 284/1000\n",
      "36/36 [==============================] - 0s 3ms/step - loss: 0.0283 - accuracy: 0.9832\n",
      "Epoch 285/1000\n",
      "36/36 [==============================] - 0s 3ms/step - loss: 0.0166 - accuracy: 0.9888\n",
      "Epoch 286/1000\n",
      "36/36 [==============================] - 0s 2ms/step - loss: 0.0661 - accuracy: 0.9860\n",
      "Epoch 287/1000\n",
      "36/36 [==============================] - 0s 2ms/step - loss: 0.0776 - accuracy: 0.9860\n",
      "Epoch 288/1000\n",
      "36/36 [==============================] - 0s 2ms/step - loss: 0.0776 - accuracy: 0.9804\n",
      "Epoch 289/1000\n",
      "36/36 [==============================] - 0s 2ms/step - loss: 0.1100 - accuracy: 0.9721\n",
      "Epoch 290/1000\n",
      "36/36 [==============================] - 0s 2ms/step - loss: 0.0468 - accuracy: 0.9860\n",
      "Epoch 291/1000\n",
      "36/36 [==============================] - 0s 2ms/step - loss: 0.0203 - accuracy: 0.9916\n",
      "Epoch 292/1000\n",
      "36/36 [==============================] - 0s 2ms/step - loss: 0.0294 - accuracy: 0.9944\n",
      "Epoch 293/1000\n",
      "36/36 [==============================] - 0s 2ms/step - loss: 0.0716 - accuracy: 0.9860\n",
      "Epoch 294/1000\n",
      "36/36 [==============================] - 0s 2ms/step - loss: 0.1107 - accuracy: 0.9749\n",
      "Epoch 295/1000\n",
      "36/36 [==============================] - 0s 2ms/step - loss: 0.0732 - accuracy: 0.9832\n",
      "Epoch 296/1000\n",
      "36/36 [==============================] - 0s 2ms/step - loss: 0.1746 - accuracy: 0.9721\n",
      "Epoch 297/1000\n",
      "36/36 [==============================] - 0s 2ms/step - loss: 0.0262 - accuracy: 0.9832\n",
      "Epoch 298/1000\n",
      "36/36 [==============================] - 0s 2ms/step - loss: 0.0280 - accuracy: 0.9888\n",
      "Epoch 299/1000\n",
      "36/36 [==============================] - 0s 2ms/step - loss: 0.0278 - accuracy: 0.9944\n",
      "Epoch 300/1000\n",
      "36/36 [==============================] - 0s 2ms/step - loss: 0.0272 - accuracy: 0.9860\n",
      "Epoch 301/1000\n",
      "36/36 [==============================] - 0s 2ms/step - loss: 0.0076 - accuracy: 0.9972\n",
      "Epoch 302/1000\n",
      "36/36 [==============================] - 0s 2ms/step - loss: 0.0161 - accuracy: 0.9944\n",
      "Epoch 303/1000\n",
      "36/36 [==============================] - 0s 2ms/step - loss: 0.1057 - accuracy: 0.9749\n",
      "Epoch 304/1000\n",
      "36/36 [==============================] - 0s 2ms/step - loss: 0.0353 - accuracy: 0.9860\n",
      "Epoch 305/1000\n",
      "36/36 [==============================] - 0s 2ms/step - loss: 0.0115 - accuracy: 0.9972\n",
      "Epoch 306/1000\n",
      "36/36 [==============================] - 0s 2ms/step - loss: 0.0060 - accuracy: 0.9972\n",
      "Epoch 307/1000\n",
      "36/36 [==============================] - 0s 2ms/step - loss: 0.0242 - accuracy: 0.9944\n",
      "Epoch 308/1000\n",
      "36/36 [==============================] - 0s 2ms/step - loss: 0.0308 - accuracy: 0.9888\n",
      "Epoch 309/1000\n",
      "36/36 [==============================] - 0s 2ms/step - loss: 0.0388 - accuracy: 0.9944\n",
      "Epoch 310/1000\n",
      "36/36 [==============================] - 0s 3ms/step - loss: 0.0211 - accuracy: 0.9916\n",
      "Epoch 311/1000\n",
      "36/36 [==============================] - 0s 2ms/step - loss: 0.0663 - accuracy: 0.9832\n",
      "Epoch 312/1000\n",
      "36/36 [==============================] - 0s 2ms/step - loss: 0.0575 - accuracy: 0.9832\n",
      "Epoch 313/1000\n",
      "36/36 [==============================] - 0s 2ms/step - loss: 0.0105 - accuracy: 0.9944\n",
      "Epoch 314/1000\n",
      "36/36 [==============================] - 0s 2ms/step - loss: 0.0239 - accuracy: 0.9916\n",
      "Epoch 315/1000\n",
      "36/36 [==============================] - 0s 2ms/step - loss: 0.0258 - accuracy: 0.9916\n",
      "Epoch 316/1000\n",
      "36/36 [==============================] - 0s 2ms/step - loss: 0.0114 - accuracy: 0.9916\n",
      "Epoch 317/1000\n",
      "36/36 [==============================] - 0s 2ms/step - loss: 0.0153 - accuracy: 0.9944\n",
      "Epoch 318/1000\n",
      "36/36 [==============================] - 0s 2ms/step - loss: 0.0155 - accuracy: 0.9944\n",
      "Epoch 319/1000\n",
      "36/36 [==============================] - 0s 2ms/step - loss: 0.0361 - accuracy: 0.9916\n",
      "Epoch 320/1000\n",
      "36/36 [==============================] - 0s 2ms/step - loss: 0.0022 - accuracy: 1.0000\n",
      "Epoch 321/1000\n",
      "36/36 [==============================] - 0s 2ms/step - loss: 0.0040 - accuracy: 0.9972\n",
      "Epoch 322/1000\n",
      "36/36 [==============================] - 0s 2ms/step - loss: 0.0572 - accuracy: 0.9888\n",
      "Epoch 323/1000\n",
      "36/36 [==============================] - 0s 2ms/step - loss: 0.0147 - accuracy: 0.9944\n",
      "Epoch 324/1000\n",
      "36/36 [==============================] - 0s 2ms/step - loss: 0.0070 - accuracy: 0.9972\n",
      "Epoch 325/1000\n",
      "36/36 [==============================] - 0s 2ms/step - loss: 0.0442 - accuracy: 0.9916\n",
      "Epoch 326/1000\n",
      "36/36 [==============================] - 0s 2ms/step - loss: 0.0126 - accuracy: 0.9972\n",
      "Epoch 327/1000\n",
      "36/36 [==============================] - 0s 2ms/step - loss: 0.0779 - accuracy: 0.9832\n",
      "Epoch 328/1000\n",
      "36/36 [==============================] - 0s 2ms/step - loss: 0.0242 - accuracy: 0.9944\n",
      "Epoch 329/1000\n",
      "36/36 [==============================] - 0s 2ms/step - loss: 0.0586 - accuracy: 0.9832\n",
      "Epoch 330/1000\n",
      "36/36 [==============================] - 0s 2ms/step - loss: 0.0277 - accuracy: 0.9916\n",
      "Epoch 331/1000\n",
      "36/36 [==============================] - 0s 2ms/step - loss: 0.0586 - accuracy: 0.9916\n",
      "Epoch 332/1000\n",
      "36/36 [==============================] - 0s 2ms/step - loss: 0.0845 - accuracy: 0.9804\n",
      "Epoch 333/1000\n",
      "36/36 [==============================] - 0s 2ms/step - loss: 0.0355 - accuracy: 0.9916\n",
      "Epoch 334/1000\n",
      "36/36 [==============================] - 0s 2ms/step - loss: 0.0300 - accuracy: 0.9916\n",
      "Epoch 335/1000\n",
      "36/36 [==============================] - 0s 2ms/step - loss: 0.0143 - accuracy: 0.9944\n",
      "Epoch 336/1000\n",
      "36/36 [==============================] - 0s 2ms/step - loss: 0.0368 - accuracy: 0.9888\n",
      "Epoch 337/1000\n",
      "36/36 [==============================] - 0s 2ms/step - loss: 0.0250 - accuracy: 0.9916\n",
      "Epoch 338/1000\n",
      "36/36 [==============================] - 0s 2ms/step - loss: 0.0203 - accuracy: 0.9916\n",
      "Epoch 339/1000\n",
      "36/36 [==============================] - 0s 2ms/step - loss: 0.0051 - accuracy: 0.9972\n",
      "Epoch 340/1000\n",
      "36/36 [==============================] - 0s 2ms/step - loss: 0.0059 - accuracy: 0.9972\n",
      "Epoch 341/1000\n",
      "36/36 [==============================] - 0s 2ms/step - loss: 0.0041 - accuracy: 0.9972\n",
      "Epoch 342/1000\n",
      "36/36 [==============================] - 0s 2ms/step - loss: 0.0146 - accuracy: 0.9916\n",
      "Epoch 343/1000\n",
      "36/36 [==============================] - 0s 2ms/step - loss: 0.0344 - accuracy: 0.9916\n",
      "Epoch 344/1000\n",
      "36/36 [==============================] - 0s 2ms/step - loss: 0.0144 - accuracy: 0.9972\n",
      "Epoch 345/1000\n",
      "36/36 [==============================] - 0s 2ms/step - loss: 0.0189 - accuracy: 0.9944\n",
      "Epoch 346/1000\n",
      "36/36 [==============================] - 0s 2ms/step - loss: 0.0186 - accuracy: 0.9916\n",
      "Epoch 347/1000\n",
      "36/36 [==============================] - 0s 2ms/step - loss: 0.1338 - accuracy: 0.9832\n",
      "Epoch 348/1000\n",
      "36/36 [==============================] - 0s 2ms/step - loss: 0.0991 - accuracy: 0.9804\n",
      "Epoch 349/1000\n",
      "36/36 [==============================] - 0s 2ms/step - loss: 0.0640 - accuracy: 0.9888\n",
      "Epoch 350/1000\n",
      "36/36 [==============================] - 0s 2ms/step - loss: 0.0241 - accuracy: 0.9944\n",
      "Epoch 351/1000\n",
      "36/36 [==============================] - 0s 2ms/step - loss: 0.0277 - accuracy: 0.9972\n",
      "Epoch 352/1000\n",
      "36/36 [==============================] - 0s 2ms/step - loss: 0.0044 - accuracy: 1.0000\n",
      "Epoch 353/1000\n",
      "36/36 [==============================] - 0s 2ms/step - loss: 0.0354 - accuracy: 0.9888\n",
      "Epoch 354/1000\n",
      "36/36 [==============================] - 0s 2ms/step - loss: 0.0216 - accuracy: 0.9944\n",
      "Epoch 355/1000\n",
      "36/36 [==============================] - 0s 2ms/step - loss: 0.0042 - accuracy: 0.9972\n",
      "Epoch 356/1000\n",
      "36/36 [==============================] - 0s 2ms/step - loss: 0.0057 - accuracy: 0.9972\n",
      "Epoch 357/1000\n",
      "36/36 [==============================] - 0s 2ms/step - loss: 0.0089 - accuracy: 0.9944\n",
      "Epoch 358/1000\n",
      "36/36 [==============================] - 0s 2ms/step - loss: 0.0339 - accuracy: 0.9860\n",
      "Epoch 359/1000\n",
      "36/36 [==============================] - 0s 2ms/step - loss: 0.0043 - accuracy: 0.9972\n",
      "Epoch 360/1000\n",
      "36/36 [==============================] - 0s 2ms/step - loss: 0.0047 - accuracy: 1.0000\n",
      "Epoch 361/1000\n",
      "36/36 [==============================] - 0s 2ms/step - loss: 0.0218 - accuracy: 0.9944\n",
      "Epoch 362/1000\n",
      "36/36 [==============================] - 0s 2ms/step - loss: 0.0021 - accuracy: 1.0000\n",
      "Epoch 363/1000\n",
      "36/36 [==============================] - 0s 2ms/step - loss: 0.0054 - accuracy: 0.9972\n",
      "Epoch 364/1000\n",
      "36/36 [==============================] - 0s 2ms/step - loss: 0.0073 - accuracy: 0.9972\n",
      "Epoch 365/1000\n",
      "36/36 [==============================] - 0s 2ms/step - loss: 0.0159 - accuracy: 0.9916\n",
      "Epoch 366/1000\n",
      "36/36 [==============================] - 0s 2ms/step - loss: 0.0016 - accuracy: 1.0000\n",
      "Epoch 367/1000\n",
      "36/36 [==============================] - 0s 2ms/step - loss: 0.0335 - accuracy: 0.9944\n",
      "Epoch 368/1000\n",
      "36/36 [==============================] - 0s 2ms/step - loss: 0.0270 - accuracy: 0.9888\n",
      "Epoch 369/1000\n",
      "36/36 [==============================] - 0s 2ms/step - loss: 0.0106 - accuracy: 0.9944\n",
      "Epoch 370/1000\n",
      "36/36 [==============================] - 0s 2ms/step - loss: 0.0582 - accuracy: 0.9860\n",
      "Epoch 371/1000\n",
      "36/36 [==============================] - 0s 2ms/step - loss: 0.2217 - accuracy: 0.9441\n",
      "Epoch 372/1000\n",
      "36/36 [==============================] - 0s 2ms/step - loss: 0.3698 - accuracy: 0.9078\n",
      "Epoch 373/1000\n",
      "36/36 [==============================] - 0s 2ms/step - loss: 0.0533 - accuracy: 0.9860\n",
      "Epoch 374/1000\n",
      "36/36 [==============================] - 0s 2ms/step - loss: 0.0890 - accuracy: 0.9777\n",
      "Epoch 375/1000\n",
      "36/36 [==============================] - 0s 2ms/step - loss: 0.1611 - accuracy: 0.9665\n",
      "Epoch 376/1000\n",
      "36/36 [==============================] - 0s 3ms/step - loss: 0.0860 - accuracy: 0.9832\n",
      "Epoch 377/1000\n",
      "36/36 [==============================] - 0s 2ms/step - loss: 0.1181 - accuracy: 0.9749\n",
      "Epoch 378/1000\n",
      "36/36 [==============================] - 0s 2ms/step - loss: 0.0823 - accuracy: 0.9832\n",
      "Epoch 379/1000\n",
      "36/36 [==============================] - 0s 2ms/step - loss: 0.0841 - accuracy: 0.9888\n",
      "Epoch 380/1000\n",
      "36/36 [==============================] - 0s 2ms/step - loss: 0.0080 - accuracy: 0.9972\n",
      "Epoch 381/1000\n",
      "36/36 [==============================] - 0s 2ms/step - loss: 0.0252 - accuracy: 0.9888\n",
      "Epoch 382/1000\n",
      "36/36 [==============================] - 0s 2ms/step - loss: 0.0066 - accuracy: 0.9972\n",
      "Epoch 383/1000\n",
      "36/36 [==============================] - 0s 2ms/step - loss: 0.0571 - accuracy: 0.9916\n",
      "Epoch 384/1000\n",
      "36/36 [==============================] - 0s 2ms/step - loss: 0.0422 - accuracy: 0.9888\n",
      "Epoch 385/1000\n",
      "36/36 [==============================] - 0s 2ms/step - loss: 0.0607 - accuracy: 0.9944\n",
      "Epoch 386/1000\n",
      "36/36 [==============================] - 0s 2ms/step - loss: 0.0088 - accuracy: 0.9944\n",
      "Epoch 387/1000\n",
      "36/36 [==============================] - 0s 2ms/step - loss: 0.0014 - accuracy: 1.0000\n",
      "Epoch 388/1000\n",
      "36/36 [==============================] - 0s 2ms/step - loss: 0.0043 - accuracy: 0.9972\n",
      "Epoch 389/1000\n",
      "36/36 [==============================] - 0s 2ms/step - loss: 0.0384 - accuracy: 0.9860\n",
      "Epoch 390/1000\n",
      "36/36 [==============================] - 0s 2ms/step - loss: 0.0313 - accuracy: 0.9916\n",
      "Epoch 391/1000\n",
      "36/36 [==============================] - 0s 2ms/step - loss: 0.0305 - accuracy: 0.9888\n",
      "Epoch 392/1000\n",
      "36/36 [==============================] - 0s 2ms/step - loss: 0.0204 - accuracy: 0.9944\n",
      "Epoch 393/1000\n",
      "36/36 [==============================] - 0s 2ms/step - loss: 0.0122 - accuracy: 0.9972\n",
      "Epoch 394/1000\n",
      "36/36 [==============================] - 0s 2ms/step - loss: 0.0349 - accuracy: 0.9888\n",
      "Epoch 395/1000\n",
      "36/36 [==============================] - 0s 2ms/step - loss: 0.0285 - accuracy: 0.9916\n",
      "Epoch 396/1000\n",
      "36/36 [==============================] - 0s 2ms/step - loss: 0.0715 - accuracy: 0.9888\n",
      "Epoch 397/1000\n",
      "36/36 [==============================] - 0s 2ms/step - loss: 0.0267 - accuracy: 0.9888\n",
      "Epoch 398/1000\n",
      "36/36 [==============================] - 0s 2ms/step - loss: 0.0174 - accuracy: 0.9916\n",
      "Epoch 399/1000\n",
      "36/36 [==============================] - 0s 2ms/step - loss: 9.4848e-04 - accuracy: 1.0000\n",
      "Epoch 400/1000\n",
      "36/36 [==============================] - 0s 2ms/step - loss: 0.0040 - accuracy: 0.9972\n",
      "Epoch 401/1000\n",
      "36/36 [==============================] - 0s 2ms/step - loss: 0.0030 - accuracy: 0.9972\n",
      "Epoch 402/1000\n",
      "36/36 [==============================] - 0s 2ms/step - loss: 0.0196 - accuracy: 0.9972\n",
      "Epoch 403/1000\n",
      "36/36 [==============================] - 0s 2ms/step - loss: 0.0047 - accuracy: 0.9972\n",
      "Epoch 404/1000\n",
      "36/36 [==============================] - 0s 2ms/step - loss: 0.0103 - accuracy: 0.9972\n",
      "Epoch 405/1000\n",
      "36/36 [==============================] - 0s 2ms/step - loss: 0.0108 - accuracy: 0.9944\n",
      "Epoch 406/1000\n",
      "36/36 [==============================] - 0s 2ms/step - loss: 5.7150e-04 - accuracy: 1.0000\n",
      "Epoch 407/1000\n",
      "36/36 [==============================] - 0s 2ms/step - loss: 0.0055 - accuracy: 0.9972\n",
      "Epoch 408/1000\n",
      "36/36 [==============================] - 0s 2ms/step - loss: 0.0055 - accuracy: 0.9972\n",
      "Epoch 409/1000\n",
      "36/36 [==============================] - 0s 2ms/step - loss: 0.0022 - accuracy: 1.0000\n",
      "Epoch 410/1000\n",
      "36/36 [==============================] - 0s 2ms/step - loss: 0.0014 - accuracy: 1.0000\n",
      "Epoch 411/1000\n",
      "36/36 [==============================] - 0s 2ms/step - loss: 6.5538e-05 - accuracy: 1.0000\n",
      "Epoch 412/1000\n",
      "36/36 [==============================] - 0s 2ms/step - loss: 0.0189 - accuracy: 0.9944\n",
      "Epoch 413/1000\n",
      "36/36 [==============================] - 0s 2ms/step - loss: 0.0108 - accuracy: 0.9916\n",
      "Epoch 414/1000\n",
      "36/36 [==============================] - 0s 2ms/step - loss: 0.0489 - accuracy: 0.9832\n",
      "Epoch 415/1000\n",
      "36/36 [==============================] - 0s 2ms/step - loss: 0.0126 - accuracy: 0.9972\n",
      "Epoch 416/1000\n",
      "36/36 [==============================] - 0s 2ms/step - loss: 0.0171 - accuracy: 0.9916\n",
      "Epoch 417/1000\n",
      "36/36 [==============================] - 0s 2ms/step - loss: 0.0065 - accuracy: 0.9972\n",
      "Epoch 418/1000\n",
      "36/36 [==============================] - 0s 2ms/step - loss: 0.0042 - accuracy: 1.0000\n",
      "Epoch 419/1000\n",
      "36/36 [==============================] - 0s 2ms/step - loss: 0.0049 - accuracy: 0.9972\n",
      "Epoch 420/1000\n",
      "36/36 [==============================] - 0s 2ms/step - loss: 0.0132 - accuracy: 0.9944\n",
      "Epoch 421/1000\n",
      "36/36 [==============================] - 0s 2ms/step - loss: 0.0024 - accuracy: 1.0000\n",
      "Epoch 422/1000\n",
      "36/36 [==============================] - 0s 2ms/step - loss: 3.5842e-04 - accuracy: 1.0000\n",
      "Epoch 423/1000\n",
      "36/36 [==============================] - 0s 2ms/step - loss: 0.0141 - accuracy: 0.9944\n",
      "Epoch 424/1000\n",
      "36/36 [==============================] - 0s 2ms/step - loss: 0.0106 - accuracy: 0.9944\n",
      "Epoch 425/1000\n",
      "36/36 [==============================] - 0s 2ms/step - loss: 0.0569 - accuracy: 0.9832\n",
      "Epoch 426/1000\n",
      "36/36 [==============================] - 0s 2ms/step - loss: 0.0447 - accuracy: 0.9916\n",
      "Epoch 427/1000\n",
      "36/36 [==============================] - 0s 2ms/step - loss: 0.0165 - accuracy: 0.9944\n",
      "Epoch 428/1000\n",
      "36/36 [==============================] - 0s 2ms/step - loss: 0.0140 - accuracy: 0.9916\n",
      "Epoch 429/1000\n",
      "36/36 [==============================] - 0s 2ms/step - loss: 0.0186 - accuracy: 0.9916\n",
      "Epoch 430/1000\n",
      "36/36 [==============================] - 0s 2ms/step - loss: 0.0051 - accuracy: 0.9972\n",
      "Epoch 431/1000\n",
      "36/36 [==============================] - 0s 2ms/step - loss: 0.0050 - accuracy: 0.9972\n",
      "Epoch 432/1000\n",
      "36/36 [==============================] - 0s 2ms/step - loss: 0.0025 - accuracy: 1.0000\n",
      "Epoch 433/1000\n",
      "36/36 [==============================] - 0s 2ms/step - loss: 0.0509 - accuracy: 0.9944\n",
      "Epoch 434/1000\n",
      "36/36 [==============================] - 0s 2ms/step - loss: 0.0549 - accuracy: 0.9777\n",
      "Epoch 435/1000\n",
      "36/36 [==============================] - 0s 2ms/step - loss: 0.0185 - accuracy: 0.9916\n",
      "Epoch 436/1000\n",
      "36/36 [==============================] - 0s 2ms/step - loss: 0.0459 - accuracy: 0.9944\n",
      "Epoch 437/1000\n",
      "36/36 [==============================] - 0s 2ms/step - loss: 0.0608 - accuracy: 0.9860\n",
      "Epoch 438/1000\n",
      "36/36 [==============================] - 0s 2ms/step - loss: 0.1955 - accuracy: 0.9637\n",
      "Epoch 439/1000\n",
      "36/36 [==============================] - 0s 2ms/step - loss: 0.1562 - accuracy: 0.9581\n",
      "Epoch 440/1000\n",
      "36/36 [==============================] - 0s 2ms/step - loss: 0.1008 - accuracy: 0.9749\n",
      "Epoch 441/1000\n",
      "36/36 [==============================] - 0s 2ms/step - loss: 0.0507 - accuracy: 0.9860\n",
      "Epoch 442/1000\n",
      "36/36 [==============================] - 0s 2ms/step - loss: 0.0811 - accuracy: 0.9749\n",
      "Epoch 443/1000\n",
      "36/36 [==============================] - 0s 2ms/step - loss: 0.0417 - accuracy: 0.9860\n",
      "Epoch 444/1000\n",
      "36/36 [==============================] - 0s 2ms/step - loss: 0.1005 - accuracy: 0.9832\n",
      "Epoch 445/1000\n",
      "36/36 [==============================] - 0s 2ms/step - loss: 0.1092 - accuracy: 0.9860\n",
      "Epoch 446/1000\n",
      "36/36 [==============================] - 0s 2ms/step - loss: 0.0327 - accuracy: 0.9832\n",
      "Epoch 447/1000\n",
      "36/36 [==============================] - 0s 2ms/step - loss: 0.0284 - accuracy: 0.9888\n",
      "Epoch 448/1000\n",
      "36/36 [==============================] - 0s 2ms/step - loss: 0.0457 - accuracy: 0.9804\n",
      "Epoch 449/1000\n",
      "36/36 [==============================] - 0s 2ms/step - loss: 0.0175 - accuracy: 0.9972\n",
      "Epoch 450/1000\n",
      "36/36 [==============================] - 0s 2ms/step - loss: 0.0279 - accuracy: 0.9888\n",
      "Epoch 451/1000\n",
      "36/36 [==============================] - 0s 2ms/step - loss: 0.0241 - accuracy: 0.9888\n",
      "Epoch 452/1000\n",
      "36/36 [==============================] - 0s 2ms/step - loss: 0.0231 - accuracy: 0.9972\n",
      "Epoch 453/1000\n",
      "36/36 [==============================] - 0s 2ms/step - loss: 5.4793e-04 - accuracy: 1.0000\n",
      "Epoch 454/1000\n",
      "36/36 [==============================] - 0s 2ms/step - loss: 0.0087 - accuracy: 0.9972\n",
      "Epoch 455/1000\n",
      "36/36 [==============================] - 0s 2ms/step - loss: 0.0205 - accuracy: 0.9944\n",
      "Epoch 456/1000\n",
      "36/36 [==============================] - 0s 2ms/step - loss: 0.0229 - accuracy: 0.9944\n",
      "Epoch 457/1000\n",
      "36/36 [==============================] - 0s 2ms/step - loss: 0.0386 - accuracy: 0.9916\n",
      "Epoch 458/1000\n",
      "36/36 [==============================] - 0s 2ms/step - loss: 0.0207 - accuracy: 0.9916\n",
      "Epoch 459/1000\n",
      "36/36 [==============================] - 0s 2ms/step - loss: 0.0679 - accuracy: 0.9916\n",
      "Epoch 460/1000\n",
      "36/36 [==============================] - 0s 2ms/step - loss: 0.0516 - accuracy: 0.9916\n",
      "Epoch 461/1000\n",
      "36/36 [==============================] - 0s 2ms/step - loss: 0.0841 - accuracy: 0.9777\n",
      "Epoch 462/1000\n",
      "36/36 [==============================] - 0s 2ms/step - loss: 0.0631 - accuracy: 0.9916\n",
      "Epoch 463/1000\n",
      "36/36 [==============================] - 0s 2ms/step - loss: 0.0166 - accuracy: 0.9944\n",
      "Epoch 464/1000\n",
      "36/36 [==============================] - 0s 2ms/step - loss: 0.0112 - accuracy: 0.9944\n",
      "Epoch 465/1000\n",
      "36/36 [==============================] - 0s 2ms/step - loss: 0.0214 - accuracy: 0.9944\n",
      "Epoch 466/1000\n",
      "36/36 [==============================] - 0s 2ms/step - loss: 0.0368 - accuracy: 0.9972\n",
      "Epoch 467/1000\n",
      "36/36 [==============================] - 0s 2ms/step - loss: 0.0151 - accuracy: 0.9944\n",
      "Epoch 468/1000\n",
      "36/36 [==============================] - 0s 2ms/step - loss: 0.0096 - accuracy: 0.9972\n",
      "Epoch 469/1000\n",
      "36/36 [==============================] - 0s 2ms/step - loss: 0.0012 - accuracy: 1.0000\n",
      "Epoch 470/1000\n",
      "36/36 [==============================] - 0s 2ms/step - loss: 0.0312 - accuracy: 0.9916\n",
      "Epoch 471/1000\n",
      "36/36 [==============================] - 0s 2ms/step - loss: 9.9818e-04 - accuracy: 1.0000\n",
      "Epoch 472/1000\n",
      "36/36 [==============================] - 0s 2ms/step - loss: 0.0045 - accuracy: 0.9972\n",
      "Epoch 473/1000\n",
      "36/36 [==============================] - 0s 2ms/step - loss: 0.0084 - accuracy: 0.9944\n",
      "Epoch 474/1000\n",
      "36/36 [==============================] - 0s 2ms/step - loss: 0.0075 - accuracy: 0.9972\n",
      "Epoch 475/1000\n",
      "36/36 [==============================] - 0s 2ms/step - loss: 0.0190 - accuracy: 0.9944\n",
      "Epoch 476/1000\n",
      "36/36 [==============================] - 0s 2ms/step - loss: 0.0462 - accuracy: 0.9944\n",
      "Epoch 477/1000\n",
      "36/36 [==============================] - 0s 2ms/step - loss: 8.4878e-04 - accuracy: 1.0000\n",
      "Epoch 478/1000\n",
      "36/36 [==============================] - 0s 3ms/step - loss: 0.0013 - accuracy: 1.0000\n",
      "Epoch 479/1000\n",
      "36/36 [==============================] - 0s 2ms/step - loss: 3.6838e-04 - accuracy: 1.0000\n",
      "Epoch 480/1000\n",
      "36/36 [==============================] - 0s 2ms/step - loss: 0.0155 - accuracy: 0.9944\n",
      "Epoch 481/1000\n",
      "36/36 [==============================] - 0s 2ms/step - loss: 0.0308 - accuracy: 0.9944\n",
      "Epoch 482/1000\n",
      "36/36 [==============================] - 0s 2ms/step - loss: 0.0181 - accuracy: 0.9888\n",
      "Epoch 483/1000\n",
      "36/36 [==============================] - 0s 2ms/step - loss: 0.0120 - accuracy: 0.9944\n",
      "Epoch 484/1000\n",
      "36/36 [==============================] - 0s 2ms/step - loss: 0.0158 - accuracy: 0.9916\n",
      "Epoch 485/1000\n",
      "36/36 [==============================] - 0s 2ms/step - loss: 0.0046 - accuracy: 0.9972\n",
      "Epoch 486/1000\n",
      "36/36 [==============================] - 0s 2ms/step - loss: 0.0177 - accuracy: 0.9944\n",
      "Epoch 487/1000\n",
      "36/36 [==============================] - 0s 2ms/step - loss: 6.0915e-04 - accuracy: 1.0000\n",
      "Epoch 488/1000\n",
      "36/36 [==============================] - 0s 2ms/step - loss: 0.0202 - accuracy: 0.9944\n",
      "Epoch 489/1000\n",
      "36/36 [==============================] - 0s 2ms/step - loss: 0.0036 - accuracy: 1.0000\n",
      "Epoch 490/1000\n",
      "36/36 [==============================] - 0s 2ms/step - loss: 0.0148 - accuracy: 0.9916\n",
      "Epoch 491/1000\n",
      "36/36 [==============================] - 0s 2ms/step - loss: 0.0046 - accuracy: 0.9972\n",
      "Epoch 492/1000\n",
      "36/36 [==============================] - 0s 2ms/step - loss: 0.0269 - accuracy: 0.9916\n",
      "Epoch 493/1000\n",
      "36/36 [==============================] - 0s 2ms/step - loss: 0.1309 - accuracy: 0.9832\n",
      "Epoch 494/1000\n",
      "36/36 [==============================] - 0s 2ms/step - loss: 0.0400 - accuracy: 0.9888\n",
      "Epoch 495/1000\n",
      "36/36 [==============================] - 0s 2ms/step - loss: 0.0432 - accuracy: 0.9860\n",
      "Epoch 496/1000\n",
      "36/36 [==============================] - 0s 2ms/step - loss: 0.0262 - accuracy: 0.9972\n",
      "Epoch 497/1000\n",
      "36/36 [==============================] - 0s 2ms/step - loss: 0.0307 - accuracy: 0.9972\n",
      "Epoch 498/1000\n",
      "36/36 [==============================] - 0s 2ms/step - loss: 0.0228 - accuracy: 0.9972\n",
      "Epoch 499/1000\n",
      "36/36 [==============================] - 0s 2ms/step - loss: 0.0019 - accuracy: 1.0000\n",
      "Epoch 500/1000\n",
      "36/36 [==============================] - 0s 2ms/step - loss: 0.0114 - accuracy: 0.9972\n",
      "Epoch 501/1000\n",
      "36/36 [==============================] - 0s 2ms/step - loss: 0.0583 - accuracy: 0.9860\n",
      "Epoch 502/1000\n",
      "36/36 [==============================] - 0s 2ms/step - loss: 0.0200 - accuracy: 0.9972\n",
      "Epoch 503/1000\n",
      "36/36 [==============================] - 0s 2ms/step - loss: 0.0206 - accuracy: 0.9916\n",
      "Epoch 504/1000\n",
      "36/36 [==============================] - 0s 2ms/step - loss: 0.0062 - accuracy: 0.9972\n",
      "Epoch 505/1000\n",
      "36/36 [==============================] - 0s 2ms/step - loss: 0.0262 - accuracy: 0.9916\n",
      "Epoch 506/1000\n",
      "36/36 [==============================] - 0s 2ms/step - loss: 0.0762 - accuracy: 0.9860\n",
      "Epoch 507/1000\n",
      "36/36 [==============================] - 0s 2ms/step - loss: 0.0730 - accuracy: 0.9832\n",
      "Epoch 508/1000\n",
      "36/36 [==============================] - 0s 2ms/step - loss: 0.0492 - accuracy: 0.9888\n",
      "Epoch 509/1000\n",
      "36/36 [==============================] - 0s 2ms/step - loss: 0.0379 - accuracy: 0.9916\n",
      "Epoch 510/1000\n",
      "36/36 [==============================] - 0s 2ms/step - loss: 0.0394 - accuracy: 0.9888\n",
      "Epoch 511/1000\n",
      "36/36 [==============================] - 0s 2ms/step - loss: 0.1021 - accuracy: 0.9749\n",
      "Epoch 512/1000\n",
      "36/36 [==============================] - 0s 2ms/step - loss: 0.1677 - accuracy: 0.9637\n",
      "Epoch 513/1000\n",
      "36/36 [==============================] - 0s 2ms/step - loss: 0.0126 - accuracy: 0.9972\n",
      "Epoch 514/1000\n",
      "36/36 [==============================] - 0s 2ms/step - loss: 0.0118 - accuracy: 0.9944\n",
      "Epoch 515/1000\n",
      "36/36 [==============================] - 0s 2ms/step - loss: 0.0105 - accuracy: 0.9944\n",
      "Epoch 516/1000\n",
      "36/36 [==============================] - 0s 2ms/step - loss: 0.0075 - accuracy: 0.9972\n",
      "Epoch 517/1000\n",
      "36/36 [==============================] - 0s 2ms/step - loss: 5.3351e-04 - accuracy: 1.0000\n",
      "Epoch 518/1000\n",
      "36/36 [==============================] - 0s 2ms/step - loss: 0.0095 - accuracy: 0.9972\n",
      "Epoch 519/1000\n",
      "36/36 [==============================] - 0s 2ms/step - loss: 0.0022 - accuracy: 1.0000\n",
      "Epoch 520/1000\n",
      "36/36 [==============================] - 0s 2ms/step - loss: 0.0026 - accuracy: 1.0000\n",
      "Epoch 521/1000\n",
      "36/36 [==============================] - 0s 2ms/step - loss: 0.0635 - accuracy: 0.9832\n",
      "Epoch 522/1000\n",
      "36/36 [==============================] - 0s 2ms/step - loss: 0.1117 - accuracy: 0.9777\n",
      "Epoch 523/1000\n",
      "36/36 [==============================] - 0s 2ms/step - loss: 0.0723 - accuracy: 0.9860\n",
      "Epoch 524/1000\n",
      "36/36 [==============================] - 0s 2ms/step - loss: 0.0199 - accuracy: 0.9944\n",
      "Epoch 525/1000\n",
      "36/36 [==============================] - 0s 2ms/step - loss: 0.0595 - accuracy: 0.9916\n",
      "Epoch 526/1000\n",
      "36/36 [==============================] - 0s 2ms/step - loss: 0.0314 - accuracy: 0.9888\n",
      "Epoch 527/1000\n",
      "36/36 [==============================] - 0s 2ms/step - loss: 0.0664 - accuracy: 0.9804\n",
      "Epoch 528/1000\n",
      "36/36 [==============================] - 0s 2ms/step - loss: 0.0964 - accuracy: 0.9860\n",
      "Epoch 529/1000\n",
      "36/36 [==============================] - 0s 2ms/step - loss: 0.0784 - accuracy: 0.9860\n",
      "Epoch 530/1000\n",
      "36/36 [==============================] - 0s 2ms/step - loss: 0.0310 - accuracy: 0.9944\n",
      "Epoch 531/1000\n",
      "36/36 [==============================] - 0s 2ms/step - loss: 0.0126 - accuracy: 0.9944\n",
      "Epoch 532/1000\n",
      "36/36 [==============================] - 0s 3ms/step - loss: 0.0025 - accuracy: 1.0000\n",
      "Epoch 533/1000\n",
      "36/36 [==============================] - 0s 2ms/step - loss: 0.0219 - accuracy: 0.9972\n",
      "Epoch 534/1000\n",
      "36/36 [==============================] - 0s 2ms/step - loss: 0.0203 - accuracy: 0.9944\n",
      "Epoch 535/1000\n",
      "36/36 [==============================] - 0s 2ms/step - loss: 0.0495 - accuracy: 0.9860\n",
      "Epoch 536/1000\n",
      "36/36 [==============================] - 0s 2ms/step - loss: 0.0239 - accuracy: 0.9860\n",
      "Epoch 537/1000\n",
      "36/36 [==============================] - 0s 2ms/step - loss: 0.0041 - accuracy: 0.9972\n",
      "Epoch 538/1000\n",
      "36/36 [==============================] - 0s 2ms/step - loss: 0.0327 - accuracy: 0.9972\n",
      "Epoch 539/1000\n",
      "36/36 [==============================] - 0s 2ms/step - loss: 0.0105 - accuracy: 0.9972\n",
      "Epoch 540/1000\n",
      "36/36 [==============================] - 0s 3ms/step - loss: 0.0168 - accuracy: 0.9944\n",
      "Epoch 541/1000\n",
      "36/36 [==============================] - 0s 3ms/step - loss: 0.0261 - accuracy: 0.9888\n",
      "Epoch 542/1000\n",
      "36/36 [==============================] - 0s 3ms/step - loss: 0.0042 - accuracy: 1.0000\n",
      "Epoch 543/1000\n",
      "36/36 [==============================] - 0s 3ms/step - loss: 0.0124 - accuracy: 0.9972\n",
      "Epoch 544/1000\n",
      "36/36 [==============================] - 0s 3ms/step - loss: 0.0012 - accuracy: 1.0000\n",
      "Epoch 545/1000\n",
      "36/36 [==============================] - 0s 3ms/step - loss: 5.5564e-04 - accuracy: 1.0000\n",
      "Epoch 546/1000\n",
      "36/36 [==============================] - 0s 3ms/step - loss: 5.0196e-04 - accuracy: 1.0000\n",
      "Epoch 547/1000\n",
      "36/36 [==============================] - 0s 3ms/step - loss: 0.0057 - accuracy: 0.9972\n",
      "Epoch 548/1000\n",
      "36/36 [==============================] - 0s 3ms/step - loss: 0.0289 - accuracy: 0.9944\n",
      "Epoch 549/1000\n",
      "36/36 [==============================] - 0s 3ms/step - loss: 0.0269 - accuracy: 0.9916\n",
      "Epoch 550/1000\n",
      "36/36 [==============================] - 0s 2ms/step - loss: 0.0121 - accuracy: 0.9944\n",
      "Epoch 551/1000\n",
      "36/36 [==============================] - 0s 2ms/step - loss: 0.0089 - accuracy: 0.9972\n",
      "Epoch 552/1000\n",
      "36/36 [==============================] - 0s 2ms/step - loss: 8.1666e-04 - accuracy: 1.0000\n",
      "Epoch 553/1000\n",
      "36/36 [==============================] - 0s 2ms/step - loss: 0.0258 - accuracy: 0.9944\n",
      "Epoch 554/1000\n",
      "36/36 [==============================] - 0s 2ms/step - loss: 0.0187 - accuracy: 0.9916\n",
      "Epoch 555/1000\n",
      "36/36 [==============================] - 0s 2ms/step - loss: 0.0228 - accuracy: 0.9944\n",
      "Epoch 556/1000\n",
      "36/36 [==============================] - 0s 2ms/step - loss: 0.0470 - accuracy: 0.9888\n",
      "Epoch 557/1000\n",
      "36/36 [==============================] - 0s 2ms/step - loss: 0.0185 - accuracy: 0.9944\n",
      "Epoch 558/1000\n",
      "36/36 [==============================] - 0s 2ms/step - loss: 0.0333 - accuracy: 0.9888\n",
      "Epoch 559/1000\n",
      "36/36 [==============================] - 0s 2ms/step - loss: 0.0388 - accuracy: 0.9888\n",
      "Epoch 560/1000\n",
      "36/36 [==============================] - 0s 2ms/step - loss: 0.0580 - accuracy: 0.9916\n",
      "Epoch 561/1000\n",
      "36/36 [==============================] - 0s 2ms/step - loss: 0.0092 - accuracy: 0.9944\n",
      "Epoch 562/1000\n",
      "36/36 [==============================] - 0s 2ms/step - loss: 0.0175 - accuracy: 0.9944\n",
      "Epoch 563/1000\n",
      "36/36 [==============================] - 0s 2ms/step - loss: 0.0447 - accuracy: 0.9916\n",
      "Epoch 564/1000\n",
      "36/36 [==============================] - 0s 2ms/step - loss: 0.0234 - accuracy: 0.9916\n",
      "Epoch 565/1000\n",
      "36/36 [==============================] - 0s 2ms/step - loss: 0.0667 - accuracy: 0.9804\n",
      "Epoch 566/1000\n",
      "36/36 [==============================] - 0s 2ms/step - loss: 0.0083 - accuracy: 0.9972\n",
      "Epoch 567/1000\n",
      "36/36 [==============================] - 0s 2ms/step - loss: 0.1005 - accuracy: 0.9860\n",
      "Epoch 568/1000\n",
      "36/36 [==============================] - 0s 3ms/step - loss: 0.0300 - accuracy: 0.9916\n",
      "Epoch 569/1000\n",
      "36/36 [==============================] - 0s 3ms/step - loss: 0.0512 - accuracy: 0.9944\n",
      "Epoch 570/1000\n",
      "36/36 [==============================] - 0s 3ms/step - loss: 0.0136 - accuracy: 0.9972\n",
      "Epoch 571/1000\n",
      "36/36 [==============================] - 0s 3ms/step - loss: 0.0040 - accuracy: 0.9972\n",
      "Epoch 572/1000\n",
      "36/36 [==============================] - 0s 3ms/step - loss: 0.0076 - accuracy: 0.9944\n",
      "Epoch 573/1000\n",
      "36/36 [==============================] - 0s 2ms/step - loss: 0.0282 - accuracy: 0.9944\n",
      "Epoch 574/1000\n",
      "36/36 [==============================] - 0s 2ms/step - loss: 0.1327 - accuracy: 0.9777\n",
      "Epoch 575/1000\n",
      "36/36 [==============================] - 0s 2ms/step - loss: 0.0378 - accuracy: 0.9916\n",
      "Epoch 576/1000\n",
      "36/36 [==============================] - 0s 2ms/step - loss: 0.0766 - accuracy: 0.9860\n",
      "Epoch 577/1000\n",
      "36/36 [==============================] - 0s 2ms/step - loss: 0.0073 - accuracy: 0.9972\n",
      "Epoch 578/1000\n",
      "36/36 [==============================] - 0s 2ms/step - loss: 0.0384 - accuracy: 0.9972\n",
      "Epoch 579/1000\n",
      "36/36 [==============================] - 0s 2ms/step - loss: 0.1182 - accuracy: 0.9860\n",
      "Epoch 580/1000\n",
      "36/36 [==============================] - 0s 2ms/step - loss: 0.0404 - accuracy: 0.9916\n",
      "Epoch 581/1000\n",
      "36/36 [==============================] - 0s 2ms/step - loss: 0.0405 - accuracy: 0.9944\n",
      "Epoch 582/1000\n",
      "36/36 [==============================] - 0s 2ms/step - loss: 0.0055 - accuracy: 0.9972\n",
      "Epoch 583/1000\n",
      "36/36 [==============================] - 0s 2ms/step - loss: 0.0063 - accuracy: 0.9972\n",
      "Epoch 584/1000\n",
      "36/36 [==============================] - 0s 2ms/step - loss: 0.0318 - accuracy: 0.9916\n",
      "Epoch 585/1000\n",
      "36/36 [==============================] - 0s 2ms/step - loss: 0.0200 - accuracy: 0.9944\n",
      "Epoch 586/1000\n",
      "36/36 [==============================] - 0s 2ms/step - loss: 0.0161 - accuracy: 0.9944\n",
      "Epoch 587/1000\n",
      "36/36 [==============================] - 0s 2ms/step - loss: 0.0601 - accuracy: 0.9888\n",
      "Epoch 588/1000\n",
      "36/36 [==============================] - 0s 2ms/step - loss: 0.0055 - accuracy: 0.9972\n",
      "Epoch 589/1000\n",
      "36/36 [==============================] - 0s 2ms/step - loss: 0.0448 - accuracy: 0.9916\n",
      "Epoch 590/1000\n",
      "36/36 [==============================] - 0s 2ms/step - loss: 0.0466 - accuracy: 0.9944\n",
      "Epoch 591/1000\n",
      "36/36 [==============================] - 0s 2ms/step - loss: 0.0857 - accuracy: 0.9832\n",
      "Epoch 592/1000\n",
      "36/36 [==============================] - 0s 2ms/step - loss: 0.0065 - accuracy: 0.9972\n",
      "Epoch 593/1000\n",
      "36/36 [==============================] - 0s 2ms/step - loss: 0.0090 - accuracy: 0.9972\n",
      "Epoch 594/1000\n",
      "36/36 [==============================] - 0s 2ms/step - loss: 0.0018 - accuracy: 1.0000\n",
      "Epoch 595/1000\n",
      "36/36 [==============================] - 0s 2ms/step - loss: 0.0015 - accuracy: 1.0000\n",
      "Epoch 596/1000\n",
      "36/36 [==============================] - 0s 2ms/step - loss: 6.0214e-05 - accuracy: 1.0000\n",
      "Epoch 597/1000\n",
      "36/36 [==============================] - 0s 2ms/step - loss: 0.0051 - accuracy: 1.0000\n",
      "Epoch 598/1000\n",
      "36/36 [==============================] - 0s 2ms/step - loss: 0.0400 - accuracy: 0.9860\n",
      "Epoch 599/1000\n",
      "36/36 [==============================] - 0s 2ms/step - loss: 0.0130 - accuracy: 0.9944\n",
      "Epoch 600/1000\n",
      "36/36 [==============================] - 0s 2ms/step - loss: 0.0032 - accuracy: 1.0000\n",
      "Epoch 601/1000\n",
      "36/36 [==============================] - 0s 2ms/step - loss: 0.0137 - accuracy: 0.9972\n",
      "Epoch 602/1000\n",
      "36/36 [==============================] - 0s 2ms/step - loss: 0.0068 - accuracy: 0.9972\n",
      "Epoch 603/1000\n",
      "36/36 [==============================] - 0s 2ms/step - loss: 0.0191 - accuracy: 0.9888\n",
      "Epoch 604/1000\n",
      "36/36 [==============================] - 0s 2ms/step - loss: 0.0070 - accuracy: 0.9972\n",
      "Epoch 605/1000\n",
      "36/36 [==============================] - 0s 2ms/step - loss: 0.0158 - accuracy: 0.9944\n",
      "Epoch 606/1000\n",
      "36/36 [==============================] - 0s 2ms/step - loss: 0.0029 - accuracy: 1.0000\n",
      "Epoch 607/1000\n",
      "36/36 [==============================] - 0s 2ms/step - loss: 0.0026 - accuracy: 0.9972\n",
      "Epoch 608/1000\n",
      "36/36 [==============================] - 0s 2ms/step - loss: 8.5472e-04 - accuracy: 1.0000\n",
      "Epoch 609/1000\n",
      "36/36 [==============================] - 0s 2ms/step - loss: 0.0064 - accuracy: 0.9972\n",
      "Epoch 610/1000\n",
      "36/36 [==============================] - 0s 3ms/step - loss: 0.0425 - accuracy: 0.9944\n",
      "Epoch 611/1000\n",
      "36/36 [==============================] - 0s 2ms/step - loss: 1.2860e-04 - accuracy: 1.0000\n",
      "Epoch 612/1000\n",
      "36/36 [==============================] - 0s 2ms/step - loss: 1.2108e-04 - accuracy: 1.0000\n",
      "Epoch 613/1000\n",
      "36/36 [==============================] - 0s 2ms/step - loss: 0.0066 - accuracy: 0.9972\n",
      "Epoch 614/1000\n",
      "36/36 [==============================] - 0s 2ms/step - loss: 0.0406 - accuracy: 0.9916\n",
      "Epoch 615/1000\n",
      "36/36 [==============================] - 0s 2ms/step - loss: 0.0590 - accuracy: 0.9832\n",
      "Epoch 616/1000\n",
      "36/36 [==============================] - 0s 2ms/step - loss: 0.0243 - accuracy: 0.9888\n",
      "Epoch 617/1000\n",
      "36/36 [==============================] - 0s 2ms/step - loss: 0.0029 - accuracy: 0.9972\n",
      "Epoch 618/1000\n",
      "36/36 [==============================] - 0s 2ms/step - loss: 6.0447e-05 - accuracy: 1.0000\n",
      "Epoch 619/1000\n",
      "36/36 [==============================] - 0s 2ms/step - loss: 1.5352e-05 - accuracy: 1.0000\n",
      "Epoch 620/1000\n",
      "36/36 [==============================] - 0s 3ms/step - loss: 0.0104 - accuracy: 0.9944\n",
      "Epoch 621/1000\n",
      "36/36 [==============================] - 0s 3ms/step - loss: 0.0111 - accuracy: 0.9972\n",
      "Epoch 622/1000\n",
      "36/36 [==============================] - 0s 3ms/step - loss: 0.0045 - accuracy: 0.9972\n",
      "Epoch 623/1000\n",
      "36/36 [==============================] - 0s 3ms/step - loss: 0.0150 - accuracy: 0.9944\n",
      "Epoch 624/1000\n",
      "36/36 [==============================] - 0s 3ms/step - loss: 0.1774 - accuracy: 0.9749\n",
      "Epoch 625/1000\n",
      "36/36 [==============================] - 0s 3ms/step - loss: 0.1282 - accuracy: 0.9609\n",
      "Epoch 626/1000\n",
      "36/36 [==============================] - 0s 2ms/step - loss: 0.0246 - accuracy: 0.9916\n",
      "Epoch 627/1000\n",
      "36/36 [==============================] - 0s 2ms/step - loss: 0.0292 - accuracy: 0.9916\n",
      "Epoch 628/1000\n",
      "36/36 [==============================] - 0s 3ms/step - loss: 0.0927 - accuracy: 0.9860\n",
      "Epoch 629/1000\n",
      "36/36 [==============================] - 0s 3ms/step - loss: 0.0463 - accuracy: 0.9916\n",
      "Epoch 630/1000\n",
      "36/36 [==============================] - 0s 2ms/step - loss: 0.1242 - accuracy: 0.9777\n",
      "Epoch 631/1000\n",
      "36/36 [==============================] - 0s 2ms/step - loss: 0.1126 - accuracy: 0.9777\n",
      "Epoch 632/1000\n",
      "36/36 [==============================] - 0s 2ms/step - loss: 0.0067 - accuracy: 0.9972\n",
      "Epoch 633/1000\n",
      "36/36 [==============================] - 0s 2ms/step - loss: 0.0029 - accuracy: 0.9972\n",
      "Epoch 634/1000\n",
      "36/36 [==============================] - 0s 3ms/step - loss: 0.0459 - accuracy: 0.9972\n",
      "Epoch 635/1000\n",
      "36/36 [==============================] - 0s 3ms/step - loss: 0.0300 - accuracy: 0.9972\n",
      "Epoch 636/1000\n",
      "36/36 [==============================] - 0s 3ms/step - loss: 0.0076 - accuracy: 0.9972\n",
      "Epoch 637/1000\n",
      "36/36 [==============================] - 0s 2ms/step - loss: 0.0287 - accuracy: 0.9972\n",
      "Epoch 638/1000\n",
      "36/36 [==============================] - 0s 3ms/step - loss: 0.0080 - accuracy: 0.9944\n",
      "Epoch 639/1000\n",
      "36/36 [==============================] - 0s 3ms/step - loss: 0.0052 - accuracy: 0.9972\n",
      "Epoch 640/1000\n",
      "36/36 [==============================] - 0s 2ms/step - loss: 0.0058 - accuracy: 0.9972\n",
      "Epoch 641/1000\n",
      "36/36 [==============================] - 0s 2ms/step - loss: 5.1947e-04 - accuracy: 1.0000\n",
      "Epoch 642/1000\n",
      "36/36 [==============================] - 0s 3ms/step - loss: 0.0025 - accuracy: 0.9972\n",
      "Epoch 643/1000\n",
      "36/36 [==============================] - 0s 3ms/step - loss: 2.0383e-04 - accuracy: 1.0000\n",
      "Epoch 644/1000\n",
      "36/36 [==============================] - 0s 2ms/step - loss: 0.0065 - accuracy: 0.9944\n",
      "Epoch 645/1000\n",
      "36/36 [==============================] - 0s 2ms/step - loss: 0.0238 - accuracy: 0.9944\n",
      "Epoch 646/1000\n",
      "36/36 [==============================] - 0s 2ms/step - loss: 5.5482e-05 - accuracy: 1.0000\n",
      "Epoch 647/1000\n",
      "36/36 [==============================] - 0s 2ms/step - loss: 0.0049 - accuracy: 0.9972\n",
      "Epoch 648/1000\n",
      "36/36 [==============================] - 0s 3ms/step - loss: 0.0086 - accuracy: 0.9944\n",
      "Epoch 649/1000\n",
      "36/36 [==============================] - 0s 3ms/step - loss: 0.0504 - accuracy: 0.9944\n",
      "Epoch 650/1000\n",
      "36/36 [==============================] - 0s 2ms/step - loss: 0.0361 - accuracy: 0.9888\n",
      "Epoch 651/1000\n",
      "36/36 [==============================] - 0s 2ms/step - loss: 0.0027 - accuracy: 0.9972\n",
      "Epoch 652/1000\n",
      "36/36 [==============================] - 0s 2ms/step - loss: 0.0272 - accuracy: 0.9972\n",
      "Epoch 653/1000\n",
      "36/36 [==============================] - 0s 2ms/step - loss: 0.0011 - accuracy: 1.0000\n",
      "Epoch 654/1000\n",
      "36/36 [==============================] - 0s 2ms/step - loss: 0.0268 - accuracy: 0.9916\n",
      "Epoch 655/1000\n",
      "36/36 [==============================] - 0s 3ms/step - loss: 0.0257 - accuracy: 0.9916\n",
      "Epoch 656/1000\n",
      "36/36 [==============================] - 0s 3ms/step - loss: 0.0349 - accuracy: 0.9888\n",
      "Epoch 657/1000\n",
      "36/36 [==============================] - 0s 2ms/step - loss: 0.1035 - accuracy: 0.9777\n",
      "Epoch 658/1000\n",
      "36/36 [==============================] - 0s 3ms/step - loss: 0.0395 - accuracy: 0.9916\n",
      "Epoch 659/1000\n",
      "36/36 [==============================] - 0s 3ms/step - loss: 0.0799 - accuracy: 0.9888\n",
      "Epoch 660/1000\n",
      "36/36 [==============================] - 0s 3ms/step - loss: 0.0078 - accuracy: 0.9972\n",
      "Epoch 661/1000\n",
      "36/36 [==============================] - 0s 2ms/step - loss: 0.0113 - accuracy: 0.9972\n",
      "Epoch 662/1000\n",
      "36/36 [==============================] - 0s 2ms/step - loss: 0.0520 - accuracy: 0.9888\n",
      "Epoch 663/1000\n",
      "36/36 [==============================] - 0s 2ms/step - loss: 0.0792 - accuracy: 0.9777\n",
      "Epoch 664/1000\n",
      "36/36 [==============================] - 0s 3ms/step - loss: 0.2210 - accuracy: 0.9804\n",
      "Epoch 665/1000\n",
      "36/36 [==============================] - 0s 2ms/step - loss: 0.3120 - accuracy: 0.9525\n",
      "Epoch 666/1000\n",
      "36/36 [==============================] - 0s 2ms/step - loss: 0.0667 - accuracy: 0.9860\n",
      "Epoch 667/1000\n",
      "36/36 [==============================] - 0s 3ms/step - loss: 0.0541 - accuracy: 0.9916\n",
      "Epoch 668/1000\n",
      "36/36 [==============================] - 0s 3ms/step - loss: 0.0447 - accuracy: 0.9916\n",
      "Epoch 669/1000\n",
      "36/36 [==============================] - 0s 2ms/step - loss: 0.0564 - accuracy: 0.9860\n",
      "Epoch 670/1000\n",
      "36/36 [==============================] - 0s 2ms/step - loss: 0.0782 - accuracy: 0.9832\n",
      "Epoch 671/1000\n",
      "36/36 [==============================] - 0s 3ms/step - loss: 0.0089 - accuracy: 0.9944\n",
      "Epoch 672/1000\n",
      "36/36 [==============================] - 0s 3ms/step - loss: 0.0117 - accuracy: 0.9972\n",
      "Epoch 673/1000\n",
      "36/36 [==============================] - 0s 3ms/step - loss: 0.0281 - accuracy: 0.9972\n",
      "Epoch 674/1000\n",
      "36/36 [==============================] - 0s 2ms/step - loss: 0.0059 - accuracy: 0.9972\n",
      "Epoch 675/1000\n",
      "36/36 [==============================] - 0s 3ms/step - loss: 4.2046e-04 - accuracy: 1.0000\n",
      "Epoch 676/1000\n",
      "36/36 [==============================] - 0s 3ms/step - loss: 0.0134 - accuracy: 0.9972\n",
      "Epoch 677/1000\n",
      "36/36 [==============================] - 0s 2ms/step - loss: 0.0117 - accuracy: 0.9972\n",
      "Epoch 678/1000\n",
      "36/36 [==============================] - 0s 2ms/step - loss: 0.0030 - accuracy: 0.9972\n",
      "Epoch 679/1000\n",
      "36/36 [==============================] - 0s 2ms/step - loss: 0.1082 - accuracy: 0.9832\n",
      "Epoch 680/1000\n",
      "36/36 [==============================] - 0s 2ms/step - loss: 0.0356 - accuracy: 0.9888\n",
      "Epoch 681/1000\n",
      "36/36 [==============================] - 0s 2ms/step - loss: 0.0028 - accuracy: 1.0000\n",
      "Epoch 682/1000\n",
      "36/36 [==============================] - 0s 2ms/step - loss: 0.0174 - accuracy: 0.9972\n",
      "Epoch 683/1000\n",
      "36/36 [==============================] - 0s 2ms/step - loss: 0.0284 - accuracy: 0.9944\n",
      "Epoch 684/1000\n",
      "36/36 [==============================] - 0s 2ms/step - loss: 0.0157 - accuracy: 0.9972\n",
      "Epoch 685/1000\n",
      "36/36 [==============================] - 0s 2ms/step - loss: 0.0652 - accuracy: 0.9916\n",
      "Epoch 686/1000\n",
      "36/36 [==============================] - 0s 2ms/step - loss: 0.0877 - accuracy: 0.9860\n",
      "Epoch 687/1000\n",
      "36/36 [==============================] - 0s 2ms/step - loss: 0.0053 - accuracy: 0.9972\n",
      "Epoch 688/1000\n",
      "36/36 [==============================] - 0s 2ms/step - loss: 0.0500 - accuracy: 0.9944\n",
      "Epoch 689/1000\n",
      "36/36 [==============================] - 0s 2ms/step - loss: 0.2320 - accuracy: 0.9860\n",
      "Epoch 690/1000\n",
      "36/36 [==============================] - 0s 2ms/step - loss: 0.0403 - accuracy: 0.9944\n",
      "Epoch 691/1000\n",
      "36/36 [==============================] - 0s 2ms/step - loss: 0.0075 - accuracy: 0.9972\n",
      "Epoch 692/1000\n",
      "36/36 [==============================] - 0s 2ms/step - loss: 0.0048 - accuracy: 0.9972\n",
      "Epoch 693/1000\n",
      "36/36 [==============================] - 0s 2ms/step - loss: 0.0223 - accuracy: 0.9972\n",
      "Epoch 694/1000\n",
      "36/36 [==============================] - 0s 2ms/step - loss: 0.0025 - accuracy: 1.0000\n",
      "Epoch 695/1000\n",
      "36/36 [==============================] - 0s 2ms/step - loss: 8.7522e-04 - accuracy: 1.0000\n",
      "Epoch 696/1000\n",
      "36/36 [==============================] - 0s 2ms/step - loss: 6.0956e-05 - accuracy: 1.0000\n",
      "Epoch 697/1000\n",
      "36/36 [==============================] - 0s 2ms/step - loss: 4.3850e-04 - accuracy: 1.0000\n",
      "Epoch 698/1000\n",
      "36/36 [==============================] - 0s 2ms/step - loss: 0.0024 - accuracy: 0.9972\n",
      "Epoch 699/1000\n",
      "36/36 [==============================] - 0s 2ms/step - loss: 4.9255e-04 - accuracy: 1.0000\n",
      "Epoch 700/1000\n",
      "36/36 [==============================] - 0s 2ms/step - loss: 0.0048 - accuracy: 0.9972\n",
      "Epoch 701/1000\n",
      "36/36 [==============================] - 0s 2ms/step - loss: 0.0076 - accuracy: 0.9972\n",
      "Epoch 702/1000\n",
      "36/36 [==============================] - 0s 2ms/step - loss: 0.0258 - accuracy: 0.9944\n",
      "Epoch 703/1000\n",
      "36/36 [==============================] - 0s 2ms/step - loss: 0.0065 - accuracy: 0.9972\n",
      "Epoch 704/1000\n",
      "36/36 [==============================] - 0s 2ms/step - loss: 9.0685e-06 - accuracy: 1.0000\n",
      "Epoch 705/1000\n",
      "36/36 [==============================] - 0s 2ms/step - loss: 0.0233 - accuracy: 0.9944\n",
      "Epoch 706/1000\n",
      "36/36 [==============================] - 0s 2ms/step - loss: 0.0255 - accuracy: 0.9972\n",
      "Epoch 707/1000\n",
      "36/36 [==============================] - 0s 2ms/step - loss: 0.0025 - accuracy: 1.0000\n",
      "Epoch 708/1000\n",
      "36/36 [==============================] - 0s 2ms/step - loss: 1.1417e-04 - accuracy: 1.0000\n",
      "Epoch 709/1000\n",
      "36/36 [==============================] - 0s 2ms/step - loss: 0.0064 - accuracy: 0.9972\n",
      "Epoch 710/1000\n",
      "36/36 [==============================] - 0s 2ms/step - loss: 6.9320e-05 - accuracy: 1.0000\n",
      "Epoch 711/1000\n",
      "36/36 [==============================] - 0s 2ms/step - loss: 0.0377 - accuracy: 0.9972\n",
      "Epoch 712/1000\n",
      "36/36 [==============================] - 0s 2ms/step - loss: 0.0396 - accuracy: 0.9944\n",
      "Epoch 713/1000\n",
      "36/36 [==============================] - 0s 2ms/step - loss: 0.0215 - accuracy: 0.9944\n",
      "Epoch 714/1000\n",
      "36/36 [==============================] - 0s 2ms/step - loss: 0.0316 - accuracy: 0.9916\n",
      "Epoch 715/1000\n",
      "36/36 [==============================] - 0s 2ms/step - loss: 0.0544 - accuracy: 0.9916\n",
      "Epoch 716/1000\n",
      "36/36 [==============================] - 0s 2ms/step - loss: 0.0174 - accuracy: 0.9972\n",
      "Epoch 717/1000\n",
      "36/36 [==============================] - 0s 2ms/step - loss: 0.0560 - accuracy: 0.9860\n",
      "Epoch 718/1000\n",
      "36/36 [==============================] - 0s 2ms/step - loss: 0.0329 - accuracy: 0.9832\n",
      "Epoch 719/1000\n",
      "36/36 [==============================] - 0s 2ms/step - loss: 0.0155 - accuracy: 0.9944\n",
      "Epoch 720/1000\n",
      "36/36 [==============================] - 0s 2ms/step - loss: 0.0284 - accuracy: 0.9944\n",
      "Epoch 721/1000\n",
      "36/36 [==============================] - 0s 2ms/step - loss: 0.0058 - accuracy: 0.9972\n",
      "Epoch 722/1000\n",
      "36/36 [==============================] - 0s 2ms/step - loss: 0.0751 - accuracy: 0.9944\n",
      "Epoch 723/1000\n",
      "36/36 [==============================] - 0s 2ms/step - loss: 0.0188 - accuracy: 0.9888\n",
      "Epoch 724/1000\n",
      "36/36 [==============================] - 0s 2ms/step - loss: 0.0056 - accuracy: 0.9972\n",
      "Epoch 725/1000\n",
      "36/36 [==============================] - 0s 2ms/step - loss: 0.0084 - accuracy: 0.9972\n",
      "Epoch 726/1000\n",
      "36/36 [==============================] - 0s 2ms/step - loss: 0.0297 - accuracy: 0.9916\n",
      "Epoch 727/1000\n",
      "36/36 [==============================] - 0s 2ms/step - loss: 0.0319 - accuracy: 0.9916\n",
      "Epoch 728/1000\n",
      "36/36 [==============================] - 0s 2ms/step - loss: 0.0742 - accuracy: 0.9888\n",
      "Epoch 729/1000\n",
      "36/36 [==============================] - 0s 2ms/step - loss: 0.0856 - accuracy: 0.9916\n",
      "Epoch 730/1000\n",
      "36/36 [==============================] - 0s 2ms/step - loss: 0.0278 - accuracy: 0.9916\n",
      "Epoch 731/1000\n",
      "36/36 [==============================] - 0s 2ms/step - loss: 3.0516e-04 - accuracy: 1.0000\n",
      "Epoch 732/1000\n",
      "36/36 [==============================] - 0s 2ms/step - loss: 0.0044 - accuracy: 0.9972\n",
      "Epoch 733/1000\n",
      "36/36 [==============================] - 0s 2ms/step - loss: 6.5969e-04 - accuracy: 1.0000\n",
      "Epoch 734/1000\n",
      "36/36 [==============================] - 0s 2ms/step - loss: 0.0338 - accuracy: 0.9972\n",
      "Epoch 735/1000\n",
      "36/36 [==============================] - 0s 2ms/step - loss: 2.5591e-04 - accuracy: 1.0000\n",
      "Epoch 736/1000\n",
      "36/36 [==============================] - 0s 2ms/step - loss: 0.0060 - accuracy: 0.9972\n",
      "Epoch 737/1000\n",
      "36/36 [==============================] - 0s 2ms/step - loss: 9.7363e-04 - accuracy: 1.0000\n",
      "Epoch 738/1000\n",
      "36/36 [==============================] - 0s 2ms/step - loss: 0.0016 - accuracy: 1.0000\n",
      "Epoch 739/1000\n",
      "36/36 [==============================] - 0s 2ms/step - loss: 0.0026 - accuracy: 1.0000\n",
      "Epoch 740/1000\n",
      "36/36 [==============================] - 0s 2ms/step - loss: 0.0012 - accuracy: 1.0000\n",
      "Epoch 741/1000\n",
      "36/36 [==============================] - 0s 2ms/step - loss: 1.0759e-04 - accuracy: 1.0000\n",
      "Epoch 742/1000\n",
      "36/36 [==============================] - 0s 2ms/step - loss: 5.5265e-05 - accuracy: 1.0000\n",
      "Epoch 743/1000\n",
      "36/36 [==============================] - 0s 2ms/step - loss: 2.7587e-05 - accuracy: 1.0000\n",
      "Epoch 744/1000\n",
      "36/36 [==============================] - 0s 2ms/step - loss: 2.8814e-05 - accuracy: 1.0000\n",
      "Epoch 745/1000\n",
      "36/36 [==============================] - 0s 2ms/step - loss: 0.0628 - accuracy: 0.9944\n",
      "Epoch 746/1000\n",
      "36/36 [==============================] - 0s 2ms/step - loss: 0.3982 - accuracy: 0.9553\n",
      "Epoch 747/1000\n",
      "36/36 [==============================] - 0s 2ms/step - loss: 0.0416 - accuracy: 0.9888\n",
      "Epoch 748/1000\n",
      "36/36 [==============================] - 0s 2ms/step - loss: 0.0469 - accuracy: 0.9916\n",
      "Epoch 749/1000\n",
      "36/36 [==============================] - 0s 2ms/step - loss: 0.0029 - accuracy: 1.0000\n",
      "Epoch 750/1000\n",
      "36/36 [==============================] - 0s 2ms/step - loss: 0.0226 - accuracy: 0.9944\n",
      "Epoch 751/1000\n",
      "36/36 [==============================] - 0s 2ms/step - loss: 0.0204 - accuracy: 0.9944\n",
      "Epoch 752/1000\n",
      "36/36 [==============================] - 0s 2ms/step - loss: 0.0040 - accuracy: 0.9972\n",
      "Epoch 753/1000\n",
      "36/36 [==============================] - 0s 2ms/step - loss: 0.0303 - accuracy: 0.9944\n",
      "Epoch 754/1000\n",
      "36/36 [==============================] - 0s 2ms/step - loss: 1.1721e-04 - accuracy: 1.0000\n",
      "Epoch 755/1000\n",
      "36/36 [==============================] - 0s 2ms/step - loss: 0.0018 - accuracy: 1.0000\n",
      "Epoch 756/1000\n",
      "36/36 [==============================] - 0s 2ms/step - loss: 0.0932 - accuracy: 0.9944\n",
      "Epoch 757/1000\n",
      "36/36 [==============================] - 0s 2ms/step - loss: 8.6010e-05 - accuracy: 1.0000\n",
      "Epoch 758/1000\n",
      "36/36 [==============================] - 0s 2ms/step - loss: 6.6955e-05 - accuracy: 1.0000\n",
      "Epoch 759/1000\n",
      "36/36 [==============================] - 0s 2ms/step - loss: 2.0292e-04 - accuracy: 1.0000\n",
      "Epoch 760/1000\n",
      "36/36 [==============================] - 0s 2ms/step - loss: 0.0016 - accuracy: 1.0000\n",
      "Epoch 761/1000\n",
      "36/36 [==============================] - 0s 2ms/step - loss: 0.0035 - accuracy: 0.9972\n",
      "Epoch 762/1000\n",
      "36/36 [==============================] - 0s 2ms/step - loss: 0.0112 - accuracy: 0.9972\n",
      "Epoch 763/1000\n",
      "36/36 [==============================] - 0s 2ms/step - loss: 0.0012 - accuracy: 1.0000\n",
      "Epoch 764/1000\n",
      "36/36 [==============================] - 0s 2ms/step - loss: 0.0015 - accuracy: 1.0000\n",
      "Epoch 765/1000\n",
      "36/36 [==============================] - 0s 2ms/step - loss: 0.0053 - accuracy: 0.9972\n",
      "Epoch 766/1000\n",
      "36/36 [==============================] - 0s 2ms/step - loss: 0.0436 - accuracy: 0.9944\n",
      "Epoch 767/1000\n",
      "36/36 [==============================] - 0s 2ms/step - loss: 0.0177 - accuracy: 0.9944\n",
      "Epoch 768/1000\n",
      "36/36 [==============================] - 0s 2ms/step - loss: 0.0089 - accuracy: 0.9972\n",
      "Epoch 769/1000\n",
      "36/36 [==============================] - 0s 2ms/step - loss: 0.0028 - accuracy: 0.9972\n",
      "Epoch 770/1000\n",
      "36/36 [==============================] - 0s 2ms/step - loss: 0.0371 - accuracy: 0.9944\n",
      "Epoch 771/1000\n",
      "36/36 [==============================] - 0s 2ms/step - loss: 0.0018 - accuracy: 1.0000\n",
      "Epoch 772/1000\n",
      "36/36 [==============================] - 0s 2ms/step - loss: 3.4178e-04 - accuracy: 1.0000\n",
      "Epoch 773/1000\n",
      "36/36 [==============================] - 0s 2ms/step - loss: 0.0014 - accuracy: 1.0000\n",
      "Epoch 774/1000\n",
      "36/36 [==============================] - 0s 2ms/step - loss: 9.6597e-05 - accuracy: 1.0000\n",
      "Epoch 775/1000\n",
      "36/36 [==============================] - 0s 2ms/step - loss: 0.0017 - accuracy: 1.0000\n",
      "Epoch 776/1000\n",
      "36/36 [==============================] - 0s 2ms/step - loss: 1.6554e-04 - accuracy: 1.0000\n",
      "Epoch 777/1000\n",
      "36/36 [==============================] - 0s 2ms/step - loss: 4.2104e-06 - accuracy: 1.0000\n",
      "Epoch 778/1000\n",
      "36/36 [==============================] - 0s 2ms/step - loss: 0.0041 - accuracy: 0.9972\n",
      "Epoch 779/1000\n",
      "36/36 [==============================] - 0s 2ms/step - loss: 2.5369e-05 - accuracy: 1.0000\n",
      "Epoch 780/1000\n",
      "36/36 [==============================] - 0s 2ms/step - loss: 0.0020 - accuracy: 1.0000\n",
      "Epoch 781/1000\n",
      "36/36 [==============================] - 0s 2ms/step - loss: 0.0321 - accuracy: 0.9972\n",
      "Epoch 782/1000\n",
      "36/36 [==============================] - 0s 2ms/step - loss: 0.0201 - accuracy: 0.9972\n",
      "Epoch 783/1000\n",
      "36/36 [==============================] - 0s 2ms/step - loss: 7.6784e-04 - accuracy: 1.0000\n",
      "Epoch 784/1000\n",
      "36/36 [==============================] - 0s 2ms/step - loss: 2.2257e-04 - accuracy: 1.0000\n",
      "Epoch 785/1000\n",
      "36/36 [==============================] - 0s 2ms/step - loss: 3.8917e-05 - accuracy: 1.0000\n",
      "Epoch 786/1000\n",
      "36/36 [==============================] - 0s 2ms/step - loss: 0.0069 - accuracy: 0.9972\n",
      "Epoch 787/1000\n",
      "36/36 [==============================] - 0s 2ms/step - loss: 0.0051 - accuracy: 0.9972\n",
      "Epoch 788/1000\n",
      "36/36 [==============================] - 0s 2ms/step - loss: 0.0026 - accuracy: 1.0000\n",
      "Epoch 789/1000\n",
      "36/36 [==============================] - 0s 2ms/step - loss: 0.0010 - accuracy: 1.0000\n",
      "Epoch 790/1000\n",
      "36/36 [==============================] - 0s 2ms/step - loss: 4.9040e-05 - accuracy: 1.0000\n",
      "Epoch 791/1000\n",
      "36/36 [==============================] - 0s 2ms/step - loss: 2.0719e-05 - accuracy: 1.0000\n",
      "Epoch 792/1000\n",
      "36/36 [==============================] - 0s 3ms/step - loss: 6.2723e-05 - accuracy: 1.0000\n",
      "Epoch 793/1000\n",
      "36/36 [==============================] - 0s 3ms/step - loss: 6.7358e-05 - accuracy: 1.0000\n",
      "Epoch 794/1000\n",
      "36/36 [==============================] - 0s 2ms/step - loss: 6.8603e-05 - accuracy: 1.0000\n",
      "Epoch 795/1000\n",
      "36/36 [==============================] - 0s 2ms/step - loss: 0.0066 - accuracy: 0.9972\n",
      "Epoch 796/1000\n",
      "36/36 [==============================] - 0s 2ms/step - loss: 3.4122e-05 - accuracy: 1.0000\n",
      "Epoch 797/1000\n",
      "36/36 [==============================] - 0s 2ms/step - loss: 4.4745e-05 - accuracy: 1.0000\n",
      "Epoch 798/1000\n",
      "36/36 [==============================] - 0s 2ms/step - loss: 0.0234 - accuracy: 0.9972\n",
      "Epoch 799/1000\n",
      "36/36 [==============================] - 0s 2ms/step - loss: 0.0990 - accuracy: 0.9832\n",
      "Epoch 800/1000\n",
      "36/36 [==============================] - 0s 2ms/step - loss: 0.1141 - accuracy: 0.9804\n",
      "Epoch 801/1000\n",
      "36/36 [==============================] - 0s 2ms/step - loss: 0.3272 - accuracy: 0.9441\n",
      "Epoch 802/1000\n",
      "36/36 [==============================] - 0s 2ms/step - loss: 0.1476 - accuracy: 0.9860\n",
      "Epoch 803/1000\n",
      "36/36 [==============================] - 0s 2ms/step - loss: 0.0217 - accuracy: 0.9944\n",
      "Epoch 804/1000\n",
      "36/36 [==============================] - 0s 2ms/step - loss: 0.1768 - accuracy: 0.9749\n",
      "Epoch 805/1000\n",
      "36/36 [==============================] - 0s 3ms/step - loss: 0.0345 - accuracy: 0.9888\n",
      "Epoch 806/1000\n",
      "36/36 [==============================] - 0s 3ms/step - loss: 6.6547e-04 - accuracy: 1.0000\n",
      "Epoch 807/1000\n",
      "36/36 [==============================] - 0s 2ms/step - loss: 0.0019 - accuracy: 1.0000\n",
      "Epoch 808/1000\n",
      "36/36 [==============================] - 0s 2ms/step - loss: 0.0159 - accuracy: 0.9944\n",
      "Epoch 809/1000\n",
      "36/36 [==============================] - 0s 2ms/step - loss: 0.0038 - accuracy: 0.9972\n",
      "Epoch 810/1000\n",
      "36/36 [==============================] - 0s 2ms/step - loss: 0.2460 - accuracy: 0.9832\n",
      "Epoch 811/1000\n",
      "36/36 [==============================] - 0s 2ms/step - loss: 0.0652 - accuracy: 0.9860\n",
      "Epoch 812/1000\n",
      "36/36 [==============================] - 0s 2ms/step - loss: 0.0143 - accuracy: 0.9972\n",
      "Epoch 813/1000\n",
      "36/36 [==============================] - 0s 2ms/step - loss: 0.0441 - accuracy: 0.9888\n",
      "Epoch 814/1000\n",
      "36/36 [==============================] - 0s 2ms/step - loss: 0.0934 - accuracy: 0.9777\n",
      "Epoch 815/1000\n",
      "36/36 [==============================] - 0s 2ms/step - loss: 0.0012 - accuracy: 1.0000\n",
      "Epoch 816/1000\n",
      "36/36 [==============================] - 0s 2ms/step - loss: 0.0195 - accuracy: 0.9944\n",
      "Epoch 817/1000\n",
      "36/36 [==============================] - 0s 2ms/step - loss: 0.0039 - accuracy: 0.9972\n",
      "Epoch 818/1000\n",
      "36/36 [==============================] - 0s 2ms/step - loss: 0.0018 - accuracy: 1.0000\n",
      "Epoch 819/1000\n",
      "36/36 [==============================] - 0s 2ms/step - loss: 0.0013 - accuracy: 1.0000\n",
      "Epoch 820/1000\n",
      "36/36 [==============================] - 0s 2ms/step - loss: 3.2400e-05 - accuracy: 1.0000\n",
      "Epoch 821/1000\n",
      "36/36 [==============================] - 0s 2ms/step - loss: 1.4667e-04 - accuracy: 1.0000\n",
      "Epoch 822/1000\n",
      "36/36 [==============================] - 0s 2ms/step - loss: 0.0173 - accuracy: 0.9972\n",
      "Epoch 823/1000\n",
      "36/36 [==============================] - 0s 2ms/step - loss: 0.0717 - accuracy: 0.9888\n",
      "Epoch 824/1000\n",
      "36/36 [==============================] - 0s 2ms/step - loss: 0.0404 - accuracy: 0.9888\n",
      "Epoch 825/1000\n",
      "36/36 [==============================] - 0s 2ms/step - loss: 0.0366 - accuracy: 0.9888\n",
      "Epoch 826/1000\n",
      "36/36 [==============================] - 0s 2ms/step - loss: 0.0797 - accuracy: 0.9860\n",
      "Epoch 827/1000\n",
      "36/36 [==============================] - 0s 2ms/step - loss: 0.0021 - accuracy: 1.0000\n",
      "Epoch 828/1000\n",
      "36/36 [==============================] - 0s 2ms/step - loss: 0.0028 - accuracy: 0.9972\n",
      "Epoch 829/1000\n",
      "36/36 [==============================] - 0s 2ms/step - loss: 0.0482 - accuracy: 0.9972\n",
      "Epoch 830/1000\n",
      "36/36 [==============================] - 0s 2ms/step - loss: 0.0087 - accuracy: 0.9972\n",
      "Epoch 831/1000\n",
      "36/36 [==============================] - 0s 2ms/step - loss: 0.0012 - accuracy: 1.0000\n",
      "Epoch 832/1000\n",
      "36/36 [==============================] - 0s 2ms/step - loss: 0.0438 - accuracy: 0.9944\n",
      "Epoch 833/1000\n",
      "36/36 [==============================] - 0s 2ms/step - loss: 0.0508 - accuracy: 0.9888\n",
      "Epoch 834/1000\n",
      "36/36 [==============================] - 0s 2ms/step - loss: 0.0140 - accuracy: 0.9972\n",
      "Epoch 835/1000\n",
      "36/36 [==============================] - 0s 2ms/step - loss: 0.0059 - accuracy: 0.9972\n",
      "Epoch 836/1000\n",
      "36/36 [==============================] - 0s 2ms/step - loss: 0.0061 - accuracy: 0.9972\n",
      "Epoch 837/1000\n",
      "36/36 [==============================] - 0s 2ms/step - loss: 0.0219 - accuracy: 0.9944\n",
      "Epoch 838/1000\n",
      "36/36 [==============================] - 0s 2ms/step - loss: 0.0423 - accuracy: 0.9972\n",
      "Epoch 839/1000\n",
      "36/36 [==============================] - 0s 2ms/step - loss: 0.0147 - accuracy: 0.9972\n",
      "Epoch 840/1000\n",
      "36/36 [==============================] - 0s 2ms/step - loss: 1.8375e-05 - accuracy: 1.0000\n",
      "Epoch 841/1000\n",
      "36/36 [==============================] - 0s 2ms/step - loss: 0.0258 - accuracy: 0.9972\n",
      "Epoch 842/1000\n",
      "36/36 [==============================] - 0s 2ms/step - loss: 1.8724e-05 - accuracy: 1.0000\n",
      "Epoch 843/1000\n",
      "36/36 [==============================] - 0s 2ms/step - loss: 0.0138 - accuracy: 0.9944\n",
      "Epoch 844/1000\n",
      "36/36 [==============================] - 0s 2ms/step - loss: 3.8426e-04 - accuracy: 1.0000\n",
      "Epoch 845/1000\n",
      "36/36 [==============================] - 0s 2ms/step - loss: 0.0182 - accuracy: 0.9972\n",
      "Epoch 846/1000\n",
      "36/36 [==============================] - 0s 2ms/step - loss: 4.1464e-05 - accuracy: 1.0000\n",
      "Epoch 847/1000\n",
      "36/36 [==============================] - 0s 2ms/step - loss: 0.0096 - accuracy: 0.9972\n",
      "Epoch 848/1000\n",
      "36/36 [==============================] - 0s 2ms/step - loss: 0.0155 - accuracy: 0.9944\n",
      "Epoch 849/1000\n",
      "36/36 [==============================] - 0s 2ms/step - loss: 0.0011 - accuracy: 1.0000\n",
      "Epoch 850/1000\n",
      "36/36 [==============================] - 0s 2ms/step - loss: 2.2093e-05 - accuracy: 1.0000\n",
      "Epoch 851/1000\n",
      "36/36 [==============================] - 0s 2ms/step - loss: 0.0239 - accuracy: 0.9944\n",
      "Epoch 852/1000\n",
      "36/36 [==============================] - 0s 2ms/step - loss: 0.0167 - accuracy: 0.9972\n",
      "Epoch 853/1000\n",
      "36/36 [==============================] - 0s 2ms/step - loss: 0.0475 - accuracy: 0.9944\n",
      "Epoch 854/1000\n",
      "36/36 [==============================] - 0s 3ms/step - loss: 0.0902 - accuracy: 0.9860\n",
      "Epoch 855/1000\n",
      "36/36 [==============================] - 0s 3ms/step - loss: 4.2389e-04 - accuracy: 1.0000\n",
      "Epoch 856/1000\n",
      "36/36 [==============================] - 0s 2ms/step - loss: 0.0366 - accuracy: 0.9916\n",
      "Epoch 857/1000\n",
      "36/36 [==============================] - 0s 2ms/step - loss: 0.0509 - accuracy: 0.9972\n",
      "Epoch 858/1000\n",
      "36/36 [==============================] - 0s 2ms/step - loss: 0.0152 - accuracy: 0.9972\n",
      "Epoch 859/1000\n",
      "36/36 [==============================] - 0s 2ms/step - loss: 0.0206 - accuracy: 0.9972\n",
      "Epoch 860/1000\n",
      "36/36 [==============================] - 0s 2ms/step - loss: 0.0582 - accuracy: 0.9888\n",
      "Epoch 861/1000\n",
      "36/36 [==============================] - 0s 2ms/step - loss: 0.3417 - accuracy: 0.9777\n",
      "Epoch 862/1000\n",
      "36/36 [==============================] - 0s 2ms/step - loss: 0.1630 - accuracy: 0.9693\n",
      "Epoch 863/1000\n",
      "36/36 [==============================] - 0s 2ms/step - loss: 0.0493 - accuracy: 0.9749\n",
      "Epoch 864/1000\n",
      "36/36 [==============================] - 0s 2ms/step - loss: 0.0406 - accuracy: 0.9888\n",
      "Epoch 865/1000\n",
      "36/36 [==============================] - 0s 3ms/step - loss: 0.0847 - accuracy: 0.9804\n",
      "Epoch 866/1000\n",
      "36/36 [==============================] - 0s 2ms/step - loss: 0.0451 - accuracy: 0.9888\n",
      "Epoch 867/1000\n",
      "36/36 [==============================] - 0s 3ms/step - loss: 0.0016 - accuracy: 1.0000\n",
      "Epoch 868/1000\n",
      "36/36 [==============================] - 0s 3ms/step - loss: 0.0095 - accuracy: 0.9944\n",
      "Epoch 869/1000\n",
      "36/36 [==============================] - 0s 2ms/step - loss: 0.0026 - accuracy: 1.0000\n",
      "Epoch 870/1000\n",
      "36/36 [==============================] - 0s 3ms/step - loss: 0.1074 - accuracy: 0.9860\n",
      "Epoch 871/1000\n",
      "36/36 [==============================] - 0s 3ms/step - loss: 0.0383 - accuracy: 0.9944\n",
      "Epoch 872/1000\n",
      "36/36 [==============================] - 0s 3ms/step - loss: 0.0333 - accuracy: 0.9916\n",
      "Epoch 873/1000\n",
      "36/36 [==============================] - 0s 3ms/step - loss: 0.0952 - accuracy: 0.9888\n",
      "Epoch 874/1000\n",
      "36/36 [==============================] - 0s 2ms/step - loss: 0.0059 - accuracy: 0.9972\n",
      "Epoch 875/1000\n",
      "36/36 [==============================] - 0s 3ms/step - loss: 0.0724 - accuracy: 0.9832\n",
      "Epoch 876/1000\n",
      "36/36 [==============================] - 0s 3ms/step - loss: 0.0015 - accuracy: 1.0000\n",
      "Epoch 877/1000\n",
      "36/36 [==============================] - 0s 2ms/step - loss: 0.0195 - accuracy: 0.9972\n",
      "Epoch 878/1000\n",
      "36/36 [==============================] - 0s 2ms/step - loss: 2.5331e-04 - accuracy: 1.0000\n",
      "Epoch 879/1000\n",
      "36/36 [==============================] - 0s 2ms/step - loss: 0.0888 - accuracy: 0.9916\n",
      "Epoch 880/1000\n",
      "36/36 [==============================] - 0s 3ms/step - loss: 0.0363 - accuracy: 0.9888\n",
      "Epoch 881/1000\n",
      "36/36 [==============================] - 0s 3ms/step - loss: 0.0058 - accuracy: 0.9972\n",
      "Epoch 882/1000\n",
      "36/36 [==============================] - 0s 3ms/step - loss: 0.0026 - accuracy: 0.9972\n",
      "Epoch 883/1000\n",
      "36/36 [==============================] - 0s 3ms/step - loss: 9.8953e-04 - accuracy: 1.0000\n",
      "Epoch 884/1000\n",
      "36/36 [==============================] - 0s 3ms/step - loss: 5.8213e-04 - accuracy: 1.0000\n",
      "Epoch 885/1000\n",
      "36/36 [==============================] - 0s 3ms/step - loss: 0.0146 - accuracy: 0.9944\n",
      "Epoch 886/1000\n",
      "36/36 [==============================] - 0s 3ms/step - loss: 0.0012 - accuracy: 1.0000\n",
      "Epoch 887/1000\n",
      "36/36 [==============================] - 0s 2ms/step - loss: 5.0847e-04 - accuracy: 1.0000\n",
      "Epoch 888/1000\n",
      "36/36 [==============================] - 0s 2ms/step - loss: 2.0647e-04 - accuracy: 1.0000\n",
      "Epoch 889/1000\n",
      "36/36 [==============================] - 0s 3ms/step - loss: 5.3284e-06 - accuracy: 1.0000\n",
      "Epoch 890/1000\n",
      "36/36 [==============================] - 0s 3ms/step - loss: 1.4889e-05 - accuracy: 1.0000\n",
      "Epoch 891/1000\n",
      "36/36 [==============================] - 0s 2ms/step - loss: 3.0671e-05 - accuracy: 1.0000\n",
      "Epoch 892/1000\n",
      "36/36 [==============================] - 0s 2ms/step - loss: 0.0220 - accuracy: 0.9972\n",
      "Epoch 893/1000\n",
      "36/36 [==============================] - 0s 2ms/step - loss: 0.0252 - accuracy: 0.9944\n",
      "Epoch 894/1000\n",
      "36/36 [==============================] - 0s 3ms/step - loss: 6.8869e-06 - accuracy: 1.0000\n",
      "Epoch 895/1000\n",
      "36/36 [==============================] - 0s 3ms/step - loss: 0.0843 - accuracy: 0.9944\n",
      "Epoch 896/1000\n",
      "36/36 [==============================] - 0s 2ms/step - loss: 0.0086 - accuracy: 0.9972\n",
      "Epoch 897/1000\n",
      "36/36 [==============================] - 0s 2ms/step - loss: 0.0211 - accuracy: 0.9944\n",
      "Epoch 898/1000\n",
      "36/36 [==============================] - 0s 2ms/step - loss: 3.0189e-04 - accuracy: 1.0000\n",
      "Epoch 899/1000\n",
      "36/36 [==============================] - 0s 2ms/step - loss: 1.5823e-06 - accuracy: 1.0000\n",
      "Epoch 900/1000\n",
      "36/36 [==============================] - 0s 3ms/step - loss: 0.0025 - accuracy: 0.9972\n",
      "Epoch 901/1000\n",
      "36/36 [==============================] - 0s 2ms/step - loss: 0.0109 - accuracy: 0.9972\n",
      "Epoch 902/1000\n",
      "36/36 [==============================] - 0s 2ms/step - loss: 3.9935e-05 - accuracy: 1.0000\n",
      "Epoch 903/1000\n",
      "36/36 [==============================] - 0s 3ms/step - loss: 4.2189e-04 - accuracy: 1.0000\n",
      "Epoch 904/1000\n",
      "36/36 [==============================] - 0s 2ms/step - loss: 0.0175 - accuracy: 0.9944\n",
      "Epoch 905/1000\n",
      "36/36 [==============================] - 0s 3ms/step - loss: 0.0668 - accuracy: 0.9916\n",
      "Epoch 906/1000\n",
      "36/36 [==============================] - 0s 3ms/step - loss: 0.0857 - accuracy: 0.9916\n",
      "Epoch 907/1000\n",
      "36/36 [==============================] - 0s 3ms/step - loss: 0.1864 - accuracy: 0.9777\n",
      "Epoch 908/1000\n",
      "36/36 [==============================] - 0s 3ms/step - loss: 0.0865 - accuracy: 0.9860\n",
      "Epoch 909/1000\n",
      "36/36 [==============================] - 0s 3ms/step - loss: 0.1881 - accuracy: 0.9832\n",
      "Epoch 910/1000\n",
      "36/36 [==============================] - 0s 3ms/step - loss: 0.0469 - accuracy: 0.9916\n",
      "Epoch 911/1000\n",
      "36/36 [==============================] - 0s 2ms/step - loss: 0.1113 - accuracy: 0.9860\n",
      "Epoch 912/1000\n",
      "36/36 [==============================] - 0s 2ms/step - loss: 0.0212 - accuracy: 0.9944\n",
      "Epoch 913/1000\n",
      "36/36 [==============================] - 0s 2ms/step - loss: 0.0024 - accuracy: 1.0000\n",
      "Epoch 914/1000\n",
      "36/36 [==============================] - 0s 2ms/step - loss: 0.0194 - accuracy: 0.9944\n",
      "Epoch 915/1000\n",
      "36/36 [==============================] - 0s 2ms/step - loss: 0.0163 - accuracy: 0.9944\n",
      "Epoch 916/1000\n",
      "36/36 [==============================] - 0s 2ms/step - loss: 2.4642e-04 - accuracy: 1.0000\n",
      "Epoch 917/1000\n",
      "36/36 [==============================] - 0s 2ms/step - loss: 6.9105e-05 - accuracy: 1.0000\n",
      "Epoch 918/1000\n",
      "36/36 [==============================] - 0s 2ms/step - loss: 0.0024 - accuracy: 1.0000\n",
      "Epoch 919/1000\n",
      "36/36 [==============================] - 0s 2ms/step - loss: 0.0101 - accuracy: 0.9972\n",
      "Epoch 920/1000\n",
      "36/36 [==============================] - 0s 2ms/step - loss: 0.0095 - accuracy: 0.9972\n",
      "Epoch 921/1000\n",
      "36/36 [==============================] - 0s 2ms/step - loss: 0.0282 - accuracy: 0.9972\n",
      "Epoch 922/1000\n",
      "36/36 [==============================] - 0s 2ms/step - loss: 1.0116e-04 - accuracy: 1.0000\n",
      "Epoch 923/1000\n",
      "36/36 [==============================] - 0s 3ms/step - loss: 0.1127 - accuracy: 0.9916\n",
      "Epoch 924/1000\n",
      "36/36 [==============================] - 0s 3ms/step - loss: 0.0054 - accuracy: 0.9972\n",
      "Epoch 925/1000\n",
      "36/36 [==============================] - 0s 3ms/step - loss: 2.4385e-04 - accuracy: 1.0000\n",
      "Epoch 926/1000\n",
      "36/36 [==============================] - 0s 2ms/step - loss: 7.9265e-06 - accuracy: 1.0000\n",
      "Epoch 927/1000\n",
      "36/36 [==============================] - 0s 2ms/step - loss: 3.9406e-05 - accuracy: 1.0000\n",
      "Epoch 928/1000\n",
      "36/36 [==============================] - 0s 2ms/step - loss: 0.0017 - accuracy: 1.0000\n",
      "Epoch 929/1000\n",
      "36/36 [==============================] - 0s 2ms/step - loss: 0.0545 - accuracy: 0.9972\n",
      "Epoch 930/1000\n",
      "36/36 [==============================] - 0s 2ms/step - loss: 0.0156 - accuracy: 0.9944\n",
      "Epoch 931/1000\n",
      "36/36 [==============================] - 0s 2ms/step - loss: 0.0164 - accuracy: 0.9944\n",
      "Epoch 932/1000\n",
      "36/36 [==============================] - 0s 2ms/step - loss: 0.0046 - accuracy: 0.9972\n",
      "Epoch 933/1000\n",
      "36/36 [==============================] - 0s 2ms/step - loss: 0.0247 - accuracy: 0.9972\n",
      "Epoch 934/1000\n",
      "36/36 [==============================] - 0s 3ms/step - loss: 1.9433e-05 - accuracy: 1.0000\n",
      "Epoch 935/1000\n",
      "36/36 [==============================] - 0s 3ms/step - loss: 0.0040 - accuracy: 0.9972\n",
      "Epoch 936/1000\n",
      "36/36 [==============================] - 0s 2ms/step - loss: 0.0019 - accuracy: 0.9972\n",
      "Epoch 937/1000\n",
      "36/36 [==============================] - 0s 2ms/step - loss: 2.5746e-04 - accuracy: 1.0000\n",
      "Epoch 938/1000\n",
      "36/36 [==============================] - 0s 2ms/step - loss: 9.5737e-04 - accuracy: 1.0000\n",
      "Epoch 939/1000\n",
      "36/36 [==============================] - 0s 2ms/step - loss: 0.0421 - accuracy: 0.9944\n",
      "Epoch 940/1000\n",
      "36/36 [==============================] - 0s 2ms/step - loss: 1.1534e-04 - accuracy: 1.0000\n",
      "Epoch 941/1000\n",
      "36/36 [==============================] - 0s 2ms/step - loss: 7.2453e-04 - accuracy: 1.0000\n",
      "Epoch 942/1000\n",
      "36/36 [==============================] - 0s 2ms/step - loss: 1.4765e-04 - accuracy: 1.0000\n",
      "Epoch 943/1000\n",
      "36/36 [==============================] - 0s 2ms/step - loss: 1.2442e-06 - accuracy: 1.0000\n",
      "Epoch 944/1000\n",
      "36/36 [==============================] - 0s 2ms/step - loss: 0.0035 - accuracy: 0.9972\n",
      "Epoch 945/1000\n",
      "36/36 [==============================] - 0s 2ms/step - loss: 0.0051 - accuracy: 0.9972\n",
      "Epoch 946/1000\n",
      "36/36 [==============================] - 0s 2ms/step - loss: 0.1287 - accuracy: 0.9972\n",
      "Epoch 947/1000\n",
      "36/36 [==============================] - 0s 2ms/step - loss: 0.0469 - accuracy: 0.9888\n",
      "Epoch 948/1000\n",
      "36/36 [==============================] - 0s 2ms/step - loss: 0.0347 - accuracy: 0.9972\n",
      "Epoch 949/1000\n",
      "36/36 [==============================] - 0s 2ms/step - loss: 0.0666 - accuracy: 0.9916\n",
      "Epoch 950/1000\n",
      "36/36 [==============================] - 0s 2ms/step - loss: 0.0173 - accuracy: 0.9944\n",
      "Epoch 951/1000\n",
      "36/36 [==============================] - 0s 2ms/step - loss: 0.0078 - accuracy: 0.9972\n",
      "Epoch 952/1000\n",
      "36/36 [==============================] - 0s 2ms/step - loss: 0.0056 - accuracy: 0.9972\n",
      "Epoch 953/1000\n",
      "36/36 [==============================] - 0s 2ms/step - loss: 0.0131 - accuracy: 0.9944\n",
      "Epoch 954/1000\n",
      "36/36 [==============================] - 0s 2ms/step - loss: 0.0010 - accuracy: 1.0000\n",
      "Epoch 955/1000\n",
      "36/36 [==============================] - 0s 2ms/step - loss: 0.0040 - accuracy: 0.9972\n",
      "Epoch 956/1000\n",
      "36/36 [==============================] - 0s 2ms/step - loss: 0.0269 - accuracy: 0.9860\n",
      "Epoch 957/1000\n",
      "36/36 [==============================] - 0s 2ms/step - loss: 0.0466 - accuracy: 0.9944\n",
      "Epoch 958/1000\n",
      "36/36 [==============================] - 0s 2ms/step - loss: 2.1513e-05 - accuracy: 1.0000\n",
      "Epoch 959/1000\n",
      "36/36 [==============================] - 0s 2ms/step - loss: 7.1695e-05 - accuracy: 1.0000\n",
      "Epoch 960/1000\n",
      "36/36 [==============================] - 0s 2ms/step - loss: 9.7429e-05 - accuracy: 1.0000\n",
      "Epoch 961/1000\n",
      "36/36 [==============================] - 0s 2ms/step - loss: 0.0014 - accuracy: 1.0000\n",
      "Epoch 962/1000\n",
      "36/36 [==============================] - 0s 2ms/step - loss: 0.0028 - accuracy: 0.9972\n",
      "Epoch 963/1000\n",
      "36/36 [==============================] - 0s 2ms/step - loss: 2.0305e-05 - accuracy: 1.0000\n",
      "Epoch 964/1000\n",
      "36/36 [==============================] - 0s 2ms/step - loss: 0.0350 - accuracy: 0.9944\n",
      "Epoch 965/1000\n",
      "36/36 [==============================] - 0s 2ms/step - loss: 0.0307 - accuracy: 0.9972\n",
      "Epoch 966/1000\n",
      "36/36 [==============================] - 0s 2ms/step - loss: 0.0592 - accuracy: 0.9916\n",
      "Epoch 967/1000\n",
      "36/36 [==============================] - 0s 2ms/step - loss: 0.0810 - accuracy: 0.9860\n",
      "Epoch 968/1000\n",
      "36/36 [==============================] - 0s 2ms/step - loss: 0.0037 - accuracy: 0.9972\n",
      "Epoch 969/1000\n",
      "36/36 [==============================] - 0s 2ms/step - loss: 0.0743 - accuracy: 0.9916\n",
      "Epoch 970/1000\n",
      "36/36 [==============================] - 0s 2ms/step - loss: 0.0431 - accuracy: 0.9944\n",
      "Epoch 971/1000\n",
      "36/36 [==============================] - 0s 2ms/step - loss: 0.0505 - accuracy: 0.9972\n",
      "Epoch 972/1000\n",
      "36/36 [==============================] - 0s 2ms/step - loss: 0.2404 - accuracy: 0.9832\n",
      "Epoch 973/1000\n",
      "36/36 [==============================] - 0s 2ms/step - loss: 0.0803 - accuracy: 0.9916\n",
      "Epoch 974/1000\n",
      "36/36 [==============================] - 0s 3ms/step - loss: 0.0582 - accuracy: 0.9916\n",
      "Epoch 975/1000\n",
      "36/36 [==============================] - 0s 2ms/step - loss: 4.4072e-04 - accuracy: 1.0000\n",
      "Epoch 976/1000\n",
      "36/36 [==============================] - 0s 2ms/step - loss: 0.0260 - accuracy: 0.9944\n",
      "Epoch 977/1000\n",
      "36/36 [==============================] - 0s 2ms/step - loss: 0.0835 - accuracy: 0.9916\n",
      "Epoch 978/1000\n",
      "36/36 [==============================] - 0s 2ms/step - loss: 0.1013 - accuracy: 0.9860\n",
      "Epoch 979/1000\n",
      "36/36 [==============================] - 0s 3ms/step - loss: 0.0263 - accuracy: 0.9972\n",
      "Epoch 980/1000\n",
      "36/36 [==============================] - 0s 3ms/step - loss: 0.0929 - accuracy: 0.9860\n",
      "Epoch 981/1000\n",
      "36/36 [==============================] - 0s 2ms/step - loss: 0.0190 - accuracy: 0.9944\n",
      "Epoch 982/1000\n",
      "36/36 [==============================] - 0s 2ms/step - loss: 0.0409 - accuracy: 0.9972\n",
      "Epoch 983/1000\n",
      "36/36 [==============================] - 0s 2ms/step - loss: 0.0080 - accuracy: 0.9972\n",
      "Epoch 984/1000\n",
      "36/36 [==============================] - 0s 2ms/step - loss: 0.0258 - accuracy: 0.9944\n",
      "Epoch 985/1000\n",
      "36/36 [==============================] - 0s 2ms/step - loss: 0.0434 - accuracy: 0.9944\n",
      "Epoch 986/1000\n",
      "36/36 [==============================] - 0s 2ms/step - loss: 0.0939 - accuracy: 0.9916\n",
      "Epoch 987/1000\n",
      "36/36 [==============================] - 0s 2ms/step - loss: 0.1266 - accuracy: 0.9832\n",
      "Epoch 988/1000\n",
      "36/36 [==============================] - 0s 2ms/step - loss: 0.0270 - accuracy: 0.9916\n",
      "Epoch 989/1000\n",
      "36/36 [==============================] - 0s 2ms/step - loss: 0.0735 - accuracy: 0.9944\n",
      "Epoch 990/1000\n",
      "36/36 [==============================] - 0s 2ms/step - loss: 0.0794 - accuracy: 0.9888\n",
      "Epoch 991/1000\n",
      "36/36 [==============================] - 0s 2ms/step - loss: 0.0250 - accuracy: 0.9916\n",
      "Epoch 992/1000\n",
      "36/36 [==============================] - 0s 3ms/step - loss: 0.0024 - accuracy: 0.9972\n",
      "Epoch 993/1000\n",
      "36/36 [==============================] - 0s 3ms/step - loss: 8.9752e-04 - accuracy: 1.0000\n",
      "Epoch 994/1000\n",
      "36/36 [==============================] - 0s 2ms/step - loss: 5.4391e-05 - accuracy: 1.0000\n",
      "Epoch 995/1000\n",
      "36/36 [==============================] - 0s 2ms/step - loss: 2.0761e-04 - accuracy: 1.0000\n",
      "Epoch 996/1000\n",
      "36/36 [==============================] - 0s 2ms/step - loss: 0.0115 - accuracy: 0.9972\n",
      "Epoch 997/1000\n",
      "36/36 [==============================] - 0s 2ms/step - loss: 8.1003e-05 - accuracy: 1.0000\n",
      "Epoch 998/1000\n",
      "36/36 [==============================] - 0s 2ms/step - loss: 0.0023 - accuracy: 0.9972\n",
      "Epoch 999/1000\n",
      "36/36 [==============================] - 0s 2ms/step - loss: 2.1616e-04 - accuracy: 1.0000\n",
      "Epoch 1000/1000\n",
      "36/36 [==============================] - 0s 2ms/step - loss: 0.0796 - accuracy: 0.9944\n",
      "[0.7917181253433228, 0.7971724271774292, 0.8268669843673706, 0.9528393745422363, 0.7687407732009888, 0.7435992956161499, 0.7064220309257507, 0.8408523797988892, 0.6518164873123169, 0.6717283129692078, 0.6529945731163025, 0.6270372867584229, 0.5625490546226501, 0.49562883377075195, 0.4634355902671814, 0.5177684426307678, 0.6541093587875366, 0.5487120151519775, 0.5220707058906555, 0.46106311678886414, 0.45567214488983154, 0.3909202516078949, 0.4267589747905731, 0.4035484194755554, 0.5259052515029907, 0.3677498698234558, 0.390205979347229, 0.38117337226867676, 0.3509926199913025, 0.3902395963668823, 0.2913747727870941, 0.24787624180316925, 0.27084195613861084, 0.22830383479595184, 0.22708769142627716, 0.2144310176372528, 0.2265433371067047, 0.19251826405525208, 0.20638036727905273, 0.24244487285614014, 0.3470155894756317, 0.2513006627559662, 0.17673294246196747, 0.34384047985076904, 0.20836390554904938, 0.21994076669216156, 0.20717467367649078, 0.17365805804729462, 0.17610742151737213, 0.151615172624588, 0.11257854849100113, 0.14520619809627533, 0.1550336629152298, 0.18851345777511597, 0.10390599071979523, 0.19282592833042145, 0.1367197036743164, 0.14562439918518066, 0.0993480458855629, 0.18803022801876068, 0.1470962017774582, 0.12983021140098572, 0.08850494027137756, 0.07974764704704285, 0.12075384706258774, 0.11397974193096161, 0.03809644654393196, 0.061606310307979584, 0.11889417469501495, 0.09353909641504288, 0.16045381128787994, 0.10388022661209106, 0.1322173774242401, 0.11229103058576584, 0.25512054562568665, 0.24988164007663727, 0.16169095039367676, 0.12257552891969681, 0.05624422803521156, 0.07759486138820648, 0.11512578278779984, 0.11923158168792725, 0.04674604535102844, 0.06445732712745667, 0.10713698714971542, 0.13052397966384888, 0.10277457535266876, 0.16098229587078094, 0.1296563744544983, 0.06923370063304901, 0.07919436693191528, 0.05945471674203873, 0.04999712109565735, 0.07370179891586304, 0.0917334109544754, 0.05164015293121338, 0.06873916834592819, 0.12276386469602585, 0.08859109878540039, 0.07220495492219925, 0.09450382739305496, 0.12694281339645386, 0.11641750484704971, 0.06366470456123352, 0.05571528896689415, 0.06778278201818466, 0.028084388002753258, 0.06027542054653168, 0.1065746620297432, 0.026801958680152893, 0.07161397486925125, 0.09128699451684952, 0.05850093811750412, 0.07623276859521866, 0.03888451308012009, 0.05561745539307594, 0.10833346098661423, 0.07484205067157745, 0.07384341210126877, 0.06984435766935349, 0.16473445296287537, 0.07258789241313934, 0.2154017984867096, 0.13786466419696808, 0.09416389465332031, 0.09163393080234528, 0.11651398986577988, 0.14051032066345215, 0.1625041514635086, 0.07937874644994736, 0.045731011778116226, 0.10603584349155426, 0.10716351121664047, 0.029409583657979965, 0.07183606922626495, 0.02815890684723854, 0.0801510214805603, 0.04624650254845619, 0.03694586083292961, 0.05088720843195915, 0.06470739841461182, 0.043270546942949295, 0.008887804113328457, 0.024493196979165077, 0.017599578946828842, 0.0062493253499269485, 0.022784749045968056, 0.038498107343912125, 0.045909326523542404, 0.018740061670541763, 0.028103282675147057, 0.028548041358590126, 0.06862518936395645, 0.0759468823671341, 0.08461114019155502, 0.07428085803985596, 0.08266986906528473, 0.09008591622114182, 0.05163600295782089, 0.0886957049369812, 0.11952942609786987, 0.12499521672725677, 0.06421812623739243, 0.08107302337884903, 0.08630437403917313, 0.22246871888637543, 0.019789619371294975, 0.0772271379828453, 0.10832078754901886, 0.09966880828142166, 0.09959927201271057, 0.02342476323246956, 0.03046995773911476, 0.0679483711719513, 0.023908384144306183, 0.026749517768621445, 0.08625629544258118, 0.03247392550110817, 0.01827058382332325, 0.07807738333940506, 0.07792071998119354, 0.13073822855949402, 0.2472611963748932, 0.12764254212379456, 0.07890388369560242, 0.10007072240114212, 0.07078492641448975, 0.03838646039366722, 0.07378885895013809, 0.026564190164208412, 0.023543018847703934, 0.07123833894729614, 0.037142980843782425, 0.021935222670435905, 0.027766946703195572, 0.035158321261405945, 0.011359238997101784, 0.012209121137857437, 0.02821626141667366, 0.024194061756134033, 0.055510398000478745, 0.048431262373924255, 0.006419767159968615, 0.004382007289677858, 0.07321024686098099, 0.01707104966044426, 0.07596024125814438, 0.09994897991418839, 0.27004528045654297, 0.20573538541793823, 0.07305524498224258, 0.06275583803653717, 0.027182944118976593, 0.02147558145225048, 0.059051264077425, 0.04195571690797806, 0.009006722830235958, 0.033711161464452744, 0.006767783313989639, 0.013466259464621544, 0.024342061951756477, 0.010126199573278427, 0.018837859854102135, 0.009403133764863014, 0.04090729355812073, 0.018266785889863968, 0.05641230195760727, 0.025018908083438873, 0.044492073357105255, 0.03856038674712181, 0.04347654804587364, 0.006803205702453852, 0.01009181048721075, 0.0293844323605299, 0.011825943365693092, 0.00640764320269227, 0.013277983292937279, 0.0765242949128151, 0.04521990567445755, 0.1171930804848671, 0.055356938391923904, 0.025568418204784393, 0.016866954043507576, 0.04621855169534683, 0.015026932582259178, 0.00288993027061224, 0.02062237448990345, 0.016022786498069763, 0.011185628361999989, 0.0019720096606761217, 0.016383063048124313, 0.013167643919587135, 0.04347743093967438, 0.035792697221040726, 0.020462341606616974, 0.025296058505773544, 0.011132429353892803, 0.0579867959022522, 0.034134410321712494, 0.042697735130786896, 0.05488014593720436, 0.03545591980218887, 0.11558543145656586, 0.03339831531047821, 0.028769083321094513, 0.10585243254899979, 0.10883016884326935, 0.0591312050819397, 0.050676461309194565, 0.0924827829003334, 0.10520176589488983, 0.04605519026517868, 0.04921727627515793, 0.029527602717280388, 0.024902047589421272, 0.00758296949788928, 0.056226614862680435, 0.01865173690021038, 0.03601706027984619, 0.044790901243686676, 0.018176309764385223, 0.019918108358979225, 0.012340645305812359, 0.028309723362326622, 0.016605647280812263, 0.06609126925468445, 0.07756223529577255, 0.0775754526257515, 0.10996031016111374, 0.04676882177591324, 0.02029888704419136, 0.029432831332087517, 0.07157986611127853, 0.11065249890089035, 0.07316607236862183, 0.17460264265537262, 0.026187095791101456, 0.027994079515337944, 0.027788525447249413, 0.0271842572838068, 0.007610977161675692, 0.016107788309454918, 0.10570182651281357, 0.03527555242180824, 0.011473494581878185, 0.006015807390213013, 0.024227270856499672, 0.030763575807213783, 0.03876329958438873, 0.021089738234877586, 0.06629678606987, 0.057493213564157486, 0.010537742637097836, 0.023899154737591743, 0.02583116851747036, 0.011382780969142914, 0.015346171334385872, 0.015533694066107273, 0.036081016063690186, 0.002181069692596793, 0.00400644913315773, 0.057177428156137466, 0.014725864864885807, 0.007013797294348478, 0.04415735974907875, 0.012589290738105774, 0.07785582542419434, 0.024197828024625778, 0.058643948286771774, 0.02767074853181839, 0.05860169231891632, 0.08448846638202667, 0.03554851934313774, 0.02999955788254738, 0.014286406338214874, 0.03683963045477867, 0.024986129254102707, 0.02032598666846752, 0.005136453080922365, 0.005923490505665541, 0.004099077545106411, 0.014576968736946583, 0.03441669046878815, 0.01435727346688509, 0.018911506980657578, 0.018600843846797943, 0.13375291228294373, 0.09909282624721527, 0.0639742985367775, 0.02405579574406147, 0.027719199657440186, 0.004392454866319895, 0.035407714545726776, 0.021556127816438675, 0.0041565923020243645, 0.005669033620506525, 0.008867661468684673, 0.03387686237692833, 0.0043044197373092175, 0.004692722577601671, 0.021777596324682236, 0.002050751820206642, 0.0054061939008533955, 0.00733109749853611, 0.01590319350361824, 0.001555759459733963, 0.033501751720905304, 0.027001196518540382, 0.010550199076533318, 0.05817541852593422, 0.2217390537261963, 0.36981937289237976, 0.05332360044121742, 0.0889648050069809, 0.1610739678144455, 0.08600400388240814, 0.11805621534585953, 0.08234889060258865, 0.08405027538537979, 0.007978290319442749, 0.025246508419513702, 0.006616189610213041, 0.05705690011382103, 0.04222946614027023, 0.06072545796632767, 0.008755192160606384, 0.0014274308923631907, 0.004326429683715105, 0.03836018964648247, 0.031301286071538925, 0.03051569126546383, 0.020440449938178062, 0.012184270657598972, 0.034906499087810516, 0.02847870998084545, 0.07150241732597351, 0.026734616607427597, 0.017447208985686302, 0.0009484821348451078, 0.003977512009441853, 0.0030375835485756397, 0.019574293866753578, 0.004684018902480602, 0.010333350859582424, 0.010801015421748161, 0.0005715027218684554, 0.005472220480442047, 0.005494263954460621, 0.0022482206113636494, 0.0013811757089570165, 6.553805724252015e-05, 0.018905658274888992, 0.010789580643177032, 0.04891571030020714, 0.012585015036165714, 0.017092593014240265, 0.006543945521116257, 0.0042245471850037575, 0.004915924277156591, 0.013229116797447205, 0.0024285975378006697, 0.0003584178339224309, 0.014071260578930378, 0.010619644075632095, 0.0568561889231205, 0.04466743394732475, 0.016491176560521126, 0.014047403819859028, 0.01856575720012188, 0.005073854234069586, 0.004999988712370396, 0.002541986294090748, 0.05091790109872818, 0.05485956743359566, 0.018490443006157875, 0.045850642025470734, 0.06078365817666054, 0.19549420475959778, 0.15624882280826569, 0.10076691210269928, 0.050682179629802704, 0.0810992568731308, 0.04174358397722244, 0.10046114772558212, 0.10920074582099915, 0.03271792456507683, 0.028408491984009743, 0.045666374266147614, 0.017456358298659325, 0.027859743684530258, 0.024092620238661766, 0.023134808987379074, 0.0005479317042045295, 0.008744551800191402, 0.020508646965026855, 0.02287660539150238, 0.038550522178411484, 0.020708521828055382, 0.06788994371891022, 0.05157540366053581, 0.08410593122243881, 0.06306243687868118, 0.016579974442720413, 0.011203406378626823, 0.021371150389313698, 0.03681643307209015, 0.015117096714675426, 0.009630869142711163, 0.0012069700751453638, 0.03118128515779972, 0.0009981754701584578, 0.004463233053684235, 0.008413290604948997, 0.007457453291863203, 0.01902991160750389, 0.04623968154191971, 0.0008487846935167909, 0.0012830138439312577, 0.00036838173400610685, 0.01553528942167759, 0.03079715184867382, 0.018088018521666527, 0.011956633068621159, 0.01584400236606598, 0.004556410014629364, 0.017651326954364777, 0.0006091525428928435, 0.020194290205836296, 0.0036005291622132063, 0.01479567401111126, 0.004626865033060312, 0.026887597516179085, 0.13091570138931274, 0.03997202590107918, 0.0432201586663723, 0.026169119402766228, 0.03070746921002865, 0.022822784259915352, 0.0018841562559828162, 0.011409464292228222, 0.05831286311149597, 0.019969217479228973, 0.02059239335358143, 0.006194006651639938, 0.02621592953801155, 0.07617845386266708, 0.07300164550542831, 0.04916892945766449, 0.0379275381565094, 0.03943491727113724, 0.10208676755428314, 0.167725071310997, 0.012629142962396145, 0.011795900762081146, 0.010529727675020695, 0.007504750974476337, 0.0005335108726285398, 0.009511270560324192, 0.002206205390393734, 0.002572652418166399, 0.06345459818840027, 0.11167263984680176, 0.07225053757429123, 0.019932331517338753, 0.05951259285211563, 0.03141583502292633, 0.06636425852775574, 0.09635280817747116, 0.0784420594573021, 0.030987149104475975, 0.012615415267646313, 0.002488550962880254, 0.021936805918812752, 0.0203432384878397, 0.04949064552783966, 0.023926276713609695, 0.004134329501539469, 0.03274064511060715, 0.010542081668972969, 0.01684269867837429, 0.026097966358065605, 0.0041797268204391, 0.01244361698627472, 0.0011705089127644897, 0.0005556373507715762, 0.0005019644740968943, 0.005677626933902502, 0.028918426483869553, 0.02692655473947525, 0.012066413648426533, 0.0089139798656106, 0.0008166577899828553, 0.025845464318990707, 0.018749145790934563, 0.022760257124900818, 0.04702652245759964, 0.01845090277493, 0.033308856189250946, 0.03875557705760002, 0.05797448009252548, 0.009208236820995808, 0.01752476394176483, 0.04474898800253868, 0.02341567538678646, 0.0667198896408081, 0.008269182406365871, 0.10051008313894272, 0.030025985091924667, 0.05124254152178764, 0.013560062274336815, 0.004038780461996794, 0.007609426509588957, 0.02821183390915394, 0.13265036046504974, 0.0378129817545414, 0.07657594233751297, 0.00733159901574254, 0.0384279303252697, 0.11815531551837921, 0.04040076211094856, 0.040508050471544266, 0.005525361746549606, 0.006298689637333155, 0.03176918625831604, 0.019987409934401512, 0.016053367406129837, 0.06006455421447754, 0.0055399127304553986, 0.044793810695409775, 0.04663783311843872, 0.08570944517850876, 0.006541659589856863, 0.008963214233517647, 0.0018420044798403978, 0.0015425828751176596, 6.0213984397705644e-05, 0.005053524859249592, 0.04001399129629135, 0.013032753020524979, 0.0031838626600801945, 0.0137109886854887, 0.006809947080910206, 0.019131457433104515, 0.006967067252844572, 0.015808314085006714, 0.0028696192894130945, 0.0025761376600712538, 0.000854724261444062, 0.006402112077921629, 0.04251662641763687, 0.00012859828711953014, 0.0001210814225487411, 0.0065761529840528965, 0.04064621031284332, 0.05896894261240959, 0.024339763447642326, 0.0029218343552201986, 6.0447127907536924e-05, 1.53522050823085e-05, 0.010401308536529541, 0.0110509367659688, 0.004470588639378548, 0.01504409871995449, 0.1774216592311859, 0.12821468710899353, 0.024626459926366806, 0.029186461120843887, 0.09267187118530273, 0.04634475335478783, 0.12418849021196365, 0.11263164132833481, 0.006723535247147083, 0.002869456773623824, 0.04591291770339012, 0.03003665991127491, 0.007630197796970606, 0.02867056615650654, 0.007993701845407486, 0.00518067367374897, 0.005802697502076626, 0.0005194710684008896, 0.0025449979584664106, 0.00020382543152663857, 0.006510097999125719, 0.023769520223140717, 5.5481825256720185e-05, 0.004927988164126873, 0.008603624999523163, 0.0503670871257782, 0.03613310679793358, 0.0026929995510727167, 0.02724536694586277, 0.0011082511628046632, 0.026815377175807953, 0.025730472058057785, 0.03487570956349373, 0.10345853120088577, 0.03947197273373604, 0.0798674002289772, 0.007792247924953699, 0.011343708261847496, 0.051975298672914505, 0.0792018324136734, 0.2210238128900528, 0.31198638677597046, 0.0667477548122406, 0.05405643582344055, 0.0446806363761425, 0.05638870596885681, 0.07815610617399216, 0.008894379250705242, 0.011709659360349178, 0.02808394283056259, 0.00590998912230134, 0.00042046004091389477, 0.013379295356571674, 0.011730250902473927, 0.0029705334454774857, 0.10823648422956467, 0.035569317638874054, 0.0028251903131604195, 0.01741740107536316, 0.02835560403764248, 0.0157016608864069, 0.06518689543008804, 0.08766420930624008, 0.005325577687472105, 0.05003797635436058, 0.23203429579734802, 0.040310464799404144, 0.007484608329832554, 0.0048367357812821865, 0.022317655384540558, 0.0024804400745779276, 0.0008752189460210502, 6.0956044762860984e-05, 0.0004385006322991103, 0.0024478016421198845, 0.000492550665512681, 0.004836649633944035, 0.007640913128852844, 0.02578342705965042, 0.006461951415985823, 9.068488907360006e-06, 0.02329804003238678, 0.025494692847132683, 0.002502983435988426, 0.00011416726192692295, 0.00635902164503932, 6.93204056005925e-05, 0.037735581398010254, 0.039639733731746674, 0.021465754136443138, 0.031590498983860016, 0.054401151835918427, 0.017412051558494568, 0.056035805493593216, 0.032926250249147415, 0.015513264574110508, 0.02839680388569832, 0.005843108054250479, 0.07510380446910858, 0.01876351423561573, 0.005613627843558788, 0.00836331769824028, 0.029741279780864716, 0.03193966671824455, 0.07416320592164993, 0.08557546883821487, 0.0277565810829401, 0.00030516384867951274, 0.004410191904753447, 0.0006596918683499098, 0.03378782793879509, 0.0002559128333814442, 0.006030594930052757, 0.0009736276115290821, 0.0016296334797516465, 0.002553874859586358, 0.001220173784531653, 0.00010759163706097752, 5.5264594266191125e-05, 2.758698428806383e-05, 2.8814478355343454e-05, 0.0628090351819992, 0.39815688133239746, 0.041562650352716446, 0.046887509524822235, 0.0028723019640892744, 0.022591279819607735, 0.02039535529911518, 0.004031682852655649, 0.03028550185263157, 0.0001172063930425793, 0.0018025366589426994, 0.09317978471517563, 8.600954606663436e-05, 6.695513002341613e-05, 0.00020292184490244836, 0.0015830046031624079, 0.0034864272456616163, 0.011184295639395714, 0.0012127539375796914, 0.0014669540105387568, 0.005281491205096245, 0.04360587149858475, 0.01772489957511425, 0.008856906555593014, 0.0027853723149746656, 0.03707993030548096, 0.0018136180005967617, 0.00034177544876001775, 0.001361618284136057, 9.659687930252403e-05, 0.0016770679503679276, 0.00016554385365452617, 4.2104047679458745e-06, 0.004072962794452906, 2.5369366994709708e-05, 0.001965620554983616, 0.03214116767048836, 0.02009437419474125, 0.0007678429246880114, 0.00022257099044509232, 3.891708911396563e-05, 0.0068892668932676315, 0.005069715436547995, 0.0025706312153488398, 0.0010396171128377318, 4.904043089482002e-05, 2.071881499432493e-05, 6.272307655308396e-05, 6.735762144671753e-05, 6.860330904601142e-05, 0.006560742389410734, 3.4121942007914186e-05, 4.474523666431196e-05, 0.023445192724466324, 0.09898491203784943, 0.11410690099000931, 0.32724934816360474, 0.1476447433233261, 0.021650582551956177, 0.17682641744613647, 0.034484680742025375, 0.0006654689204879105, 0.0019246907904744148, 0.015935592353343964, 0.0037817407865077257, 0.2460259199142456, 0.06521809101104736, 0.014263840392231941, 0.04406220093369484, 0.09337309002876282, 0.0012424701126292348, 0.019454266875982285, 0.00387364998459816, 0.0017695518909022212, 0.0013056185562163591, 3.23999956890475e-05, 0.00014666868082713336, 0.01725466549396515, 0.07169628888368607, 0.04041767865419388, 0.03660663962364197, 0.0796533152461052, 0.002125677652657032, 0.002829545410349965, 0.04817982763051987, 0.008679893799126148, 0.0011726162629202008, 0.04376289248466492, 0.05081332474946976, 0.014046293683350086, 0.005898807197809219, 0.006127736996859312, 0.02193322218954563, 0.04233463481068611, 0.014713017269968987, 1.8374510545982048e-05, 0.025849247351288795, 1.8724182154983282e-05, 0.013819044455885887, 0.00038425627280957997, 0.018181229010224342, 4.146419814787805e-05, 0.00957624800503254, 0.015460069291293621, 0.0011480065295472741, 2.2093201550887898e-05, 0.023887615650892258, 0.01674988865852356, 0.047539811581373215, 0.09022003412246704, 0.00042388870497234166, 0.036607664078474045, 0.05085393786430359, 0.01518328208476305, 0.02061326988041401, 0.05817773938179016, 0.3417244255542755, 0.16304001212120056, 0.049286920577287674, 0.040551602840423584, 0.0846761092543602, 0.045122113078832626, 0.0015580093022435904, 0.0095407385379076, 0.002621610648930073, 0.10741441696882248, 0.03828120231628418, 0.03328176215291023, 0.09520058333873749, 0.005863944999873638, 0.07238029688596725, 0.0015343534760177135, 0.01951104775071144, 0.00025331357028335333, 0.0887531116604805, 0.03625671938061714, 0.005772920325398445, 0.0025866180658340454, 0.000989533611573279, 0.0005821280647069216, 0.014582915231585503, 0.001234832452610135, 0.0005084658623673022, 0.00020647149358410388, 5.328354745870456e-06, 1.4888575606164522e-05, 3.0671308195451275e-05, 0.02204723283648491, 0.025186026468873024, 6.886864866828546e-06, 0.08428999036550522, 0.008550461381673813, 0.021071795374155045, 0.0003018922288902104, 1.5822596424186486e-06, 0.0024540105368942022, 0.010877200402319431, 3.993467544205487e-05, 0.0004218865360599011, 0.01750935986638069, 0.06680747866630554, 0.08567403256893158, 0.18644019961357117, 0.08650317043066025, 0.1880980283021927, 0.04685021564364433, 0.11130674928426743, 0.02123822644352913, 0.002436326816678047, 0.01944085955619812, 0.016327645629644394, 0.00024641765048727393, 6.910515367053449e-05, 0.0024261013604700565, 0.010062525980174541, 0.009462157264351845, 0.028165098279714584, 0.00010115726036019623, 0.11270822584629059, 0.005396670661866665, 0.00024385367578361183, 7.926529178803321e-06, 3.9405724237440154e-05, 0.0017178913112729788, 0.05447249114513397, 0.01559012196958065, 0.01644967310130596, 0.004581297282129526, 0.0247022807598114, 1.943264578585513e-05, 0.004016492515802383, 0.0019461768679320812, 0.0002574575482867658, 0.0009573741117492318, 0.04211946949362755, 0.00011533868382684886, 0.0007245288579724729, 0.00014764873776584864, 1.2442197885320638e-06, 0.003496837103739381, 0.005137424450367689, 0.12872758507728577, 0.046861302107572556, 0.034720323979854584, 0.06658857315778732, 0.017289359122514725, 0.007816344499588013, 0.005608013365417719, 0.013084223493933678, 0.0010471378918737173, 0.003957456909120083, 0.02691640518605709, 0.04658748582005501, 2.151278567907866e-05, 7.169453601818532e-05, 9.742945985635743e-05, 0.001380774425342679, 0.002808444667607546, 2.0304702047724277e-05, 0.0349692665040493, 0.03066539578139782, 0.059150733053684235, 0.08104053884744644, 0.003738535102456808, 0.07429591566324234, 0.04306710511445999, 0.05049765855073929, 0.24037127196788788, 0.0802944079041481, 0.05821925401687622, 0.0004407177329994738, 0.025974849238991737, 0.08345071226358414, 0.10126999020576477, 0.026296354830265045, 0.09291627258062363, 0.01897263713181019, 0.040860820561647415, 0.008010861463844776, 0.025835910812020302, 0.04343931004405022, 0.09392394125461578, 0.12662141025066376, 0.027034593746066093, 0.07353872805833817, 0.07942110300064087, 0.02501031756401062, 0.0023910386953502893, 0.0008975237724371254, 5.439068627310917e-05, 0.00020760578627232462, 0.011538350954651833, 8.100263949017972e-05, 0.0023337199818342924, 0.000216155473026447, 0.07956036925315857]\n",
      "[0.6564245820045471, 0.6564245820045471, 0.6480447053909302, 0.5977653861045837, 0.6368715167045593, 0.6564245820045471, 0.7262569665908813, 0.6173184514045715, 0.7625698447227478, 0.7094972133636475, 0.7178770899772644, 0.7206704020500183, 0.7681564092636108, 0.7932960987091064, 0.8184357285499573, 0.7988826632499695, 0.7402234673500061, 0.8044692873954773, 0.7625698447227478, 0.840782105922699, 0.8240223526954651, 0.8547486066818237, 0.8100558519363403, 0.840782105922699, 0.8044692873954773, 0.8715083599090576, 0.8463687300682068, 0.8575419187545776, 0.8798882961273193, 0.8296089172363281, 0.8994413614273071, 0.9078212380409241, 0.8966480493545532, 0.8994413614273071, 0.9050279259681702, 0.916201114654541, 0.910614550113678, 0.9301676154136658, 0.9273743033409119, 0.9189944267272949, 0.8687151074409485, 0.9050279259681702, 0.9301676154136658, 0.910614550113678, 0.910614550113678, 0.9217877388000488, 0.9301676154136658, 0.9357541799545288, 0.9273743033409119, 0.9525139927864075, 0.9497206807136536, 0.9525139927864075, 0.9469273686408997, 0.9469273686408997, 0.9581005573272705, 0.9441340565681458, 0.9469273686408997, 0.9385474920272827, 0.9608938694000244, 0.9329608678817749, 0.9469273686408997, 0.9441340565681458, 0.9720670580863953, 0.9720670580863953, 0.9581005573272705, 0.9553072452545166, 0.9832402467727661, 0.9804469347000122, 0.9581005573272705, 0.9692737460136414, 0.9497206807136536, 0.9581005573272705, 0.9608938694000244, 0.9581005573272705, 0.9134078025817871, 0.9078212380409241, 0.9301676154136658, 0.9608938694000244, 0.9860334992408752, 0.9776536226272583, 0.9441340565681458, 0.9553072452545166, 0.9860334992408752, 0.9776536226272583, 0.9636871218681335, 0.9608938694000244, 0.9608938694000244, 0.9608938694000244, 0.9553072452545166, 0.9720670580863953, 0.9748603105545044, 0.9860334992408752, 0.9832402467727661, 0.9664804339408875, 0.9581005573272705, 0.9776536226272583, 0.9888268113136292, 0.9553072452545166, 0.9692737460136414, 0.9748603105545044, 0.9608938694000244, 0.9497206807136536, 0.9581005573272705, 0.9692737460136414, 0.9776536226272583, 0.9748603105545044, 0.9916201233863831, 0.9860334992408752, 0.9664804339408875, 0.994413435459137, 0.9664804339408875, 0.9776536226272583, 0.9832402467727661, 0.9720670580863953, 0.9888268113136292, 0.9748603105545044, 0.9608938694000244, 0.9720670580863953, 0.9776536226272583, 0.9692737460136414, 0.9553072452545166, 0.9664804339408875, 0.9301676154136658, 0.9525139927864075, 0.9692737460136414, 0.9748603105545044, 0.9636871218681335, 0.9497206807136536, 0.9413408041000366, 0.9692737460136414, 0.9832402467727661, 0.9581005573272705, 0.9636871218681335, 0.9972066879272461, 0.9832402467727661, 0.9888268113136292, 0.9776536226272583, 0.9832402467727661, 0.9888268113136292, 0.9804469347000122, 0.9804469347000122, 0.9832402467727661, 1.0, 0.994413435459137, 0.9972066879272461, 1.0, 0.9916201233863831, 0.9804469347000122, 0.9804469347000122, 0.994413435459137, 0.9888268113136292, 0.9860334992408752, 0.9860334992408752, 0.9692737460136414, 0.9720670580863953, 0.9720670580863953, 0.9720670580863953, 0.9720670580863953, 0.9860334992408752, 0.9832402467727661, 0.9608938694000244, 0.9636871218681335, 0.9832402467727661, 0.9664804339408875, 0.9748603105545044, 0.9413408041000366, 0.994413435459137, 0.9636871218681335, 0.9608938694000244, 0.9720670580863953, 0.9804469347000122, 0.994413435459137, 0.9916201233863831, 0.9692737460136414, 0.9916201233863831, 0.9916201233863831, 0.9776536226272583, 0.9860334992408752, 0.9972066879272461, 0.9832402467727661, 0.9776536226272583, 0.9608938694000244, 0.9581005573272705, 0.9636871218681335, 0.9692737460136414, 0.9692737460136414, 0.9832402467727661, 0.9916201233863831, 0.9720670580863953, 0.9916201233863831, 0.9916201233863831, 0.9776536226272583, 0.9888268113136292, 0.9916201233863831, 0.9860334992408752, 0.9888268113136292, 0.994413435459137, 0.994413435459137, 0.9888268113136292, 0.9916201233863831, 0.9860334992408752, 0.9804469347000122, 1.0, 1.0, 0.9832402467727661, 0.9916201233863831, 0.9776536226272583, 0.9776536226272583, 0.9385474920272827, 0.9441340565681458, 0.9720670580863953, 0.9776536226272583, 0.9916201233863831, 0.994413435459137, 0.9776536226272583, 0.9804469347000122, 1.0, 0.9860334992408752, 0.9972066879272461, 0.994413435459137, 0.9860334992408752, 1.0, 0.994413435459137, 0.994413435459137, 0.9832402467727661, 0.9916201233863831, 0.9804469347000122, 0.9916201233863831, 0.9860334992408752, 0.9916201233863831, 0.9916201233863831, 0.9972066879272461, 0.9972066879272461, 0.9860334992408752, 0.9972066879272461, 1.0, 0.9972066879272461, 0.9832402467727661, 0.9832402467727661, 0.9832402467727661, 0.9832402467727661, 0.9888268113136292, 0.9916201233863831, 0.9832402467727661, 0.994413435459137, 1.0, 0.9916201233863831, 0.9916201233863831, 0.994413435459137, 1.0, 0.994413435459137, 0.9972066879272461, 0.9804469347000122, 0.9860334992408752, 0.994413435459137, 0.994413435459137, 0.994413435459137, 0.9860334992408752, 0.9888268113136292, 0.9804469347000122, 0.9860334992408752, 0.9888268113136292, 0.9636871218681335, 0.9860334992408752, 0.9916201233863831, 0.9748603105545044, 0.9636871218681335, 0.9860334992408752, 0.9832402467727661, 0.9776536226272583, 0.9692737460136414, 0.9832402467727661, 0.9888268113136292, 0.994413435459137, 0.9916201233863831, 1.0, 0.9860334992408752, 0.994413435459137, 0.9888268113136292, 0.9860334992408752, 0.9916201233863831, 0.994413435459137, 0.994413435459137, 0.9832402467727661, 0.9888268113136292, 0.9860334992408752, 0.9860334992408752, 0.9804469347000122, 0.9720670580863953, 0.9860334992408752, 0.9916201233863831, 0.994413435459137, 0.9860334992408752, 0.9748603105545044, 0.9832402467727661, 0.9720670580863953, 0.9832402467727661, 0.9888268113136292, 0.994413435459137, 0.9860334992408752, 0.9972066879272461, 0.994413435459137, 0.9748603105545044, 0.9860334992408752, 0.9972066879272461, 0.9972066879272461, 0.994413435459137, 0.9888268113136292, 0.994413435459137, 0.9916201233863831, 0.9832402467727661, 0.9832402467727661, 0.994413435459137, 0.9916201233863831, 0.9916201233863831, 0.9916201233863831, 0.994413435459137, 0.994413435459137, 0.9916201233863831, 1.0, 0.9972066879272461, 0.9888268113136292, 0.994413435459137, 0.9972066879272461, 0.9916201233863831, 0.9972066879272461, 0.9832402467727661, 0.994413435459137, 0.9832402467727661, 0.9916201233863831, 0.9916201233863831, 0.9804469347000122, 0.9916201233863831, 0.9916201233863831, 0.994413435459137, 0.9888268113136292, 0.9916201233863831, 0.9916201233863831, 0.9972066879272461, 0.9972066879272461, 0.9972066879272461, 0.9916201233863831, 0.9916201233863831, 0.9972066879272461, 0.994413435459137, 0.9916201233863831, 0.9832402467727661, 0.9804469347000122, 0.9888268113136292, 0.994413435459137, 0.9972066879272461, 1.0, 0.9888268113136292, 0.994413435459137, 0.9972066879272461, 0.9972066879272461, 0.994413435459137, 0.9860334992408752, 0.9972066879272461, 1.0, 0.994413435459137, 1.0, 0.9972066879272461, 0.9972066879272461, 0.9916201233863831, 1.0, 0.994413435459137, 0.9888268113136292, 0.994413435459137, 0.9860334992408752, 0.9441340565681458, 0.9078212380409241, 0.9860334992408752, 0.9776536226272583, 0.9664804339408875, 0.9832402467727661, 0.9748603105545044, 0.9832402467727661, 0.9888268113136292, 0.9972066879272461, 0.9888268113136292, 0.9972066879272461, 0.9916201233863831, 0.9888268113136292, 0.994413435459137, 0.994413435459137, 1.0, 0.9972066879272461, 0.9860334992408752, 0.9916201233863831, 0.9888268113136292, 0.994413435459137, 0.9972066879272461, 0.9888268113136292, 0.9916201233863831, 0.9888268113136292, 0.9888268113136292, 0.9916201233863831, 1.0, 0.9972066879272461, 0.9972066879272461, 0.9972066879272461, 0.9972066879272461, 0.9972066879272461, 0.994413435459137, 1.0, 0.9972066879272461, 0.9972066879272461, 1.0, 1.0, 1.0, 0.994413435459137, 0.9916201233863831, 0.9832402467727661, 0.9972066879272461, 0.9916201233863831, 0.9972066879272461, 1.0, 0.9972066879272461, 0.994413435459137, 1.0, 1.0, 0.994413435459137, 0.994413435459137, 0.9832402467727661, 0.9916201233863831, 0.994413435459137, 0.9916201233863831, 0.9916201233863831, 0.9972066879272461, 0.9972066879272461, 1.0, 0.994413435459137, 0.9776536226272583, 0.9916201233863831, 0.994413435459137, 0.9860334992408752, 0.9636871218681335, 0.9581005573272705, 0.9748603105545044, 0.9860334992408752, 0.9748603105545044, 0.9860334992408752, 0.9832402467727661, 0.9860334992408752, 0.9832402467727661, 0.9888268113136292, 0.9804469347000122, 0.9972066879272461, 0.9888268113136292, 0.9888268113136292, 0.9972066879272461, 1.0, 0.9972066879272461, 0.994413435459137, 0.994413435459137, 0.9916201233863831, 0.9916201233863831, 0.9916201233863831, 0.9916201233863831, 0.9776536226272583, 0.9916201233863831, 0.994413435459137, 0.994413435459137, 0.994413435459137, 0.9972066879272461, 0.994413435459137, 0.9972066879272461, 1.0, 0.9916201233863831, 1.0, 0.9972066879272461, 0.994413435459137, 0.9972066879272461, 0.994413435459137, 0.994413435459137, 1.0, 1.0, 1.0, 0.994413435459137, 0.994413435459137, 0.9888268113136292, 0.994413435459137, 0.9916201233863831, 0.9972066879272461, 0.994413435459137, 1.0, 0.994413435459137, 1.0, 0.9916201233863831, 0.9972066879272461, 0.9916201233863831, 0.9832402467727661, 0.9888268113136292, 0.9860334992408752, 0.9972066879272461, 0.9972066879272461, 0.9972066879272461, 1.0, 0.9972066879272461, 0.9860334992408752, 0.9972066879272461, 0.9916201233863831, 0.9972066879272461, 0.9916201233863831, 0.9860334992408752, 0.9832402467727661, 0.9888268113136292, 0.9916201233863831, 0.9888268113136292, 0.9748603105545044, 0.9636871218681335, 0.9972066879272461, 0.994413435459137, 0.994413435459137, 0.9972066879272461, 1.0, 0.9972066879272461, 1.0, 1.0, 0.9832402467727661, 0.9776536226272583, 0.9860334992408752, 0.994413435459137, 0.9916201233863831, 0.9888268113136292, 0.9804469347000122, 0.9860334992408752, 0.9860334992408752, 0.994413435459137, 0.994413435459137, 1.0, 0.9972066879272461, 0.994413435459137, 0.9860334992408752, 0.9860334992408752, 0.9972066879272461, 0.9972066879272461, 0.9972066879272461, 0.994413435459137, 0.9888268113136292, 1.0, 0.9972066879272461, 1.0, 1.0, 1.0, 0.9972066879272461, 0.994413435459137, 0.9916201233863831, 0.994413435459137, 0.9972066879272461, 1.0, 0.994413435459137, 0.9916201233863831, 0.994413435459137, 0.9888268113136292, 0.994413435459137, 0.9888268113136292, 0.9888268113136292, 0.9916201233863831, 0.994413435459137, 0.994413435459137, 0.9916201233863831, 0.9916201233863831, 0.9804469347000122, 0.9972066879272461, 0.9860334992408752, 0.9916201233863831, 0.994413435459137, 0.9972066879272461, 0.9972066879272461, 0.994413435459137, 0.994413435459137, 0.9776536226272583, 0.9916201233863831, 0.9860334992408752, 0.9972066879272461, 0.9972066879272461, 0.9860334992408752, 0.9916201233863831, 0.994413435459137, 0.9972066879272461, 0.9972066879272461, 0.9916201233863831, 0.994413435459137, 0.994413435459137, 0.9888268113136292, 0.9972066879272461, 0.9916201233863831, 0.994413435459137, 0.9832402467727661, 0.9972066879272461, 0.9972066879272461, 1.0, 1.0, 1.0, 1.0, 0.9860334992408752, 0.994413435459137, 1.0, 0.9972066879272461, 0.9972066879272461, 0.9888268113136292, 0.9972066879272461, 0.994413435459137, 1.0, 0.9972066879272461, 1.0, 0.9972066879272461, 0.994413435459137, 1.0, 1.0, 0.9972066879272461, 0.9916201233863831, 0.9832402467727661, 0.9888268113136292, 0.9972066879272461, 1.0, 1.0, 0.994413435459137, 0.9972066879272461, 0.9972066879272461, 0.994413435459137, 0.9748603105545044, 0.9608938694000244, 0.9916201233863831, 0.9916201233863831, 0.9860334992408752, 0.9916201233863831, 0.9776536226272583, 0.9776536226272583, 0.9972066879272461, 0.9972066879272461, 0.9972066879272461, 0.9972066879272461, 0.9972066879272461, 0.9972066879272461, 0.994413435459137, 0.9972066879272461, 0.9972066879272461, 1.0, 0.9972066879272461, 1.0, 0.994413435459137, 0.994413435459137, 1.0, 0.9972066879272461, 0.994413435459137, 0.994413435459137, 0.9888268113136292, 0.9972066879272461, 0.9972066879272461, 1.0, 0.9916201233863831, 0.9916201233863831, 0.9888268113136292, 0.9776536226272583, 0.9916201233863831, 0.9888268113136292, 0.9972066879272461, 0.9972066879272461, 0.9888268113136292, 0.9776536226272583, 0.9804469347000122, 0.9525139927864075, 0.9860334992408752, 0.9916201233863831, 0.9916201233863831, 0.9860334992408752, 0.9832402467727661, 0.994413435459137, 0.9972066879272461, 0.9972066879272461, 0.9972066879272461, 1.0, 0.9972066879272461, 0.9972066879272461, 0.9972066879272461, 0.9832402467727661, 0.9888268113136292, 1.0, 0.9972066879272461, 0.994413435459137, 0.9972066879272461, 0.9916201233863831, 0.9860334992408752, 0.9972066879272461, 0.994413435459137, 0.9860334992408752, 0.994413435459137, 0.9972066879272461, 0.9972066879272461, 0.9972066879272461, 1.0, 1.0, 1.0, 1.0, 0.9972066879272461, 1.0, 0.9972066879272461, 0.9972066879272461, 0.994413435459137, 0.9972066879272461, 1.0, 0.994413435459137, 0.9972066879272461, 1.0, 1.0, 0.9972066879272461, 1.0, 0.9972066879272461, 0.994413435459137, 0.994413435459137, 0.9916201233863831, 0.9916201233863831, 0.9972066879272461, 0.9860334992408752, 0.9832402467727661, 0.994413435459137, 0.994413435459137, 0.9972066879272461, 0.994413435459137, 0.9888268113136292, 0.9972066879272461, 0.9972066879272461, 0.9916201233863831, 0.9916201233863831, 0.9888268113136292, 0.9916201233863831, 0.9916201233863831, 1.0, 0.9972066879272461, 1.0, 0.9972066879272461, 1.0, 0.9972066879272461, 1.0, 1.0, 1.0, 1.0, 1.0, 1.0, 1.0, 1.0, 0.994413435459137, 0.9553072452545166, 0.9888268113136292, 0.9916201233863831, 1.0, 0.994413435459137, 0.994413435459137, 0.9972066879272461, 0.994413435459137, 1.0, 1.0, 0.994413435459137, 1.0, 1.0, 1.0, 1.0, 0.9972066879272461, 0.9972066879272461, 1.0, 1.0, 0.9972066879272461, 0.994413435459137, 0.994413435459137, 0.9972066879272461, 0.9972066879272461, 0.994413435459137, 1.0, 1.0, 1.0, 1.0, 1.0, 1.0, 1.0, 0.9972066879272461, 1.0, 1.0, 0.9972066879272461, 0.9972066879272461, 1.0, 1.0, 1.0, 0.9972066879272461, 0.9972066879272461, 1.0, 1.0, 1.0, 1.0, 1.0, 1.0, 1.0, 0.9972066879272461, 1.0, 1.0, 0.9972066879272461, 0.9832402467727661, 0.9804469347000122, 0.9441340565681458, 0.9860334992408752, 0.994413435459137, 0.9748603105545044, 0.9888268113136292, 1.0, 1.0, 0.994413435459137, 0.9972066879272461, 0.9832402467727661, 0.9860334992408752, 0.9972066879272461, 0.9888268113136292, 0.9776536226272583, 1.0, 0.994413435459137, 0.9972066879272461, 1.0, 1.0, 1.0, 1.0, 0.9972066879272461, 0.9888268113136292, 0.9888268113136292, 0.9888268113136292, 0.9860334992408752, 1.0, 0.9972066879272461, 0.9972066879272461, 0.9972066879272461, 1.0, 0.994413435459137, 0.9888268113136292, 0.9972066879272461, 0.9972066879272461, 0.9972066879272461, 0.994413435459137, 0.9972066879272461, 0.9972066879272461, 1.0, 0.9972066879272461, 1.0, 0.994413435459137, 1.0, 0.9972066879272461, 1.0, 0.9972066879272461, 0.994413435459137, 1.0, 1.0, 0.994413435459137, 0.9972066879272461, 0.994413435459137, 0.9860334992408752, 1.0, 0.9916201233863831, 0.9972066879272461, 0.9972066879272461, 0.9972066879272461, 0.9888268113136292, 0.9776536226272583, 0.9692737460136414, 0.9748603105545044, 0.9888268113136292, 0.9804469347000122, 0.9888268113136292, 1.0, 0.994413435459137, 1.0, 0.9860334992408752, 0.994413435459137, 0.9916201233863831, 0.9888268113136292, 0.9972066879272461, 0.9832402467727661, 1.0, 0.9972066879272461, 1.0, 0.9916201233863831, 0.9888268113136292, 0.9972066879272461, 0.9972066879272461, 1.0, 1.0, 0.994413435459137, 1.0, 1.0, 1.0, 1.0, 1.0, 1.0, 0.9972066879272461, 0.994413435459137, 1.0, 0.994413435459137, 0.9972066879272461, 0.994413435459137, 1.0, 1.0, 0.9972066879272461, 0.9972066879272461, 1.0, 1.0, 0.994413435459137, 0.9916201233863831, 0.9916201233863831, 0.9776536226272583, 0.9860334992408752, 0.9832402467727661, 0.9916201233863831, 0.9860334992408752, 0.994413435459137, 1.0, 0.994413435459137, 0.994413435459137, 1.0, 1.0, 1.0, 0.9972066879272461, 0.9972066879272461, 0.9972066879272461, 1.0, 0.9916201233863831, 0.9972066879272461, 1.0, 1.0, 1.0, 1.0, 0.9972066879272461, 0.994413435459137, 0.994413435459137, 0.9972066879272461, 0.9972066879272461, 1.0, 0.9972066879272461, 0.9972066879272461, 1.0, 1.0, 0.994413435459137, 1.0, 1.0, 1.0, 1.0, 0.9972066879272461, 0.9972066879272461, 0.9972066879272461, 0.9888268113136292, 0.9972066879272461, 0.9916201233863831, 0.994413435459137, 0.9972066879272461, 0.9972066879272461, 0.994413435459137, 1.0, 0.9972066879272461, 0.9860334992408752, 0.994413435459137, 1.0, 1.0, 1.0, 1.0, 0.9972066879272461, 1.0, 0.994413435459137, 0.9972066879272461, 0.9916201233863831, 0.9860334992408752, 0.9972066879272461, 0.9916201233863831, 0.994413435459137, 0.9972066879272461, 0.9832402467727661, 0.9916201233863831, 0.9916201233863831, 1.0, 0.994413435459137, 0.9916201233863831, 0.9860334992408752, 0.9972066879272461, 0.9860334992408752, 0.994413435459137, 0.9972066879272461, 0.9972066879272461, 0.994413435459137, 0.994413435459137, 0.9916201233863831, 0.9832402467727661, 0.9916201233863831, 0.994413435459137, 0.9888268113136292, 0.9916201233863831, 0.9972066879272461, 1.0, 1.0, 1.0, 0.9972066879272461, 1.0, 0.9972066879272461, 1.0, 0.994413435459137]\n"
     ]
    },
    {
     "data": {
      "image/png": "[encoded data removed]",
      "text/plain": [
       "<Figure size 432x288 with 2 Axes>"
      ]
     },
     "metadata": {
      "needs_background": "light"
     },
     "output_type": "display_data"
    }
   ],
   "source": [
    "hist = model.fit(x_test, y_test, epochs=1000, batch_size=10)\n",
    "\n",
    "print(hist.history['loss'])\n",
    "print(hist.history['accuracy'])\n",
    "\n",
    "\n",
    "fig, loss_ax = plt.subplots()\n",
    "\n",
    "acc_ax = loss_ax.twinx()\n",
    "\n",
    "loss_ax.plot(hist.history['loss'], 'y', label='test loss')\n",
    "\n",
    "acc_ax.plot(hist.history['accuracy'], 'b', label='test accuracy')\n",
    "\n",
    "loss_ax.set_xlabel('epoch')\n",
    "loss_ax.set_ylabel('loss')\n",
    "acc_ax.set_ylabel('accuray')\n",
    "\n",
    "loss_ax.legend(loc='upper left')\n",
    "acc_ax.legend(loc='lower left')\n",
    "\n",
    "plt.show()"
   ]
  },
  {
   "cell_type": "markdown",
   "metadata": {},
   "source": [
    "## 미니 프로젝트 정리"
   ]
  },
  {
   "cell_type": "markdown",
   "metadata": {},
   "source": [
    "**<진행 과정>**  \n",
    "1. 테스트 데이터를 만들기 위해 4명의 조원들의 데이터를 합침\n",
    "2. 합친 데이터를 8:2 비율로 train, test data로 나눔\n",
    "3. test data를 통한 평가 모델 결과   \n",
    "**=> loss: 0.5537, accuracy: 0.7849**\n",
    "4. Loss & Accuracy 그래프 시각화\n",
    "\n",
    "**<결과 평가>**\n",
    "1. train data로 학습 시킨 결과 Overfitting이 발생함\n",
    "2. Overfitting을 막기 위해 Dropout을 활용하여 Overfitting을 방지함\n",
    "3. loss, accuracy 그래프가 이상적으로 잘 나옴\n",
    "\n",
    "**<고찰>**\n",
    "1. Validation data를 활용하여 최적의 모델을 찾는 과정이 없어서 아쉬웠음.\n",
    "2. 데이터의 개수가 적었던 것이 아쉬웠음.\n",
    "2. 수강생들의 모든 데이터로 진행하지 못한 점이 아쉬웠음."
   ]
  }
 ],
 "metadata": {
  "kernelspec": {
   "display_name": "Python 3",
   "language": "python",
   "name": "python3"
  },
  "language_info": {
   "codemirror_mode": {
    "name": "ipython",
    "version": 3
   },
   "file_extension": ".py",
   "mimetype": "text/x-python",
   "name": "python",
   "nbconvert_exporter": "python",
   "pygments_lexer": "ipython3",
   "version": "3.7.6"
  }
 },
 "nbformat": 4,
 "nbformat_minor": 4
}
