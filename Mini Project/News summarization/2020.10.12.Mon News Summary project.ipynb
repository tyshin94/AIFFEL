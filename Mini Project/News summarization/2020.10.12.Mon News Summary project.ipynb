{
 "cells": [
  {
   "cell_type": "markdown",
   "metadata": {},
   "source": [
    "# Project: 뉴스기사 요약"
   ]
  },
  {
   "cell_type": "markdown",
   "metadata": {},
   "source": [
    "**두 가지 요약 진행**\n",
    "1. 추상적 요약\n",
    "2. 추출적 요약"
   ]
  },
  {
   "cell_type": "markdown",
   "metadata": {},
   "source": [
    "### 데이터 수집하기\n",
    "- 데이터 다운로드"
   ]
  },
  {
   "cell_type": "code",
   "execution_count": 12,
   "metadata": {},
   "outputs": [
    {
     "name": "stdout",
     "output_type": "stream",
     "text": [
      "전체 샘플수 : 98401\n"
     ]
    }
   ],
   "source": [
    "import os\n",
    "import pandas as pd\n",
    "\n",
    "data = pd.read_csv(os.getenv(\"HOME\")+\"/aiffel/news_summarization/data/news_summary_more.csv\")    \n",
    "print('전체 샘플수 :', (len(data)))"
   ]
  },
  {
   "cell_type": "code",
   "execution_count": 13,
   "metadata": {},
   "outputs": [
    {
     "data": {
      "text/html": [
       "<div>\n",
       "<style scoped>\n",
       "    .dataframe tbody tr th:only-of-type {\n",
       "        vertical-align: middle;\n",
       "    }\n",
       "\n",
       "    .dataframe tbody tr th {\n",
       "        vertical-align: top;\n",
       "    }\n",
       "\n",
       "    .dataframe thead th {\n",
       "        text-align: right;\n",
       "    }\n",
       "</style>\n",
       "<table border=\"1\" class=\"dataframe\">\n",
       "  <thead>\n",
       "    <tr style=\"text-align: right;\">\n",
       "      <th></th>\n",
       "      <th>headlines</th>\n",
       "      <th>text</th>\n",
       "    </tr>\n",
       "  </thead>\n",
       "  <tbody>\n",
       "    <tr>\n",
       "      <th>86847</th>\n",
       "      <td>Das retires, Tapan Ray to be Economic Affairs ...</td>\n",
       "      <td>Shaktikanta Das retired on Wednesday after 37 ...</td>\n",
       "    </tr>\n",
       "    <tr>\n",
       "      <th>2265</th>\n",
       "      <td>Mumbai Ola, Uber drivers threaten strike amid ...</td>\n",
       "      <td>Mumbai Ola and Uber drivers have threatened to...</td>\n",
       "    </tr>\n",
       "    <tr>\n",
       "      <th>66118</th>\n",
       "      <td>Mumbai railway station lit up in pink for 'Day...</td>\n",
       "      <td>Mumbaiâs Chhatrapati Shivaji Maharaj Terminu...</td>\n",
       "    </tr>\n",
       "    <tr>\n",
       "      <th>5030</th>\n",
       "      <td>Real Madrid beat Al Ain 4-1 to win record 4th ...</td>\n",
       "      <td>Three-time defending Champions League champion...</td>\n",
       "    </tr>\n",
       "    <tr>\n",
       "      <th>73851</th>\n",
       "      <td>Former cricketer arrested for duping young cri...</td>\n",
       "      <td>A 29-year-old former state-level cricketer, Sa...</td>\n",
       "    </tr>\n",
       "    <tr>\n",
       "      <th>66688</th>\n",
       "      <td>Twitter is enslaved to US politics: WikiLeaks ...</td>\n",
       "      <td>Micro-blogging site Twitter is enslaved to its...</td>\n",
       "    </tr>\n",
       "    <tr>\n",
       "      <th>66792</th>\n",
       "      <td>PM Modi attends India's opening match at FIFA ...</td>\n",
       "      <td>PM Narendra Modi attended India's first match ...</td>\n",
       "    </tr>\n",
       "    <tr>\n",
       "      <th>21070</th>\n",
       "      <td>Celebrities wish Priyanka, Nick on their roka ...</td>\n",
       "      <td>Bollywood celebrities, including Preity Zinta ...</td>\n",
       "    </tr>\n",
       "    <tr>\n",
       "      <th>55758</th>\n",
       "      <td>Uber driver held over killing of British diplo...</td>\n",
       "      <td>Authorities in Lebanon have arrested an Uber d...</td>\n",
       "    </tr>\n",
       "    <tr>\n",
       "      <th>95648</th>\n",
       "      <td>BCCI confirms Virat Kohli to miss start of IPL 10</td>\n",
       "      <td>BCCI has confirmed Virat Kohli will miss the s...</td>\n",
       "    </tr>\n",
       "  </tbody>\n",
       "</table>\n",
       "</div>"
      ],
      "text/plain": [
       "                                               headlines  \\\n",
       "86847  Das retires, Tapan Ray to be Economic Affairs ...   \n",
       "2265   Mumbai Ola, Uber drivers threaten strike amid ...   \n",
       "66118  Mumbai railway station lit up in pink for 'Day...   \n",
       "5030   Real Madrid beat Al Ain 4-1 to win record 4th ...   \n",
       "73851  Former cricketer arrested for duping young cri...   \n",
       "66688  Twitter is enslaved to US politics: WikiLeaks ...   \n",
       "66792  PM Modi attends India's opening match at FIFA ...   \n",
       "21070  Celebrities wish Priyanka, Nick on their roka ...   \n",
       "55758  Uber driver held over killing of British diplo...   \n",
       "95648  BCCI confirms Virat Kohli to miss start of IPL 10   \n",
       "\n",
       "                                                    text  \n",
       "86847  Shaktikanta Das retired on Wednesday after 37 ...  \n",
       "2265   Mumbai Ola and Uber drivers have threatened to...  \n",
       "66118  Mumbaiâs Chhatrapati Shivaji Maharaj Terminu...  \n",
       "5030   Three-time defending Champions League champion...  \n",
       "73851  A 29-year-old former state-level cricketer, Sa...  \n",
       "66688  Micro-blogging site Twitter is enslaved to its...  \n",
       "66792  PM Narendra Modi attended India's first match ...  \n",
       "21070  Bollywood celebrities, including Preity Zinta ...  \n",
       "55758  Authorities in Lebanon have arrested an Uber d...  \n",
       "95648  BCCI has confirmed Virat Kohli will miss the s...  "
      ]
     },
     "execution_count": 13,
     "metadata": {},
     "output_type": "execute_result"
    }
   ],
   "source": [
    "data.sample(10)"
   ]
  },
  {
   "cell_type": "markdown",
   "metadata": {},
   "source": [
    "**추상적 요약(Abstractive Summarization)**\n",
    "- text를 본문, headlines를 이미 요약된 데이터로 삼아서 모델 학습 가능  \n",
    "    \n",
    "**추출적 요약(Extractive Summarization)**\n",
    "- 오직 text열만 사용"
   ]
  },
  {
   "cell_type": "markdown",
   "metadata": {},
   "source": [
    "## Step 1. 추상적 요약(Abstractive Summarization)"
   ]
  },
  {
   "cell_type": "markdown",
   "metadata": {},
   "source": [
    "### 1. 데이터 전처리하기_데이터 정리하기"
   ]
  },
  {
   "cell_type": "markdown",
   "metadata": {},
   "source": [
    "- 실습에서 사용된 전처리를 참고하여 각자 필요하다고 생각하는 전처리를 추가 사용하여 텍스트를 정규화 또는 정제해 보세요. \n",
    "- 만약, 불용어 제거를 선택한다면 상대적으로 길이가 짧은 요약 데이터에 대해서도 불용어를 제거하는 것이 좋을지 고민해보세요."
   ]
  },
  {
   "cell_type": "markdown",
   "metadata": {},
   "source": [
    "- NLTK의 불용어(stopwords)\n",
    "    - NLTK(Natural Language Toolkit)\n",
    "    - 영어 기호, 통계, 자연어 처리를 위한 라이브러리\n",
    "    - I, my, me, over, 조사, 접미사 와 같이 문장에는 자주 등장하지만 요약에 의미가 없는 100여개의 불용어가 미리 정리되어 있음"
   ]
  },
  {
   "cell_type": "code",
   "execution_count": 14,
   "metadata": {},
   "outputs": [],
   "source": [
    "# !pip install nltk\n",
    "# !pip install beautifulsoup4 / 문서를 파싱하는데 사용하는 패키지"
   ]
  },
  {
   "cell_type": "code",
   "execution_count": 15,
   "metadata": {},
   "outputs": [
    {
     "name": "stderr",
     "output_type": "stream",
     "text": [
      "[nltk_data] Downloading package stopwords to\n",
      "[nltk_data]     /home/aiffel0042/nltk_data...\n",
      "[nltk_data]   Package stopwords is already up-to-date!\n"
     ]
    }
   ],
   "source": [
    "import nltk\n",
    "nltk.download('stopwords')\n",
    "\n",
    "import numpy as np\n",
    "import pandas as pd\n",
    "import re\n",
    "import matplotlib.pyplot as plt\n",
    "from nltk.corpus import stopwords\n",
    "from bs4 import BeautifulSoup \n",
    "from tensorflow.keras.preprocessing.text import Tokenizer \n",
    "from tensorflow.keras.preprocessing.sequence import pad_sequences\n",
    "import urllib.request"
   ]
  },
  {
   "cell_type": "markdown",
   "metadata": {},
   "source": [
    "**중복 샘플과 NULL값 샘플 제거**"
   ]
  },
  {
   "cell_type": "code",
   "execution_count": 16,
   "metadata": {},
   "outputs": [
    {
     "name": "stdout",
     "output_type": "stream",
     "text": [
      "text 열에서 중복을 배제한 유일한 샘플의 수 : 98360\n",
      "headlines 열에서 중복을 배제한 유일한 샘플의 수 : 98280\n"
     ]
    }
   ],
   "source": [
    "print('text 열에서 중복을 배제한 유일한 샘플의 수 :', data['text'].nunique())\n",
    "print('headlines 열에서 중복을 배제한 유일한 샘플의 수 :', data['headlines'].nunique())"
   ]
  },
  {
   "cell_type": "markdown",
   "metadata": {},
   "source": [
    "**중복 샘플 제거**\n",
    "- drop_duplicate()"
   ]
  },
  {
   "cell_type": "code",
   "execution_count": 17,
   "metadata": {},
   "outputs": [
    {
     "name": "stdout",
     "output_type": "stream",
     "text": [
      "전체 샘플수 : 98360\n"
     ]
    }
   ],
   "source": [
    "data.drop_duplicates(subset = ['text'], inplace = True)\n",
    "print('전체 샘플수 :', (len(data)))"
   ]
  },
  {
   "cell_type": "markdown",
   "metadata": {},
   "source": [
    "**NULL 값 확인**\n",
    "- .isnull().sum()\n",
    "    "
   ]
  },
  {
   "cell_type": "code",
   "execution_count": 18,
   "metadata": {},
   "outputs": [
    {
     "name": "stdout",
     "output_type": "stream",
     "text": [
      "headlines    0\n",
      "text         0\n",
      "dtype: int64\n"
     ]
    }
   ],
   "source": [
    "print(data.isnull().sum())"
   ]
  },
  {
   "cell_type": "markdown",
   "metadata": {},
   "source": [
    "- NULL 값 모두 0\n",
    "- 만약 NULL 값이 존재할 경우\n",
    "    - dropna() 사용"
   ]
  },
  {
   "cell_type": "markdown",
   "metadata": {},
   "source": [
    "**텍스트 정규화**\n",
    "- 단어 중에 같은 의미이지만 다른 표현으로 쓰인 경우들이 있음\n",
    "    - it'll = it will \n",
    "    - 기계가 다른 언어로 간주하여 연산량을 늘리는 것보다 기계학습 전에 미리 같은 표현으로 통일\n",
    "- 이러한 방법론: **텍스트 정규화(text normalization)** "
   ]
  },
  {
   "cell_type": "code",
   "execution_count": 19,
   "metadata": {},
   "outputs": [
    {
     "name": "stdout",
     "output_type": "stream",
     "text": [
      "정규화 사전의 수:  120\n"
     ]
    }
   ],
   "source": [
    "contractions = {\"ain't\": \"is not\", \"aren't\": \"are not\",\"can't\": \"cannot\", \"'cause\": \"because\", \"could've\": \"could have\", \"couldn't\": \"could not\",\n",
    "                           \"didn't\": \"did not\",  \"doesn't\": \"does not\", \"don't\": \"do not\", \"hadn't\": \"had not\", \"hasn't\": \"has not\", \"haven't\": \"have not\",\n",
    "                           \"he'd\": \"he would\",\"he'll\": \"he will\", \"he's\": \"he is\", \"how'd\": \"how did\", \"how'd'y\": \"how do you\", \"how'll\": \"how will\", \"how's\": \"how is\",\n",
    "                           \"I'd\": \"I would\", \"I'd've\": \"I would have\", \"I'll\": \"I will\", \"I'll've\": \"I will have\",\"I'm\": \"I am\", \"I've\": \"I have\", \"i'd\": \"i would\",\n",
    "                           \"i'd've\": \"i would have\", \"i'll\": \"i will\",  \"i'll've\": \"i will have\",\"i'm\": \"i am\", \"i've\": \"i have\", \"isn't\": \"is not\", \"it'd\": \"it would\",\n",
    "                           \"it'd've\": \"it would have\", \"it'll\": \"it will\", \"it'll've\": \"it will have\",\"it's\": \"it is\", \"let's\": \"let us\", \"ma'am\": \"madam\",\n",
    "                           \"mayn't\": \"may not\", \"might've\": \"might have\",\"mightn't\": \"might not\",\"mightn't've\": \"might not have\", \"must've\": \"must have\",\n",
    "                           \"mustn't\": \"must not\", \"mustn't've\": \"must not have\", \"needn't\": \"need not\", \"needn't've\": \"need not have\",\"o'clock\": \"of the clock\",\n",
    "                           \"oughtn't\": \"ought not\", \"oughtn't've\": \"ought not have\", \"shan't\": \"shall not\", \"sha'n't\": \"shall not\", \"shan't've\": \"shall not have\",\n",
    "                           \"she'd\": \"she would\", \"she'd've\": \"she would have\", \"she'll\": \"she will\", \"she'll've\": \"she will have\", \"she's\": \"she is\",\n",
    "                           \"should've\": \"should have\", \"shouldn't\": \"should not\", \"shouldn't've\": \"should not have\", \"so've\": \"so have\",\"so's\": \"so as\",\n",
    "                           \"this's\": \"this is\",\"that'd\": \"that would\", \"that'd've\": \"that would have\", \"that's\": \"that is\", \"there'd\": \"there would\",\n",
    "                           \"there'd've\": \"there would have\", \"there's\": \"there is\", \"here's\": \"here is\",\"they'd\": \"they would\", \"they'd've\": \"they would have\",\n",
    "                           \"they'll\": \"they will\", \"they'll've\": \"they will have\", \"they're\": \"they are\", \"they've\": \"they have\", \"to've\": \"to have\",\n",
    "                           \"wasn't\": \"was not\", \"we'd\": \"we would\", \"we'd've\": \"we would have\", \"we'll\": \"we will\", \"we'll've\": \"we will have\", \"we're\": \"we are\",\n",
    "                           \"we've\": \"we have\", \"weren't\": \"were not\", \"what'll\": \"what will\", \"what'll've\": \"what will have\", \"what're\": \"what are\",\n",
    "                           \"what's\": \"what is\", \"what've\": \"what have\", \"when's\": \"when is\", \"when've\": \"when have\", \"where'd\": \"where did\", \"where's\": \"where is\",\n",
    "                           \"where've\": \"where have\", \"who'll\": \"who will\", \"who'll've\": \"who will have\", \"who's\": \"who is\", \"who've\": \"who have\",\n",
    "                           \"why's\": \"why is\", \"why've\": \"why have\", \"will've\": \"will have\", \"won't\": \"will not\", \"won't've\": \"will not have\",\n",
    "                           \"would've\": \"would have\", \"wouldn't\": \"would not\", \"wouldn't've\": \"would not have\", \"y'all\": \"you all\",\n",
    "                           \"y'all'd\": \"you all would\",\"y'all'd've\": \"you all would have\",\"y'all're\": \"you all are\",\"y'all've\": \"you all have\",\n",
    "                           \"you'd\": \"you would\", \"you'd've\": \"you would have\", \"you'll\": \"you will\", \"you'll've\": \"you will have\",\n",
    "                           \"you're\": \"you are\", \"you've\": \"you have\"}\n",
    "\n",
    "print(\"정규화 사전의 수: \",len(contractions))"
   ]
  },
  {
   "cell_type": "markdown",
   "metadata": {},
   "source": [
    "**불용어(stopwords)**\n",
    "- 일반적으로 텍스트에는 자주 등장하지만 자연어 처리를 할 때 실질적으로 별 도움이 되지 않는 단어들\n",
    "- 불용어 제거는 자연어 처리의 성능을 높이는 방법\n",
    "- NLTK에서 제공하는 불용어 리스트를 참조하여 샘플에서 불용어 제거"
   ]
  },
  {
   "cell_type": "code",
   "execution_count": 20,
   "metadata": {},
   "outputs": [
    {
     "name": "stdout",
     "output_type": "stream",
     "text": [
      "불용어 개수 : 179\n",
      "['i', 'me', 'my', 'myself', 'we', 'our', 'ours', 'ourselves', 'you', \"you're\", \"you've\", \"you'll\", \"you'd\", 'your', 'yours', 'yourself', 'yourselves', 'he', 'him', 'his', 'himself', 'she', \"she's\", 'her', 'hers', 'herself', 'it', \"it's\", 'its', 'itself', 'they', 'them', 'their', 'theirs', 'themselves', 'what', 'which', 'who', 'whom', 'this', 'that', \"that'll\", 'these', 'those', 'am', 'is', 'are', 'was', 'were', 'be', 'been', 'being', 'have', 'has', 'had', 'having', 'do', 'does', 'did', 'doing', 'a', 'an', 'the', 'and', 'but', 'if', 'or', 'because', 'as', 'until', 'while', 'of', 'at', 'by', 'for', 'with', 'about', 'against', 'between', 'into', 'through', 'during', 'before', 'after', 'above', 'below', 'to', 'from', 'up', 'down', 'in', 'out', 'on', 'off', 'over', 'under', 'again', 'further', 'then', 'once', 'here', 'there', 'when', 'where', 'why', 'how', 'all', 'any', 'both', 'each', 'few', 'more', 'most', 'other', 'some', 'such', 'no', 'nor', 'not', 'only', 'own', 'same', 'so', 'than', 'too', 'very', 's', 't', 'can', 'will', 'just', 'don', \"don't\", 'should', \"should've\", 'now', 'd', 'll', 'm', 'o', 're', 've', 'y', 'ain', 'aren', \"aren't\", 'couldn', \"couldn't\", 'didn', \"didn't\", 'doesn', \"doesn't\", 'hadn', \"hadn't\", 'hasn', \"hasn't\", 'haven', \"haven't\", 'isn', \"isn't\", 'ma', 'mightn', \"mightn't\", 'mustn', \"mustn't\", 'needn', \"needn't\", 'shan', \"shan't\", 'shouldn', \"shouldn't\", 'wasn', \"wasn't\", 'weren', \"weren't\", 'won', \"won't\", 'wouldn', \"wouldn't\"]\n"
     ]
    }
   ],
   "source": [
    "print('불용어 개수 :', len(stopwords.words('english') ))\n",
    "print(stopwords.words('english'))"
   ]
  },
  {
   "cell_type": "markdown",
   "metadata": {},
   "source": [
    "- text 전처리 시에서만 불용어 제거 호출\n",
    "- headlines 전처리 시에는 불용어 제거하지 않음\n",
    "    - Abstractive한 문장 요약 결과문이 자연스러운 문장이 되려면 불용어들이 **headlines**에는 남아 있는게 더 좋음"
   ]
  },
  {
   "cell_type": "code",
   "execution_count": 210,
   "metadata": {},
   "outputs": [],
   "source": [
    "#데이터 전처리 함수\n",
    "def preprocess_sentence(sentence, remove_stopwords=True):\n",
    "    sentence = sentence.lower() # 텍스트 소문자화\n",
    "    sentence = BeautifulSoup(sentence, \"lxml\").text # <br />, <a href = ...> 등의 html 태그 제거\n",
    "    sentence = re.sub(r'\\([^)]*\\)', '', sentence) # 괄호로 닫힌 문자열 (...) 제거 Ex) my husband (and myself!) for => my husband for\n",
    "    sentence = re.sub('\"','', sentence) # 쌍따옴표 \" 제거\n",
    "    sentence = ' '.join([contractions[t] if t in contractions else t for t in sentence.split(\" \")]) # 약어 정규화\n",
    "    sentence = re.sub(r\"'s\\b\",\"\",sentence) # 소유격 제거. Ex) roland's -> roland\n",
    "    sentence = re.sub(\"[^a-zA-Z.]\", \" \", sentence) # 영어 외 문자(숫자, 특수문자 등) 공백으로 변환\n",
    "    sentence = re.sub('[m]{2,}', 'mm', sentence) # m이 3개 이상이면 2개로 변경. Ex) ummmmmmm yeah -> umm yeah\n",
    "    \n",
    "    # 불용어 제거 (text)\n",
    "    if remove_stopwords:\n",
    "        tokens = ' '.join(word for word in sentence.split() if not word in stopwords.words('english') if len(word) > 1)\n",
    "    # 불용어 미제거 (headlines)\n",
    "    else:\n",
    "        tokens = ' '.join(word for word in sentence.split() if len(word) > 1)\n",
    "    return tokens"
   ]
  },
  {
   "cell_type": "markdown",
   "metadata": {},
   "source": [
    "- 전처리 전, 후의 결과를 확인하기 위해 임의의 text와 headlines을 만들어 함수 호출"
   ]
  },
  {
   "cell_type": "code",
   "execution_count": 211,
   "metadata": {},
   "outputs": [
    {
     "name": "stdout",
     "output_type": "stream",
     "text": [
      "everything bought great infact ordered twice third ordered wasfor mother father.\n",
      "great way to start the day\n"
     ]
    }
   ],
   "source": [
    "temp_text = 'Everything I bought was great, infact I ordered twice and the third ordered was<br />for my mother and father.'\n",
    "temp_headlines = 'Great way to start (or finish) the day!!!'\n",
    "\n",
    "print(preprocess_sentence(temp_text))\n",
    "print(preprocess_sentence(temp_headlines, False))  # 불용어를 제거하지 않습니다."
   ]
  },
  {
   "cell_type": "markdown",
   "metadata": {},
   "source": [
    "**변환**\n",
    "- 모든 알파벳 -> 소문자\n",
    "- html 태그 제거\n",
    "- 괄호로 묶인 단어 시퀀스 제거\n",
    "- 특수문자 제거"
   ]
  },
  {
   "cell_type": "markdown",
   "metadata": {},
   "source": [
    "- 훈련 데이터 전체에 대해서 전처리 수행\n",
    "    - text의 경우 불용어를 제거\n",
    "    - headlines의 경우 불용어 제거 하지 않음\n",
    "    - 따로 호출해서 진행해야함"
   ]
  },
  {
   "cell_type": "code",
   "execution_count": 212,
   "metadata": {},
   "outputs": [
    {
     "data": {
      "text/plain": [
       "['aegon life iterm insurance plan customers enjoy tax benefits premiums paid save taxes plan provides life cover age years also customers options insure critical illnesses disability accidental death benefit rider life cover age years',\n",
       " 'two minor cousins uttar pradesh gorakhpur allegedly repeatedly burnt tongs forced eat human excreta family friends two boys school cousins revealed ordeal police child welfare committee brought back gorakhpur nepal fled escape torture',\n",
       " 'isha ghosh year old member bharat scouts guides imparting physical mental training schoolchildren jharkhand several decades chaibasa based ghosh reportedly walks seven kilometres daily spends eight hours conducting physical training apart climbing yoga sessions says one something society till one last breath',\n",
       " 'days threatened step post congress mlas continue crossing line karnataka chief minister hd kumaraswamy accused taking potshots asked many days tolerate stuff kumaraswamy made statements congress mla demanded siddaramaiah made cm said power ephemeral',\n",
       " 'union minister dharmendra pradhan wednesday claimed illegal mining mafia odisha operates control cm naveen patnaik state congress chief niranjan patnaik added time come people odisha put full stop activities time come us ask explanation corrupt government']"
      ]
     },
     "execution_count": 212,
     "metadata": {},
     "output_type": "execute_result"
    }
   ],
   "source": [
    "clean_text = []\n",
    "\n",
    "# 전체 Text 데이터에 대한 전처리 : 10분 이상 시간이 걸릴 수 있습니다. \n",
    "for s in data['text']:\n",
    "    clean_text.append(preprocess_sentence(s))\n",
    "\n",
    "# 전처리 후 출력\n",
    "clean_text[:5]"
   ]
  },
  {
   "cell_type": "markdown",
   "metadata": {},
   "source": [
    "- headlines에 대해서 전처리 함수를 호출할 때, 불용어 제거를 수행하지 않음\n",
    "- 두 번째 인자로 False -> celan_headlines.append(preprocess_sentence(s,False))"
   ]
  },
  {
   "cell_type": "code",
   "execution_count": 213,
   "metadata": {},
   "outputs": [
    {
     "data": {
      "text/plain": [
       "['aegon life iterm insurance plan helps customers save tax',\n",
       " 'up cousins fed human excreta for friendship with boys',\n",
       " 'yr old woman conducts physical training in khand schools',\n",
       " 'how long can tolerate congress leaders potshots taka cm',\n",
       " 'odisha cm patnaik controls mining mafia union minister']"
      ]
     },
     "execution_count": 213,
     "metadata": {},
     "output_type": "execute_result"
    }
   ],
   "source": [
    "clean_headlines = []\n",
    "\n",
    "# 전체 headlines 데이터에 대한 전처리 : 5분 이상 시간이 걸릴 수 있습니다. \n",
    "for s in data['headlines']:\n",
    "    clean_headlines.append(preprocess_sentence(s, False))\n",
    "\n",
    "clean_headlines[:5]"
   ]
  },
  {
   "cell_type": "code",
   "execution_count": 214,
   "metadata": {},
   "outputs": [],
   "source": [
    "data['text'] = clean_text\n",
    "data['headlines'] = clean_headlines\n",
    "\n",
    "# 빈 값을 Null 값으로 변환\n",
    "data.replace('', np.nan, inplace=True)"
   ]
  },
  {
   "cell_type": "markdown",
   "metadata": {},
   "source": [
    "**.isnull().sum()을 사용해서 Null 값이 생겼는지 확인**"
   ]
  },
  {
   "cell_type": "code",
   "execution_count": 215,
   "metadata": {},
   "outputs": [
    {
     "data": {
      "text/plain": [
       "headlines         0\n",
       "text              0\n",
       "decoder_input     0\n",
       "decoder_target    0\n",
       "dtype: int64"
      ]
     },
     "execution_count": 215,
     "metadata": {},
     "output_type": "execute_result"
    }
   ],
   "source": [
    "data.isnull().sum()"
   ]
  },
  {
   "cell_type": "markdown",
   "metadata": {},
   "source": [
    "- headlines 열에서 0개 NULL 값 생김"
   ]
  },
  {
   "cell_type": "markdown",
   "metadata": {},
   "source": [
    "### 2. 데이터 전처리하기_훈련데이터와 테스트데이터 나누기"
   ]
  },
  {
   "cell_type": "markdown",
   "metadata": {},
   "source": [
    "**샘플의 최대 길이 정하기**\n",
    "- Text와 Summary의 최소, 최대, 평균 길이를 구하고 또한 길이 분포 시각화"
   ]
  },
  {
   "cell_type": "code",
   "execution_count": 216,
   "metadata": {},
   "outputs": [
    {
     "name": "stdout",
     "output_type": "stream",
     "text": [
      "텍스트의 최소 길이 : 1\n",
      "텍스트의 최대 길이 : 50\n",
      "텍스트의 평균 길이 : 35.17023185700955\n",
      "요약의 최소 길이 : 1\n",
      "요약의 최대 길이 : 9\n",
      "요약의 평균 길이 : 8.317547196899001\n"
     ]
    },
    {
     "data": {
      "image/png": "[encoded data removed]",
      "text/plain": [
       "<Figure size 432x288 with 2 Axes>"
      ]
     },
     "metadata": {
      "needs_background": "light"
     },
     "output_type": "display_data"
    },
    {
     "data": {
      "image/png": "[encoded data removed]",
      "text/plain": [
       "<Figure size 432x288 with 1 Axes>"
      ]
     },
     "metadata": {
      "needs_background": "light"
     },
     "output_type": "display_data"
    },
    {
     "data": {
      "image/png": "[encoded data removed]",
      "text/plain": [
       "<Figure size 432x288 with 1 Axes>"
      ]
     },
     "metadata": {
      "needs_background": "light"
     },
     "output_type": "display_data"
    }
   ],
   "source": [
    "# 길이 분포 출력\n",
    "import matplotlib.pyplot as plt\n",
    "\n",
    "text_len = [len(s.split()) for s in data['text']]\n",
    "headlines_len = [len(s.split()) for s in data['headlines']]\n",
    "\n",
    "print('텍스트의 최소 길이 : {}'.format(np.min(text_len)))\n",
    "print('텍스트의 최대 길이 : {}'.format(np.max(text_len)))\n",
    "print('텍스트의 평균 길이 : {}'.format(np.mean(text_len)))\n",
    "print('요약의 최소 길이 : {}'.format(np.min(headlines_len)))\n",
    "print('요약의 최대 길이 : {}'.format(np.max(headlines_len)))\n",
    "print('요약의 평균 길이 : {}'.format(np.mean(headlines_len)))\n",
    "\n",
    "plt.subplot(1,2,1)\n",
    "plt.boxplot(headlines_len)\n",
    "plt.title('headlines')\n",
    "plt.subplot(1,2,2)\n",
    "plt.boxplot(text_len)\n",
    "plt.title('text')\n",
    "plt.tight_layout()\n",
    "plt.show()\n",
    "\n",
    "plt.title('headlines')\n",
    "plt.hist(headlines_len, bins = 40)\n",
    "plt.xlabel('length of samples')\n",
    "plt.ylabel('number of samples')\n",
    "plt.show()\n",
    "\n",
    "plt.title('text')\n",
    "plt.hist(text_len, bins = 40)\n",
    "plt.xlabel('length of samples')\n",
    "plt.ylabel('number of samples')\n",
    "plt.show()"
   ]
  },
  {
   "cell_type": "markdown",
   "metadata": {},
   "source": [
    "**text**    \n",
    "- 최소 길이 : 1    \n",
    "- 최대 길이 : 60    \n",
    "- 평균 길이 : 35.09968483123221     \n",
    "<br/>   \n",
    "\n",
    "**headlines**    \n",
    "- 최소 길이 : 1    \n",
    "- 최대 길이 : 16    \n",
    "- 평균 길이 : 9.299532330215534    \n",
    "<br/>    \n",
    "- 최소 & 최대 길이 차이가 많이 나지 않음"
   ]
  },
  {
   "cell_type": "markdown",
   "metadata": {},
   "source": [
    "**text 최대 길이 & headlines 최대 길이 임의로 정하기**"
   ]
  },
  {
   "cell_type": "code",
   "execution_count": 217,
   "metadata": {},
   "outputs": [],
   "source": [
    "text_max_len = 50\n",
    "headlines_max_len = 9"
   ]
  },
  {
   "cell_type": "markdown",
   "metadata": {},
   "source": [
    "**훈련 데이터와 샘플의 길이를 입력하여 데이터의 몇 %가 해당하는지 계산하는 함수를 만들어서 판단**"
   ]
  },
  {
   "cell_type": "code",
   "execution_count": 218,
   "metadata": {},
   "outputs": [],
   "source": [
    "def below_threshold_len(max_len, nested_list):\n",
    "  cnt = 0\n",
    "  for s in nested_list:\n",
    "    if(len(s.split()) <= max_len):\n",
    "        cnt = cnt + 1\n",
    "  print('전체 샘플 중 길이가 %s 이하인 샘플의 비율: %s'%(max_len, (cnt / len(nested_list))))"
   ]
  },
  {
   "cell_type": "code",
   "execution_count": 219,
   "metadata": {},
   "outputs": [
    {
     "name": "stdout",
     "output_type": "stream",
     "text": [
      "전체 샘플 중 길이가 50 이하인 샘플의 비율: 1.0\n",
      "전체 샘플 중 길이가 9 이하인 샘플의 비율: 1.0\n"
     ]
    }
   ],
   "source": [
    "below_threshold_len(text_max_len, data['text'])\n",
    "below_threshold_len(headlines_max_len,  data['headlines'])"
   ]
  },
  {
   "cell_type": "markdown",
   "metadata": {},
   "source": [
    "**정해진 길이보다 길면 제외하는 방법으로 데이터 정제**"
   ]
  },
  {
   "cell_type": "code",
   "execution_count": 220,
   "metadata": {},
   "outputs": [
    {
     "name": "stdout",
     "output_type": "stream",
     "text": [
      "전체 샘플수 : 55724\n"
     ]
    }
   ],
   "source": [
    "data = data[data['text'].apply(lambda x: len(x.split()) <= text_max_len)]\n",
    "data = data[data['headlines'].apply(lambda x: len(x.split()) <= headlines_max_len)]\n",
    "print('전체 샘플수 :',(len(data)))"
   ]
  },
  {
   "cell_type": "markdown",
   "metadata": {},
   "source": [
    "- ```Step 2. 추출적 요약(Extractive Summarization) 데이터 사용 가능```\n",
    "- ```Step 2. 진행 시 Step 2 아래로 이동```"
   ]
  },
  {
   "attachments": {
    "image.png": {
     "image/png": "[encoded data removed]"
    }
   },
   "cell_type": "markdown",
   "metadata": {},
   "source": [
    "**시작, 종료 토큰 추가하기**\n",
    "- 디코더는 시작 토큰을 입력받아 문장을 생성하기 시작\n",
    "- 종료 토큰을 예측한 순간 문장 생성을 멈춤\n",
    "![image.png](attachment:image.png)\n",
    "- seq2seq 훈련을 위해 디코더의 입력과 레이블에 시작 토큰과 종료 토큰을 추가할 필요가 있음\n",
    "- 임의로 명명\n",
    "    - 시작 토큰: sostoken\n",
    "    - 종료 토큰: eostoken\n",
    "    - 앞, 뒤로 추가\n",
    "- 디코더의 입력에 해당하면서 시작 토큰이 맨 앞에 있는 문장의 이름\n",
    "    - docoder_input\n",
    "- 디코더의 출력 또는 레이블에 해당되면서 종료 토큰이 맨 뒤에 붙는 문장의 이름\n",
    "    - decoder_target\n",
    "- 두 개의 문장 모두 headlines 열로부터 만듦"
   ]
  },
  {
   "cell_type": "code",
   "execution_count": 76,
   "metadata": {},
   "outputs": [
    {
     "data": {
      "text/html": [
       "<div>\n",
       "<style scoped>\n",
       "    .dataframe tbody tr th:only-of-type {\n",
       "        vertical-align: middle;\n",
       "    }\n",
       "\n",
       "    .dataframe tbody tr th {\n",
       "        vertical-align: top;\n",
       "    }\n",
       "\n",
       "    .dataframe thead th {\n",
       "        text-align: right;\n",
       "    }\n",
       "</style>\n",
       "<table border=\"1\" class=\"dataframe\">\n",
       "  <thead>\n",
       "    <tr style=\"text-align: right;\">\n",
       "      <th></th>\n",
       "      <th>headlines</th>\n",
       "      <th>text</th>\n",
       "      <th>decoder_input</th>\n",
       "      <th>decoder_target</th>\n",
       "    </tr>\n",
       "  </thead>\n",
       "  <tbody>\n",
       "    <tr>\n",
       "      <th>0</th>\n",
       "      <td>aegon life iterm insurance plan helps customer...</td>\n",
       "      <td>aegon life iterm insurance plan customers enjo...</td>\n",
       "      <td>sostoken aegon life iterm insurance plan helps...</td>\n",
       "      <td>aegon life iterm insurance plan helps customer...</td>\n",
       "    </tr>\n",
       "    <tr>\n",
       "      <th>1</th>\n",
       "      <td>up cousins fed human excreta for friendship wi...</td>\n",
       "      <td>two minor cousins uttar pradesh gorakhpur alle...</td>\n",
       "      <td>sostoken up cousins fed human excreta for frie...</td>\n",
       "      <td>up cousins fed human excreta for friendship wi...</td>\n",
       "    </tr>\n",
       "    <tr>\n",
       "      <th>2</th>\n",
       "      <td>yr old woman conducts physical training in kha...</td>\n",
       "      <td>isha ghosh year old member bharat scouts guide...</td>\n",
       "      <td>sostoken yr old woman conducts physical traini...</td>\n",
       "      <td>yr old woman conducts physical training in kha...</td>\n",
       "    </tr>\n",
       "    <tr>\n",
       "      <th>3</th>\n",
       "      <td>how long can tolerate congress leaders potshot...</td>\n",
       "      <td>days threatened step post congress mlas contin...</td>\n",
       "      <td>sostoken how long can tolerate congress leader...</td>\n",
       "      <td>how long can tolerate congress leaders potshot...</td>\n",
       "    </tr>\n",
       "    <tr>\n",
       "      <th>4</th>\n",
       "      <td>odisha cm patnaik controls mining mafia union ...</td>\n",
       "      <td>union minister dharmendra pradhan wednesday cl...</td>\n",
       "      <td>sostoken odisha cm patnaik controls mining maf...</td>\n",
       "      <td>odisha cm patnaik controls mining mafia union ...</td>\n",
       "    </tr>\n",
       "  </tbody>\n",
       "</table>\n",
       "</div>"
      ],
      "text/plain": [
       "                                           headlines  \\\n",
       "0  aegon life iterm insurance plan helps customer...   \n",
       "1  up cousins fed human excreta for friendship wi...   \n",
       "2  yr old woman conducts physical training in kha...   \n",
       "3  how long can tolerate congress leaders potshot...   \n",
       "4  odisha cm patnaik controls mining mafia union ...   \n",
       "\n",
       "                                                text  \\\n",
       "0  aegon life iterm insurance plan customers enjo...   \n",
       "1  two minor cousins uttar pradesh gorakhpur alle...   \n",
       "2  isha ghosh year old member bharat scouts guide...   \n",
       "3  days threatened step post congress mlas contin...   \n",
       "4  union minister dharmendra pradhan wednesday cl...   \n",
       "\n",
       "                                       decoder_input  \\\n",
       "0  sostoken aegon life iterm insurance plan helps...   \n",
       "1  sostoken up cousins fed human excreta for frie...   \n",
       "2  sostoken yr old woman conducts physical traini...   \n",
       "3  sostoken how long can tolerate congress leader...   \n",
       "4  sostoken odisha cm patnaik controls mining maf...   \n",
       "\n",
       "                                      decoder_target  \n",
       "0  aegon life iterm insurance plan helps customer...  \n",
       "1  up cousins fed human excreta for friendship wi...  \n",
       "2  yr old woman conducts physical training in kha...  \n",
       "3  how long can tolerate congress leaders potshot...  \n",
       "4  odisha cm patnaik controls mining mafia union ...  "
      ]
     },
     "execution_count": 76,
     "metadata": {},
     "output_type": "execute_result"
    }
   ],
   "source": [
    "#headlines 데이터에는 시작 토큰과 종료 토큰을 추가한다.\n",
    "data['decoder_input'] = data['headlines'].apply(lambda x : 'sostoken '+ x)\n",
    "data['decoder_target'] = data['headlines'].apply(lambda x : x + ' eostoken')\n",
    "data.head()"
   ]
  },
  {
   "cell_type": "markdown",
   "metadata": {},
   "source": [
    "- 앞뒤로 토큰이 잘 붙음\n",
    "- 인코더의 입력, 디코더의 입력과 레이블을 각각 다시 Numpy 타입으로 저장"
   ]
  },
  {
   "cell_type": "code",
   "execution_count": 77,
   "metadata": {},
   "outputs": [],
   "source": [
    "encoder_input = np.array(data['text']) # 인코더의 입력\n",
    "decoder_input = np.array(data['decoder_input']) # 디코더의 입력\n",
    "decoder_target = np.array(data['decoder_target']) # 디코더의 레이블"
   ]
  },
  {
   "cell_type": "markdown",
   "metadata": {},
   "source": [
    "**훈련 데이터와 테스트 데이터 분리**\n",
    "- 방법 두 가지\n",
    "    1. 분리 패키지 사용\n",
    "    2. 직접 코딩\n",
    "- 직접 코딩 진행"
   ]
  },
  {
   "cell_type": "markdown",
   "metadata": {},
   "source": [
    "**encoder_input과 크기와 형태가 같은 순서가 섞인 정수 시퀀스를 만듦**"
   ]
  },
  {
   "cell_type": "code",
   "execution_count": 78,
   "metadata": {},
   "outputs": [
    {
     "name": "stdout",
     "output_type": "stream",
     "text": [
      "[53641 51071  1452 ... 15680 55282  5788]\n"
     ]
    }
   ],
   "source": [
    "indices = np.arange(encoder_input.shape[0])\n",
    "np.random.shuffle(indices)\n",
    "print(indices)"
   ]
  },
  {
   "cell_type": "markdown",
   "metadata": {},
   "source": [
    "**정수 시퀀스를 이용해 다시 데이터의 샘플 순서를 정의해주면 잘 섞인 샘플 데이터**"
   ]
  },
  {
   "cell_type": "code",
   "execution_count": 79,
   "metadata": {},
   "outputs": [],
   "source": [
    "encoder_input = encoder_input[indices]\n",
    "decoder_input = decoder_input[indices]\n",
    "decoder_target = decoder_target[indices]"
   ]
  },
  {
   "cell_type": "markdown",
   "metadata": {},
   "source": [
    "**섞인 데이터 8:2 비율로 분리**"
   ]
  },
  {
   "cell_type": "code",
   "execution_count": 80,
   "metadata": {},
   "outputs": [
    {
     "name": "stdout",
     "output_type": "stream",
     "text": [
      "테스트 데이터의 수: 11144\n"
     ]
    }
   ],
   "source": [
    "n_of_val = int(len(encoder_input)*0.2)\n",
    "print('테스트 데이터의 수:', n_of_val)"
   ]
  },
  {
   "cell_type": "markdown",
   "metadata": {},
   "source": [
    "**테스트 데이터의 갯수를 이용해 전체 데이터 양분**"
   ]
  },
  {
   "cell_type": "code",
   "execution_count": 81,
   "metadata": {},
   "outputs": [
    {
     "name": "stdout",
     "output_type": "stream",
     "text": [
      "훈련 데이터의 개수 : 44580\n",
      "훈련 레이블의 개수 : 44580\n",
      "테스트 데이터의 개수 : 11144\n",
      "테스트 레이블의 개수 : 11144\n"
     ]
    }
   ],
   "source": [
    "encoder_input_train = encoder_input[:-n_of_val]\n",
    "decoder_input_train = decoder_input[:-n_of_val]\n",
    "decoder_target_train = decoder_target[:-n_of_val]\n",
    "\n",
    "encoder_input_test = encoder_input[-n_of_val:]\n",
    "decoder_input_test = decoder_input[-n_of_val:]\n",
    "decoder_target_test = decoder_target[-n_of_val:]\n",
    "\n",
    "print('훈련 데이터의 개수 :', len(encoder_input_train))\n",
    "print('훈련 레이블의 개수 :',len(decoder_input_train))\n",
    "print('테스트 데이터의 개수 :',len(encoder_input_test))\n",
    "print('테스트 레이블의 개수 :',len(decoder_input_test))"
   ]
  },
  {
   "cell_type": "markdown",
   "metadata": {},
   "source": [
    "### 3. 데이터 전처리하기_정수 인코딩"
   ]
  },
  {
   "cell_type": "markdown",
   "metadata": {},
   "source": [
    "- 기계가 텍스트를 숫자로 처리할 수 있도록 훈련, 테스트 데이터의 단어들을 정수로 모두 바꿔줌\n",
    "- 각 단어에 고유한 정수를 맵핑 작업 필요\n",
    "- 이 과정을 **단어 집합(Vocaburary)**을 만든다고 표현\n",
    "- 훈련 데이터에 대해서 단어 집합 만들기\n",
    "- ```encoder_input_train```에 대해서 단어 집합 만들기"
   ]
  },
  {
   "cell_type": "markdown",
   "metadata": {},
   "source": [
    "**Keras의 토크나이저를 사용**\n",
    "- 입력된 훈련 데이터로부터 단어 집합 만들 수 있음"
   ]
  },
  {
   "cell_type": "code",
   "execution_count": 82,
   "metadata": {},
   "outputs": [],
   "source": [
    "src_tokenizer = Tokenizer() # 토크나이저 정의\n",
    "src_tokenizer.fit_on_texts(encoder_input_train) # 입력된 데이터로부터 단어 집합 생성"
   ]
  },
  {
   "cell_type": "markdown",
   "metadata": {},
   "source": [
    "- 단어 집합이 생성되는 동시에 각 단어에 고유 정수가 부여됨\n",
    "- 현재 생성된 단어 집합은 ```src_tokenizer.word_index```에 저장되어 있음\n",
    "- 이렇게 만든 단어 집합에 있는 모든 단어를 사용하는 것이 아니라, 빈도수 낮은 단어들은 훈련 데이터에서 제외하고 진행"
   ]
  },
  {
   "cell_type": "markdown",
   "metadata": {},
   "source": [
    "- 빈도수 7회 미만 단어들의 비중 차지 확인\n",
    "- ```src_tokenizer.word_counts.items()```에는 단어와 각 단어의 등장 빈도수가 저장되어 있음\n",
    "- 이를 통해 통계적인 정보를 얻을 수 있음"
   ]
  },
  {
   "cell_type": "code",
   "execution_count": 83,
   "metadata": {},
   "outputs": [
    {
     "name": "stdout",
     "output_type": "stream",
     "text": [
      "단어 집합(vocabulary)의 크기 : 56683\n",
      "등장 빈도가 6번 이하인 희귀 단어의 수: 39537\n",
      "단어 집합에서 희귀 단어를 제외시킬 경우의 단어 집합의 크기 17146\n",
      "단어 집합에서 희귀 단어의 비율: 69.75107174990738\n",
      "전체 등장 빈도에서 희귀 단어 등장 빈도 비율: 5.151546260936435\n"
     ]
    }
   ],
   "source": [
    "threshold = 7\n",
    "total_cnt = len(src_tokenizer.word_index) # 단어의 수\n",
    "rare_cnt = 0 # 등장 빈도수가 threshold보다 작은 단어의 개수를 카운트\n",
    "total_freq = 0 # 훈련 데이터의 전체 단어 빈도수 총 합\n",
    "rare_freq = 0 # 등장 빈도수가 threshold보다 작은 단어의 등장 빈도수의 총 합\n",
    "\n",
    "# 단어와 빈도수의 쌍(pair)을 key와 value로 받는다.\n",
    "for key, value in src_tokenizer.word_counts.items():\n",
    "    total_freq = total_freq + value\n",
    "\n",
    "    # 단어의 등장 빈도수가 threshold보다 작으면\n",
    "    if(value < threshold):\n",
    "        rare_cnt = rare_cnt + 1\n",
    "        rare_freq = rare_freq + value\n",
    "\n",
    "print('단어 집합(vocabulary)의 크기 :',total_cnt)\n",
    "print('등장 빈도가 %s번 이하인 희귀 단어의 수: %s'%(threshold - 1, rare_cnt))\n",
    "print('단어 집합에서 희귀 단어를 제외시킬 경우의 단어 집합의 크기 %s'%(total_cnt - rare_cnt))\n",
    "print(\"단어 집합에서 희귀 단어의 비율:\", (rare_cnt / total_cnt)*100)\n",
    "print(\"전체 등장 빈도에서 희귀 단어 등장 빈도 비율:\", (rare_freq / total_freq)*100)"
   ]
  },
  {
   "cell_type": "markdown",
   "metadata": {},
   "source": [
    "- 등장 빈도가 6회 이하인 단어들은 정수 인코딩 과정에서 뺌\n",
    "- 훈련 데이터에서 제거\n",
    "- 이를 제외한 단어 집합의 크기를 22,130\n",
    "    - 이와 비슷한 값으로 어림잡아 단어 집합의 크기 20,000으로 제한\n",
    "- 오크나이저를 정의할 때 num_words의 값을 정해주면, 단어 집합의 크기를 제한할 수 있음"
   ]
  },
  {
   "cell_type": "code",
   "execution_count": 84,
   "metadata": {},
   "outputs": [],
   "source": [
    "src_vocab = 20000\n",
    "src_tokenizer = Tokenizer(num_words = src_vocab) # 단어 집합의 크기를 20,000으로 제한\n",
    "src_tokenizer.fit_on_texts(encoder_input_train) # 단어 집합 재생성."
   ]
  },
  {
   "cell_type": "markdown",
   "metadata": {},
   "source": [
    "- ```texts_to_sequences()```는 생성된 단어 집합에 기반하여 입력으로 주어진 텍스트 데이터의 단어들을 모두 정수로 변환하는 정수 인코딩을 수행\n",
    "- 단어 집합의 크기 20,000으로 제한 \n",
    "- 이제 20,000이 넘는 숫자들은 정수 인코딩 후에는 데이터 존재하지 않음"
   ]
  },
  {
   "cell_type": "code",
   "execution_count": 85,
   "metadata": {},
   "outputs": [
    {
     "name": "stdout",
     "output_type": "stream",
     "text": [
      "[[405, 60, 94, 7053, 1401, 226, 2558, 46, 78, 654, 8640, 298, 3906, 2405, 60, 1328, 1695, 27, 2, 14915, 815, 10, 899, 8404, 27, 42, 408, 12635, 585, 2558, 20, 4007, 408, 12635, 6031, 1448, 1154], [8897, 476, 1984, 32, 10142, 28, 75, 4108, 982, 193, 42, 3572, 6471, 748, 287, 8897, 1080, 28, 1005, 9, 1, 8897, 1009, 4057, 1045, 78, 326, 631, 605], [943, 23, 346, 1818, 61, 2012, 166, 2125, 508, 3312, 229, 241, 229, 101, 8405, 23, 821, 1161, 486, 334, 8406, 4258, 1213, 126, 4730, 23, 774, 17147, 226, 8641, 4210, 15931, 907, 647, 753, 2747, 425, 17148]]\n"
     ]
    }
   ],
   "source": [
    "# 텍스트 시퀀스를 정수 시퀀스로 변환\n",
    "encoder_input_train = src_tokenizer.texts_to_sequences(encoder_input_train) \n",
    "encoder_input_test = src_tokenizer.texts_to_sequences(encoder_input_test)\n",
    "\n",
    "#잘 진행되었는지 샘플 출력\n",
    "print(encoder_input_train[:3])"
   ]
  },
  {
   "cell_type": "markdown",
   "metadata": {},
   "source": [
    "- 더 이상 텍스트 데이터가 아닌 정수    \n",
    "<br/>   \n",
    "- **headlines 데이터**에 대해서도 동일한 작업 수행\n",
    "- Keras의 토크나이저를 사용하여 decoder_input_train을 입력으로 전체 단어 집합과 각 단어에 대한 빈도수 계산"
   ]
  },
  {
   "cell_type": "code",
   "execution_count": 86,
   "metadata": {},
   "outputs": [],
   "source": [
    "tar_tokenizer = Tokenizer()\n",
    "tar_tokenizer.fit_on_texts(decoder_input_train)"
   ]
  },
  {
   "cell_type": "markdown",
   "metadata": {},
   "source": [
    "- 단어 집합이 생성되는 동시에 각 단어에 고유한 정수가 부여됨\n",
    "- 이는 ```tar_tokenizer.word_index```에 저장\n",
    "- ```tar_tokenizer.word_counts.items()```에는 단어와 각 단어의 등장 빈도수가 저장\n",
    "- 이를 통해 통계적인 정보를 얻고 등장 빈도수가 6회 미만인 단어의 비중을 확인"
   ]
  },
  {
   "cell_type": "code",
   "execution_count": 87,
   "metadata": {},
   "outputs": [
    {
     "name": "stdout",
     "output_type": "stream",
     "text": [
      "단어 집합(vocabulary)의 크기 : 25145\n",
      "등장 빈도가 5번 이하인 희귀 단어의 수: 17481\n",
      "단어 집합에서 희귀 단어를 제외시킬 경우의 단어 집합의 크기 7664\n",
      "단어 집합에서 희귀 단어의 비율: 69.52077947902168\n",
      "전체 등장 빈도에서 희귀 단어 등장 빈도 비율: 8.001810495093366\n"
     ]
    }
   ],
   "source": [
    "threshold = 6\n",
    "total_cnt = len(tar_tokenizer.word_index) # 단어의 수\n",
    "rare_cnt = 0 # 등장 빈도수가 threshold보다 작은 단어의 개수를 카운트\n",
    "total_freq = 0 # 훈련 데이터의 전체 단어 빈도수 총 합\n",
    "rare_freq = 0 # 등장 빈도수가 threshold보다 작은 단어의 등장 빈도수의 총 합\n",
    "\n",
    "# 단어와 빈도수의 쌍(pair)을 key와 value로 받는다.\n",
    "for key, value in tar_tokenizer.word_counts.items():\n",
    "    total_freq = total_freq + value\n",
    "\n",
    "    # 단어의 등장 빈도수가 threshold보다 작으면\n",
    "    if(value < threshold):\n",
    "        rare_cnt = rare_cnt + 1\n",
    "        rare_freq = rare_freq + value\n",
    "\n",
    "print('단어 집합(vocabulary)의 크기 :',total_cnt)\n",
    "print('등장 빈도가 %s번 이하인 희귀 단어의 수: %s'%(threshold - 1, rare_cnt))\n",
    "print('단어 집합에서 희귀 단어를 제외시킬 경우의 단어 집합의 크기 %s'%(total_cnt - rare_cnt))\n",
    "print(\"단어 집합에서 희귀 단어의 비율:\", (rare_cnt / total_cnt)*100)\n",
    "print(\"전체 등장 빈도에서 희귀 단어 등장 빈도 비율:\", (rare_freq / total_freq)*100)"
   ]
  },
  {
   "cell_type": "markdown",
   "metadata": {},
   "source": [
    "- 단어들 모두 제거\n",
    "- 10,440에서 어림잡아 10,000을 단어 집합 크기로 제한"
   ]
  },
  {
   "cell_type": "code",
   "execution_count": 88,
   "metadata": {},
   "outputs": [
    {
     "name": "stdout",
     "output_type": "stream",
     "text": [
      "input\n",
      "input  [[1, 38, 3176, 1909, 127, 5, 1299, 72, 5365, 604], [1, 3994, 378, 103, 522, 108, 3, 26], [1, 379, 496, 441, 30, 58, 5366, 324], [1, 8, 61, 11, 2216, 5, 18, 31, 105, 2346], [1, 908, 396, 425, 66, 201, 7666, 2347, 5367]]\n",
      "target\n",
      "decoder  [[38, 3176, 1909, 127, 5, 1299, 72, 5365, 604, 2], [3994, 378, 103, 522, 108, 3, 26, 2], [379, 496, 441, 30, 58, 5366, 324, 2], [8, 61, 11, 2216, 5, 18, 31, 105, 2346, 2], [908, 396, 425, 66, 201, 7666, 2347, 5367, 2]]\n"
     ]
    }
   ],
   "source": [
    "tar_vocab = 10000\n",
    "tar_tokenizer = Tokenizer(num_words = tar_vocab) \n",
    "tar_tokenizer.fit_on_texts(decoder_input_train)\n",
    "tar_tokenizer.fit_on_texts(decoder_target_train)\n",
    "\n",
    "# 텍스트 시퀀스를 정수 시퀀스로 변환\n",
    "decoder_input_train = tar_tokenizer.texts_to_sequences(decoder_input_train) \n",
    "decoder_target_train = tar_tokenizer.texts_to_sequences(decoder_target_train)\n",
    "decoder_input_test = tar_tokenizer.texts_to_sequences(decoder_input_test)\n",
    "decoder_target_test = tar_tokenizer.texts_to_sequences(decoder_target_test)\n",
    "\n",
    "#잘 변환되었는지 확인\n",
    "print('input')\n",
    "print('input ',decoder_input_train[:5])\n",
    "print('target')\n",
    "print('decoder ',decoder_target_train[:5])"
   ]
  },
  {
   "cell_type": "markdown",
   "metadata": {},
   "source": [
    "- 정수 인코딩 작업 끝   \n",
    "<br/>    \n",
    "- ```decoder_input_train```과 ```decoder_target_train```에서 더 이상 숫자 10,000이 넘는 숫자는 존재하지 않음\n",
    "- 빈도수가 낮은 단어를 삭제하면서 빈도수가 낮은 단어로만 구성된 샘플들은 빈 샘플이 될 가능성 높음\n",
    "- 이 현상은 길이가 상대적으로 길었던 원문(text)의 경우 문제가 별로 없겠지만, 평균 길이가 4밖에 되지 않았던 해드라인(headlines)의 경우 이 현상이 두드러졌을 가능성 높음    \n",
    "<br/>    \n",
    "- 해드라인에서 길이가 0이 된 샘플들의 인덱스를 받아 옴\n",
    "- 주의할 점은 요약문인 ```decoder_input```에는 ```sostokien``` 또는 ```decoder_target```에는 ```eostoken```이 추가된 상태이고, 이 두 토큰은 모든 샘플에서 등장하므로 빈도수가 샘플수와 동일하게 매우 높으므로 단어 집합 제한에도 삭제 되지 않음\n",
    "- 이제 길이가 0이 된 해드라인의 실제 길이는 1로 나옴\n",
    "- 길이 0이 된 ```decoder_input```에는 ```sostoken```,```decoder_target```에는 ```eostoken```만 남아 있음    \n",
    "<br/>   \n",
    "- 훈련 데이터와 테스트 데이터에 대해서 해드라인의 길이가 1인 경우의 인덱스를 각각 ```drop_train```과 ```drop_test```에 라는 변수에 저장\n",
    "- 이 샘플들 모두 삭제"
   ]
  },
  {
   "cell_type": "code",
   "execution_count": 89,
   "metadata": {},
   "outputs": [
    {
     "name": "stdout",
     "output_type": "stream",
     "text": [
      "삭제할 훈련 데이터의 개수 : 0\n",
      "삭제할 테스트 데이터의 개수 : 1\n",
      "훈련 데이터의 개수 : 44580\n",
      "훈련 레이블의 개수 : 44580\n",
      "테스트 데이터의 개수 : 11143\n",
      "테스트 레이블의 개수 : 11143\n"
     ]
    }
   ],
   "source": [
    "drop_train = [index for index, sentence in enumerate(decoder_input_train) if len(sentence) == 1]\n",
    "drop_test = [index for index, sentence in enumerate(decoder_input_test) if len(sentence) == 1]\n",
    "\n",
    "print('삭제할 훈련 데이터의 개수 :',len(drop_train))\n",
    "print('삭제할 테스트 데이터의 개수 :',len(drop_test))\n",
    "\n",
    "encoder_input_train = np.delete(encoder_input_train, drop_train, axis=0)\n",
    "decoder_input_train = np.delete(decoder_input_train, drop_train, axis=0)\n",
    "decoder_target_train = np.delete(decoder_target_train, drop_train, axis=0)\n",
    "\n",
    "encoder_input_test = np.delete(encoder_input_test, drop_test, axis=0)\n",
    "decoder_input_test = np.delete(decoder_input_test, drop_test, axis=0)\n",
    "decoder_target_test = np.delete(decoder_target_test, drop_test, axis=0)\n",
    "\n",
    "print('훈련 데이터의 개수 :', len(encoder_input_train))\n",
    "print('훈련 레이블의 개수 :',len(decoder_input_train))\n",
    "print('테스트 데이터의 개수 :',len(encoder_input_test))\n",
    "print('테스트 레이블의 개수 :',len(decoder_input_test))"
   ]
  },
  {
   "cell_type": "markdown",
   "metadata": {},
   "source": [
    "**패딩하기**\n",
    "- 텍스트 시퀀스를 정수 시퀀스로 변환했다면, 이제 서로 다른 길이의 샘플들을 병렬 처리하기 위해 같은 길이로 맞춰주는 패딩 작업을 해줘야 함\n",
    "- 정해둔 최대 길이로 패딩\n",
    "- 최대 길이보다 짧은 데이터들은 뒤의 공간에 숫자 0을 넣어 최대 길이로 길이 맞춤"
   ]
  },
  {
   "cell_type": "code",
   "execution_count": 90,
   "metadata": {},
   "outputs": [],
   "source": [
    "encoder_input_train = pad_sequences(encoder_input_train, maxlen = text_max_len, padding='post')\n",
    "encoder_input_test = pad_sequences(encoder_input_test, maxlen = text_max_len, padding='post')\n",
    "decoder_input_train = pad_sequences(decoder_input_train, maxlen = headlines_max_len, padding='post')\n",
    "decoder_target_train = pad_sequences(decoder_target_train, maxlen = headlines_max_len, padding='post')\n",
    "decoder_input_test = pad_sequences(decoder_input_test, maxlen = headlines_max_len, padding='post')\n",
    "decoder_target_test = pad_sequences(decoder_target_test, maxlen = headlines_max_len, padding='post')"
   ]
  },
  {
   "cell_type": "markdown",
   "metadata": {},
   "source": [
    "### 4. 모델 설계하기"
   ]
  },
  {
   "cell_type": "code",
   "execution_count": 91,
   "metadata": {},
   "outputs": [
    {
     "name": "stdout",
     "output_type": "stream",
     "text": [
      "WARNING:tensorflow:Layer lstm will not use cuDNN kernel since it doesn't meet the cuDNN kernel criteria. It will use generic GPU kernel as fallback when running on GPU\n",
      "WARNING:tensorflow:Layer lstm_1 will not use cuDNN kernel since it doesn't meet the cuDNN kernel criteria. It will use generic GPU kernel as fallback when running on GPU\n",
      "WARNING:tensorflow:Layer lstm_2 will not use cuDNN kernel since it doesn't meet the cuDNN kernel criteria. It will use generic GPU kernel as fallback when running on GPU\n"
     ]
    }
   ],
   "source": [
    "from tensorflow.keras.layers import Input, LSTM, Embedding, Dense, Concatenate\n",
    "from tensorflow.keras.models import Model\n",
    "from tensorflow.keras.callbacks import EarlyStopping, ModelCheckpoint\n",
    "\n",
    "\n",
    "# 인코더 설계 시작\n",
    "embedding_dim = 128\n",
    "hidden_size = 256\n",
    "\n",
    "# 인코더\n",
    "encoder_inputs = Input(shape=(text_max_len,))\n",
    "\n",
    "# 인코더의 임베딩 층\n",
    "enc_emb = Embedding(src_vocab, embedding_dim)(encoder_inputs)\n",
    "\n",
    "# 인코더의 LSTM 1\n",
    "encoder_lstm1 = LSTM(hidden_size, return_sequences=True, return_state=True ,dropout = 0.4, recurrent_dropout = 0.4)\n",
    "encoder_output1, state_h1, state_c1 = encoder_lstm1(enc_emb)\n",
    "\n",
    "# 인코더의 LSTM 2\n",
    "encoder_lstm2 = LSTM(hidden_size, return_sequences=True, return_state=True, dropout=0.4, recurrent_dropout=0.4)\n",
    "encoder_output2, state_h2, state_c2 = encoder_lstm2(encoder_output1)\n",
    "\n",
    "# 인코더의 LSTM 3\n",
    "encoder_lstm3 = LSTM(hidden_size, return_state=True, return_sequences=True, dropout=0.4, recurrent_dropout=0.4)\n",
    "encoder_outputs, state_h, state_c= encoder_lstm3(encoder_output2)"
   ]
  },
  {
   "cell_type": "markdown",
   "metadata": {},
   "source": [
    "- hidden state\n",
    "    - LSTM에서 얼만큼의 수용력(capacity)를 가질지를 정하는 파라미터\n",
    "    - 이 파라미터는 LSTM의 용량의 크기, 뉴론의 개수\n",
    "- 인코더 LSTM은 총 3개의 층으로 구성해서 모델의 복잡도를 높임\n",
    "- hidden state의 크기를 늘리는 것이 LSTM 층 1개의 용량을 늘린다면, 3개의 층을 사용하는 것은 모델의 용량을 늘린다고 볼 수 있음\n",
    "- 3개의 층을 지나서 인코더로부터 나온 출력 벡터는 디코더로 보내줘야 함"
   ]
  },
  {
   "cell_type": "markdown",
   "metadata": {},
   "source": [
    "**디코더 설계**"
   ]
  },
  {
   "cell_type": "code",
   "execution_count": 92,
   "metadata": {},
   "outputs": [
    {
     "name": "stdout",
     "output_type": "stream",
     "text": [
      "WARNING:tensorflow:Layer lstm_3 will not use cuDNN kernel since it doesn't meet the cuDNN kernel criteria. It will use generic GPU kernel as fallback when running on GPU\n"
     ]
    }
   ],
   "source": [
    "# 디코더 설계\n",
    "decoder_inputs = Input(shape=(None,))\n",
    "\n",
    "# 디코더의 임베딩 층\n",
    "dec_emb_layer = Embedding(tar_vocab, embedding_dim)\n",
    "dec_emb = dec_emb_layer(decoder_inputs)\n",
    "\n",
    "# 디코더의 LSTM\n",
    "decoder_lstm = LSTM(hidden_size, return_sequences = True, return_state = True, dropout = 0.4, recurrent_dropout=0.2)\n",
    "decoder_outputs, _, _ = decoder_lstm(dec_emb, initial_state = [state_h, state_c])"
   ]
  },
  {
   "cell_type": "markdown",
   "metadata": {},
   "source": [
    "- LSTM의 입력을 정의\n",
    "    - ```initial_state```의 인자값으로 인코더의 hidden state와 cell state의 값을 넣어줘야 함"
   ]
  },
  {
   "cell_type": "markdown",
   "metadata": {},
   "source": [
    "**디코더 출력층 설계**"
   ]
  },
  {
   "cell_type": "code",
   "execution_count": 93,
   "metadata": {},
   "outputs": [
    {
     "name": "stdout",
     "output_type": "stream",
     "text": [
      "Model: \"model\"\n",
      "__________________________________________________________________________________________________\n",
      "Layer (type)                    Output Shape         Param #     Connected to                     \n",
      "==================================================================================================\n",
      "input_1 (InputLayer)            [(None, 50)]         0                                            \n",
      "__________________________________________________________________________________________________\n",
      "embedding (Embedding)           (None, 50, 128)      2560000     input_1[0][0]                    \n",
      "__________________________________________________________________________________________________\n",
      "lstm (LSTM)                     [(None, 50, 256), (N 394240      embedding[0][0]                  \n",
      "__________________________________________________________________________________________________\n",
      "input_2 (InputLayer)            [(None, None)]       0                                            \n",
      "__________________________________________________________________________________________________\n",
      "lstm_1 (LSTM)                   [(None, 50, 256), (N 525312      lstm[0][0]                       \n",
      "__________________________________________________________________________________________________\n",
      "embedding_1 (Embedding)         (None, None, 128)    1280000     input_2[0][0]                    \n",
      "__________________________________________________________________________________________________\n",
      "lstm_2 (LSTM)                   [(None, 50, 256), (N 525312      lstm_1[0][0]                     \n",
      "__________________________________________________________________________________________________\n",
      "lstm_3 (LSTM)                   [(None, None, 256),  394240      embedding_1[0][0]                \n",
      "                                                                 lstm_2[0][1]                     \n",
      "                                                                 lstm_2[0][2]                     \n",
      "__________________________________________________________________________________________________\n",
      "dense (Dense)                   (None, None, 10000)  2570000     lstm_3[0][0]                     \n",
      "==================================================================================================\n",
      "Total params: 8,249,104\n",
      "Trainable params: 8,249,104\n",
      "Non-trainable params: 0\n",
      "__________________________________________________________________________________________________\n"
     ]
    }
   ],
   "source": [
    "# 디코더의 출력층\n",
    "decoder_softmax_layer = Dense(tar_vocab, activation = 'softmax')\n",
    "decoder_softmax_outputs = decoder_softmax_layer(decoder_outputs) \n",
    "\n",
    "# 모델 정의\n",
    "model = Model([encoder_inputs, decoder_inputs], decoder_softmax_outputs)\n",
    "model.summary()"
   ]
  },
  {
   "cell_type": "markdown",
   "metadata": {},
   "source": [
    "- headlines의 단어장인 ```tar_vocab```의 수많은 선택지 중 하나의 단어를 선택하는 다중 클래스 분류 문제를 풀어야 함\n",
    "- Dense의 인자로 ```tar_vocab```을 주고 활성화 함수로 소프트맥스 함수를 사용    \n",
    "<br/>    \n",
    "- 지금까지 설계한 것은 인코더의 hidden state와 cell state를 디코더의 초기 state로 사용하는 가장 기본적인 seq2seq\n",
    "- 디코더의 출력층 **어텐션 매커니즘**을 통해 성능을 높일 수 있음"
   ]
  },
  {
   "cell_type": "markdown",
   "metadata": {},
   "source": [
    "### 5. 어텐션 메커니즘 사용하기"
   ]
  },
  {
   "cell_type": "markdown",
   "metadata": {},
   "source": [
    "- 어텐션 매커니즘을 수행하는 어텐션 함수를 설계하는 것은 또 다른 새로운 신경망을 설계해야한다는 뜻\n",
    "- 이미 구현된 어텐션 함수를 가져와서 디코더의 출력층에 어떤 방식으로 결합하는지 배워볼 에정"
   ]
  },
  {
   "cell_type": "markdown",
   "metadata": {},
   "source": [
    "**아래 코드를 수행하여 깃허브에 공개된 어텐션 함수를 다운**"
   ]
  },
  {
   "cell_type": "code",
   "execution_count": 94,
   "metadata": {},
   "outputs": [],
   "source": [
    "urllib.request.urlretrieve(\"https://raw.githubusercontent.com/thushv89/attention_keras/master/src/layers/attention.py\", filename=\"attention.py\")\n",
    "from attention import AttentionLayer"
   ]
  },
  {
   "cell_type": "markdown",
   "metadata": {},
   "source": [
    "**설계한 디코더의 출력을 수정**"
   ]
  },
  {
   "cell_type": "code",
   "execution_count": 95,
   "metadata": {},
   "outputs": [
    {
     "name": "stdout",
     "output_type": "stream",
     "text": [
      "Model: \"model_1\"\n",
      "__________________________________________________________________________________________________\n",
      "Layer (type)                    Output Shape         Param #     Connected to                     \n",
      "==================================================================================================\n",
      "input_1 (InputLayer)            [(None, 50)]         0                                            \n",
      "__________________________________________________________________________________________________\n",
      "embedding (Embedding)           (None, 50, 128)      2560000     input_1[0][0]                    \n",
      "__________________________________________________________________________________________________\n",
      "lstm (LSTM)                     [(None, 50, 256), (N 394240      embedding[0][0]                  \n",
      "__________________________________________________________________________________________________\n",
      "input_2 (InputLayer)            [(None, None)]       0                                            \n",
      "__________________________________________________________________________________________________\n",
      "lstm_1 (LSTM)                   [(None, 50, 256), (N 525312      lstm[0][0]                       \n",
      "__________________________________________________________________________________________________\n",
      "embedding_1 (Embedding)         (None, None, 128)    1280000     input_2[0][0]                    \n",
      "__________________________________________________________________________________________________\n",
      "lstm_2 (LSTM)                   [(None, 50, 256), (N 525312      lstm_1[0][0]                     \n",
      "__________________________________________________________________________________________________\n",
      "lstm_3 (LSTM)                   [(None, None, 256),  394240      embedding_1[0][0]                \n",
      "                                                                 lstm_2[0][1]                     \n",
      "                                                                 lstm_2[0][2]                     \n",
      "__________________________________________________________________________________________________\n",
      "attention_layer (AttentionLayer ((None, None, 256),  131328      lstm_2[0][0]                     \n",
      "                                                                 lstm_3[0][0]                     \n",
      "__________________________________________________________________________________________________\n",
      "concat_layer (Concatenate)      (None, None, 512)    0           lstm_3[0][0]                     \n",
      "                                                                 attention_layer[0][0]            \n",
      "__________________________________________________________________________________________________\n",
      "dense_1 (Dense)                 (None, None, 10000)  5130000     concat_layer[0][0]               \n",
      "==================================================================================================\n",
      "Total params: 10,940,432\n",
      "Trainable params: 10,940,432\n",
      "Non-trainable params: 0\n",
      "__________________________________________________________________________________________________\n"
     ]
    }
   ],
   "source": [
    "# 어텐션 층(어텐션 함수)\n",
    "attn_layer = AttentionLayer(name='attention_layer')\n",
    "# 인코더와 디코더의 모든 time step의 hidden state를 어텐션 층에 전달하고 결과를 리턴\n",
    "attn_out, attn_states = attn_layer([encoder_outputs, decoder_outputs])\n",
    "\n",
    "# 어텐션의 결과와 디코더의 hidden state들을 연결\n",
    "decoder_concat_input = Concatenate(axis = -1, name='concat_layer')([decoder_outputs, attn_out])\n",
    "\n",
    "# 디코더의 출력층\n",
    "decoder_softmax_layer = Dense(tar_vocab, activation='softmax')\n",
    "decoder_softmax_outputs = decoder_softmax_layer(decoder_concat_input)\n",
    "\n",
    "# 모델 정의\n",
    "model = Model([encoder_inputs, decoder_inputs], decoder_softmax_outputs)\n",
    "model.summary()"
   ]
  },
  {
   "cell_type": "markdown",
   "metadata": {},
   "source": [
    "- 위 코드는 인코더의 hidden state들과 디코더의 hidden state들을 어텐션 함수의 입력으로 사용\n",
    "- 어텐션 함수가 리턴한 값을 예측 시에 디코더의 hidden state와 함께 활용하는 형태로 작동"
   ]
  },
  {
   "cell_type": "markdown",
   "metadata": {},
   "source": [
    "### 6. 모델 훈련하기\n",
    "- 설계한 모델을 가지고 훈련 진행"
   ]
  },
  {
   "cell_type": "code",
   "execution_count": 97,
   "metadata": {
    "scrolled": true
   },
   "outputs": [
    {
     "name": "stdout",
     "output_type": "stream",
     "text": [
      "Epoch 1/50\n",
      "175/175 [==============================] - 60s 346ms/step - loss: 6.6865 - val_loss: 6.2193\n",
      "Epoch 2/50\n",
      "175/175 [==============================] - 56s 323ms/step - loss: 6.1694 - val_loss: 5.9634\n",
      "Epoch 3/50\n",
      "175/175 [==============================] - 56s 322ms/step - loss: 5.8676 - val_loss: 5.7146\n",
      "Epoch 4/50\n",
      "175/175 [==============================] - 56s 322ms/step - loss: 5.5843 - val_loss: 5.5327\n",
      "Epoch 5/50\n",
      "175/175 [==============================] - 56s 322ms/step - loss: 5.3450 - val_loss: 5.3388\n",
      "Epoch 6/50\n",
      "175/175 [==============================] - 57s 323ms/step - loss: 5.1325 - val_loss: 5.2146\n",
      "Epoch 7/50\n",
      "175/175 [==============================] - 56s 323ms/step - loss: 4.9382 - val_loss: 5.1242\n",
      "Epoch 8/50\n",
      "175/175 [==============================] - 57s 323ms/step - loss: 4.7685 - val_loss: 5.0080\n",
      "Epoch 9/50\n",
      "175/175 [==============================] - 56s 323ms/step - loss: 4.6108 - val_loss: 4.9266\n",
      "Epoch 10/50\n",
      "175/175 [==============================] - 56s 323ms/step - loss: 4.4713 - val_loss: 4.8726\n",
      "Epoch 11/50\n",
      "175/175 [==============================] - 59s 336ms/step - loss: 4.3416 - val_loss: 4.8233\n",
      "Epoch 12/50\n",
      "175/175 [==============================] - 59s 335ms/step - loss: 4.2188 - val_loss: 4.7654\n",
      "Epoch 13/50\n",
      "175/175 [==============================] - 58s 330ms/step - loss: 4.1057 - val_loss: 4.7300\n",
      "Epoch 14/50\n",
      "175/175 [==============================] - 58s 330ms/step - loss: 4.0039 - val_loss: 4.7168\n",
      "Epoch 15/50\n",
      "175/175 [==============================] - 57s 327ms/step - loss: 3.9081 - val_loss: 4.6789\n",
      "Epoch 16/50\n",
      "175/175 [==============================] - 58s 330ms/step - loss: 3.8185 - val_loss: 4.6646\n",
      "Epoch 17/50\n",
      "175/175 [==============================] - 58s 331ms/step - loss: 3.7312 - val_loss: 4.6510\n",
      "Epoch 18/50\n",
      "175/175 [==============================] - 57s 328ms/step - loss: 3.6461 - val_loss: 4.6283\n",
      "Epoch 19/50\n",
      "175/175 [==============================] - 57s 326ms/step - loss: 3.5647 - val_loss: 4.6307\n",
      "Epoch 20/50\n",
      "175/175 [==============================] - 57s 326ms/step - loss: 3.4963 - val_loss: 4.6174\n",
      "Epoch 21/50\n",
      "175/175 [==============================] - 57s 326ms/step - loss: 3.4256 - val_loss: 4.6069\n",
      "Epoch 22/50\n",
      "175/175 [==============================] - 57s 328ms/step - loss: 3.3563 - val_loss: 4.6004\n",
      "Epoch 23/50\n",
      "175/175 [==============================] - 58s 330ms/step - loss: 3.2931 - val_loss: 4.6017\n",
      "Epoch 24/50\n",
      "175/175 [==============================] - 57s 326ms/step - loss: 3.2263 - val_loss: 4.6060\n",
      "Epoch 00024: early stopping\n"
     ]
    }
   ],
   "source": [
    "model.compile(optimizer='rmsprop', loss='sparse_categorical_crossentropy')\n",
    "es = EarlyStopping(monitor='val_loss', mode='min', verbose=1, patience = 2)\n",
    "history = model.fit(x = [encoder_input_train, decoder_input_train], y = decoder_target_train, \\\n",
    "          validation_data = ([encoder_input_test, decoder_input_test], decoder_target_test),\n",
    "          batch_size = 256, callbacks=[es], epochs = 50)"
   ]
  },
  {
   "cell_type": "markdown",
   "metadata": {},
   "source": [
    "- ```EarlyStopping```: 조기 종료\n",
    "    - 특정 조건이 충족되면 모델의 훈련을 멈추는 역할\n",
    "    - ```val_loss(검증 데이터의 손실)```을 모니터링 하면서\n",
    "    - 검증 데이터의 손실이 줄어들지 않고 증가하는 현상이 ```patiensce=2``` 2회 관측되면 학습 중단"
   ]
  },
  {
   "cell_type": "markdown",
   "metadata": {},
   "source": [
    "**훈련 데이터의 손실과 검증 데이터의 손실이 줄어드는 과정 시각화**"
   ]
  },
  {
   "cell_type": "code",
   "execution_count": 98,
   "metadata": {},
   "outputs": [
    {
     "data": {
      "image/png": "[encoded data removed]",
      "text/plain": [
       "<Figure size 432x288 with 1 Axes>"
      ]
     },
     "metadata": {
      "needs_background": "light"
     },
     "output_type": "display_data"
    }
   ],
   "source": [
    "plt.plot(history.history['loss'], label='train')\n",
    "plt.plot(history.history['val_loss'], label='test')\n",
    "plt.legend()\n",
    "plt.show()"
   ]
  },
  {
   "cell_type": "markdown",
   "metadata": {},
   "source": [
    "### 7. 인퍼런스 모델 구하기"
   ]
  },
  {
   "cell_type": "markdown",
   "metadata": {},
   "source": [
    "**테스트 단계**\n",
    "- 정수 인덱스 행렬로 존재하던 텍스트 데이터를 실제 데이터로 복원\n",
    "- 필요한 3개의 사전을 아래와 같이 미리 준비"
   ]
  },
  {
   "cell_type": "code",
   "execution_count": 99,
   "metadata": {},
   "outputs": [],
   "source": [
    "src_index_to_word = src_tokenizer.index_word # 원문 단어 집합에서 정수 -> 단어를 얻음\n",
    "tar_word_to_index = tar_tokenizer.word_index # 요약 단어 집합에서 단어 -> 정수를 얻음\n",
    "tar_index_to_word = tar_tokenizer.index_word # 요약 단어 집합에서 정수 -> 단어를 얻음"
   ]
  },
  {
   "cell_type": "markdown",
   "metadata": {},
   "source": [
    "- seq2seq는 훈련할 때와 실제 동작할 때(인퍼런스 단계)의 방식이 다르므로 그에 맞게 모델 설계를 별개로 진행해야함\n",
    "- 훈련 단계에서는 디코더의 입력부에 정답이 되는 문장 전체를 한꺼번에 넣고 디코더의 출력과 한번에 비교할 수 있음\n",
    "- 인코더와 디코더를 엮은 통짜 모델 하나만 준비\n",
    "- 인퍼런스를 위한 모델 설계를 별도로 함\n",
    "- 이때는 인코더 모델과 디코더 모델을 분리해서 설계합니다."
   ]
  },
  {
   "cell_type": "code",
   "execution_count": 100,
   "metadata": {},
   "outputs": [],
   "source": [
    "# 인코더 설계\n",
    "encoder_model = Model(inputs=encoder_inputs, outputs=[encoder_outputs, state_h, state_c])\n",
    "\n",
    "# 이전 시점의 상태들을 저장하는 텐서\n",
    "decoder_state_input_h = Input(shape=(hidden_size,))\n",
    "decoder_state_input_c = Input(shape=(hidden_size,))\n",
    "\n",
    "dec_emb2 = dec_emb_layer(decoder_inputs)\n",
    "# 문장의 다음 단어를 예측하기 위해서 초기 상태(initial_state)를 이전 시점의 상태로 사용. 이는 뒤의 함수 decode_sequence()에 구현\n",
    "# 훈련 과정에서와 달리 LSTM의 리턴하는 은닉 상태와 셀 상태인 state_h와 state_c를 버리지 않음.\n",
    "decoder_outputs2, state_h2, state_c2 = decoder_lstm(dec_emb2, initial_state=[decoder_state_input_h, decoder_state_input_c])"
   ]
  },
  {
   "cell_type": "markdown",
   "metadata": {},
   "source": [
    "**어텐션 매커니즘을 사용하는 출력층을 설계해야 함**"
   ]
  },
  {
   "cell_type": "code",
   "execution_count": 101,
   "metadata": {},
   "outputs": [],
   "source": [
    "# 어텐션 함수\n",
    "decoder_hidden_state_input = Input(shape=(text_max_len, hidden_size))\n",
    "attn_out_inf, attn_states_inf = attn_layer([decoder_hidden_state_input, decoder_outputs2])\n",
    "decoder_inf_concat = Concatenate(axis=-1, name='concat')([decoder_outputs2, attn_out_inf])\n",
    "\n",
    "# 디코더의 출력층\n",
    "decoder_outputs2 = decoder_softmax_layer(decoder_inf_concat) \n",
    "\n",
    "# 최종 디코더 모델\n",
    "decoder_model = Model(\n",
    "    [decoder_inputs] + [decoder_hidden_state_input,decoder_state_input_h, decoder_state_input_c],\n",
    "    [decoder_outputs2] + [state_h2, state_c2])"
   ]
  },
  {
   "cell_type": "markdown",
   "metadata": {},
   "source": [
    "**인퍼런스 단계에서 단어 시퀀스를 완성하는 함수 만들기**"
   ]
  },
  {
   "cell_type": "code",
   "execution_count": 102,
   "metadata": {},
   "outputs": [],
   "source": [
    "def decode_sequence(input_seq):\n",
    "    # 입력으로부터 인코더의 상태를 얻음\n",
    "    e_out, e_h, e_c = encoder_model.predict(input_seq)\n",
    "\n",
    "     # <SOS>에 해당하는 토큰 생성\n",
    "    target_seq = np.zeros((1,1))\n",
    "    target_seq[0, 0] = tar_word_to_index['sostoken']\n",
    "\n",
    "    stop_condition = False\n",
    "    decoded_sentence = ''\n",
    "    while not stop_condition: # stop_condition이 True가 될 때까지 루프 반복\n",
    "\n",
    "        output_tokens, h, c = decoder_model.predict([target_seq] + [e_out, e_h, e_c])\n",
    "        sampled_token_index = np.argmax(output_tokens[0, -1, :])\n",
    "        sampled_token = tar_index_to_word[sampled_token_index]\n",
    "\n",
    "        if(sampled_token!='eostoken'):\n",
    "            decoded_sentence += ' '+sampled_token\n",
    "\n",
    "        #  <eos>에 도달하거나 최대 길이를 넘으면 중단.\n",
    "        if (sampled_token == 'eostoken'  or len(decoded_sentence.split()) >= (headlines_max_len-1)):\n",
    "            stop_condition = True\n",
    "\n",
    "        # 길이가 1인 타겟 시퀀스를 업데이트\n",
    "        target_seq = np.zeros((1,1))\n",
    "        target_seq[0, 0] = sampled_token_index\n",
    "\n",
    "        # 상태를 업데이트 합니다.\n",
    "        e_h, e_c = h, c\n",
    "\n",
    "    return decoded_sentence"
   ]
  },
  {
   "cell_type": "markdown",
   "metadata": {},
   "source": [
    "### 8. 모델 테스트하기"
   ]
  },
  {
   "cell_type": "markdown",
   "metadata": {},
   "source": [
    "- 테스트 단계에서는 정수 시퀀스를 텍스트 시퀀스로 변환하여 결과를 확인\n",
    "- 주어진 정수 시퀀스를 텍스트 시퀀스로 변환하는 함수 만들기\n",
    "- 함수를 만들 때, Text의 정수 시퀀스에서는 패딩을 위해 사용되는 숫자 0을 제외\n",
    "- headlines의 정수 시퀀스에서는 숫자 0, 시작 토큰의 인덱스, 종료 토큰의 인덱스를 출력에서 제외"
   ]
  },
  {
   "cell_type": "code",
   "execution_count": 103,
   "metadata": {},
   "outputs": [],
   "source": [
    "# 원문의 정수 시퀀스를 텍스트 시퀀스로 변환\n",
    "def seq2text(input_seq):\n",
    "    temp=''\n",
    "    for i in input_seq:\n",
    "        if(i!=0):\n",
    "            temp = temp + src_index_to_word[i]+' '\n",
    "    return temp\n",
    "\n",
    "# 요약문의 정수 시퀀스를 텍스트 시퀀스로 변환\n",
    "def seq2headlines(input_seq):\n",
    "    temp=''\n",
    "    for i in input_seq:\n",
    "        if((i!=0 and i!=tar_word_to_index['sostoken']) and i!=tar_word_to_index['eostoken']):\n",
    "            temp = temp + tar_index_to_word[i] + ' '\n",
    "    return temp"
   ]
  },
  {
   "cell_type": "markdown",
   "metadata": {},
   "source": [
    "### 9. 실제 결과와 요약문 비교하기"
   ]
  },
  {
   "cell_type": "code",
   "execution_count": 113,
   "metadata": {
    "scrolled": true
   },
   "outputs": [
    {
     "name": "stdout",
     "output_type": "stream",
     "text": [
      "원문 : simran writer apurva asrani facebook post alleged kangana ranaut lying co writing script asrani claiming wrote nine drafts script said told kangana turning director demanding co writer credit film first cut added eventually agreed give kangana additional writing credit \n",
      "실제 요약 : simran writer says kangana lied about co writing script \n",
      "예측 요약 :  casting director denies casting casting director\n",
      "\n",
      "\n",
      "원문 : cybersecurity expert john mcafee said banks india cracking accounts connected crypto exchanges causing dip also asked cryptocurrency investors panic reports top indian banks suspended accounts country top exchanges added distributed exchanges months away impossible crack \n",
      "실제 요약 : crypto falling due to indian crackdown on exchanges mcafee \n",
      "예측 요약 :  mcafee cryptocurrency exchange hacked to cryptocurrency cryptocurrency\n",
      "\n",
      "\n",
      "원문 : central information commission rejected rti query expenses incurred bjp president amit shah security cited rti act exemption clauses personal information safety rejecting query petitioner filed rti query july shah member rajya sabha \n",
      "실제 요약 : cannot disclose amit shah security expenses under rti cic \n",
      "예측 요약 :  bjp body to hold corruption against mallya reports\n",
      "\n",
      "\n",
      "원문 : chennai went missing google maps tuesday according new indian express google maps appeared marked chennai town located west chennai even districts around chennai marked correctly meanwhile town district andhra pradesh also known \n",
      "실제 요약 : chennai goes missing from google maps report \n",
      "예측 요약 :  google maps to visit in india in years\n",
      "\n",
      "\n",
      "원문 : google rolled feature show wheelchair accessible routes transit navigation users users type desired destination maps tap directions tab select public transportation icon click options routes section access wheelchair accessible routes feature currently launched select places including london \n",
      "실제 요약 : google rolls out wheelchair in maps \n",
      "예측 요약 :  google launches its first ever space\n",
      "\n",
      "\n",
      "원문 : finance minister arun jaitley friday announced taxi aggregators like ola uber face gst effect july rate lowest slab services per gst regime levied transport services following implementation gst hailing cabs aggregators cost marginally less \n",
      "실제 요약 : cab like ola and uber to attract gst \n",
      "예측 요약 :  paytm to acquire gst vehicles on electric vehicles\n",
      "\n",
      "\n",
      "원문 : cricketer yuvraj singh called indian tennis player sania mirza twitter conversation bcci tweeted photograph yuvraj posing alongside yuvraj replied chance sania retweeting picture posted yuvraj wrote cricketer robin uthappa also commented picture \n",
      "실제 요약 : yuvraj singh calls sania mirza on twitter \n",
      "예측 요약 :  harbhajan trolls his birthday on his birthday\n",
      "\n",
      "\n",
      "원문 : format letters taken wherein ordered keyboard avoided stop keys sticking together invention keyboard attributed american inventor christopher reportedly aimed slow arranging common letters hard reach spots \n",
      "실제 요약 : why are letters on arranged in format \n",
      "예측 요약 :  iit kanpur to get its first convocation\n",
      "\n",
      "\n",
      "원문 : public works department employee injured hotel owner opened fire demolition drive earlier month died saturday hotel owner also shot assistant town planner died spot accused run away incident arrested later uttar pradesh \n",
      "실제 요약 : pwd employee injured in shooting by dies \n",
      "예측 요약 :  fire of fire at mumbai airport house\n",
      "\n",
      "\n",
      "원문 : teaser shraddha kapoor starrer haseena parkar based underworld dawood ibrahim sister haseena parkar released friday shraddha real life brother siddhanth kapoor portrays role onscreen brother dawood ibrahim film directed apoorva lakhia film scheduled release august \n",
      "실제 요약 : teaser of film on dawood sister haseena parkar releases \n",
      "예측 요약 :  teaser of hrithik kapoor starrer super released\n",
      "\n",
      "\n",
      "원문 : actor gulshan grover known portraying negative roles said villain part got dignity hindi films added writing part negative characters become far better research done depth said iconic villain indian films disappeared \n",
      "실제 요약 : now treated with dignity in hindi films gulshan \n",
      "예측 요약 :  have been but baahubali actor director\n",
      "\n",
      "\n",
      "원문 : nawazuddin siddiqui vijay varma film monsoon shootout released friday fails engage despite backed powerhouse wrote hindustan times monsoon shootout style substance wrote times india firstpost called engaging film compelling questions core rated \n",
      "실제 요약 : nawazuddin vijay monsoon shootout hits the theatres \n",
      "예측 요약 :  nawazuddin siddiqui starrer mission to release reports\n",
      "\n",
      "\n",
      "원문 : year old woman monday night delivered baby platform dadar railway station mumbai woman along husband waiting board train pune went labour cctv footage showed women police officials creating makeshift labour room using bedsheets delivered baby \n",
      "실제 요약 : yr old delivers baby on railway platform in mumbai \n",
      "예측 요약 :  woman gets married to mumbai train train\n",
      "\n",
      "\n",
      "원문 : threatening impose sanctions venezuela us president donald trump called venezuelan counterpart nicolas maduro bad leader dreams becoming dictator comes maduro called setting body rewrite country constitution notably venezuelan opposition supporters unofficially rejected proposed assembly \n",
      "실제 요약 : venezuela bad leader dreams of becoming dictator trump \n",
      "예측 요약 :  venezuela calls us president assad\n",
      "\n",
      "\n",
      "원문 : inventor modern ed asked family mould ashes death family honoured decision ashes limited edition plastic memorial flying sold fund museum two set comprising ashes reportedly sells today \n",
      "실제 요약 : ashes of modern inventor were into \n",
      "예측 요약 :  british origin man dies after being auctioned for\n",
      "\n",
      "\n",
      "원문 : flipkart current valuation billion equal combined market capitalisation top four offline retailers listed india mart future retail aditya birla fashion retail future consumer combined value nearly billion us retailer walmart wednesday announced acquire stake flipkart billion \n",
      "실제 요약 : flipkart as valuable as india top four combined \n",
      "예측 요약 :  flipkart billion in walmart market market market\n",
      "\n",
      "\n",
      "원문 : third post emergency union minister arun jaitley tuesday said cpi supporter move asserted emergency war stating cpi participate resistance emergency jaitley added left parties puzzle \n",
      "실제 요약 : left parties supporters of emergency jaitley \n",
      "예측 요약 :  women in talks to be called pm kovind\n",
      "\n",
      "\n",
      "원문 : per reports actress kangana ranaut gifted three bedroom bungalow occasion th birthday actress said planning use office space intends start working directorial project year also reported kangana looking become producer soon \n",
      "실제 요약 : kangana gifts herself bungalow on birthday report \n",
      "예측 요약 :  kangana to marry rumoured boyfriend report report\n",
      "\n",
      "\n",
      "원문 : saudi arabia arrested two women rights activists imposed travel ban several others ahead lifting ban women driving kingdom human rights watch said least prominent women rights activists detained saudi arabia since may activists criticised saudi driving ban male laws \n",
      "실제 요약 : saudi arrests women activists ahead of lifting driving ban \n",
      "예측 요약 :  saudi arabia arrests women in protest against women\n",
      "\n",
      "\n",
      "원문 : bengaluru police launched pink new patrol vehicles address complaints related women child safety pink function based complaints registered app police control room number least three women police personnel city police currently regular \n",
      "실제 요약 : bengaluru launches pink police patrol vehicles for women \n",
      "예측 요약 :  bengaluru police to get traffic traffic\n",
      "\n",
      "\n",
      "원문 : delhi chief minister arvind kejriwal demanded municipal polls national capital postponed month two till arrangements made use evms equipped paper trails kejriwal alleged redundant pre evms hacked even child going used civic body polls \n",
      "실제 요약 : kejriwal calls for municipal polls over evm issue \n",
      "예측 요약 :  kejriwal to take action against kejriwal for polls\n",
      "\n",
      "\n",
      "원문 : bengaluru based last minute hotel booking startup shut operations reportedly due cash crunch inability raise new funding employees workforce comprising people absorbed ids next business solutions another firm founded founder suresh john began operations early \n",
      "실제 요약 : last minute hotel booking startup shuts down \n",
      "예측 요약 :  gurugram startup buys stake in logistics\n",
      "\n",
      "\n",
      "원문 : american family offered reward lost teddy bear family way new york toy may made way window said facebook post mother three old daughter never day without bear completely heartbroken added \n",
      "실제 요약 : us family offers reward for lost bear \n"
     ]
    },
    {
     "name": "stdout",
     "output_type": "stream",
     "text": [
      "예측 요약 :  man who is the gunpoint in us\n",
      "\n",
      "\n",
      "원문 : exercise classes teaching colombian dance style banned iran religious authorities declared dance islamic ideology move came amid fears dance style might encourage revealing clothing mixing iran made similar announcements sports especially women past \n",
      "실제 요약 : iran bans classes for being un islamic \n",
      "예측 요약 :  why is the children celebrated in the day\n",
      "\n",
      "\n",
      "원문 : prize first ever wimbledon began years ago july guinea trophy prize money wimbledon year million singles champions receiving million total men paid entrance fee first tournament featured singles event \n",
      "실제 요약 : st wimbledon prize was guinea trophy now its cr \n",
      "예측 요약 :  nadal federer to be million in\n",
      "\n",
      "\n",
      "원문 : pakistan released abdul ghani one co founders afghan taliban militant group said second command afghan taliban coordinated militant group operations southern afghanistan release comes amid peace talks us taliban end year old war afghanistan \n",
      "실제 요약 : pakistan releases afghan taliban co founder \n",
      "예측 요약 :  pakistan is taliban is terrorists in afghanistan\n",
      "\n",
      "\n",
      "원문 : chairman interglobe aviation operates country largest airline indigo mallya mangalore passed away sunday mallya sudden demise irreparable loss company company said mallya previously served chairman managing director bank baroda bank maharashtra \n",
      "실제 요약 : aviation chairman mallya passes away \n",
      "예측 요약 :  wipro fires of employees in prison bakshi\n",
      "\n",
      "\n",
      "원문 : nasa shared image cosmic pair supermassive black holes seen background nearby spiral galaxy andromeda galaxy located million light years earth new data nasa chandra ray observatory revealed black holes earlier classified stars andromeda billion light years away \n",
      "실제 요약 : nasa sees black hole pair galaxy \n",
      "예측 요약 :  nasa telescope finds his life from space\n",
      "\n",
      "\n",
      "원문 : city ukraine separatist east forced extend suspension hot water supply imposed april least mid october due debt accumulated municipal utility services notably th populous city country home lakh people repeatedly targeted pro russia insurgents \n",
      "실제 요약 : ukraine to be without hot water for months \n",
      "예측 요약 :  venezuela to shut down by bengaluru\n",
      "\n",
      "\n",
      "원문 : businessman vijay mallya wanted india foreign exchange violation debt recovery embezzlement related cases spotted india pakistan champions trophy match birmingham sunday mallya fled uk march last year currently bail arrested scotland yard april mallya owes indian banks approximately crore interest \n",
      "실제 요약 : absconding vijay mallya spotted at india pakistan match \n",
      "예측 요약 :  vijay mallya vijay mallya detained in india\n",
      "\n",
      "\n",
      "원문 : finance secretary hasmukh adhia said demonetisation anti evasion measures generated direct taxes crore commenting introduction long term capital gains tax equities said step tax earning returns annually added would also encourage corporates invest surplus cash creating manufacturing companies \n",
      "실제 요약 : steps like note ban generated cr taxes finance secy \n",
      "예측 요약 :  centre to remain crore in next state budget\n",
      "\n",
      "\n",
      "원문 : united states first daughter ivanka trump thanked telangana cm chandrashekar rao handwritten note hospitality three day visit hyderabad last month experience incredible inspiring ivanka wrote deeply touched warmth people telangana also thanked gift palace \n",
      "실제 요약 : ivanka trump thanks telangana cm in handwritten note \n",
      "예측 요약 :  veteran minister son attend romeo akbar funeral\n",
      "\n",
      "\n",
      "원문 : talking plans trip space british physicist stephen hawking said thought one would take richard branson offered seat virgin galactic said yes immediately notably billionaire richard branson commercial spaceflight virgin galactic reported people ticket costing \n",
      "실제 요약 : hawking plans space voyage on branson virgin galactic \n",
      "예측 요약 :  astronaut shares mission for mars mission\n",
      "\n",
      "\n",
      "원문 : delhi government tuesday announced merit cum means scholarship students low middle income groups studying state universities scheme three categories based students family income provide fee waivers however students need minimum class passed qualify scheme \n",
      "실제 요약 : delhi govt launches merit means scholarship scheme \n",
      "예측 요약 :  delhi govt to provide students to register students\n",
      "\n",
      "\n",
      "원문 : andhra pradesh based used cook local recipes scratch upload youtube channel country foods passed away age tuesday channel lakh subscribers cooking videos dishes ranging egg fish fry bamboo chicken biryani channel managed great grandson laxman \n",
      "실제 요약 : andhra youtuber passes away aged \n",
      "예측 요약 :  andhra village uses youtube channel to undergo dog\n",
      "\n",
      "\n",
      "원문 : dismissing reports suggesting irrfan khan health deteriorating spokesperson said right spread rumours social media without fact check official validation also urged people continue support prayers irrfan currently treated neuroendocrine tumour london \n",
      "실제 요약 : reports on irrfan health false spokesperson \n",
      "예측 요약 :  cannot be used to make actors salman khan\n",
      "\n",
      "\n",
      "원문 : according reports actor salman khan receiving vvip treatment jodhpur central jail currently lodged reportedly special air cooler also gets cigarettes families deputy inspector general jail met salman children also clicked selfies reports added \n",
      "실제 요약 : salman khan getting treatment in jodhpur jail reports \n",
      "예측 요약 :  salman launches lakh for women in mumbai report\n",
      "\n",
      "\n",
      "원문 : reacting rcb crashing ipl user tweeted rcb officially south africa ipl tweets read never change high time rcb management thinks beyond imvkohli seasons titles rcb club social experiment determine much depression fan bear another tweet read \n",
      "실제 요약 : rcb officially the south africa of ipl tweets user \n",
      "예측 요약 :  shane warne shares throwback picture of his season\n",
      "\n",
      "\n",
      "원문 : uae saudi arabia bahrain egypt monday broke diplomatic ties land sea contact qatar citing terrorism violation international law comes qatar state news reported qatari emir criticised donald trump praised saudi arabia regional rival iran although qatar claimed fake news \n",
      "실제 요약 : uae saudi bahrain egypt break diplomatic ties with qatar \n",
      "예측 요약 :  china warns saudi arabia over anti east\n",
      "\n",
      "\n",
      "원문 : petrol bomb allegedly thrown unidentified persons cinema hall screening film padmaavat maharashtra kalyan saturday bomb failed explode injuries reported police launched manhunt arrest accused comes amid protests rajput groups film allegedly distorting history \n",
      "실제 요약 : petrol bomb hurled at maha theatre showing padmaavat \n",
      "예측 요약 :  blasts in kedarnath kills by padmaavat in padmaavat\n",
      "\n",
      "\n",
      "원문 : commerce startup flipkart investing million bengaluru based food delivery startup swiggy according reports chinese internet conglomerate tencent might also invest swiggy expanding size funding million reports added earlier reports also suggested flipkart talks invest online furniture startup urban ladder \n",
      "실제 요약 : flipkart may invest mn in food delivery startup swiggy \n",
      "예측 요약 :  flipkart may invest million in indian startups\n",
      "\n",
      "\n",
      "원문 : metro subsidiary israeli company urban aeronautics unveiled plan build four seater hydrogen powered flying car called flying car initially run jet fuel eventually transition liquid hydrogen flying car designed take land vertically \n",
      "실제 요약 : plan to build seater hydrogen powered flying car unveiled \n",
      "예측 요약 :  bengaluru to launch electric electric car in india\n",
      "\n",
      "\n",
      "원문 : crowd funded film mantra starring kalki koechlin rajat kapoor flawed wrote hindustan times story performances make sure involved till end wrote times india koimoi wrote film failed attempt thanks sub plots film rated \n",
      "실제 요약 : crowd funded film mantra hits the theatres \n",
      "예측 요약 :  teaser of rajkummar rao starrer released\n",
      "\n",
      "\n",
      "원문 : filmmaker hansal mehta said rajkummar rao success driven content difficult choices makes actor positive sign industry carved space added hansal said one finest actors today waiting day actors like become popular \n",
      "실제 요약 : rao success driven by difficult choices he makes hansal \n",
      "예측 요약 :  have been more than casting director\n",
      "\n",
      "\n",
      "원문 : singer justin bieber model hailey baldwin confirmed marriage instagram sharing picture hailey justin wrote wife awesome hailey also changed last name bieber instagram earlier september hailey denied reports marriage twitter later deleted tweet married yet tweeted \n",
      "실제 요약 : justin bieber model hailey confirm marriage on instagram \n",
      "예측 요약 :  bieber shares pic with daughter at daughter\n",
      "\n",
      "\n",
      "원문 : kalaari capital invested undisclosed amount bengaluru based ai startup ai part accelerator programme startup launched building natural language processing technology indian languages enable businesses engage multi customers working financial institutions enable increase businesses \n",
      "실제 요약 : ai startup ai gains funding from \n",
      "예측 요약 :  fintech startup raises million in\n",
      "\n",
      "\n",
      "원문 : seven students secured top class indian school certificate examinations results declared monday four toppers hailed lucknow two mumbai based students also secured highest marks students secured least pass examinations \n",
      "실제 요약 : seven students top class with \n"
     ]
    },
    {
     "name": "stdout",
     "output_type": "stream",
     "text": [
      "예측 요약 :  students tops jee advanced exam\n",
      "\n",
      "\n",
      "원문 : talking billionaire elon musk led electric car maker tesla american investor jim said company headed brick wall also said short tesla lost money know company stock decline tesla stock price fall company fall added \n",
      "실제 요약 : tesla headed for wall investor jim \n",
      "예측 요약 :  tesla tesla tesla is tesla model tesla\n",
      "\n",
      "\n",
      "원문 : bjp mp laxmi narayan yadav said many people dubious received country highest civilian award bharat ratna earlier many given award said trend bharat ratna changed given dr br ambedkar added \n",
      "실제 요약 : people with got bharat ratna bjp mp \n",
      "예측 요약 :  bjp mp seeks land for land ratna\n",
      "\n",
      "\n",
      "원문 : cartoon sitcom simpsons released short animated video us president donald trump first days office clip shows trump bed white house counting president like increasing twitter following video also trump daughter ivanka taking justice ruth seat supreme court \n",
      "실제 요약 : the simpsons releases video on trump first days \n",
      "예측 요약 :  video trump calls trump for white house\n",
      "\n",
      "\n"
     ]
    }
   ],
   "source": [
    "for i in range(0, 50):\n",
    "    print(\"원문 :\", seq2text(encoder_input_test[i]))\n",
    "    print(\"실제 요약 :\", seq2headlines(decoder_input_test[i]))\n",
    "    print(\"예측 요약 :\", decode_sequence(encoder_input_test[i].reshape(1, text_max_len)))\n",
    "    print(\"\\n\")"
   ]
  },
  {
   "cell_type": "markdown",
   "metadata": {},
   "source": [
    "- 잘된 요약문들이 있음\n",
    "    - 원문에 없던 단어를 사용해서 요약한 경우\n",
    "- 잘 안된 요약문들도 있음\n",
    "    - **개선 사항**\n",
    "    - seq2seq와 어텐션의 자체의 조합을 좀 더 좋게 수정\n",
    "    - 빔 서치(beam search)\n",
    "    - 사전 훈련된 워드 임베딩(pre-trained word embedding)\n",
    "    - 인코더 - 디코더 자체의 구조 새로이 변경하는 트랜스포머(transformer)"
   ]
  },
  {
   "cell_type": "markdown",
   "metadata": {},
   "source": [
    "## Step 2. 추출적 요약(Extractive Summarization)"
   ]
  },
  {
   "cell_type": "markdown",
   "metadata": {},
   "source": [
    "- 앞에서 seq2seq를 통해 추상적 요약 진행\n",
    "- 추출적 요약도 있음\n",
    "    - 이미 본문에 존재하는 단어구, 문장을 뽑아서 요약으로 삼음\n",
    "- 패키지 ```Summa```에서는 추출적 요약을 위한 모듈인 summarize를 제공"
   ]
  },
  {
   "cell_type": "markdown",
   "metadata": {},
   "source": [
    "### 0. 패키지 설치"
   ]
  },
  {
   "cell_type": "code",
   "execution_count": 245,
   "metadata": {},
   "outputs": [],
   "source": [
    "# pip install summa"
   ]
  },
  {
   "cell_type": "markdown",
   "metadata": {},
   "source": [
    "### 1. 데이터"
   ]
  },
  {
   "cell_type": "code",
   "execution_count": 246,
   "metadata": {},
   "outputs": [],
   "source": [
    "# import pandas as pd\n",
    "# import os\n",
    "\n",
    "# data_1 = pd.read_csv(os.getenv(\"HOME\")+\"/aiffel/news_summarization/data/news_summary_more.csv\")    \n",
    "# print('전체 샘플수 :', (len(data_1)))"
   ]
  },
  {
   "cell_type": "markdown",
   "metadata": {},
   "source": [
    "**전처리한 데이터대상으로 인덱스 정리**"
   ]
  },
  {
   "cell_type": "code",
   "execution_count": 247,
   "metadata": {},
   "outputs": [],
   "source": [
    "data.reset_index(drop=True, inplace=True)"
   ]
  },
  {
   "cell_type": "code",
   "execution_count": 248,
   "metadata": {
    "scrolled": true
   },
   "outputs": [
    {
     "data": {
      "text/html": [
       "<div>\n",
       "<style scoped>\n",
       "    .dataframe tbody tr th:only-of-type {\n",
       "        vertical-align: middle;\n",
       "    }\n",
       "\n",
       "    .dataframe tbody tr th {\n",
       "        vertical-align: top;\n",
       "    }\n",
       "\n",
       "    .dataframe thead th {\n",
       "        text-align: right;\n",
       "    }\n",
       "</style>\n",
       "<table border=\"1\" class=\"dataframe\">\n",
       "  <thead>\n",
       "    <tr style=\"text-align: right;\">\n",
       "      <th></th>\n",
       "      <th>headlines</th>\n",
       "      <th>text</th>\n",
       "      <th>decoder_input</th>\n",
       "      <th>decoder_target</th>\n",
       "    </tr>\n",
       "  </thead>\n",
       "  <tbody>\n",
       "    <tr>\n",
       "      <th>0</th>\n",
       "      <td>aegon life iterm insurance plan helps customer...</td>\n",
       "      <td>aegon life iterm insurance plan customers enjo...</td>\n",
       "      <td>sostoken aegon life iterm insurance plan helps...</td>\n",
       "      <td>aegon life iterm insurance plan helps customer...</td>\n",
       "    </tr>\n",
       "    <tr>\n",
       "      <th>1</th>\n",
       "      <td>up cousins fed human excreta for friendship wi...</td>\n",
       "      <td>two minor cousins uttar pradesh gorakhpur alle...</td>\n",
       "      <td>sostoken up cousins fed human excreta for frie...</td>\n",
       "      <td>up cousins fed human excreta for friendship wi...</td>\n",
       "    </tr>\n",
       "    <tr>\n",
       "      <th>2</th>\n",
       "      <td>yr old woman conducts physical training in kha...</td>\n",
       "      <td>isha ghosh year old member bharat scouts guide...</td>\n",
       "      <td>sostoken yr old woman conducts physical traini...</td>\n",
       "      <td>yr old woman conducts physical training in kha...</td>\n",
       "    </tr>\n",
       "    <tr>\n",
       "      <th>3</th>\n",
       "      <td>how long can tolerate congress leaders potshot...</td>\n",
       "      <td>days threatened step post congress mlas contin...</td>\n",
       "      <td>sostoken how long can tolerate congress leader...</td>\n",
       "      <td>how long can tolerate congress leaders potshot...</td>\n",
       "    </tr>\n",
       "    <tr>\n",
       "      <th>4</th>\n",
       "      <td>odisha cm patnaik controls mining mafia union ...</td>\n",
       "      <td>union minister dharmendra pradhan wednesday cl...</td>\n",
       "      <td>sostoken odisha cm patnaik controls mining maf...</td>\n",
       "      <td>odisha cm patnaik controls mining mafia union ...</td>\n",
       "    </tr>\n",
       "    <tr>\n",
       "      <th>...</th>\n",
       "      <td>...</td>\n",
       "      <td>...</td>\n",
       "      <td>...</td>\n",
       "      <td>...</td>\n",
       "    </tr>\n",
       "    <tr>\n",
       "      <th>55719</th>\n",
       "      <td>kashmiri separatist leaders summoned over mone...</td>\n",
       "      <td>enforcement directorate summoned jammu kashmir...</td>\n",
       "      <td>sostoken kashmiri separatist leaders summoned ...</td>\n",
       "      <td>kashmiri separatist leaders summoned over mone...</td>\n",
       "    </tr>\n",
       "    <tr>\n",
       "      <th>55720</th>\n",
       "      <td>pakistan starts building fence along afghanist...</td>\n",
       "      <td>pakistan started building nearly kilometer fen...</td>\n",
       "      <td>sostoken pakistan starts building fence along ...</td>\n",
       "      <td>pakistan starts building fence along afghanist...</td>\n",
       "    </tr>\n",
       "    <tr>\n",
       "      <th>55721</th>\n",
       "      <td>crpf jawan axed to death by maoists in chhatti...</td>\n",
       "      <td>crpf jawan tuesday axed death sharp edged weap...</td>\n",
       "      <td>sostoken crpf jawan axed to death by maoists i...</td>\n",
       "      <td>crpf jawan axed to death by maoists in chhatti...</td>\n",
       "    </tr>\n",
       "    <tr>\n",
       "      <th>55722</th>\n",
       "      <td>the matrix film to get reboot reports</td>\n",
       "      <td>according reports new version science fiction ...</td>\n",
       "      <td>sostoken the matrix film to get reboot reports</td>\n",
       "      <td>the matrix film to get reboot reports eostoken</td>\n",
       "    </tr>\n",
       "    <tr>\n",
       "      <th>55723</th>\n",
       "      <td>madhesi morcha withdraws support to nepalese g...</td>\n",
       "      <td>madhesi morcha alliance seven political partie...</td>\n",
       "      <td>sostoken madhesi morcha withdraws support to n...</td>\n",
       "      <td>madhesi morcha withdraws support to nepalese g...</td>\n",
       "    </tr>\n",
       "  </tbody>\n",
       "</table>\n",
       "<p>55724 rows × 4 columns</p>\n",
       "</div>"
      ],
      "text/plain": [
       "                                               headlines  \\\n",
       "0      aegon life iterm insurance plan helps customer...   \n",
       "1      up cousins fed human excreta for friendship wi...   \n",
       "2      yr old woman conducts physical training in kha...   \n",
       "3      how long can tolerate congress leaders potshot...   \n",
       "4      odisha cm patnaik controls mining mafia union ...   \n",
       "...                                                  ...   \n",
       "55719  kashmiri separatist leaders summoned over mone...   \n",
       "55720  pakistan starts building fence along afghanist...   \n",
       "55721  crpf jawan axed to death by maoists in chhatti...   \n",
       "55722              the matrix film to get reboot reports   \n",
       "55723  madhesi morcha withdraws support to nepalese g...   \n",
       "\n",
       "                                                    text  \\\n",
       "0      aegon life iterm insurance plan customers enjo...   \n",
       "1      two minor cousins uttar pradesh gorakhpur alle...   \n",
       "2      isha ghosh year old member bharat scouts guide...   \n",
       "3      days threatened step post congress mlas contin...   \n",
       "4      union minister dharmendra pradhan wednesday cl...   \n",
       "...                                                  ...   \n",
       "55719  enforcement directorate summoned jammu kashmir...   \n",
       "55720  pakistan started building nearly kilometer fen...   \n",
       "55721  crpf jawan tuesday axed death sharp edged weap...   \n",
       "55722  according reports new version science fiction ...   \n",
       "55723  madhesi morcha alliance seven political partie...   \n",
       "\n",
       "                                           decoder_input  \\\n",
       "0      sostoken aegon life iterm insurance plan helps...   \n",
       "1      sostoken up cousins fed human excreta for frie...   \n",
       "2      sostoken yr old woman conducts physical traini...   \n",
       "3      sostoken how long can tolerate congress leader...   \n",
       "4      sostoken odisha cm patnaik controls mining maf...   \n",
       "...                                                  ...   \n",
       "55719  sostoken kashmiri separatist leaders summoned ...   \n",
       "55720  sostoken pakistan starts building fence along ...   \n",
       "55721  sostoken crpf jawan axed to death by maoists i...   \n",
       "55722     sostoken the matrix film to get reboot reports   \n",
       "55723  sostoken madhesi morcha withdraws support to n...   \n",
       "\n",
       "                                          decoder_target  \n",
       "0      aegon life iterm insurance plan helps customer...  \n",
       "1      up cousins fed human excreta for friendship wi...  \n",
       "2      yr old woman conducts physical training in kha...  \n",
       "3      how long can tolerate congress leaders potshot...  \n",
       "4      odisha cm patnaik controls mining mafia union ...  \n",
       "...                                                  ...  \n",
       "55719  kashmiri separatist leaders summoned over mone...  \n",
       "55720  pakistan starts building fence along afghanist...  \n",
       "55721  crpf jawan axed to death by maoists in chhatti...  \n",
       "55722     the matrix film to get reboot reports eostoken  \n",
       "55723  madhesi morcha withdraws support to nepalese g...  \n",
       "\n",
       "[55724 rows x 4 columns]"
      ]
     },
     "execution_count": 248,
     "metadata": {},
     "output_type": "execute_result"
    }
   ],
   "source": [
    "data"
   ]
  },
  {
   "cell_type": "code",
   "execution_count": 249,
   "metadata": {},
   "outputs": [
    {
     "name": "stdout",
     "output_type": "stream",
     "text": [
      "0        aegon life iterm insurance plan customers enjo...\n",
      "1        two minor cousins uttar pradesh gorakhpur alle...\n",
      "2        isha ghosh year old member bharat scouts guide...\n",
      "3        days threatened step post congress mlas contin...\n",
      "4        union minister dharmendra pradhan wednesday cl...\n",
      "                               ...                        \n",
      "55719    enforcement directorate summoned jammu kashmir...\n",
      "55720    pakistan started building nearly kilometer fen...\n",
      "55721    crpf jawan tuesday axed death sharp edged weap...\n",
      "55722    according reports new version science fiction ...\n",
      "55723    madhesi morcha alliance seven political partie...\n",
      "Name: text, Length: 55724, dtype: object\n"
     ]
    }
   ],
   "source": [
    "data_1 = data['text']\n",
    "print(data_1)"
   ]
  },
  {
   "cell_type": "code",
   "execution_count": 250,
   "metadata": {},
   "outputs": [],
   "source": [
    "from summa.summarizer import summarize"
   ]
  },
  {
   "cell_type": "code",
   "execution_count": 251,
   "metadata": {},
   "outputs": [
    {
     "data": {
      "text/plain": [
       "0    aegon life iterm insurance plan customers enjo...\n",
       "1    two minor cousins uttar pradesh gorakhpur alle...\n",
       "2    isha ghosh year old member bharat scouts guide...\n",
       "3    days threatened step post congress mlas contin...\n",
       "4    union minister dharmendra pradhan wednesday cl...\n",
       "Name: text, dtype: object"
      ]
     },
     "execution_count": 251,
     "metadata": {},
     "output_type": "execute_result"
    }
   ],
   "source": [
    "data_1.head(5)"
   ]
  },
  {
   "cell_type": "code",
   "execution_count": 252,
   "metadata": {
    "scrolled": true
   },
   "outputs": [
    {
     "name": "stdout",
     "output_type": "stream",
     "text": [
      "1 번 문서\n",
      "원문 : aegon life iterm insurance plan customers enjoy tax benefits premiums paid save taxes plan provides life cover age years also customers options insure critical illnesses disability accidental death benefit rider life cover age years\n",
      "\n",
      "요약 : \n",
      "\n",
      "2 번 문서\n",
      "원문 : two minor cousins uttar pradesh gorakhpur allegedly repeatedly burnt tongs forced eat human excreta family friends two boys school cousins revealed ordeal police child welfare committee brought back gorakhpur nepal fled escape torture\n",
      "\n",
      "요약 : \n",
      "\n",
      "3 번 문서\n",
      "원문 : isha ghosh year old member bharat scouts guides imparting physical mental training schoolchildren jharkhand several decades chaibasa based ghosh reportedly walks seven kilometres daily spends eight hours conducting physical training apart climbing yoga sessions says one something society till one last breath\n",
      "\n",
      "요약 : \n",
      "\n",
      "4 번 문서\n",
      "원문 : days threatened step post congress mlas continue crossing line karnataka chief minister hd kumaraswamy accused taking potshots asked many days tolerate stuff kumaraswamy made statements congress mla demanded siddaramaiah made cm said power ephemeral\n",
      "\n",
      "요약 : \n",
      "\n",
      "5 번 문서\n",
      "원문 : union minister dharmendra pradhan wednesday claimed illegal mining mafia odisha operates control cm naveen patnaik state congress chief niranjan patnaik added time come people odisha put full stop activities time come us ask explanation corrupt government\n",
      "\n",
      "요약 : \n",
      "\n",
      "6 번 문서\n",
      "원문 : claiming dearth ideas among opposition parties prime minister narendra modi wednesday said opposition talks modi whole day suspect even dream pm modi addressing new india youth conclave surat added opposition parties one agenda modi\n",
      "\n",
      "요약 : \n",
      "\n",
      "7 번 문서\n",
      "원문 : indian space research organisation wednesday unveiled human space flight centre bengaluru crore manned space mission gaganyaan scheduled isro said centre responsible development engineering systems crew survival space crew selection training also pursue activities sustained human space flight missions isro added\n",
      "\n",
      "요약 : \n",
      "\n",
      "8 번 문서\n",
      "원문 : least people killed others injured saudi arabia week due flooding heavy rain emergency services rescued people flooded areas half tabuk heavy rains hit mainly western northwestern parts saudi arabia near border jordan\n",
      "\n",
      "요약 : \n",
      "\n",
      "9 번 문서\n",
      "원문 : reliance industries chairman mukesh ambani daughter isha ambani featured cover february edition vogue india dressed white shirt dress black ruffled skirt australian designer toni maticevski accessorising look misho ring cover story isha spoken work life marriage\n",
      "\n",
      "요약 : \n",
      "\n",
      "10 번 문서\n",
      "원문 : stand captain rohit sharma become th indian cricketer play odis achieving feat taking field new zealand fourth odi hamilton thursday year old made odi debut june ireland belfast rohit scored runs first odis average\n",
      "\n",
      "요약 : \n",
      "\n",
      "11 번 문서\n",
      "원문 : batsman shubman gill become th cricketer represent india odi cricket achieving feat new zealand fourth odi hamilton thursday year old received maiden odi cap former captain ms dhoni notably shubman named player world cup new zealand last year\n",
      "\n",
      "요약 : \n",
      "\n",
      "12 번 문서\n",
      "원문 : investigators searching lost plane carrying argentine forward emiliano sala found two seat cushions french coast likely belonged aircraft investigators said launch underwater seabed search aircraft wreckage cardiff city footballer travelling france nantes wales cardiff plane disappeared english channel january\n",
      "\n",
      "요약 : \n",
      "\n",
      "13 번 문서\n",
      "원문 : agustawestland chopper scam co accused rajiv saxena extradited india uae wednesday evading enforcement directorate summons claiming suffering leukaemia moved anti money laundering court anticipatory bail december stating never summoned dubai address saxena lawyers alleged illegally extradited\n",
      "\n",
      "요약 : \n",
      "\n",
      "14 번 문서\n",
      "원문 : afghan president ashraf ghani said keys war pakistan islamabad quetta rawalpindi accusing country providing safe havens militants including belonging taliban ghani added key peace afghanistan comments came amid talks us taliban end year war afghanistan\n",
      "\n",
      "요약 : \n",
      "\n",
      "15 번 문서\n",
      "원문 : singapore based insurance agent jailed two years five months threatening harm clients unless paid bitcoins year old set email account signed messages lord voldemort fictional character harry potter series ye lin myint targeted people including cancelled insurance policies\n",
      "\n",
      "요약 : \n",
      "\n",
      "16 번 문서\n",
      "원문 : ex icici bank ceo chanda kochhar said utterly disappointed hurt shocked bank decision terminate kochhar said served icici years utmost honesty integrity ultimately truth prevail adding given copy independent probe report kochhar said none icici credit decisions unilateral\n",
      "\n",
      "요약 : \n",
      "\n",
      "17 번 문서\n",
      "원문 : swedish multinational fast fashion brand hennes mauritz ab hired christopher wylie whistleblower exposed facebook cambridge analytica data scandal wylie focus help get better insights customers products markets support work sustainable ethical artificial intelligence spokesperson said wylie former employee cambridge analytica\n",
      "\n",
      "요약 : \n",
      "\n",
      "18 번 문서\n",
      "원문 : micro blogging platform twitter testing new feature android put news top user timeline update making easier people see news stories followers discussing product manager walter gurzynski said feature comes alongside prompt saying catch happened away\n",
      "\n",
      "요약 : \n",
      "\n",
      "19 번 문서\n",
      "원문 : samsung started mass producing one terabyte embedded universal flash storage technology use next generation mobile applications claims industry first eufs company added new eufs let smartphones store minute videos shot uhd format sized previous gb version samsung said\n",
      "\n",
      "요약 : \n",
      "\n",
      "20 번 문서\n",
      "원문 : prime minister narendra modi wednesday said people negative mindset questioning government floating pro poor schemes added negative mindset people raising doubts schemes building toilets providing free gas connections poor said negative mentality laced vested interest still exists country\n",
      "\n",
      "요약 : \n",
      "\n",
      "21 번 문서\n",
      "원문 : police wednesday registered cases persons including woman leader hindu mahasabha aligarh firing effigy mahatma gandhi air pistol incident took place house naurangabad locality city senior superintendent police said video event went viral social media added\n",
      "\n",
      "요약 : \n",
      "\n",
      "22 번 문서\n",
      "원문 : us tuesday began returning asylum seekers mexico sending back migrant central american nation called move response illegal migration crisis faced migrant protection protocols policy us return certain migrants cross country illegally back mexico asylum requests processed\n",
      "\n",
      "요약 : \n",
      "\n",
      "23 번 문서\n",
      "원문 : text\n",
      "\n",
      "요약 : \n",
      "\n",
      "24 번 문서\n",
      "원문 : oneplus emerged india best selling premium smartphone brand per report counterpoint captured market share premium segment oneplus emerged highest selling premium smartphone followed oneplus\n",
      "\n",
      "요약 : \n",
      "\n",
      "25 번 문서\n",
      "원문 : actress mishti featured manikarnika queen jhansi said film co director kangana ranaut made false promises cast kangana said want dates characters look jumbled trying best give everybody prominent space screen watching movie scope characters mishti added\n",
      "\n",
      "요약 : \n",
      "\n",
      "26 번 문서\n",
      "원문 : nevada state athletic commission banned mma fighters conor mcgregor khabib nurmagomedov six months nine months respectively roles mass brawl occurred fight ufc last october mcgregor khabib fined respectively brawl occurred nurmagomedov confronted mcgregor teammate\n",
      "\n",
      "요약 : \n",
      "\n",
      "27 번 문서\n",
      "원문 : noida police arrested sector station charge manoj pant three journalists allegedly extorting money call centre owner removing name fir four caught taking bribe money lakh police said pant lead investigator paytm extortion case involving founder vijay shekhar sharma secretary sonia dhawan\n",
      "\n",
      "요약 : \n",
      "\n",
      "28 번 문서\n",
      "원문 : airtel wednesday said qatar sovereign wealth fund qatar investment authority invest million primary equity issuance airtel africa india second largest telecom operator africa unit recently raised billion six investors airtel africa holding company airtel operations african countries preparing initial public offering\n",
      "\n",
      "요약 : \n",
      "\n",
      "29 번 문서\n",
      "원문 : actor shreyas talpade said golmaal filmmaker rohit shetty still working script fifth instalment golmaal film franchise telling us day cracked story done scripting take call actor added series features shreyas along ajay devgn arshad warsi tusshar kapoor\n",
      "\n",
      "요약 : \n",
      "\n",
      "30 번 문서\n",
      "원문 : yami gautam felicitated border security force amritsar performance uri surgical strike bsf first line defence country gives pride met yami said film also stars vicky kaushal based indian army surgical strike operation took place\n",
      "\n",
      "요약 : \n",
      "\n",
      "31 번 문서\n",
      "원문 : social media giant facebook hired privacy critic nate cardozo formerly top legal counsel us privacy watchdog eff privacy policy manager whatsapp cardozo called facebook faceless corporation whose business model depends user confusion indifference privacy october facebook also hired attorney robyn greene privacy policy manager\n",
      "\n",
      "요약 : \n",
      "\n",
      "32 번 문서\n",
      "원문 : scientists australia flinders university testing wetsuit prototype could protect wearer shark attack suit made synthetic material similar material used bulletproof vests could help reduce blood loss shark attack majority fatalities shark bites due blood loss shock blood loss scientist said\n",
      "\n",
      "요약 : \n",
      "\n",
      "33 번 문서\n",
      "원문 : bjp president amit shah wednesday took dig opposition parties saying mahagathbandhan opposition bua bhatija bhai behen added bjp meant badhta bharat banta bharat said opposition government cannot take country ahead modiji provide mazboot government\n",
      "\n",
      "요약 : \n",
      "\n",
      "34 번 문서\n",
      "원문 : german automaker volkswagen group retained car industry top spot global sales beating japanese rival toyota volkswagen sales including man scania heavy trucks buses rose million company said toyota came second around million deliveries including affiliated brands daihatsu hino\n",
      "\n",
      "요약 : \n",
      "\n",
      "35 번 문서\n",
      "원문 : government cut customs duty import parts components electric vehicles previous central board indirect taxes customs said disassembled parts attract duty whereas levied pre assembled packs however fully built electric vehicles continue attract import duty\n",
      "\n",
      "요약 : \n",
      "\n",
      "36 번 문서\n",
      "원문 : government officials wednesday said swine flu outbreak killed people year rajasthan colder weather worsened seasonal outbreak virus country officials added rajasthan recorded third swine flu deaths india jodhpur worst affected area state officials said\n",
      "\n",
      "요약 : \n",
      "\n",
      "37 번 문서\n",
      "원문 : jet airways wednesday denied directed ge capital aviation services ground aircraft due non payment dues airline said process delivering three aircraft lessors due expiry lease terms three aircraft temporarily grounded carry engine normalisation exercise added\n",
      "\n",
      "요약 : \n",
      "\n",
      "38 번 문서\n",
      "원문 : gujarat education minister bhupendrasinh chudasma written congratulatory message yoga ashram run rape convict asaram organisation observing february matru pitru pujan divas congress termed letter unfortunate saying shows nexus bjp godman chudasma clarified done sent best wishes\n",
      "\n",
      "요약 : \n",
      "\n",
      "39 번 문서\n",
      "원문 : venezuelan president nicol maduro claimed american counterpart donald trump ordered colombian government colombian mafia kill something happens trump colombian president iv rquez bear responsibility added us blamed maduro economic crisis venezuela recognised opposition leader juan guaid interim president\n",
      "\n",
      "요약 : \n",
      "\n",
      "40 번 문서\n",
      "원문 : eight asian billionaires aged bloomberg billionaires index world richest people combined net worth billion richest among hong kong li ka shing net worth billion india year old pallonji mistry controls tata sons shapoorji pallonji group worth billion\n",
      "\n",
      "요약 : \n",
      "\n",
      "41 번 문서\n",
      "원문 : tamil nadu food safety officials wednesday raided seized kgs banned plastic items hotel saravana bhavan chennai vadapalani officials began surprise check branch state government banned single use plastics january said banned items handed offices city corporation\n",
      "\n",
      "요약 : \n",
      "\n",
      "42 번 문서\n",
      "원문 : actress shamita shetty verbally abused driver slapped incident road rage mumbai tuesday per reports incident reportedly took place motorist accompanied two friends rammed vehicle shamita car men allegedly manhandled threatened shamita driver stepped inspect damage\n",
      "\n",
      "요약 : \n",
      "\n",
      "43 번 문서\n",
      "원문 : actress vaani kapoor said trolling become norm social media adding one got trolled social media everybody pull person bother let bother vaani added said social media offers platform people enjoy belittling everybody\n",
      "\n",
      "요약 : \n",
      "\n",
      "44 번 문서\n",
      "원문 : television actor karanvir bohra flew russia tuesday attend film festival detained moscow due passport damage contemplating deport back india actor wrote twitter indian embassy russia capital responded tweet said looking issue\n",
      "\n",
      "요약 : \n",
      "\n",
      "45 번 문서\n",
      "원문 : actress patralekhaa make debut kannada film industry action comedy film kannadaka definitely say kind role portrayed screen far makes special actress said statement shooting film reportedly begin april\n",
      "\n",
      "요약 : \n",
      "\n",
      "46 번 문서\n",
      "원문 : gmail tuesday faced global outage also affected india wherein certain users complained faced error message trying sign accounts error message read requested url found server know google responded saying problem gmail resolved apologise inconvenience\n",
      "\n",
      "요약 : \n",
      "\n",
      "47 번 문서\n",
      "원문 : shiv sena chief uddhav thackeray asked bjp decide alliance sena within days said bjp make concrete proposal alliance thackeray added bjp agrees sena terms conditions party agree alliance sena free fight independently said\n",
      "\n",
      "요약 : \n",
      "\n",
      "48 번 문서\n",
      "원문 : prime minister narendra modi wednesday said government demonetisation decision made houses affordable aspiring youth added decisions like demonetisation rera put check black money used parked real estate sector said udan scheme boosted development country aviation sector\n",
      "\n",
      "요약 : \n",
      "\n",
      "49 번 문서\n",
      "원문 : mumbai headquartered talent technology startup shortlist raised million series round funding round led blue initiative participation compass venture capital zephyr acorn among others founded simon desjardins paul breloff matt schnuck shortlist screens candidates using predictive chat based interviews online competency based assessments\n",
      "\n",
      "요약 : \n",
      "\n",
      "50 번 문서\n",
      "원문 : new york columbia university neuro engineers claim developed system convert human brain signals directly speech using artificial intelligence researchers revealed computer algorithm vocoder used technology used amazon echo apple siri give verbal responses questions senior author study nima mesgarani said\n",
      "\n",
      "요약 : \n",
      "\n"
     ]
    }
   ],
   "source": [
    "# 데이터가 매우 많은 관계로 50번까지만 진행\n",
    "for i in range(0, 50):\n",
    "  print(i+1,'번 문서')\n",
    "  print('원문 :',data_1.loc[i])\n",
    "  print('')\n",
    "  print('요약 :',summarize(data_1.loc[i], ratio=0.35))\n",
    "  print('')"
   ]
  },
  {
   "cell_type": "markdown",
   "metadata": {},
   "source": [
    "---"
   ]
  },
  {
   "cell_type": "markdown",
   "metadata": {},
   "source": [
    "### 로우데이터로 추출적 요약 진행해보기"
   ]
  },
  {
   "cell_type": "code",
   "execution_count": 253,
   "metadata": {},
   "outputs": [
    {
     "name": "stdout",
     "output_type": "stream",
     "text": [
      "전체 샘플수 : 98401\n"
     ]
    }
   ],
   "source": [
    "import pandas as pd\n",
    "import os\n",
    "\n",
    "data_2 = pd.read_csv(os.getenv(\"HOME\")+\"/aiffel/news_summarization/data/news_summary_more.csv\")    \n",
    "print('전체 샘플수 :', (len(data_2)))"
   ]
  },
  {
   "cell_type": "code",
   "execution_count": 254,
   "metadata": {},
   "outputs": [
    {
     "data": {
      "text/html": [
       "<div>\n",
       "<style scoped>\n",
       "    .dataframe tbody tr th:only-of-type {\n",
       "        vertical-align: middle;\n",
       "    }\n",
       "\n",
       "    .dataframe tbody tr th {\n",
       "        vertical-align: top;\n",
       "    }\n",
       "\n",
       "    .dataframe thead th {\n",
       "        text-align: right;\n",
       "    }\n",
       "</style>\n",
       "<table border=\"1\" class=\"dataframe\">\n",
       "  <thead>\n",
       "    <tr style=\"text-align: right;\">\n",
       "      <th></th>\n",
       "      <th>headlines</th>\n",
       "      <th>text</th>\n",
       "    </tr>\n",
       "  </thead>\n",
       "  <tbody>\n",
       "    <tr>\n",
       "      <th>0</th>\n",
       "      <td>upGrad learner switches to career in ML &amp; Al w...</td>\n",
       "      <td>Saurav Kant, an alumnus of upGrad and IIIT-B's...</td>\n",
       "    </tr>\n",
       "    <tr>\n",
       "      <th>1</th>\n",
       "      <td>Delhi techie wins free food from Swiggy for on...</td>\n",
       "      <td>Kunal Shah's credit card bill payment platform...</td>\n",
       "    </tr>\n",
       "    <tr>\n",
       "      <th>2</th>\n",
       "      <td>New Zealand end Rohit Sharma-led India's 12-ma...</td>\n",
       "      <td>New Zealand defeated India by 8 wickets in the...</td>\n",
       "    </tr>\n",
       "    <tr>\n",
       "      <th>3</th>\n",
       "      <td>Aegon life iTerm insurance plan helps customer...</td>\n",
       "      <td>With Aegon Life iTerm Insurance plan, customer...</td>\n",
       "    </tr>\n",
       "    <tr>\n",
       "      <th>4</th>\n",
       "      <td>Have known Hirani for yrs, what if MeToo claim...</td>\n",
       "      <td>Speaking about the sexual harassment allegatio...</td>\n",
       "    </tr>\n",
       "    <tr>\n",
       "      <th>...</th>\n",
       "      <td>...</td>\n",
       "      <td>...</td>\n",
       "    </tr>\n",
       "    <tr>\n",
       "      <th>98396</th>\n",
       "      <td>CRPF jawan axed to death by Maoists in Chhatti...</td>\n",
       "      <td>A CRPF jawan was on Tuesday axed to death with...</td>\n",
       "    </tr>\n",
       "    <tr>\n",
       "      <th>98397</th>\n",
       "      <td>First song from Sonakshi Sinha's 'Noor' titled...</td>\n",
       "      <td>'Uff Yeh', the first song from the Sonakshi Si...</td>\n",
       "    </tr>\n",
       "    <tr>\n",
       "      <th>98398</th>\n",
       "      <td>'The Matrix' film to get a reboot: Reports</td>\n",
       "      <td>According to reports, a new version of the 199...</td>\n",
       "    </tr>\n",
       "    <tr>\n",
       "      <th>98399</th>\n",
       "      <td>Snoop Dogg aims gun at clown dressed as Trump ...</td>\n",
       "      <td>A new music video shows rapper Snoop Dogg aimi...</td>\n",
       "    </tr>\n",
       "    <tr>\n",
       "      <th>98400</th>\n",
       "      <td>Madhesi Morcha withdraws support to Nepalese g...</td>\n",
       "      <td>Madhesi Morcha, an alliance of seven political...</td>\n",
       "    </tr>\n",
       "  </tbody>\n",
       "</table>\n",
       "<p>98401 rows × 2 columns</p>\n",
       "</div>"
      ],
      "text/plain": [
       "                                               headlines  \\\n",
       "0      upGrad learner switches to career in ML & Al w...   \n",
       "1      Delhi techie wins free food from Swiggy for on...   \n",
       "2      New Zealand end Rohit Sharma-led India's 12-ma...   \n",
       "3      Aegon life iTerm insurance plan helps customer...   \n",
       "4      Have known Hirani for yrs, what if MeToo claim...   \n",
       "...                                                  ...   \n",
       "98396  CRPF jawan axed to death by Maoists in Chhatti...   \n",
       "98397  First song from Sonakshi Sinha's 'Noor' titled...   \n",
       "98398         'The Matrix' film to get a reboot: Reports   \n",
       "98399  Snoop Dogg aims gun at clown dressed as Trump ...   \n",
       "98400  Madhesi Morcha withdraws support to Nepalese g...   \n",
       "\n",
       "                                                    text  \n",
       "0      Saurav Kant, an alumnus of upGrad and IIIT-B's...  \n",
       "1      Kunal Shah's credit card bill payment platform...  \n",
       "2      New Zealand defeated India by 8 wickets in the...  \n",
       "3      With Aegon Life iTerm Insurance plan, customer...  \n",
       "4      Speaking about the sexual harassment allegatio...  \n",
       "...                                                  ...  \n",
       "98396  A CRPF jawan was on Tuesday axed to death with...  \n",
       "98397  'Uff Yeh', the first song from the Sonakshi Si...  \n",
       "98398  According to reports, a new version of the 199...  \n",
       "98399  A new music video shows rapper Snoop Dogg aimi...  \n",
       "98400  Madhesi Morcha, an alliance of seven political...  \n",
       "\n",
       "[98401 rows x 2 columns]"
      ]
     },
     "execution_count": 254,
     "metadata": {},
     "output_type": "execute_result"
    }
   ],
   "source": [
    "data_2"
   ]
  },
  {
   "cell_type": "code",
   "execution_count": 255,
   "metadata": {},
   "outputs": [],
   "source": [
    "data_2 = data_2['text']"
   ]
  },
  {
   "cell_type": "code",
   "execution_count": 256,
   "metadata": {},
   "outputs": [
    {
     "data": {
      "text/plain": [
       "0    Saurav Kant, an alumnus of upGrad and IIIT-B's...\n",
       "1    Kunal Shah's credit card bill payment platform...\n",
       "2    New Zealand defeated India by 8 wickets in the...\n",
       "3    With Aegon Life iTerm Insurance plan, customer...\n",
       "4    Speaking about the sexual harassment allegatio...\n",
       "Name: text, dtype: object"
      ]
     },
     "execution_count": 256,
     "metadata": {},
     "output_type": "execute_result"
    }
   ],
   "source": [
    "data_2.head(5)"
   ]
  },
  {
   "cell_type": "code",
   "execution_count": 272,
   "metadata": {},
   "outputs": [
    {
     "name": "stdout",
     "output_type": "stream",
     "text": [
      "첫 번째 행 데이터: Saurav Kant, an alumnus of upGrad and IIIT-B's PG Program in Machine learning and Artificial Intelligence, was a Sr Systems Engineer at Infosys with almost 5 years of work experience. The program and upGrad's 360-degree career support helped him transition to a Data Scientist at Tech Mahindra with 90% salary hike. upGrad's Online Power Learning has powered 3 lakh+ careers.\n",
      "\n",
      "첫 번째 행 데이터 요약: upGrad's Online Power Learning has powered 3 lakh+ careers.\n"
     ]
    }
   ],
   "source": [
    "print('첫 번째 행 데이터:',data_2.loc[0])\n",
    "print('')\n",
    "print('첫 번째 행 데이터 요약:', summarize(data_2.loc[0], ratio=0.5))"
   ]
  },
  {
   "cell_type": "code",
   "execution_count": 273,
   "metadata": {},
   "outputs": [
    {
     "name": "stdout",
     "output_type": "stream",
     "text": [
      "두 번째 행 데이터: Kunal Shah's credit card bill payment platform, CRED, gave users a chance to win free food from Swiggy for one year. Pranav Kaushik, a Delhi techie, bagged this reward after spending 2000 CRED coins. Users get one CRED coin per rupee of bill paid, which can be used to avail rewards from brands like Ixigo, BookMyShow, UberEats, Cult.Fit and more.\n",
      "\n",
      "두 번째 행 데이터 요약: Users get one CRED coin per rupee of bill paid, which can be used to avail rewards from brands like Ixigo, BookMyShow, UberEats, Cult.Fit and more.\n"
     ]
    }
   ],
   "source": [
    "print('두 번째 행 데이터:',data_2.loc[1])\n",
    "print('')\n",
    "print('두 번째 행 데이터 요약:', summarize(data_2.loc[1], ratio=0.5))"
   ]
  },
  {
   "cell_type": "markdown",
   "metadata": {},
   "source": [
    "```summarize는 문장 구분을 '콤마' 기준으로 진행하여 요약함```\n",
    "- 문장에 콤마가 없으면 실행되지 않음\n",
    "- 한 문장이 아닌 여러문장이 있어야 사용 가능"
   ]
  },
  {
   "cell_type": "code",
   "execution_count": 174,
   "metadata": {},
   "outputs": [
    {
     "name": "stdout",
     "output_type": "stream",
     "text": [
      "1 번 문서\n",
      "원문 : Saurav Kant, an alumnus of upGrad and IIIT-B's PG Program in Machine learning and Artificial Intelligence, was a Sr Systems Engineer at Infosys with almost 5 years of work experience. The program and upGrad's 360-degree career support helped him transition to a Data Scientist at Tech Mahindra with 90% salary hike. upGrad's Online Power Learning has powered 3 lakh+ careers.\n",
      "\n",
      "요약 : upGrad's Online Power Learning has powered 3 lakh+ careers.\n",
      "\n",
      "2 번 문서\n",
      "원문 : Kunal Shah's credit card bill payment platform, CRED, gave users a chance to win free food from Swiggy for one year. Pranav Kaushik, a Delhi techie, bagged this reward after spending 2000 CRED coins. Users get one CRED coin per rupee of bill paid, which can be used to avail rewards from brands like Ixigo, BookMyShow, UberEats, Cult.Fit and more.\n",
      "\n",
      "요약 : Users get one CRED coin per rupee of bill paid, which can be used to avail rewards from brands like Ixigo, BookMyShow, UberEats, Cult.Fit and more.\n",
      "\n",
      "3 번 문서\n",
      "원문 : New Zealand defeated India by 8 wickets in the fourth ODI at Hamilton on Thursday to win their first match of the five-match ODI series. India lost an international match under Rohit Sharma's captaincy after 12 consecutive victories dating back to March 2018. The match witnessed India getting all out for 92, their seventh lowest total in ODI cricket history.\n",
      "\n",
      "요약 : The match witnessed India getting all out for 92, their seventh lowest total in ODI cricket history.\n",
      "\n",
      "4 번 문서\n",
      "원문 : With Aegon Life iTerm Insurance plan, customers can enjoy tax benefits on your premiums paid and save up to â¹46,800^ on taxes. The plan provides life cover up to the age of 100 years. Also, customers have options to insure against Critical Illnesses, Disability and Accidental Death Benefit Rider with a life cover up to the age of 80 years.\n",
      "\n",
      "요약 : Also, customers have options to insure against Critical Illnesses, Disability and Accidental Death Benefit Rider with a life cover up to the age of 80 years.\n",
      "\n",
      "5 번 문서\n",
      "원문 : Speaking about the sexual harassment allegations against Rajkumar Hirani, Sonam Kapoor said, \"I've known Hirani for many years...What if it's not true, the [#MeToo] movement will get derailed.\" \"In the #MeToo movement, I always believe a woman. But in this case, we need to reserve our judgment,\" she added. Hirani has been accused by an assistant who worked in 'Sanju'.\n",
      "\n",
      "요약 : Speaking about the sexual harassment allegations against Rajkumar Hirani, Sonam Kapoor said, \"I've known Hirani for many years...What if it's not true, the [#MeToo] movement will get derailed.\" \"In the #MeToo movement, I always believe a woman.\n",
      "\n",
      "6 번 문서\n",
      "원문 : Pakistani singer Rahat Fateh Ali Khan has denied receiving any notice from the Enforcement Directorate over allegedly smuggling foreign currency out of India. \"It would have been better if the authorities would have served the notice first if any and then publicised this,\" reads a press release issued on behalf of Rahat. The statement further called the allegation \"bizarre\".\n",
      "\n",
      "요약 : Pakistani singer Rahat Fateh Ali Khan has denied receiving any notice from the Enforcement Directorate over allegedly smuggling foreign currency out of India.\n",
      "\n",
      "7 번 문서\n",
      "원문 : India recorded their lowest ODI total in New Zealand after getting all out for 92 runs in 30.5 overs in the fourth ODI at Hamilton on Thursday. Seven of India's batsmen were dismissed for single-digit scores, while their number ten batsman Yuzvendra Chahal top-scored with 18*(37). India's previous lowest ODI total in New Zealand was 108.\n",
      "\n",
      "요약 : India's previous lowest ODI total in New Zealand was 108.\n",
      "\n",
      "8 번 문서\n",
      "원문 : Weeks after ex-CBI Director Alok Verma told the Department of Personnel and Training to consider him retired, the Home Ministry asked him to join work on the last day of his fixed tenure as Director on Thursday. The ministry directed him to immediately join as DG, Fire Services, the post he was transferred to after his removal as CBI chief.\n",
      "\n",
      "요약 : \n",
      "\n",
      "9 번 문서\n",
      "원문 : Andhra Pradesh CM N Chandrababu Naidu has said, \"When I met then US President Bill Clinton, I addressed him as Mr Clinton, not as 'sir'. (PM Narendra) Modi is my junior in politics...I addressed him as sir 10 times.\" \"I did this...to satisfy his ego in the hope that he will do justice to the state,\" he added.\n",
      "\n",
      "요약 : \n",
      "\n",
      "10 번 문서\n",
      "원문 : Congress candidate Shafia Zubair won the Ramgarh Assembly seat in Rajasthan, by defeating BJP's Sukhwant Singh with a margin of 12,228 votes in the bypoll. With this victory, Congress has taken its total to 100 seats in the 200-member assembly. The election to the Ramgarh seat was delayed due to the death of sitting MLA and BSP candidate Laxman Singh.\n",
      "\n",
      "요약 : Congress candidate Shafia Zubair won the Ramgarh Assembly seat in Rajasthan, by defeating BJP's Sukhwant Singh with a margin of 12,228 votes in the bypoll.\n",
      "\n",
      "11 번 문서\n",
      "원문 : Two minor cousins in Uttar Pradesh's Gorakhpur were allegedly repeatedly burnt with tongs and forced to eat human excreta by their family for being friends with two boys from the same school. The cousins revealed their ordeal to the police and Child Welfare Committee after being brought back to Gorakhpur from Nepal, where they had fled to escape the torture.\n",
      "\n",
      "요약 : \n",
      "\n",
      "12 번 문서\n",
      "원문 : Isha Ghosh, an 81-year-old member of Bharat Scouts and Guides (BSG), has been imparting physical and mental training to schoolchildren in Jharkhand for several decades. Chaibasa-based Ghosh reportedly walks seven kilometres daily and spends eight hours conducting physical training, apart from climbing and yoga sessions. She says, \"One should do something for society till one's last breath.\"\n",
      "\n",
      "요약 : Isha Ghosh, an 81-year-old member of Bharat Scouts and Guides (BSG), has been imparting physical and mental training to schoolchildren in Jharkhand for several decades.\n",
      "\n",
      "13 번 문서\n",
      "원문 : Urging saints and seers at the Kumbh Mela to quit smoking, Yoga guru Ramdev said, \"We follow Ram and Krishna who never smoked in their life then why should we?\" Making them take a pledge to quit tobacco, he collected chillum (clay pipe) from several sadhus. He said he will deposit the chillums for display at a museum he'll build.\n",
      "\n",
      "요약 : \n",
      "\n",
      "14 번 문서\n",
      "원문 : Former stripper and regional sales director of a pharmaceutical company, Sunrise Lee, gave a doctor a lap dance in a nightclub to persuade him to prescribe an addictive fentanyl spray in 2012, the company's sales representative told a US court. She said she saw Lee \"sitting on [doctor's] lap, kind of bouncing around.\" Lee has been accused of bribing doctors.\n",
      "\n",
      "요약 : \n",
      "\n",
      "15 번 문서\n",
      "원문 : Reliance Industries' Chairman Mukesh Ambani's daughter Isha Ambani, who got married last month, said she only cried at her 'bidaai' because she felt peer pressure as everyone was crying, especially her parents. \"I was emotional too but everyone around me would cry all the time,\" she added. \"It was a very emotional affair for everyone in my family,\" said Isha.\n",
      "\n",
      "요약 : \"It was a very emotional affair for everyone in my family,\" said Isha.\n",
      "\n",
      "16 번 문서\n",
      "원문 : Louis Vuitton owner LVMH, which makes high-end beverages like MoÃ«t & Chandon champagne and Hennessy cognac, said it's stockpiling four months' worth of wine and spirits in UK in preparation for Brexit. \"We're ready for worst case scenario if there are difficulties with deliveries,\" the French luxury giant said. The UK is scheduled to leave the EU on March 29.\n",
      "\n",
      "요약 : Louis Vuitton owner LVMH, which makes high-end beverages like MoÃ«t & Chandon champagne and Hennessy cognac, said it's stockpiling four months' worth of wine and spirits in UK in preparation for Brexit.\n",
      "\n",
      "17 번 문서\n",
      "원문 : Filmmaker Karan Johar and actress Tabu turned showstoppers for Gaurav Gupta on the opening night of LakmÃ© Fashion Week Summer/ Resort 2019. While Johar wore a red sequinned jacket with black pants, Tabu walked the ramp in a grey embellished gown. The fashion show, which began on January 29, will continue till February 3.\n",
      "\n",
      "요약 : Filmmaker Karan Johar and actress Tabu turned showstoppers for Gaurav Gupta on the opening night of LakmÃ© Fashion Week Summer/ Resort 2019.\n",
      "\n",
      "18 번 문서\n",
      "원문 : In a jibe at Congress President Rahul Gandhi, PM Narendra Modi on Wednesday said those on \"bail will have to go to jail.\" PM Modi added, \"He is out on bail and his associates too are facing charges...I know they will be convicted one day.\" The PM claimed he'd waged a war on corruption because he's from a common household. \n",
      "\n",
      "요약 : \n",
      "\n",
      "19 번 문서\n",
      "원문 : Days after he threatened to step down from his post if Congress MLAs continue \"crossing the line,\" Karnataka Chief Minister HD Kumaraswamy accused them of taking potshots and asked, \"How many more days can I tolerate such stuff?\" Kumaraswamy, who made the statements after a Congress MLA demanded that Siddaramaiah be made CM again, said, \"Power is ephemeral.\"\n",
      "\n",
      "요약 : \n",
      "\n",
      "20 번 문서\n",
      "원문 : Union Minister Dharmendra Pradhan on Wednesday claimed the illegal mining mafia in Odisha operates under the control of CM Naveen Patnaik and state Congress chief Niranjan Patnaik. He added, \"The time has come for the people of Odisha to put a full stop to their activities...The time has come for us to ask for an explanation from this corrupt government.\"\n",
      "\n",
      "요약 : \n",
      "\n",
      "21 번 문서\n",
      "원문 : Claiming there is a dearth of ideas among opposition parties, Prime Minister Narendra Modi on Wednesday said, \"The opposition talks only about Modi the whole day, I suspect they even dream about me.\" PM Modi, who was addressing the New India Youth Conclave inâ Surat, added that the opposition parties have only one agenda which is \"Modi\". \n",
      "\n",
      "요약 : \n",
      "\n",
      "22 번 문서\n",
      "원문 : The Indian Space Research Organisation on Wednesday unveiled Human Space Flight Centre in Bengaluru for its â¹10,000-crore manned space mission 'Gaganyaan' scheduled for 2021. ISRO said the centre will be responsible for development of engineering systems for crew survival in space and crew selection and training. It'll also pursue activities for sustained human space flight missions, ISRO added.\n",
      "\n",
      "요약 : It'll also pursue activities for sustained human space flight missions, ISRO added.\n",
      "\n",
      "23 번 문서\n",
      "원문 : At least 12 people have been killed and 170 others have been injured in Saudi Arabia this week due to flooding from heavy rain. The emergency services rescued 271 people from the flooded areas, more than half of them in Tabuk. Heavy rains hit mainly western and northwestern parts of Saudi Arabia, near its border with Jordan.\n",
      "\n",
      "요약 : At least 12 people have been killed and 170 others have been injured in Saudi Arabia this week due to flooding from heavy rain.\n",
      "\n",
      "24 번 문서\n",
      "원문 : Reliance Industries' Chairman Mukesh Ambani's daughter Isha Ambani has featured on the cover of the February edition of Vogue India. She's dressed in a white shirt dress and black ruffled skirt by Australian designer Toni Maticevski, while accessorising her look with a Misho ring. In the cover story on her, Isha has spoken about her work and life after marriage.\n",
      " \n",
      "\n",
      "요약 : Reliance Industries' Chairman Mukesh Ambani's daughter Isha Ambani has featured on the cover of the February edition of Vogue India.\n",
      "\n",
      "25 번 문서\n",
      "원문 : Indian Oil Corporation on Wednesday said it's looking for an annual deal to buy US crude as it seeks to broaden oil purchasing options. This comes amid uncertainties over Iran imports. The US had in November granted a six-month waiver to India from sanctions against Iran and restricted the country's monthly intake of Iranian oil to 3,00,000 barrels per day.\n",
      "\n",
      "\n",
      "\n",
      "요약 : The US had in November granted a six-month waiver to India from sanctions against Iran and restricted the country's monthly intake of Iranian oil to 3,00,000 barrels per day.\n",
      "\n",
      "26 번 문서\n",
      "원문 : Former Windies fast bowler Curtly Ambrose dismissed seven Australian batsmen within a span of 32 balls giving away just one run, in a Test match on January 30, 1993. Ambrose's spell helped his team bowl out Australia for 119 in the first innings, after being 85 for 2 at one point. Ambrose ended with first-innings figures of 18-9-25-7.\n",
      "\n",
      "요약 : Ambrose ended with first-innings figures of 18-9-25-7.\n",
      "\n",
      "27 번 문서\n",
      "원문 : A London zoo is offering people to name a cockroach after their exes on Valentine's Day for Â£1.50 (nearly â¹140). \"For those that don't quite require revenge, there's another way to make you feel better about getting back at your ex,\" the zoo said in a statement. The names will appear on zoo's 'roach board' on February 14. \n",
      "\n",
      "요약 : The names will appear on zoo's 'roach board' on February 14.\n",
      "\n",
      "28 번 문서\n",
      "원문 : Stand-in captain Rohit Sharma has become the 14th Indian cricketer to play 200 ODIs, achieving the feat after taking the field against New Zealand in fourth ODI at Hamilton on Thursday. The 31-year-old had made his ODI debut on June 23, 2007, against Ireland in Belfast. Rohit scored 7,799 runs in his first 199 ODIs at an average of 48.14.\n",
      "\n",
      "요약 : Rohit scored 7,799 runs in his first 199 ODIs at an average of 48.14.\n",
      "\n",
      "29 번 문서\n",
      "원문 : Batsman Shubman Gill has become the 227th cricketer to represent India in ODI cricket, achieving the feat against New Zealand in the fourth ODI at Hamilton on Thursday. The 19-year-old received his maiden ODI cap from former captain MS Dhoni. Notably, Shubman was named Player of the Under-19 World Cup in New Zealand last year.\n",
      "\n",
      "요약 : Notably, Shubman was named Player of the Under-19 World Cup in New Zealand last year.\n",
      "\n",
      "30 번 문서\n",
      "원문 : Investigators searching for a lost plane carrying Argentine forward Emiliano Sala found two seat cushions on French coast that \"likely\" belonged to the aircraft. The investigators said they'll now launch an underwater seabed search for aircraft wreckage. The Cardiff City footballer was travelling from France's Nantes to Wales' Cardiff when his plane disappeared over English Channel on January 21.\n",
      "\n",
      "요약 : Investigators searching for a lost plane carrying Argentine forward Emiliano Sala found two seat cushions on French coast that \"likely\" belonged to the aircraft.\n",
      "\n",
      "31 번 문서\n",
      "원문 : Italian third division football side Lucchese's head coach Giancarlo Favarin has been banned for five months for headbutting Alessandria's assistant coach Gaetano Mancino during a brawl following the teams' 2-2 draw on Sunday. Mancino was caught off-balance and knocked to the ground after the headbutt. Earlier in the match, Favarin had told his own player to break an opponent's legs.\n",
      "\n",
      "요약 : Italian third division football side Lucchese's head coach Giancarlo Favarin has been banned for five months for headbutting Alessandria's assistant coach Gaetano Mancino during a brawl following the teams' 2-2 draw on Sunday.\n",
      "\n",
      "32 번 문서\n",
      "원문 : Cyclists taking part in National Track Cycling Championship in Jaipur opted to sleep on the floor inside the stadium instead of hotels over expensive cycles. The organisers had booked hotels but they didn't have the provision for cyclists to keep their bikes inside. A national gold medallist said their cycles cost between â¹5-9 lakh and once damaged, they become non-repairable. \n",
      "\n",
      "요약 : Cyclists taking part in National Track Cycling Championship in Jaipur opted to sleep on the floor inside the stadium instead of hotels over expensive cycles.\n",
      "\n",
      "33 번 문서\n",
      "원문 : Silvia Grecco, a 56-year-old Brazilian mother narrates her local football team Palmeiras' matches live to her 12-year-old blind and autistic son Nickollas from the stands. \"I describe details: this player is wearing short sleeves...colour of...football boots, hair colour...Everything I see and feel, I tell him, even when I need to curse the referee!\" Grecco said after a recent match.\n",
      "\n",
      "요약 : \n",
      "\n",
      "34 번 문서\n",
      "원문 : A TechCrunch report has claimed that Indiaâs largest bank SBI secured a passwordless server \"overnight\" on being alerted it allowed anyone to access phone numbers, bank balances, and transactions of millions of its customers. The Mumbai-based server was containing two months of data from SBI Quick, an SMS and call-based system used to request basic information about accounts, TechCrunch revealed.\n",
      "\n",
      "요약 : \n",
      "\n",
      "35 번 문서\n",
      "원문 : Rahul Gandhi has replied to Goa CM Manohar Parrikar's letter, which accused the Congress President of using his \"visit to an ailing man for political gains\". \"He's under immense pressure from the PM after our meeting and needs to demonstrate his loyalty by attacking me,\" Gandhi wrote in his letter. Parrikar had clarified he didn't discuss Rafale deal with Rahul.\n",
      "\n",
      "요약 : Rahul Gandhi has replied to Goa CM Manohar Parrikar's letter, which accused the Congress President of using his \"visit to an ailing man for political gains\".\n",
      "\n",
      "36 번 문서\n",
      "원문 : Twenty-seven-year-old Mohammed Mahuwala was arrested in Indore on Wednesday for allegedly cheating e-commerce giant Amazon of nearly â¹30 lakh. Mahuwala was a member of a gang who ordered costly gadgets from Amazon. \"[They] used to get refund of the amount paid...by saying the parcel...was empty. In reality, these devices were taken out from parcel and sold...to local shopkeepers,\" said police.\n",
      "\n",
      "요약 : Mahuwala was a member of a gang who ordered costly gadgets from Amazon.\n",
      "\n",
      "37 번 문서\n",
      "원문 : AgustaWestland chopper scam co-accused Rajiv Saxena was extradited to India from UAE on Wednesday. He had been evading the Enforcement Directorate's summons claiming he was suffering from leukaemia but had moved an anti-money laundering court for anticipatory bail in December, stating he had never been summoned at his Dubai address. Saxena's lawyers alleged he had been \"illegally extradited\". \n",
      "\n",
      "요약 : AgustaWestland chopper scam co-accused Rajiv Saxena was extradited to India from UAE on Wednesday.\n",
      "\n",
      "38 번 문서\n",
      "원문 : Afghan President Ashraf Ghani has said the \"keys to war\" are in Pakistan's Islamabad, Quetta and Rawalpindi, accusing the country of providing safe havens to militants, including those belonging to the Taliban. Ghani added the \"key to peace was in Afghanistan\". His comments came amid the talks between the US and the Taliban to end the 17-year war in Afghanistan.\n",
      "\n",
      "요약 : Afghan President Ashraf Ghani has said the \"keys to war\" are in Pakistan's Islamabad, Quetta and Rawalpindi, accusing the country of providing safe havens to militants, including those belonging to the Taliban.\n",
      "\n",
      "39 번 문서\n",
      "원문 : A Singapore-based insurance agent has been jailed for two years and five months for threatening to harm his clients unless they paid him in bitcoins. The 36-year-old set up an email account, and signed the messages as 'Lord Voldemort', a fictional character from the Harry Potter series. Ye Lin Myint targeted about 33 people, including those who cancelled insurance policies.\n",
      "\n",
      "요약 : A Singapore-based insurance agent has been jailed for two years and five months for threatening to harm his clients unless they paid him in bitcoins.\n",
      "\n",
      "40 번 문서\n",
      "원문 : Gabrielle Reilly, a 22-year-old US woman, created earrings for her Apple AirPods and put it up for sale online for $20 (about â¹1,500). \"I absolutely refuse to lose them (AirPods)...So I made earrings,\" she explained. The earrings, which took her over an hour to make, debuted in a video on Twitter that has since garnered over three million views.\n",
      "\n",
      "요약 : \"I absolutely refuse to lose them (AirPods)...So I made earrings,\" she explained.\n",
      "\n",
      "41 번 문서\n",
      "원문 : Ex-ICICI Bank CEO Chanda Kochhar said she's \"utterly disappointed, hurt and shocked\" by the bank's decision to terminate her. Kochhar said she served ICICI for 34 years with utmost honesty and integrity and that ultimately truth will prevail. Adding that she hasn't been given a copy of the independent probe report, Kochhar said none of ICICI's credit decisions are unilateral\n",
      "\n",
      "요약 : Adding that she hasn't been given a copy of the independent probe report, Kochhar said none of ICICI's credit decisions are unilateral\n",
      "\n",
      "42 번 문서\n",
      "원문 : Swedish multinational fast-fashion brand Hennes & Mauritz AB (H&M) has hired Christopher Wylie, the whistleblower who exposed Facebook's Cambridge Analytica data scandal. Wylieâs focus will be to help get better insights on customers, products and markets and support work on sustainable and ethical artificial intelligence, H&M spokesperson said. Wylie is a former employee of Cambridge Analytica.\n",
      "\n",
      "요약 : Swedish multinational fast-fashion brand Hennes & Mauritz AB (H&M) has hired Christopher Wylie, the whistleblower who exposed Facebook's Cambridge Analytica data scandal.\n",
      "\n",
      "43 번 문서\n",
      "원문 : Micro-blogging platform Twitter is testing a new feature on Android to put news on the top of a user's timeline. \"With this update, weâre making it easier for people to see news and stories their followers have been discussing,\" Product Manager Walter Gurzynski said. The feature comes alongside a prompt saying, \"Catch up on what's happened while you were away.\"\n",
      "\n",
      "요약 : Micro-blogging platform Twitter is testing a new feature on Android to put news on the top of a user's timeline.\n",
      "\n",
      "44 번 문서\n",
      "원문 : Samsung has started mass producing its one terabyte 'embedded Universal Flash Storage (eUFS) 2.1' technology for \"use in next-generation mobile applications\", which it claims is the industry's first such eUFS. The company added the new eUFS will let smartphones store 260 10-minute videos shot in 4K UHD format. It'll be sized the same as the previous 512GB version, Samsung said.\n",
      "\n",
      "요약 : Samsung has started mass producing its one terabyte 'embedded Universal Flash Storage (eUFS) 2.1' technology for \"use in next-generation mobile applications\", which it claims is the industry's first such eUFS.\n",
      "\n",
      "45 번 문서\n",
      "원문 : Prime Minister Narendra Modi on Wednesday said the people with 'negative mindset' are questioning him and his government for floating pro-poor schemes. He added negative mindset people are raising doubts about schemes such as building toilets and providing free gas connections to the poor. He further said that negative mentality laced with a vested interest still exists in the country.\n",
      "\n",
      "요약 : Prime Minister Narendra Modi on Wednesday said the people with 'negative mindset' are questioning him and his government for floating pro-poor schemes.\n",
      "\n",
      "46 번 문서\n",
      "원문 : Union Minister Anantkumar Hegde took a dig at Congress President Rahul Gandhi by calling him a \"hybrid specimen\" who has no clue about religion. \"A father who's...Muslim, a mother who's...Christian and the son is supposed to be...Brahmin. How is that even possible?\" he said. He added such \"hybrid specimen\" cannot be found in any laboratory in the world.\n",
      "\n",
      "요약 : Union Minister Anantkumar Hegde took a dig at Congress President Rahul Gandhi by calling him a \"hybrid specimen\" who has no clue about religion.\n",
      "\n",
      "47 번 문서\n",
      "원문 : Several parts of the US are set to experience record low temperatures as the polar vortex hit the Upper Midwest, with more than 200 million people expected to experience below-freezing temperatures this week. Temperatures throughout the Upper Midwest are expected to be at least 20-40â below zero. Government offices and schools have been closed in several areas.\n",
      "\n",
      "요약 : Several parts of the US are set to experience record low temperatures as the polar vortex hit the Upper Midwest, with more than 200 million people expected to experience below-freezing temperatures this week.\n",
      "\n",
      "48 번 문서\n",
      "원문 : The police on Wednesday registered cases against 13 persons, including a woman leader of Hindu Mahasabha, in Aligarh for firing at an effigy of Mahatma Gandhi with an air pistol. \"The incident took place in a house in Naurangabad locality of the city,\" Senior Superintendent of Police said. The video of the event went viral on social media, he added.\n",
      "\n",
      "요약 : The police on Wednesday registered cases against 13 persons, including a woman leader of Hindu Mahasabha, in Aligarh for firing at an effigy of Mahatma Gandhi with an air pistol.\n",
      "\n",
      "49 번 문서\n",
      "원문 : Railway police has rescued a woman travelling on a train in Chennai who got her leg stuck inside the commode of a toilet. After being caught inside the commode hole, she struggled to remove her leg and following failed attempts, she shouted for help, reports said. Railway police used a cutter to pry open the commode and freed her leg.\n",
      "\n",
      "요약 : Railway police has rescued a woman travelling on a train in Chennai who got her leg stuck inside the commode of a toilet.\n",
      "\n",
      "50 번 문서\n",
      "원문 : The US on Tuesday began returning asylum seekers to Mexico, sending back a migrant from a Central American nation and called the move a \"response to the illegal migration crisis\" faced by it. Under its Migrant Protection Protocols policy, the US will return certain migrants who cross into the country illegally back to Mexico while their asylum requests are processed.\n",
      "\n",
      "요약 : \n",
      "\n"
     ]
    }
   ],
   "source": [
    "# 데이터가 매우 많은 관계로 50번까지만 진행\n",
    "for i in range(0, 50):\n",
    "  print(i+1,'번 문서')\n",
    "  print('원문 :',data_2.loc[i])\n",
    "  print('')\n",
    "  print('요약 :',summarize(data_2.loc[i], ratio=0.35))\n",
    "  print('')"
   ]
  },
  {
   "cell_type": "markdown",
   "metadata": {},
   "source": [
    "---"
   ]
  },
  {
   "cell_type": "markdown",
   "metadata": {},
   "source": [
    "### 결과"
   ]
  },
  {
   "attachments": {},
   "cell_type": "markdown",
   "metadata": {},
   "source": [
    "**추상적 요약(abstractive summary)**"
   ]
  },
  {
   "cell_type": "code",
   "execution_count": 276,
   "metadata": {},
   "outputs": [
    {
     "name": "stdout",
     "output_type": "stream",
     "text": [
      "원문 : simran writer apurva asrani facebook post alleged kangana ranaut lying co writing script asrani claiming wrote nine drafts script said told kangana turning director demanding co writer credit film first cut added eventually agreed give kangana additional writing credit \n",
      "실제 요약 : simran writer says kangana lied about co writing script \n",
      "예측 요약 :  casting director denies casting casting director\n"
     ]
    }
   ],
   "source": [
    "print(\"원문 :\", seq2text(encoder_input_test[0]))\n",
    "print(\"실제 요약 :\", seq2headlines(decoder_input_test[0]))\n",
    "print(\"예측 요약 :\", decode_sequence(encoder_input_test[0].reshape(1, text_max_len)))"
   ]
  },
  {
   "attachments": {},
   "cell_type": "markdown",
   "metadata": {},
   "source": [
    "**추출적 요약(extractive summary)**"
   ]
  },
  {
   "cell_type": "code",
   "execution_count": 275,
   "metadata": {},
   "outputs": [
    {
     "name": "stdout",
     "output_type": "stream",
     "text": [
      "원문 : Saurav Kant, an alumnus of upGrad and IIIT-B's PG Program in Machine learning and Artificial Intelligence, was a Sr Systems Engineer at Infosys with almost 5 years of work experience. The program and upGrad's 360-degree career support helped him transition to a Data Scientist at Tech Mahindra with 90% salary hike. upGrad's Online Power Learning has powered 3 lakh+ careers.\n",
      "\n",
      "요약 : upGrad's Online Power Learning has powered 3 lakh+ careers.\n",
      "\n"
     ]
    }
   ],
   "source": [
    "  print('원문 :',data_2.loc[0])\n",
    "  print('')\n",
    "  print('요약 :',summarize(data_2.loc[0], ratio=0.35))\n",
    "  print('')"
   ]
  },
  {
   "cell_type": "markdown",
   "metadata": {},
   "source": [
    "### 정리"
   ]
  },
  {
   "cell_type": "markdown",
   "metadata": {},
   "source": [
    "**추상적 요약(abstractive summary)**\n",
    "- 전처리 단계를 체계적으로 진행하여 원문에 없는 문장도 만들어 내용 요약을 진행함\n",
    "- 기능이 좋음\n",
    "\n",
    "<br/>    \n",
    "**추출적 요약(extractive summary)**\n",
    "- 데이터 전처리를 하여 콤마없이 한 문장을 뽑아낼 경우 인식이 불가능\n",
    "- ```summarize```를 활용하여 **ratio**를 설정할 때, 콤마 기준으로 문장을 잘라내어 가져옴\n",
    "- 요약이라고 보기 힘들며, 한 문장을 가져오는 형태로 그침"
   ]
  },
  {
   "cell_type": "code",
   "execution_count": null,
   "metadata": {},
   "outputs": [],
   "source": []
  }
 ],
 "metadata": {
  "kernelspec": {
   "display_name": "aiffel",
   "language": "python",
   "name": "aiffel"
  },
  "language_info": {
   "codemirror_mode": {
    "name": "ipython",
    "version": 3
   },
   "file_extension": ".py",
   "mimetype": "text/x-python",
   "name": "python",
   "nbconvert_exporter": "python",
   "pygments_lexer": "ipython3",
   "version": "3.7.6"
  }
 },
 "nbformat": 4,
 "nbformat_minor": 4
}
